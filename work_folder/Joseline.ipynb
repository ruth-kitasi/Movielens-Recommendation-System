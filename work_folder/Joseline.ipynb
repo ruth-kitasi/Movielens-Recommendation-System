{
  "cells": [
    {
      "cell_type": "markdown",
      "metadata": {
        "id": "EaKLtQPhDqhw"
      },
      "source": [
        "# MOVIELENS RECOMMENDATION SYSTEMS\n"
      ]
    },
    {
      "cell_type": "markdown",
      "metadata": {
        "id": "hMQ0lFJwDqhy"
      },
      "source": [
        "### Collaborators\n",
        "- 1.Ruth Kitasi\n",
        "- 2.Agatha Nyambati\n",
        "- 3.Joseline Apiyo\n",
        "- 4.Cecilia Ngunjiri\n",
        "- 5.John Mbego\n",
        "- 6.Leonard Koyio"
      ]
    },
    {
      "cell_type": "markdown",
      "metadata": {
        "id": "1fqMCHOsDqhz"
      },
      "source": [
        "![movie-img.jpeg](movie-img.jpeg)"
      ]
    },
    {
      "cell_type": "markdown",
      "metadata": {
        "id": "GgPT2DFPDqh0"
      },
      "source": [
        "# 1.BUSINESS UNDERSTANDING"
      ]
    },
    {
      "cell_type": "markdown",
      "metadata": {
        "id": "W4bR3yi_Dqh0"
      },
      "source": [
        "## 1.1 Overview"
      ]
    },
    {
      "cell_type": "markdown",
      "metadata": {
        "id": "Db88hDDkDqh1"
      },
      "source": [
        "In today's world of massive data growth, recommendation systems have become essential tools for filtering information and enhancing user experiences. These systems help users find relevant content by analyzing their past behaviors, such as search queries or browsing histories.\n",
        "\n",
        "Companies like YouTube and Spotify use recommendation algorithms to suggest the next video or curate personalized playlists based on user preferences.\n",
        "\n",
        "In line with our project objective we aim to harness the power of data analysis to build a movie recommendation system that provides users with personalized movie suggestions.\n",
        "\n",
        "By analyzing user ratings of other movies, we can generate tailored recommendations that align with individual preferences. The goal is to develop a model that delivers the top 5 movie recommendations for each user, optimizing their viewing experience based on their previous interactions."
      ]
    },
    {
      "cell_type": "markdown",
      "metadata": {
        "id": "d56EkIThDqh2"
      },
      "source": [
        "## 1.2 Problem statement"
      ]
    },
    {
      "cell_type": "markdown",
      "metadata": {
        "id": "3B-udjzbDqh4"
      },
      "source": [
        "With the vast amount of content available on streaming platforms, users often feel overwhelmed by choices, making it difficult to discover movies that align with their preferences. Traditional search methods fall short in addressing this challenge, resulting in a less satisfying user experience and decreased engagement.\n",
        "\n",
        "MovieLens has tasked our team of data scientists with optimizing their recommendation system through data-driven approaches. By analyzing user behaviors and preferences, we aim to enhance the system's ability to deliver personalized movie recommendations."
      ]
    },
    {
      "cell_type": "markdown",
      "metadata": {
        "id": "fgnJrA4yDqh4"
      },
      "source": [
        "## 1.3 Objectives"
      ]
    },
    {
      "cell_type": "markdown",
      "metadata": {
        "id": "77mEsN_bDqh5"
      },
      "source": [
        "- Develop a model to provide personalized top 5 movie recommendations for users based on their ratings and preferences, utilizing collaborative filtering techniques.\n",
        "\n",
        "- Determine the rating frequency of users based on various features, such as genre, director, and release year, to identify patterns in user preferences.\n",
        "\n",
        "- Analyze key features that contribute to the popularity of trending movies to enhance the effectiveness of the recommendation system in suggesting relevant content.\n",
        "\n",
        "- Implement collaborative filtering techniques, including both user-based and item-based methods, to segment users and items, improving the accuracy of personalized recommendations.\n",
        "\n",
        "- Create a solution to address the cold start problem by recommending popular and trending movies to new users with no prior ratings, ensuring an engaging initial experience.\n"
      ]
    },
    {
      "cell_type": "markdown",
      "metadata": {
        "id": "pMzvFcHRDqh5"
      },
      "source": [
        "## 1.4 Data Limitations.\n",
        "\n",
        "While the MovieLens dataset is valuable for building a movie recommender system, it has some limitations:\n",
        "\n",
        "* Limited Temporal Coverage: The dataset spans a specific time period, which may not capture the most recent trends or preferences.\n",
        "\n",
        "* Cold-Start Problem: The system may struggle to provide recommendations for new users or movies with limited ratings or tags.\n",
        "\n",
        "* Bias in Ratings: User ratings can be influenced by various factors, such as popularity bias or groupthink, which may affect the accuracy of recommendations."
      ]
    },
    {
      "cell_type": "markdown",
      "metadata": {
        "id": "z3ryzomjDqh6",
        "vscode": {
          "languageId": "plaintext"
        }
      },
      "source": [
        "# 2. DATA UNDERSTANDING"
      ]
    },
    {
      "cell_type": "markdown",
      "metadata": {
        "id": "TRYT1RFPDqh6",
        "vscode": {
          "languageId": "plaintext"
        }
      },
      "source": [
        "## 2.1 Data Source"
      ]
    },
    {
      "cell_type": "markdown",
      "metadata": {
        "id": "78QQBQ0zDqh6"
      },
      "source": [
        "The dataset https://grouplens.org/datasets/movielens/, was obtained from the GroupLens website which  is a well-known resource for research in recommendation systems and data analysis.\n",
        "\n",
        "The Movielens comprises of four files:\n",
        "\n",
        "##### 1. `links.csv`\n",
        "Contains identifiers linking MovieLens movies to external databases (IMDB and TMDb). The structure is:\n",
        "\n",
        "\n",
        "\n",
        "| Column    | Description                                            |\n",
        "|-----------|--------------------------------------------------------|\n",
        "| `movieId` | ID representing each movie in the MovieLens dataset    |\n",
        "| `imdbId`  | Corresponding movie ID from IMDb                       |\n",
        "| `tmdbId`  | Corresponding movie ID from The Movie Database (TMDb)  |\n",
        "\n",
        "\n",
        "\n",
        "##### 2. `movies.csv`\n",
        "This file includes movie titles and their associated genres. The data is structured as follows:\n",
        "\n",
        "| Column    | Description                                            |\n",
        "|-----------|--------------------------------------------------------|\n",
        "| `movieId` | ID representing each movie                             |\n",
        "| `title`   | Movie title, including the year of release (e.g., *Toy Story (1995)*) |\n",
        "| `genres`  | Pipe-separated list of genres (e.g., *Animation|Children's|Comedy*)   |\n",
        "\n",
        "\n",
        "\n",
        "##### 3. `ratings.csv`\n",
        "This file contains explicit user ratings for movies on a **5-star scale**. The data is structured as:\n",
        "\n",
        "| Column   | Description                                   |\n",
        "|----------|-----------------------------------------------|\n",
        "| `userId` | Anonymized ID representing each user          |\n",
        "| `movieId`| ID representing each movie                    |\n",
        "| `rating` | User rating for the movie (0.5 to 5.0 stars)  |\n",
        "| `timestamp` | UNIX timestamp when the rating was made     |\n",
        "\n",
        "Ratings are sorted first by `userId`, then by `movieId`.\n",
        "\n",
        "##### 4. `tags.csv`\n",
        "Tags represent user-generated metadata (e.g., short descriptions or labels). The structure is:\n",
        "\n",
        "| Column   | Description                                    |\n",
        "|----------|------------------------------------------------|\n",
        "| `userId` | Anonymized ID representing each user           |\n",
        "| `movieId`| ID representing each movie                     |\n",
        "| `tag`    | User-assigned tag for the movie                |\n",
        "| `timestamp` | UNIX timestamp when the tag was added       |\n",
        "\n",
        "Like ratings, tags are sorted by `userId` and then by `movieId`\n",
        "\n",
        "\n",
        "  "
      ]
    },
    {
      "cell_type": "markdown",
      "metadata": {
        "id": "heii9-qmDqh7"
      },
      "source": [
        "## 2.2 Data loading and Inspection\n"
      ]
    },
    {
      "cell_type": "code",
      "execution_count": 1,
      "metadata": {
        "id": "7JF60J9CDqh7"
      },
      "outputs": [],
      "source": [
        "## Importing the libraries\n",
        "\n",
        "import pandas as pd\n",
        "import numpy as np\n"
      ]
    },
    {
      "cell_type": "code",
      "execution_count": 2,
      "metadata": {},
      "outputs": [],
      "source": [
        "# Using pandas to read the CSV files\n",
        "links = pd.read_csv(r\"D:\\PROJECT\\Movielens-Recommendation-System\\ml-latest-small\\links.csv\")\n",
        "movies = pd.read_csv(r\"D:\\PROJECT\\Movielens-Recommendation-System\\ml-latest-small\\movies.csv\")\n",
        "ratings = pd.read_csv(r\"D:\\PROJECT\\Movielens-Recommendation-System\\ml-latest-small\\ratings.csv\")\n",
        "tags = pd.read_csv(r\"D:\\PROJECT\\Movielens-Recommendation-System\\ml-latest-small\\tags.csv\")"
      ]
    },
    {
      "cell_type": "markdown",
      "metadata": {
        "id": "nuecSZiXDqiA"
      },
      "source": [
        "#### Observations made from data undertanding"
      ]
    },
    {
      "cell_type": "markdown",
      "metadata": {
        "id": "VeZEzcK_DqiB"
      },
      "source": [
        "- All the four files have a common feature which is the movieID column.\n",
        "\n",
        "- The links and the movie datasets have equal number of rows of 9742.\n",
        "\n",
        "- Each dataset presents a mixed type of data.(int64, object and float64)"
      ]
    },
    {
      "cell_type": "markdown",
      "metadata": {
        "id": "y0mWDGBaDqiB"
      },
      "source": [
        "## 2.3 Merging Files"
      ]
    },
    {
      "cell_type": "markdown",
      "metadata": {
        "id": "Rl6re1miDqiB"
      },
      "source": [
        "Given that the four datasets share a common feature, the movie ID, we will use this column to perform a merge, consolidating the datasets into a single file. This approach ensures not only the integration of information from different sources but also enhances data completeness and facilitates more thorough analysis."
      ]
    },
    {
      "cell_type": "code",
      "execution_count": 3,
      "metadata": {
        "colab": {
          "base_uri": "https://localhost:8080/",
          "height": 206
        },
        "id": "WLqlkO9YDqiB",
        "outputId": "3318c0ab-d1b5-4726-83a7-17fde720220d"
      },
      "outputs": [
        {
          "data": {
            "text/html": [
              "<div>\n",
              "<style scoped>\n",
              "    .dataframe tbody tr th:only-of-type {\n",
              "        vertical-align: middle;\n",
              "    }\n",
              "\n",
              "    .dataframe tbody tr th {\n",
              "        vertical-align: top;\n",
              "    }\n",
              "\n",
              "    .dataframe thead th {\n",
              "        text-align: right;\n",
              "    }\n",
              "</style>\n",
              "<table border=\"1\" class=\"dataframe\">\n",
              "  <thead>\n",
              "    <tr style=\"text-align: right;\">\n",
              "      <th></th>\n",
              "      <th>movieId</th>\n",
              "      <th>title</th>\n",
              "      <th>genres</th>\n",
              "      <th>imdbId</th>\n",
              "      <th>tmdbId</th>\n",
              "    </tr>\n",
              "  </thead>\n",
              "  <tbody>\n",
              "    <tr>\n",
              "      <th>0</th>\n",
              "      <td>1</td>\n",
              "      <td>Toy Story (1995)</td>\n",
              "      <td>Adventure|Animation|Children|Comedy|Fantasy</td>\n",
              "      <td>114709</td>\n",
              "      <td>862.0</td>\n",
              "    </tr>\n",
              "    <tr>\n",
              "      <th>1</th>\n",
              "      <td>2</td>\n",
              "      <td>Jumanji (1995)</td>\n",
              "      <td>Adventure|Children|Fantasy</td>\n",
              "      <td>113497</td>\n",
              "      <td>8844.0</td>\n",
              "    </tr>\n",
              "    <tr>\n",
              "      <th>2</th>\n",
              "      <td>3</td>\n",
              "      <td>Grumpier Old Men (1995)</td>\n",
              "      <td>Comedy|Romance</td>\n",
              "      <td>113228</td>\n",
              "      <td>15602.0</td>\n",
              "    </tr>\n",
              "    <tr>\n",
              "      <th>3</th>\n",
              "      <td>4</td>\n",
              "      <td>Waiting to Exhale (1995)</td>\n",
              "      <td>Comedy|Drama|Romance</td>\n",
              "      <td>114885</td>\n",
              "      <td>31357.0</td>\n",
              "    </tr>\n",
              "    <tr>\n",
              "      <th>4</th>\n",
              "      <td>5</td>\n",
              "      <td>Father of the Bride Part II (1995)</td>\n",
              "      <td>Comedy</td>\n",
              "      <td>113041</td>\n",
              "      <td>11862.0</td>\n",
              "    </tr>\n",
              "  </tbody>\n",
              "</table>\n",
              "</div>"
            ],
            "text/plain": [
              "   movieId                               title  \\\n",
              "0        1                    Toy Story (1995)   \n",
              "1        2                      Jumanji (1995)   \n",
              "2        3             Grumpier Old Men (1995)   \n",
              "3        4            Waiting to Exhale (1995)   \n",
              "4        5  Father of the Bride Part II (1995)   \n",
              "\n",
              "                                        genres  imdbId   tmdbId  \n",
              "0  Adventure|Animation|Children|Comedy|Fantasy  114709    862.0  \n",
              "1                   Adventure|Children|Fantasy  113497   8844.0  \n",
              "2                               Comedy|Romance  113228  15602.0  \n",
              "3                         Comedy|Drama|Romance  114885  31357.0  \n",
              "4                                       Comedy  113041  11862.0  "
            ]
          },
          "execution_count": 3,
          "metadata": {},
          "output_type": "execute_result"
        }
      ],
      "source": [
        "## Merging files on the common feature the MovieID\n",
        "\n",
        "##Step 1: Merging the movies and the links datasets.\n",
        "movies_links_merged =  pd.merge(movies, links, on='movieId', how='inner')\n",
        "movies_links_merged.head()"
      ]
    },
    {
      "cell_type": "code",
      "execution_count": 4,
      "metadata": {
        "colab": {
          "base_uri": "https://localhost:8080/",
          "height": 206
        },
        "id": "Dij5Tf9KDqiC",
        "outputId": "e6a0d584-f004-4203-fb55-2919016f305f"
      },
      "outputs": [
        {
          "data": {
            "text/html": [
              "<div>\n",
              "<style scoped>\n",
              "    .dataframe tbody tr th:only-of-type {\n",
              "        vertical-align: middle;\n",
              "    }\n",
              "\n",
              "    .dataframe tbody tr th {\n",
              "        vertical-align: top;\n",
              "    }\n",
              "\n",
              "    .dataframe thead th {\n",
              "        text-align: right;\n",
              "    }\n",
              "</style>\n",
              "<table border=\"1\" class=\"dataframe\">\n",
              "  <thead>\n",
              "    <tr style=\"text-align: right;\">\n",
              "      <th></th>\n",
              "      <th>userId</th>\n",
              "      <th>movieId</th>\n",
              "      <th>rating</th>\n",
              "      <th>timestamp</th>\n",
              "      <th>title</th>\n",
              "      <th>genres</th>\n",
              "      <th>imdbId</th>\n",
              "      <th>tmdbId</th>\n",
              "    </tr>\n",
              "  </thead>\n",
              "  <tbody>\n",
              "    <tr>\n",
              "      <th>0</th>\n",
              "      <td>1</td>\n",
              "      <td>1</td>\n",
              "      <td>4.0</td>\n",
              "      <td>964982703</td>\n",
              "      <td>Toy Story (1995)</td>\n",
              "      <td>Adventure|Animation|Children|Comedy|Fantasy</td>\n",
              "      <td>114709</td>\n",
              "      <td>862.0</td>\n",
              "    </tr>\n",
              "    <tr>\n",
              "      <th>1</th>\n",
              "      <td>5</td>\n",
              "      <td>1</td>\n",
              "      <td>4.0</td>\n",
              "      <td>847434962</td>\n",
              "      <td>Toy Story (1995)</td>\n",
              "      <td>Adventure|Animation|Children|Comedy|Fantasy</td>\n",
              "      <td>114709</td>\n",
              "      <td>862.0</td>\n",
              "    </tr>\n",
              "    <tr>\n",
              "      <th>2</th>\n",
              "      <td>7</td>\n",
              "      <td>1</td>\n",
              "      <td>4.5</td>\n",
              "      <td>1106635946</td>\n",
              "      <td>Toy Story (1995)</td>\n",
              "      <td>Adventure|Animation|Children|Comedy|Fantasy</td>\n",
              "      <td>114709</td>\n",
              "      <td>862.0</td>\n",
              "    </tr>\n",
              "    <tr>\n",
              "      <th>3</th>\n",
              "      <td>15</td>\n",
              "      <td>1</td>\n",
              "      <td>2.5</td>\n",
              "      <td>1510577970</td>\n",
              "      <td>Toy Story (1995)</td>\n",
              "      <td>Adventure|Animation|Children|Comedy|Fantasy</td>\n",
              "      <td>114709</td>\n",
              "      <td>862.0</td>\n",
              "    </tr>\n",
              "    <tr>\n",
              "      <th>4</th>\n",
              "      <td>17</td>\n",
              "      <td>1</td>\n",
              "      <td>4.5</td>\n",
              "      <td>1305696483</td>\n",
              "      <td>Toy Story (1995)</td>\n",
              "      <td>Adventure|Animation|Children|Comedy|Fantasy</td>\n",
              "      <td>114709</td>\n",
              "      <td>862.0</td>\n",
              "    </tr>\n",
              "  </tbody>\n",
              "</table>\n",
              "</div>"
            ],
            "text/plain": [
              "   userId  movieId  rating   timestamp             title  \\\n",
              "0       1        1     4.0   964982703  Toy Story (1995)   \n",
              "1       5        1     4.0   847434962  Toy Story (1995)   \n",
              "2       7        1     4.5  1106635946  Toy Story (1995)   \n",
              "3      15        1     2.5  1510577970  Toy Story (1995)   \n",
              "4      17        1     4.5  1305696483  Toy Story (1995)   \n",
              "\n",
              "                                        genres  imdbId  tmdbId  \n",
              "0  Adventure|Animation|Children|Comedy|Fantasy  114709   862.0  \n",
              "1  Adventure|Animation|Children|Comedy|Fantasy  114709   862.0  \n",
              "2  Adventure|Animation|Children|Comedy|Fantasy  114709   862.0  \n",
              "3  Adventure|Animation|Children|Comedy|Fantasy  114709   862.0  \n",
              "4  Adventure|Animation|Children|Comedy|Fantasy  114709   862.0  "
            ]
          },
          "execution_count": 4,
          "metadata": {},
          "output_type": "execute_result"
        }
      ],
      "source": [
        "##Step 2: Merging the movies_links_merged and ratings datasets on movieId\n",
        "\n",
        "movies_links_ratings_merged =pd.merge(ratings, movies_links_merged,on='movieId', how='inner')\n",
        "movies_links_ratings_merged.head()"
      ]
    },
    {
      "cell_type": "code",
      "execution_count": 6,
      "metadata": {
        "colab": {
          "base_uri": "https://localhost:8080/",
          "height": 206
        },
        "id": "W2ooh3oDDqiC",
        "outputId": "837cff24-0c3e-4297-8b7b-8cfe9792e88d"
      },
      "outputs": [
        {
          "data": {
            "text/html": [
              "<div>\n",
              "<style scoped>\n",
              "    .dataframe tbody tr th:only-of-type {\n",
              "        vertical-align: middle;\n",
              "    }\n",
              "\n",
              "    .dataframe tbody tr th {\n",
              "        vertical-align: top;\n",
              "    }\n",
              "\n",
              "    .dataframe thead th {\n",
              "        text-align: right;\n",
              "    }\n",
              "</style>\n",
              "<table border=\"1\" class=\"dataframe\">\n",
              "  <thead>\n",
              "    <tr style=\"text-align: right;\">\n",
              "      <th></th>\n",
              "      <th>userId</th>\n",
              "      <th>movieId</th>\n",
              "      <th>rating</th>\n",
              "      <th>timestamp_x</th>\n",
              "      <th>title</th>\n",
              "      <th>genres</th>\n",
              "      <th>imdbId</th>\n",
              "      <th>tmdbId</th>\n",
              "      <th>tag</th>\n",
              "      <th>timestamp_y</th>\n",
              "    </tr>\n",
              "  </thead>\n",
              "  <tbody>\n",
              "    <tr>\n",
              "      <th>0</th>\n",
              "      <td>336</td>\n",
              "      <td>1</td>\n",
              "      <td>4.0</td>\n",
              "      <td>1122227329</td>\n",
              "      <td>Toy Story (1995)</td>\n",
              "      <td>Adventure|Animation|Children|Comedy|Fantasy</td>\n",
              "      <td>114709</td>\n",
              "      <td>862.0</td>\n",
              "      <td>pixar</td>\n",
              "      <td>1139045764</td>\n",
              "    </tr>\n",
              "    <tr>\n",
              "      <th>1</th>\n",
              "      <td>474</td>\n",
              "      <td>1</td>\n",
              "      <td>4.0</td>\n",
              "      <td>978575760</td>\n",
              "      <td>Toy Story (1995)</td>\n",
              "      <td>Adventure|Animation|Children|Comedy|Fantasy</td>\n",
              "      <td>114709</td>\n",
              "      <td>862.0</td>\n",
              "      <td>pixar</td>\n",
              "      <td>1137206825</td>\n",
              "    </tr>\n",
              "    <tr>\n",
              "      <th>2</th>\n",
              "      <td>567</td>\n",
              "      <td>1</td>\n",
              "      <td>3.5</td>\n",
              "      <td>1525286001</td>\n",
              "      <td>Toy Story (1995)</td>\n",
              "      <td>Adventure|Animation|Children|Comedy|Fantasy</td>\n",
              "      <td>114709</td>\n",
              "      <td>862.0</td>\n",
              "      <td>fun</td>\n",
              "      <td>1525286013</td>\n",
              "    </tr>\n",
              "    <tr>\n",
              "      <th>3</th>\n",
              "      <td>289</td>\n",
              "      <td>3</td>\n",
              "      <td>2.5</td>\n",
              "      <td>1143424657</td>\n",
              "      <td>Grumpier Old Men (1995)</td>\n",
              "      <td>Comedy|Romance</td>\n",
              "      <td>113228</td>\n",
              "      <td>15602.0</td>\n",
              "      <td>moldy</td>\n",
              "      <td>1143424860</td>\n",
              "    </tr>\n",
              "    <tr>\n",
              "      <th>4</th>\n",
              "      <td>289</td>\n",
              "      <td>3</td>\n",
              "      <td>2.5</td>\n",
              "      <td>1143424657</td>\n",
              "      <td>Grumpier Old Men (1995)</td>\n",
              "      <td>Comedy|Romance</td>\n",
              "      <td>113228</td>\n",
              "      <td>15602.0</td>\n",
              "      <td>old</td>\n",
              "      <td>1143424860</td>\n",
              "    </tr>\n",
              "  </tbody>\n",
              "</table>\n",
              "</div>"
            ],
            "text/plain": [
              "   userId  movieId  rating  timestamp_x                    title  \\\n",
              "0     336        1     4.0   1122227329         Toy Story (1995)   \n",
              "1     474        1     4.0    978575760         Toy Story (1995)   \n",
              "2     567        1     3.5   1525286001         Toy Story (1995)   \n",
              "3     289        3     2.5   1143424657  Grumpier Old Men (1995)   \n",
              "4     289        3     2.5   1143424657  Grumpier Old Men (1995)   \n",
              "\n",
              "                                        genres  imdbId   tmdbId    tag  \\\n",
              "0  Adventure|Animation|Children|Comedy|Fantasy  114709    862.0  pixar   \n",
              "1  Adventure|Animation|Children|Comedy|Fantasy  114709    862.0  pixar   \n",
              "2  Adventure|Animation|Children|Comedy|Fantasy  114709    862.0    fun   \n",
              "3                               Comedy|Romance  113228  15602.0  moldy   \n",
              "4                               Comedy|Romance  113228  15602.0    old   \n",
              "\n",
              "   timestamp_y  \n",
              "0   1139045764  \n",
              "1   1137206825  \n",
              "2   1525286013  \n",
              "3   1143424860  \n",
              "4   1143424860  "
            ]
          },
          "execution_count": 6,
          "metadata": {},
          "output_type": "execute_result"
        }
      ],
      "source": [
        "##Step 3: Merging the results of movies_links_rating_merged with the tags dataset.\n",
        "final_merge =  pd.merge(movies_links_ratings_merged, tags, on=['movieId','userId'])\n",
        "final_merge.head()"
      ]
    },
    {
      "cell_type": "code",
      "execution_count": 7,
      "metadata": {
        "colab": {
          "base_uri": "https://localhost:8080/"
        },
        "id": "X5L6EQSlDqiD",
        "outputId": "7cba86a4-2aac-4c34-923d-689c293bb073"
      },
      "outputs": [
        {
          "name": "stdout",
          "output_type": "stream",
          "text": [
            "The final merged dataset contains 3476 rows and 10 colums\n"
          ]
        }
      ],
      "source": [
        "## Checking the number of rows and colums of our final merged dataset\n",
        "\n",
        "rows, colums = final_merge.shape\n",
        "print(f'The final merged dataset contains {rows} rows and {colums} colums')"
      ]
    },
    {
      "cell_type": "code",
      "execution_count": 8,
      "metadata": {
        "colab": {
          "base_uri": "https://localhost:8080/"
        },
        "id": "oHC5Sr6MDqiD",
        "outputId": "7ed0570a-3cf4-46a4-b419-efc71626a51c"
      },
      "outputs": [
        {
          "name": "stdout",
          "output_type": "stream",
          "text": [
            "<class 'pandas.core.frame.DataFrame'>\n",
            "Int64Index: 3476 entries, 0 to 3475\n",
            "Data columns (total 10 columns):\n",
            " #   Column       Non-Null Count  Dtype  \n",
            "---  ------       --------------  -----  \n",
            " 0   userId       3476 non-null   int64  \n",
            " 1   movieId      3476 non-null   int64  \n",
            " 2   rating       3476 non-null   float64\n",
            " 3   timestamp_x  3476 non-null   int64  \n",
            " 4   title        3476 non-null   object \n",
            " 5   genres       3476 non-null   object \n",
            " 6   imdbId       3476 non-null   int64  \n",
            " 7   tmdbId       3476 non-null   float64\n",
            " 8   tag          3476 non-null   object \n",
            " 9   timestamp_y  3476 non-null   int64  \n",
            "dtypes: float64(2), int64(5), object(3)\n",
            "memory usage: 298.7+ KB\n"
          ]
        }
      ],
      "source": [
        "##Getting the conside summary of the final merged dataset\n",
        "\n",
        "final_merge.info()"
      ]
    },
    {
      "cell_type": "markdown",
      "metadata": {
        "id": "R3F_EyAtDqiD"
      },
      "source": [
        "The output shows that the final_merged dataset contains 3 types as follows:\n",
        "- 2 float64\n",
        "- 6 int664\n",
        "- 3 Object\n",
        "\n",
        "The memory usage of the final merged dataset is approximately 21.4 MB. This suggests that the dataset has grown significantly after merging, especially due to the repetition of movie information across different user ratings and tag.\n",
        "\n",
        "High Movie Engagement: The fact that the merged dataset contains 233,213 rows while the ratings dataset had 100,836 rows suggests that multiple users have rated, tagged, or interacted with the same movie, indicating high engagement for some movies.\n"
      ]
    },
    {
      "cell_type": "code",
      "execution_count": 9,
      "metadata": {
        "colab": {
          "base_uri": "https://localhost:8080/",
          "height": 300
        },
        "id": "F19xMMXdDqiE",
        "outputId": "b40f98e7-5654-473b-ad52-fb31eb3a3bfd"
      },
      "outputs": [
        {
          "data": {
            "text/html": [
              "<div>\n",
              "<style scoped>\n",
              "    .dataframe tbody tr th:only-of-type {\n",
              "        vertical-align: middle;\n",
              "    }\n",
              "\n",
              "    .dataframe tbody tr th {\n",
              "        vertical-align: top;\n",
              "    }\n",
              "\n",
              "    .dataframe thead th {\n",
              "        text-align: right;\n",
              "    }\n",
              "</style>\n",
              "<table border=\"1\" class=\"dataframe\">\n",
              "  <thead>\n",
              "    <tr style=\"text-align: right;\">\n",
              "      <th></th>\n",
              "      <th>userId</th>\n",
              "      <th>movieId</th>\n",
              "      <th>rating</th>\n",
              "      <th>timestamp_x</th>\n",
              "      <th>imdbId</th>\n",
              "      <th>tmdbId</th>\n",
              "      <th>timestamp_y</th>\n",
              "    </tr>\n",
              "  </thead>\n",
              "  <tbody>\n",
              "    <tr>\n",
              "      <th>count</th>\n",
              "      <td>3476.000000</td>\n",
              "      <td>3476.000000</td>\n",
              "      <td>3476.000000</td>\n",
              "      <td>3.476000e+03</td>\n",
              "      <td>3.476000e+03</td>\n",
              "      <td>3476.000000</td>\n",
              "      <td>3.476000e+03</td>\n",
              "    </tr>\n",
              "    <tr>\n",
              "      <th>mean</th>\n",
              "      <td>429.785386</td>\n",
              "      <td>28009.502301</td>\n",
              "      <td>4.016830</td>\n",
              "      <td>1.297281e+09</td>\n",
              "      <td>4.920095e+05</td>\n",
              "      <td>33499.696203</td>\n",
              "      <td>1.323525e+09</td>\n",
              "    </tr>\n",
              "    <tr>\n",
              "      <th>std</th>\n",
              "      <td>161.552990</td>\n",
              "      <td>44138.125029</td>\n",
              "      <td>0.856925</td>\n",
              "      <td>2.038080e+08</td>\n",
              "      <td>8.193528e+05</td>\n",
              "      <td>75172.715180</td>\n",
              "      <td>1.731554e+08</td>\n",
              "    </tr>\n",
              "    <tr>\n",
              "      <th>min</th>\n",
              "      <td>2.000000</td>\n",
              "      <td>1.000000</td>\n",
              "      <td>0.500000</td>\n",
              "      <td>9.746667e+08</td>\n",
              "      <td>1.234900e+04</td>\n",
              "      <td>11.000000</td>\n",
              "      <td>1.137179e+09</td>\n",
              "    </tr>\n",
              "    <tr>\n",
              "      <th>25%</th>\n",
              "      <td>424.000000</td>\n",
              "      <td>1261.500000</td>\n",
              "      <td>3.500000</td>\n",
              "      <td>1.100120e+09</td>\n",
              "      <td>9.740875e+04</td>\n",
              "      <td>680.000000</td>\n",
              "      <td>1.138032e+09</td>\n",
              "    </tr>\n",
              "    <tr>\n",
              "      <th>50%</th>\n",
              "      <td>474.000000</td>\n",
              "      <td>4492.000000</td>\n",
              "      <td>4.000000</td>\n",
              "      <td>1.281766e+09</td>\n",
              "      <td>1.207750e+05</td>\n",
              "      <td>7708.000000</td>\n",
              "      <td>1.279956e+09</td>\n",
              "    </tr>\n",
              "    <tr>\n",
              "      <th>75%</th>\n",
              "      <td>523.250000</td>\n",
              "      <td>45499.000000</td>\n",
              "      <td>5.000000</td>\n",
              "      <td>1.498457e+09</td>\n",
              "      <td>3.953342e+05</td>\n",
              "      <td>19913.000000</td>\n",
              "      <td>1.498457e+09</td>\n",
              "    </tr>\n",
              "    <tr>\n",
              "      <th>max</th>\n",
              "      <td>610.000000</td>\n",
              "      <td>193565.000000</td>\n",
              "      <td>5.000000</td>\n",
              "      <td>1.537099e+09</td>\n",
              "      <td>5.580390e+06</td>\n",
              "      <td>503475.000000</td>\n",
              "      <td>1.537099e+09</td>\n",
              "    </tr>\n",
              "  </tbody>\n",
              "</table>\n",
              "</div>"
            ],
            "text/plain": [
              "            userId        movieId       rating   timestamp_x        imdbId  \\\n",
              "count  3476.000000    3476.000000  3476.000000  3.476000e+03  3.476000e+03   \n",
              "mean    429.785386   28009.502301     4.016830  1.297281e+09  4.920095e+05   \n",
              "std     161.552990   44138.125029     0.856925  2.038080e+08  8.193528e+05   \n",
              "min       2.000000       1.000000     0.500000  9.746667e+08  1.234900e+04   \n",
              "25%     424.000000    1261.500000     3.500000  1.100120e+09  9.740875e+04   \n",
              "50%     474.000000    4492.000000     4.000000  1.281766e+09  1.207750e+05   \n",
              "75%     523.250000   45499.000000     5.000000  1.498457e+09  3.953342e+05   \n",
              "max     610.000000  193565.000000     5.000000  1.537099e+09  5.580390e+06   \n",
              "\n",
              "              tmdbId   timestamp_y  \n",
              "count    3476.000000  3.476000e+03  \n",
              "mean    33499.696203  1.323525e+09  \n",
              "std     75172.715180  1.731554e+08  \n",
              "min        11.000000  1.137179e+09  \n",
              "25%       680.000000  1.138032e+09  \n",
              "50%      7708.000000  1.279956e+09  \n",
              "75%     19913.000000  1.498457e+09  \n",
              "max    503475.000000  1.537099e+09  "
            ]
          },
          "execution_count": 9,
          "metadata": {},
          "output_type": "execute_result"
        }
      ],
      "source": [
        "final_merge.describe()"
      ]
    },
    {
      "cell_type": "markdown",
      "metadata": {
        "id": "flIcRFRSDqiE"
      },
      "source": [
        "userId_x and userId_y: The user IDs range from 1 to 610, which shows that there are 610 unique users in the dataset\n",
        "\n",
        "Each column has 233,213 entries, meaning no missing values for the columns shown (movieId, imdbId, tmdbId, userId_x, rating, timestamp_x, userId_y, timestamp_y).\n",
        "\n",
        "Movie IDs range from 1 to 193565, suggesting a large dataset covering a wide variety of movies.\n",
        "The 50th percentile (50%, or median) movie ID is 1198, indicating that half the movies have an ID less than 1198.\n",
        "The average (mean) movie ID is 12319.99, which is much higher than the median, indicating a right-skewed distribution of movie IDs (a few movies with very high IDs).\n",
        "\n",
        "imdbId and tmdbId: Similarly, the IMDb IDs and TMDB IDs show a broad range from 12,349 to 5,580,390 (IMDb) and from 11 to 503,475 (TMDB), also suggesting a wide variety of movie records. The high standard deviation indicates significant variation in these IDs.\n",
        "\n",
        "The mean rating is approximately 3.97, indicating that, on average, users gave higher ratings (closer to 4)\n",
        "\n",
        "The mean timestamp (timestamp_x) is about 1.213 billion, which corresponds to around 2008 and maximum timestamp suggests ratings were given around 2018.\n",
        "\n",
        "Right-skewed Distribution: Both movieId and rating columns exhibit right-skewed distributions. This could influence modeling choices, as the majority of movies or users may fall within a specific subset of the range."
      ]
    },
    {
      "cell_type": "code",
      "execution_count": 10,
      "metadata": {
        "colab": {
          "base_uri": "https://localhost:8080/",
          "height": 206
        },
        "id": "1swffkelDqiE",
        "outputId": "458f63b3-96f0-407e-e273-9e00be26c39d"
      },
      "outputs": [
        {
          "data": {
            "text/html": [
              "<div>\n",
              "<style scoped>\n",
              "    .dataframe tbody tr th:only-of-type {\n",
              "        vertical-align: middle;\n",
              "    }\n",
              "\n",
              "    .dataframe tbody tr th {\n",
              "        vertical-align: top;\n",
              "    }\n",
              "\n",
              "    .dataframe thead th {\n",
              "        text-align: right;\n",
              "    }\n",
              "</style>\n",
              "<table border=\"1\" class=\"dataframe\">\n",
              "  <thead>\n",
              "    <tr style=\"text-align: right;\">\n",
              "      <th></th>\n",
              "      <th>userId</th>\n",
              "      <th>movieId</th>\n",
              "      <th>rating</th>\n",
              "      <th>timestamp_x</th>\n",
              "      <th>title</th>\n",
              "      <th>genres</th>\n",
              "      <th>imdbId</th>\n",
              "      <th>tmdbId</th>\n",
              "      <th>tag</th>\n",
              "      <th>timestamp_y</th>\n",
              "    </tr>\n",
              "  </thead>\n",
              "  <tbody>\n",
              "    <tr>\n",
              "      <th>0</th>\n",
              "      <td>336</td>\n",
              "      <td>1</td>\n",
              "      <td>4.0</td>\n",
              "      <td>1122227329</td>\n",
              "      <td>Toy Story (1995)</td>\n",
              "      <td>Adventure|Animation|Children|Comedy|Fantasy</td>\n",
              "      <td>114709</td>\n",
              "      <td>862.0</td>\n",
              "      <td>pixar</td>\n",
              "      <td>1139045764</td>\n",
              "    </tr>\n",
              "    <tr>\n",
              "      <th>1</th>\n",
              "      <td>474</td>\n",
              "      <td>1</td>\n",
              "      <td>4.0</td>\n",
              "      <td>978575760</td>\n",
              "      <td>Toy Story (1995)</td>\n",
              "      <td>Adventure|Animation|Children|Comedy|Fantasy</td>\n",
              "      <td>114709</td>\n",
              "      <td>862.0</td>\n",
              "      <td>pixar</td>\n",
              "      <td>1137206825</td>\n",
              "    </tr>\n",
              "    <tr>\n",
              "      <th>2</th>\n",
              "      <td>567</td>\n",
              "      <td>1</td>\n",
              "      <td>3.5</td>\n",
              "      <td>1525286001</td>\n",
              "      <td>Toy Story (1995)</td>\n",
              "      <td>Adventure|Animation|Children|Comedy|Fantasy</td>\n",
              "      <td>114709</td>\n",
              "      <td>862.0</td>\n",
              "      <td>fun</td>\n",
              "      <td>1525286013</td>\n",
              "    </tr>\n",
              "    <tr>\n",
              "      <th>3</th>\n",
              "      <td>289</td>\n",
              "      <td>3</td>\n",
              "      <td>2.5</td>\n",
              "      <td>1143424657</td>\n",
              "      <td>Grumpier Old Men (1995)</td>\n",
              "      <td>Comedy|Romance</td>\n",
              "      <td>113228</td>\n",
              "      <td>15602.0</td>\n",
              "      <td>moldy</td>\n",
              "      <td>1143424860</td>\n",
              "    </tr>\n",
              "    <tr>\n",
              "      <th>4</th>\n",
              "      <td>289</td>\n",
              "      <td>3</td>\n",
              "      <td>2.5</td>\n",
              "      <td>1143424657</td>\n",
              "      <td>Grumpier Old Men (1995)</td>\n",
              "      <td>Comedy|Romance</td>\n",
              "      <td>113228</td>\n",
              "      <td>15602.0</td>\n",
              "      <td>old</td>\n",
              "      <td>1143424860</td>\n",
              "    </tr>\n",
              "  </tbody>\n",
              "</table>\n",
              "</div>"
            ],
            "text/plain": [
              "   userId  movieId  rating  timestamp_x                    title  \\\n",
              "0     336        1     4.0   1122227329         Toy Story (1995)   \n",
              "1     474        1     4.0    978575760         Toy Story (1995)   \n",
              "2     567        1     3.5   1525286001         Toy Story (1995)   \n",
              "3     289        3     2.5   1143424657  Grumpier Old Men (1995)   \n",
              "4     289        3     2.5   1143424657  Grumpier Old Men (1995)   \n",
              "\n",
              "                                        genres  imdbId   tmdbId    tag  \\\n",
              "0  Adventure|Animation|Children|Comedy|Fantasy  114709    862.0  pixar   \n",
              "1  Adventure|Animation|Children|Comedy|Fantasy  114709    862.0  pixar   \n",
              "2  Adventure|Animation|Children|Comedy|Fantasy  114709    862.0    fun   \n",
              "3                               Comedy|Romance  113228  15602.0  moldy   \n",
              "4                               Comedy|Romance  113228  15602.0    old   \n",
              "\n",
              "   timestamp_y  \n",
              "0   1139045764  \n",
              "1   1137206825  \n",
              "2   1525286013  \n",
              "3   1143424860  \n",
              "4   1143424860  "
            ]
          },
          "execution_count": 10,
          "metadata": {},
          "output_type": "execute_result"
        }
      ],
      "source": [
        "#creating a copy of the final merge for to perform data cleaning\n",
        "Movies_df = final_merge\n",
        "Movies_df.head()"
      ]
    },
    {
      "cell_type": "markdown",
      "metadata": {
        "id": "HtyEFLq4DqiF"
      },
      "source": [
        "## 3.DATA CLEANING"
      ]
    },
    {
      "cell_type": "markdown",
      "metadata": {
        "id": "5E0AsxXtDqiF"
      },
      "source": [
        "Now that we have merged our dataset, we will take the following steps to ensure it is clean and ready for analysis:\n",
        "\n",
        "1. `Checking and handling duplicates columns` to avoid redundancy.\n",
        "\n",
        "2. `Renaming columns` to improve readability.\n",
        "\n",
        "3. `Case Conversion` to ensure that all our headers are standadized.\n",
        "\n",
        "4. `Checking for missing` and address them appropriately.\n",
        "\n",
        "5. `Ensure consistent data types` across all columns.\n",
        "\n",
        "6. `Creating new features from existing features` for precise EDA.\n"
      ]
    },
    {
      "cell_type": "markdown",
      "metadata": {
        "id": "drEt5BTaDqiF"
      },
      "source": [
        "## 3.1.Checking and handling duplicates colums"
      ]
    },
    {
      "cell_type": "code",
      "execution_count": 11,
      "metadata": {
        "colab": {
          "base_uri": "https://localhost:8080/"
        },
        "id": "WxuPfN3jDqiI",
        "outputId": "a2fa4bee-5f0f-4761-caa1-16f9752b8c43"
      },
      "outputs": [
        {
          "data": {
            "text/plain": [
              "False"
            ]
          },
          "execution_count": 11,
          "metadata": {},
          "output_type": "execute_result"
        }
      ],
      "source": [
        "#Compare userI_X and user1D_y to check id they have columns for identical values\n",
        "Movies_df['timestamp_x'].equals(Movies_df['timestamp_y'])"
      ]
    },
    {
      "cell_type": "markdown",
      "metadata": {
        "id": "gQexx1--DqiI"
      },
      "source": [
        "## 3.2 Removing Unnceccesary columns."
      ]
    },
    {
      "cell_type": "code",
      "execution_count": 12,
      "metadata": {
        "id": "jz7WMDa3DqiJ"
      },
      "outputs": [],
      "source": [
        "#Removing unnecessary colums for our model.\n",
        "Movies_df.drop(['movieId','imdbId','tmdbId','timestamp_y'],axis=1, inplace=True)"
      ]
    },
    {
      "cell_type": "code",
      "execution_count": 13,
      "metadata": {
        "id": "gYfkR6IXDqiJ",
        "outputId": "f2514a9c-8f88-4ff6-a255-e05e4d58a384"
      },
      "outputs": [
        {
          "data": {
            "text/html": [
              "<div>\n",
              "<style scoped>\n",
              "    .dataframe tbody tr th:only-of-type {\n",
              "        vertical-align: middle;\n",
              "    }\n",
              "\n",
              "    .dataframe tbody tr th {\n",
              "        vertical-align: top;\n",
              "    }\n",
              "\n",
              "    .dataframe thead th {\n",
              "        text-align: right;\n",
              "    }\n",
              "</style>\n",
              "<table border=\"1\" class=\"dataframe\">\n",
              "  <thead>\n",
              "    <tr style=\"text-align: right;\">\n",
              "      <th></th>\n",
              "      <th>userId</th>\n",
              "      <th>rating</th>\n",
              "      <th>timestamp_x</th>\n",
              "      <th>title</th>\n",
              "      <th>genres</th>\n",
              "      <th>tag</th>\n",
              "    </tr>\n",
              "  </thead>\n",
              "  <tbody>\n",
              "    <tr>\n",
              "      <th>2613</th>\n",
              "      <td>62</td>\n",
              "      <td>3.5</td>\n",
              "      <td>1530471334</td>\n",
              "      <td>Self/less (2015)</td>\n",
              "      <td>Action|Mystery|Sci-Fi|Thriller</td>\n",
              "      <td>immortality</td>\n",
              "    </tr>\n",
              "    <tr>\n",
              "      <th>589</th>\n",
              "      <td>2</td>\n",
              "      <td>5.0</td>\n",
              "      <td>1445714980</td>\n",
              "      <td>Step Brothers (2008)</td>\n",
              "      <td>Comedy</td>\n",
              "      <td>will ferrell</td>\n",
              "    </tr>\n",
              "    <tr>\n",
              "      <th>2182</th>\n",
              "      <td>477</td>\n",
              "      <td>4.5</td>\n",
              "      <td>1269832479</td>\n",
              "      <td>Burn After Reading (2008)</td>\n",
              "      <td>Comedy|Crime|Drama</td>\n",
              "      <td>weird</td>\n",
              "    </tr>\n",
              "    <tr>\n",
              "      <th>3016</th>\n",
              "      <td>474</td>\n",
              "      <td>2.5</td>\n",
              "      <td>1124123495</td>\n",
              "      <td>Inherit the Wind (1960)</td>\n",
              "      <td>Drama</td>\n",
              "      <td>evolution</td>\n",
              "    </tr>\n",
              "    <tr>\n",
              "      <th>2405</th>\n",
              "      <td>62</td>\n",
              "      <td>5.0</td>\n",
              "      <td>1521489877</td>\n",
              "      <td>The Hateful Eight (2015)</td>\n",
              "      <td>Western</td>\n",
              "      <td>tension building</td>\n",
              "    </tr>\n",
              "  </tbody>\n",
              "</table>\n",
              "</div>"
            ],
            "text/plain": [
              "      userId  rating  timestamp_x                      title  \\\n",
              "2613      62     3.5   1530471334           Self/less (2015)   \n",
              "589        2     5.0   1445714980       Step Brothers (2008)   \n",
              "2182     477     4.5   1269832479  Burn After Reading (2008)   \n",
              "3016     474     2.5   1124123495    Inherit the Wind (1960)   \n",
              "2405      62     5.0   1521489877   The Hateful Eight (2015)   \n",
              "\n",
              "                              genres               tag  \n",
              "2613  Action|Mystery|Sci-Fi|Thriller       immortality  \n",
              "589                           Comedy      will ferrell  \n",
              "2182              Comedy|Crime|Drama             weird  \n",
              "3016                           Drama         evolution  \n",
              "2405                         Western  tension building  "
            ]
          },
          "execution_count": 13,
          "metadata": {},
          "output_type": "execute_result"
        }
      ],
      "source": [
        "Movies_df.sample(n=5)"
      ]
    },
    {
      "cell_type": "markdown",
      "metadata": {
        "id": "oOpylYlnDqiJ"
      },
      "source": [
        "## 3.3 Renaming columns."
      ]
    },
    {
      "cell_type": "code",
      "execution_count": 14,
      "metadata": {
        "colab": {
          "base_uri": "https://localhost:8080/",
          "height": 206
        },
        "id": "jD2kGE4JDqiK",
        "outputId": "43276a2e-ac03-45f8-efb1-b66fdc84cfa3"
      },
      "outputs": [
        {
          "data": {
            "text/html": [
              "<div>\n",
              "<style scoped>\n",
              "    .dataframe tbody tr th:only-of-type {\n",
              "        vertical-align: middle;\n",
              "    }\n",
              "\n",
              "    .dataframe tbody tr th {\n",
              "        vertical-align: top;\n",
              "    }\n",
              "\n",
              "    .dataframe thead th {\n",
              "        text-align: right;\n",
              "    }\n",
              "</style>\n",
              "<table border=\"1\" class=\"dataframe\">\n",
              "  <thead>\n",
              "    <tr style=\"text-align: right;\">\n",
              "      <th></th>\n",
              "      <th>userId</th>\n",
              "      <th>rating</th>\n",
              "      <th>timestamp</th>\n",
              "      <th>title</th>\n",
              "      <th>genres</th>\n",
              "      <th>tag</th>\n",
              "    </tr>\n",
              "  </thead>\n",
              "  <tbody>\n",
              "    <tr>\n",
              "      <th>0</th>\n",
              "      <td>336</td>\n",
              "      <td>4.0</td>\n",
              "      <td>1122227329</td>\n",
              "      <td>Toy Story (1995)</td>\n",
              "      <td>Adventure|Animation|Children|Comedy|Fantasy</td>\n",
              "      <td>pixar</td>\n",
              "    </tr>\n",
              "    <tr>\n",
              "      <th>1</th>\n",
              "      <td>474</td>\n",
              "      <td>4.0</td>\n",
              "      <td>978575760</td>\n",
              "      <td>Toy Story (1995)</td>\n",
              "      <td>Adventure|Animation|Children|Comedy|Fantasy</td>\n",
              "      <td>pixar</td>\n",
              "    </tr>\n",
              "    <tr>\n",
              "      <th>2</th>\n",
              "      <td>567</td>\n",
              "      <td>3.5</td>\n",
              "      <td>1525286001</td>\n",
              "      <td>Toy Story (1995)</td>\n",
              "      <td>Adventure|Animation|Children|Comedy|Fantasy</td>\n",
              "      <td>fun</td>\n",
              "    </tr>\n",
              "    <tr>\n",
              "      <th>3</th>\n",
              "      <td>289</td>\n",
              "      <td>2.5</td>\n",
              "      <td>1143424657</td>\n",
              "      <td>Grumpier Old Men (1995)</td>\n",
              "      <td>Comedy|Romance</td>\n",
              "      <td>moldy</td>\n",
              "    </tr>\n",
              "    <tr>\n",
              "      <th>4</th>\n",
              "      <td>289</td>\n",
              "      <td>2.5</td>\n",
              "      <td>1143424657</td>\n",
              "      <td>Grumpier Old Men (1995)</td>\n",
              "      <td>Comedy|Romance</td>\n",
              "      <td>old</td>\n",
              "    </tr>\n",
              "  </tbody>\n",
              "</table>\n",
              "</div>"
            ],
            "text/plain": [
              "   userId  rating   timestamp                    title  \\\n",
              "0     336     4.0  1122227329         Toy Story (1995)   \n",
              "1     474     4.0   978575760         Toy Story (1995)   \n",
              "2     567     3.5  1525286001         Toy Story (1995)   \n",
              "3     289     2.5  1143424657  Grumpier Old Men (1995)   \n",
              "4     289     2.5  1143424657  Grumpier Old Men (1995)   \n",
              "\n",
              "                                        genres    tag  \n",
              "0  Adventure|Animation|Children|Comedy|Fantasy  pixar  \n",
              "1  Adventure|Animation|Children|Comedy|Fantasy  pixar  \n",
              "2  Adventure|Animation|Children|Comedy|Fantasy    fun  \n",
              "3                               Comedy|Romance  moldy  \n",
              "4                               Comedy|Romance    old  "
            ]
          },
          "execution_count": 14,
          "metadata": {},
          "output_type": "execute_result"
        }
      ],
      "source": [
        "#Renaming the timestamp_x column\n",
        "Movies_df.rename(columns={'timestamp_x':'timestamp'}, inplace=True)\n",
        "\n",
        "#checking the dataset after remaming our desired column\n",
        "Movies_df.head()"
      ]
    },
    {
      "cell_type": "markdown",
      "metadata": {
        "id": "TrFVNucVDqiK"
      },
      "source": [
        "## 3.4 Case Coversion."
      ]
    },
    {
      "cell_type": "code",
      "execution_count": 15,
      "metadata": {
        "colab": {
          "base_uri": "https://localhost:8080/",
          "height": 206
        },
        "id": "9g9gG5FWDqiK",
        "outputId": "cfbfb102-a651-4ea9-ec08-61b3451e07ad"
      },
      "outputs": [
        {
          "data": {
            "text/html": [
              "<div>\n",
              "<style scoped>\n",
              "    .dataframe tbody tr th:only-of-type {\n",
              "        vertical-align: middle;\n",
              "    }\n",
              "\n",
              "    .dataframe tbody tr th {\n",
              "        vertical-align: top;\n",
              "    }\n",
              "\n",
              "    .dataframe thead th {\n",
              "        text-align: right;\n",
              "    }\n",
              "</style>\n",
              "<table border=\"1\" class=\"dataframe\">\n",
              "  <thead>\n",
              "    <tr style=\"text-align: right;\">\n",
              "      <th></th>\n",
              "      <th>Userid</th>\n",
              "      <th>Rating</th>\n",
              "      <th>Timestamp</th>\n",
              "      <th>Title</th>\n",
              "      <th>Genres</th>\n",
              "      <th>Tag</th>\n",
              "    </tr>\n",
              "  </thead>\n",
              "  <tbody>\n",
              "    <tr>\n",
              "      <th>3471</th>\n",
              "      <td>567</td>\n",
              "      <td>3.5</td>\n",
              "      <td>1525286512</td>\n",
              "      <td>It Comes at Night (2017)</td>\n",
              "      <td>Horror|Mystery|Thriller</td>\n",
              "      <td>Suspenseful</td>\n",
              "    </tr>\n",
              "    <tr>\n",
              "      <th>3472</th>\n",
              "      <td>567</td>\n",
              "      <td>3.0</td>\n",
              "      <td>1525287581</td>\n",
              "      <td>Mother! (2017)</td>\n",
              "      <td>Drama|Horror|Mystery|Thriller</td>\n",
              "      <td>allegorical</td>\n",
              "    </tr>\n",
              "    <tr>\n",
              "      <th>3473</th>\n",
              "      <td>567</td>\n",
              "      <td>3.0</td>\n",
              "      <td>1525287581</td>\n",
              "      <td>Mother! (2017)</td>\n",
              "      <td>Drama|Horror|Mystery|Thriller</td>\n",
              "      <td>uncomfortable</td>\n",
              "    </tr>\n",
              "    <tr>\n",
              "      <th>3474</th>\n",
              "      <td>567</td>\n",
              "      <td>3.0</td>\n",
              "      <td>1525287581</td>\n",
              "      <td>Mother! (2017)</td>\n",
              "      <td>Drama|Horror|Mystery|Thriller</td>\n",
              "      <td>unsettling</td>\n",
              "    </tr>\n",
              "    <tr>\n",
              "      <th>3475</th>\n",
              "      <td>606</td>\n",
              "      <td>4.0</td>\n",
              "      <td>1171324428</td>\n",
              "      <td>Night of the Shooting Stars (Notte di San Lore...</td>\n",
              "      <td>Drama|War</td>\n",
              "      <td>World War II</td>\n",
              "    </tr>\n",
              "  </tbody>\n",
              "</table>\n",
              "</div>"
            ],
            "text/plain": [
              "      Userid  Rating   Timestamp  \\\n",
              "3471     567     3.5  1525286512   \n",
              "3472     567     3.0  1525287581   \n",
              "3473     567     3.0  1525287581   \n",
              "3474     567     3.0  1525287581   \n",
              "3475     606     4.0  1171324428   \n",
              "\n",
              "                                                  Title  \\\n",
              "3471                           It Comes at Night (2017)   \n",
              "3472                                     Mother! (2017)   \n",
              "3473                                     Mother! (2017)   \n",
              "3474                                     Mother! (2017)   \n",
              "3475  Night of the Shooting Stars (Notte di San Lore...   \n",
              "\n",
              "                             Genres            Tag  \n",
              "3471        Horror|Mystery|Thriller    Suspenseful  \n",
              "3472  Drama|Horror|Mystery|Thriller    allegorical  \n",
              "3473  Drama|Horror|Mystery|Thriller  uncomfortable  \n",
              "3474  Drama|Horror|Mystery|Thriller     unsettling  \n",
              "3475                      Drama|War   World War II  "
            ]
          },
          "execution_count": 15,
          "metadata": {},
          "output_type": "execute_result"
        }
      ],
      "source": [
        "#converting our headers to title case from the current lowercase.\n",
        "Movies_df.rename(columns=lambda x: x.title(), inplace=True)\n",
        "\n",
        "##viewing our dataset our the headers converstion\n",
        "Movies_df.tail()\n"
      ]
    },
    {
      "cell_type": "markdown",
      "metadata": {
        "id": "BTraUeTjDqiL"
      },
      "source": [
        "## 3.5 Checking and Handling Missing Values."
      ]
    },
    {
      "cell_type": "code",
      "execution_count": 16,
      "metadata": {
        "colab": {
          "base_uri": "https://localhost:8080/"
        },
        "id": "T0RDLmVoDqiL",
        "outputId": "36907b81-38b8-4440-ba99-eddf52ff3988"
      },
      "outputs": [
        {
          "name": "stdout",
          "output_type": "stream",
          "text": [
            "None\n"
          ]
        }
      ],
      "source": [
        "if Movies_df.isnull().values.any():\n",
        "    print(True)\n",
        "else:\n",
        "    print(None)"
      ]
    },
    {
      "cell_type": "markdown",
      "metadata": {
        "id": "4PT-5v_dDqiL"
      },
      "source": [
        "The output confirms that our movie_df has no missing values."
      ]
    },
    {
      "cell_type": "markdown",
      "metadata": {
        "id": "GTaP54FvDqiM"
      },
      "source": [
        "## 3.6 Ensuring consistent data types."
      ]
    },
    {
      "cell_type": "code",
      "execution_count": 17,
      "metadata": {
        "colab": {
          "base_uri": "https://localhost:8080/"
        },
        "id": "XDGC7ooGDqiM",
        "outputId": "b1b3a47b-1e8c-4a69-e6bf-c4023f567b87"
      },
      "outputs": [
        {
          "name": "stdout",
          "output_type": "stream",
          "text": [
            "Userid         int64\n",
            "Rating       float64\n",
            "Timestamp      int64\n",
            "Title         object\n",
            "Genres        object\n",
            "Tag           object\n",
            "dtype: object\n"
          ]
        }
      ],
      "source": [
        "#Checking the datatype of each column\n",
        "print(Movies_df.dtypes)"
      ]
    },
    {
      "cell_type": "markdown",
      "metadata": {
        "id": "slD16QJWDqiM"
      },
      "source": [
        "After removal of unccesary colums, we can counclude now that thedataset has\n",
        "  - One feature of float64\n",
        "     - Rating\n",
        "  - Two features of int64\n",
        "    - userId\n",
        "    - timestamp\n",
        "  - Three features of object\n",
        "    - Title\n",
        "    - Genres\n",
        "    - Tags\n",
        "\n",
        "For accurate analysis, we will proceed and convert our timestamp from int64 to data and time"
      ]
    },
    {
      "cell_type": "code",
      "execution_count": 18,
      "metadata": {
        "colab": {
          "base_uri": "https://localhost:8080/"
        },
        "id": "wsWwPm-ODqiN",
        "outputId": "959d3e35-40c2-461a-953c-bb3e6486a46f"
      },
      "outputs": [
        {
          "name": "stdout",
          "output_type": "stream",
          "text": [
            "<class 'pandas.core.frame.DataFrame'>\n",
            "Int64Index: 3476 entries, 0 to 3475\n",
            "Data columns (total 6 columns):\n",
            " #   Column     Non-Null Count  Dtype         \n",
            "---  ------     --------------  -----         \n",
            " 0   Userid     3476 non-null   int64         \n",
            " 1   Rating     3476 non-null   float64       \n",
            " 2   Timestamp  3476 non-null   datetime64[ns]\n",
            " 3   Title      3476 non-null   object        \n",
            " 4   Genres     3476 non-null   object        \n",
            " 5   Tag        3476 non-null   object        \n",
            "dtypes: datetime64[ns](1), float64(1), int64(1), object(3)\n",
            "memory usage: 190.1+ KB\n"
          ]
        }
      ],
      "source": [
        "# Creating a new dataframe\n",
        "Movies= pd.DataFrame(Movies_df)\n",
        "\n",
        "# Converting the timestamp_x column to datetime format\n",
        "Movies['Timestamp'] = pd.to_datetime(Movies['Timestamp'], unit='s')\n",
        "\n",
        "# Displaying the DataFrame\n",
        "Movies.info()"
      ]
    },
    {
      "cell_type": "markdown",
      "metadata": {
        "id": "Hc3NQ1I5DqiN"
      },
      "source": [
        "Now out timestamp feature has succefully been converte to to a datetime column"
      ]
    },
    {
      "cell_type": "markdown",
      "metadata": {
        "id": "mOCUyiMPDqiN"
      },
      "source": [
        "## 3.7 Creating new features from existing features"
      ]
    },
    {
      "cell_type": "code",
      "execution_count": 19,
      "metadata": {
        "colab": {
          "base_uri": "https://localhost:8080/",
          "height": 206
        },
        "id": "fFPM6rmODqiO",
        "outputId": "fc02e350-0f09-4484-a8da-3902b1b74923"
      },
      "outputs": [
        {
          "data": {
            "text/html": [
              "<div>\n",
              "<style scoped>\n",
              "    .dataframe tbody tr th:only-of-type {\n",
              "        vertical-align: middle;\n",
              "    }\n",
              "\n",
              "    .dataframe tbody tr th {\n",
              "        vertical-align: top;\n",
              "    }\n",
              "\n",
              "    .dataframe thead th {\n",
              "        text-align: right;\n",
              "    }\n",
              "</style>\n",
              "<table border=\"1\" class=\"dataframe\">\n",
              "  <thead>\n",
              "    <tr style=\"text-align: right;\">\n",
              "      <th></th>\n",
              "      <th>Userid</th>\n",
              "      <th>Rating</th>\n",
              "      <th>Timestamp</th>\n",
              "      <th>Title</th>\n",
              "      <th>Genres</th>\n",
              "      <th>Tag</th>\n",
              "      <th>Timetamp_date</th>\n",
              "    </tr>\n",
              "  </thead>\n",
              "  <tbody>\n",
              "    <tr>\n",
              "      <th>0</th>\n",
              "      <td>336</td>\n",
              "      <td>4.0</td>\n",
              "      <td>2005-07-24 17:48:49</td>\n",
              "      <td>Toy Story (1995)</td>\n",
              "      <td>Adventure|Animation|Children|Comedy|Fantasy</td>\n",
              "      <td>pixar</td>\n",
              "      <td>2005-07-24</td>\n",
              "    </tr>\n",
              "    <tr>\n",
              "      <th>1</th>\n",
              "      <td>474</td>\n",
              "      <td>4.0</td>\n",
              "      <td>2001-01-04 02:36:00</td>\n",
              "      <td>Toy Story (1995)</td>\n",
              "      <td>Adventure|Animation|Children|Comedy|Fantasy</td>\n",
              "      <td>pixar</td>\n",
              "      <td>2001-01-04</td>\n",
              "    </tr>\n",
              "    <tr>\n",
              "      <th>2</th>\n",
              "      <td>567</td>\n",
              "      <td>3.5</td>\n",
              "      <td>2018-05-02 18:33:21</td>\n",
              "      <td>Toy Story (1995)</td>\n",
              "      <td>Adventure|Animation|Children|Comedy|Fantasy</td>\n",
              "      <td>fun</td>\n",
              "      <td>2018-05-02</td>\n",
              "    </tr>\n",
              "    <tr>\n",
              "      <th>3</th>\n",
              "      <td>289</td>\n",
              "      <td>2.5</td>\n",
              "      <td>2006-03-27 01:57:37</td>\n",
              "      <td>Grumpier Old Men (1995)</td>\n",
              "      <td>Comedy|Romance</td>\n",
              "      <td>moldy</td>\n",
              "      <td>2006-03-27</td>\n",
              "    </tr>\n",
              "    <tr>\n",
              "      <th>4</th>\n",
              "      <td>289</td>\n",
              "      <td>2.5</td>\n",
              "      <td>2006-03-27 01:57:37</td>\n",
              "      <td>Grumpier Old Men (1995)</td>\n",
              "      <td>Comedy|Romance</td>\n",
              "      <td>old</td>\n",
              "      <td>2006-03-27</td>\n",
              "    </tr>\n",
              "  </tbody>\n",
              "</table>\n",
              "</div>"
            ],
            "text/plain": [
              "   Userid  Rating           Timestamp                    Title  \\\n",
              "0     336     4.0 2005-07-24 17:48:49         Toy Story (1995)   \n",
              "1     474     4.0 2001-01-04 02:36:00         Toy Story (1995)   \n",
              "2     567     3.5 2018-05-02 18:33:21         Toy Story (1995)   \n",
              "3     289     2.5 2006-03-27 01:57:37  Grumpier Old Men (1995)   \n",
              "4     289     2.5 2006-03-27 01:57:37  Grumpier Old Men (1995)   \n",
              "\n",
              "                                        Genres    Tag Timetamp_date  \n",
              "0  Adventure|Animation|Children|Comedy|Fantasy  pixar    2005-07-24  \n",
              "1  Adventure|Animation|Children|Comedy|Fantasy  pixar    2001-01-04  \n",
              "2  Adventure|Animation|Children|Comedy|Fantasy    fun    2018-05-02  \n",
              "3                               Comedy|Romance  moldy    2006-03-27  \n",
              "4                               Comedy|Romance    old    2006-03-27  "
            ]
          },
          "execution_count": 19,
          "metadata": {},
          "output_type": "execute_result"
        }
      ],
      "source": [
        "# Create 'Date' from the timeshtamp\n",
        "Movies['Timetamp_date'] = Movies['Timestamp'].dt.date\n",
        "\n",
        "\n",
        "#viewing the dataset\n",
        "Movies.head()"
      ]
    },
    {
      "cell_type": "code",
      "execution_count": 20,
      "metadata": {
        "colab": {
          "base_uri": "https://localhost:8080/",
          "height": 206
        },
        "id": "SLONs5ZODqiO",
        "outputId": "31883d72-590e-40f0-a1e2-6c63daf32cde"
      },
      "outputs": [
        {
          "data": {
            "text/html": [
              "<div>\n",
              "<style scoped>\n",
              "    .dataframe tbody tr th:only-of-type {\n",
              "        vertical-align: middle;\n",
              "    }\n",
              "\n",
              "    .dataframe tbody tr th {\n",
              "        vertical-align: top;\n",
              "    }\n",
              "\n",
              "    .dataframe thead th {\n",
              "        text-align: right;\n",
              "    }\n",
              "</style>\n",
              "<table border=\"1\" class=\"dataframe\">\n",
              "  <thead>\n",
              "    <tr style=\"text-align: right;\">\n",
              "      <th></th>\n",
              "      <th>Userid</th>\n",
              "      <th>Rating</th>\n",
              "      <th>Timestamp</th>\n",
              "      <th>Title</th>\n",
              "      <th>Genres</th>\n",
              "      <th>Tag</th>\n",
              "      <th>Timetamp_date</th>\n",
              "      <th>year_of_production</th>\n",
              "    </tr>\n",
              "  </thead>\n",
              "  <tbody>\n",
              "    <tr>\n",
              "      <th>2704</th>\n",
              "      <td>474</td>\n",
              "      <td>4.0</td>\n",
              "      <td>2003-09-15 13:04:16</td>\n",
              "      <td>Pride of the Yankees, The (1942)</td>\n",
              "      <td>Drama</td>\n",
              "      <td>Lou Gehrig</td>\n",
              "      <td>2003-09-15</td>\n",
              "      <td>1942</td>\n",
              "    </tr>\n",
              "    <tr>\n",
              "      <th>2448</th>\n",
              "      <td>474</td>\n",
              "      <td>1.0</td>\n",
              "      <td>2001-07-11 02:39:23</td>\n",
              "      <td>Cannonball Run, The (1981)</td>\n",
              "      <td>Action|Comedy</td>\n",
              "      <td>race</td>\n",
              "      <td>2001-07-11</td>\n",
              "      <td>1981</td>\n",
              "    </tr>\n",
              "    <tr>\n",
              "      <th>3123</th>\n",
              "      <td>474</td>\n",
              "      <td>3.5</td>\n",
              "      <td>2006-02-14 18:10:49</td>\n",
              "      <td>Oliver Twist (2005)</td>\n",
              "      <td>Drama</td>\n",
              "      <td>Dickens</td>\n",
              "      <td>2006-02-14</td>\n",
              "      <td>2005</td>\n",
              "    </tr>\n",
              "    <tr>\n",
              "      <th>486</th>\n",
              "      <td>599</td>\n",
              "      <td>5.0</td>\n",
              "      <td>2017-06-26 06:01:22</td>\n",
              "      <td>Fight Club (1999)</td>\n",
              "      <td>Action|Crime|Drama|Thriller</td>\n",
              "      <td>imaginary friend</td>\n",
              "      <td>2017-06-26</td>\n",
              "      <td>1999</td>\n",
              "    </tr>\n",
              "    <tr>\n",
              "      <th>3227</th>\n",
              "      <td>474</td>\n",
              "      <td>4.0</td>\n",
              "      <td>2004-01-20 14:01:46</td>\n",
              "      <td>Good Earth, The (1937)</td>\n",
              "      <td>Drama</td>\n",
              "      <td>Pearl S Buck</td>\n",
              "      <td>2004-01-20</td>\n",
              "      <td>1937</td>\n",
              "    </tr>\n",
              "  </tbody>\n",
              "</table>\n",
              "</div>"
            ],
            "text/plain": [
              "      Userid  Rating           Timestamp                             Title  \\\n",
              "2704     474     4.0 2003-09-15 13:04:16  Pride of the Yankees, The (1942)   \n",
              "2448     474     1.0 2001-07-11 02:39:23        Cannonball Run, The (1981)   \n",
              "3123     474     3.5 2006-02-14 18:10:49               Oliver Twist (2005)   \n",
              "486      599     5.0 2017-06-26 06:01:22                 Fight Club (1999)   \n",
              "3227     474     4.0 2004-01-20 14:01:46            Good Earth, The (1937)   \n",
              "\n",
              "                           Genres               Tag Timetamp_date  \\\n",
              "2704                        Drama        Lou Gehrig    2003-09-15   \n",
              "2448                Action|Comedy              race    2001-07-11   \n",
              "3123                        Drama           Dickens    2006-02-14   \n",
              "486   Action|Crime|Drama|Thriller  imaginary friend    2017-06-26   \n",
              "3227                        Drama      Pearl S Buck    2004-01-20   \n",
              "\n",
              "     year_of_production  \n",
              "2704               1942  \n",
              "2448               1981  \n",
              "3123               2005  \n",
              "486                1999  \n",
              "3227               1937  "
            ]
          },
          "execution_count": 20,
          "metadata": {},
          "output_type": "execute_result"
        }
      ],
      "source": [
        "# Extracting the year from the Title and creating a new column year_of_production\n",
        "Movies_df['year_of_production'] = Movies_df['Title'].str.extract(r'\\((\\d{4})\\)')\n",
        "\n",
        "#viewing the dataset\n",
        "Movies_df.sample(n=5)"
      ]
    },
    {
      "cell_type": "markdown",
      "metadata": {
        "id": "tquXGbaUDqiO"
      },
      "source": [
        "After creating the two new features, `timestamp_date` and `year_of_production`, the next step is to check for any missing values in the dataset."
      ]
    },
    {
      "cell_type": "code",
      "execution_count": 21,
      "metadata": {
        "colab": {
          "base_uri": "https://localhost:8080/"
        },
        "id": "NZcpdpzoH4WA",
        "outputId": "08d9e2b0-0a4a-4d2d-d42d-8c7d6aaa7262"
      },
      "outputs": [
        {
          "data": {
            "text/plain": [
              "array(['Adventure|Animation|Children|Comedy|Fantasy', 'Comedy|Romance',\n",
              "       'Mystery|Thriller', 'Crime|Mystery|Thriller',\n",
              "       'Adventure|Comedy|Crime|Romance', 'Action|Drama|War', 'Comedy',\n",
              "       'Comedy|Drama', 'Action|Adventure|Sci-Fi',\n",
              "       'Comedy|Crime|Drama|Thriller', 'Action|Crime|Drama|Thriller',\n",
              "       'Comedy|Drama|Romance|War', 'Thriller',\n",
              "       'Action|Adventure|Sci-Fi|Thriller', 'Drama|War',\n",
              "       'Comedy|Romance|Thriller', 'Action|Adventure|Comedy|Romance',\n",
              "       'Adventure|Drama|Western', 'Action|Crime|Thriller',\n",
              "       'Crime|Horror|Thriller', 'Animation|Children|Fantasy|Musical',\n",
              "       'Action|Adventure|Mystery|Thriller',\n",
              "       'Adventure|Animation|Children|Comedy|Fantasy|Sci-Fi',\n",
              "       'Action|Adventure|Thriller', 'Action|Adventure|Romance|Thriller',\n",
              "       'Adventure|Children|Fantasy|Musical', 'Drama|Mystery',\n",
              "       'Action|Adventure|Romance', 'Drama|Fantasy|Romance', 'Drama',\n",
              "       'Animation|Children|Drama|Musical',\n",
              "       'Adventure|Animation|Children|Musical',\n",
              "       'Adventure|Animation|Children|Fantasy|Musical',\n",
              "       'Children|Drama|Sci-Fi', 'Adventure|Comedy|Fantasy',\n",
              "       'Action|Adventure|Comedy|Fantasy|Romance', 'Action|Adventure',\n",
              "       'Crime|Drama|Sci-Fi|Thriller', 'Crime|Drama', 'Horror|Sci-Fi',\n",
              "       'Crime|Horror', 'Action|Comedy|Musical',\n",
              "       'Action|Drama|Romance|War', 'Action|Sci-Fi|Thriller', 'Horror',\n",
              "       'Adventure|Comedy|Sci-Fi', 'Comedy|Fantasy', 'Action|Crime',\n",
              "       'Action|Comedy|Crime|Drama|Sci-Fi', 'Action|Romance|War|Western',\n",
              "       'Comedy|Crime|Romance', 'Action|Comedy|Sci-Fi',\n",
              "       'Crime|Film-Noir|Mystery|Thriller', 'Drama|Mystery|Thriller',\n",
              "       'Comedy|Crime', 'Adventure|Children|Comedy|Fantasy|Sci-Fi',\n",
              "       'Action|Crime|Drama|Mystery|Thriller',\n",
              "       'Animation|Children|Comedy|Musical', 'Action|Adventure|Fantasy',\n",
              "       'Adventure|Animation|Children|Fantasy',\n",
              "       'Adventure|Animation|Children|Drama', 'Crime|Drama|Thriller',\n",
              "       'Adventure|Comedy', 'Action|Drama|Sci-Fi', 'Action|Sci-Fi',\n",
              "       'Drama|Horror|Sci-Fi', 'Animation|Comedy|Musical',\n",
              "       'Adventure|Animation|Children|Drama|Sci-Fi',\n",
              "       'Comedy|Drama|Fantasy|Romance', 'Adventure|Fantasy',\n",
              "       'Adventure|Animation|Children|Comedy|Crime|Fantasy|Mystery',\n",
              "       'Comedy|Horror|Mystery|Thriller', 'Action|Adventure|Drama',\n",
              "       'Comedy|Western', 'Drama|Romance', 'Action|Crime|Drama|IMAX',\n",
              "       'Action|Comedy|Horror',\n",
              "       'Action|Crime|Drama|Mystery|Sci-Fi|Thriller|IMAX', 'Documentary',\n",
              "       'Action|Adventure|Crime|IMAX', 'Action|Drama|Western',\n",
              "       'Comedy|Crime|Drama', 'Sci-Fi|IMAX', 'Action|Crime|Drama|War',\n",
              "       'Adventure|Animation|Comedy', 'Comedy|Drama|Musical|Romance',\n",
              "       'Children|Drama|Fantasy', 'Animation|Children|Comedy|Romance',\n",
              "       'Comedy|Drama|Romance', 'Comedy|Crime|Thriller',\n",
              "       'Mystery|Sci-Fi|Thriller', 'Comedy|Drama|Thriller',\n",
              "       'Adventure|Animation|Children|Comedy|Musical',\n",
              "       'Animation|Children|Fantasy|Musical|Romance|IMAX',\n",
              "       'Comedy|Musical|Romance',\n",
              "       'Action|Adventure|Mystery|Romance|Thriller', 'Drama|Romance|War',\n",
              "       'Film-Noir|Romance|Thriller', 'Crime|Drama|Film-Noir',\n",
              "       'Adventure|Drama|War', 'Adventure|Drama', 'Drama|Western',\n",
              "       'Action|Western', 'Crime|Drama|Mystery|Thriller',\n",
              "       'Drama|Musical|Romance', 'Crime|Drama|Film-Noir|Thriller',\n",
              "       'Drama|Horror|Mystery', 'Mystery|Romance|Thriller',\n",
              "       'Action|Drama|Romance', 'Adventure|Comedy|Crime', 'Action|Drama',\n",
              "       'Adventure|Children|Fantasy', 'Drama|Fantasy|Horror|Thriller|War',\n",
              "       'Children|Drama', 'Adventure|Drama|IMAX',\n",
              "       'Action|Adventure|Comedy|Crime',\n",
              "       'Adventure|Animation|Children|Drama|Musical|IMAX',\n",
              "       'Action|Adventure|Comedy|Romance|Thriller',\n",
              "       'Children|Comedy|Fantasy', 'Action|Thriller',\n",
              "       'Animation|Children|Drama|Fantasy|Musical',\n",
              "       'Crime|Drama|Horror|Mystery|Thriller', 'Drama|Horror|Thriller',\n",
              "       'Action|Adventure|Mystery|Sci-Fi', 'Drama|Thriller|War',\n",
              "       'Drama|Thriller', 'Comedy|Drama|Fantasy', 'Adventure|Drama|Sci-Fi',\n",
              "       'Action|Romance|Thriller', 'Drama|Musical',\n",
              "       'Comedy|Drama|Fantasy|Romance|Thriller', 'Animation|Children',\n",
              "       'Adventure|Children', 'Comedy|War', 'Action|Romance',\n",
              "       'Comedy|Drama|Sci-Fi', 'Action|Romance|Sci-Fi|Thriller',\n",
              "       'Comedy|Fantasy|Sci-Fi', 'Drama|Sci-Fi',\n",
              "       'Adventure|Animation|Children|Comedy|Fantasy|Romance',\n",
              "       'Drama|Fantasy|Mystery|Sci-Fi', 'Crime|Thriller',\n",
              "       'Action|Crime|Mystery|Sci-Fi|Thriller', 'Horror|Sci-Fi|Thriller',\n",
              "       'Adventure|Animation|Fantasy', 'Comedy|Crime|Drama|Musical',\n",
              "       'Action|Adventure|Comedy|Fantasy', 'Comedy|Musical',\n",
              "       'Action|Adventure|Drama|Fantasy',\n",
              "       'Adventure|Animation|Children|Comedy|Musical|Romance',\n",
              "       'Adventure|Fantasy|IMAX', 'Action|Adventure|Sci-Fi|IMAX',\n",
              "       'Horror|Mystery|Thriller',\n",
              "       'Action|Adventure|Animation|Children|Comedy',\n",
              "       'Action|Crime|Film-Noir|Mystery|Thriller', 'Drama|Fantasy|Mystery',\n",
              "       'Children|Comedy', 'Drama|Film-Noir|Romance',\n",
              "       'Drama|Romance|Thriller', 'Children|Comedy|Fantasy|Musical',\n",
              "       'Adventure|Animation|Children|Comedy',\n",
              "       'Drama|Fantasy|Romance|Thriller', 'Action|Adventure|Thriller|IMAX',\n",
              "       'Comedy|Fantasy|Romance', 'Action|Adventure|Horror|Sci-Fi',\n",
              "       'Drama|Sci-Fi|Thriller', 'Adventure|Animation|Children',\n",
              "       'Animation|Children|Drama|Fantasy', 'Action|Horror|Sci-Fi',\n",
              "       'Action|Drama|Thriller', 'Drama|Mystery|Sci-Fi|Thriller',\n",
              "       'Animation|Children|Drama', 'Action|Horror|Sci-Fi|Thriller|IMAX',\n",
              "       'Adventure|Animation|Children|Romance|Sci-Fi',\n",
              "       'Action|Adventure|Drama|Sci-Fi|Thriller', 'Action|Sci-Fi|IMAX',\n",
              "       'Adventure|Drama|Thriller|IMAX', 'Animation|Comedy',\n",
              "       'Animation|Children|Comedy', 'Film-Noir|Mystery',\n",
              "       'Animation|Children|Comedy|Crime', 'Action|Adventure|Western',\n",
              "       'Adventure|Animation|Children|Comedy|Sci-Fi',\n",
              "       'Crime|Film-Noir|Thriller', 'Crime|Thriller|War',\n",
              "       'Comedy|Drama|War', 'Action|Comedy|Fantasy',\n",
              "       'Action|Adventure|Animation|Drama|Fantasy',\n",
              "       'Action|Adventure|Animation|Children|Fantasy|Sci-Fi',\n",
              "       'Drama|Romance|Sci-Fi', 'Drama|Fantasy|Thriller',\n",
              "       'Action|Crime|Drama', 'Action|Adventure|Crime|Drama|Thriller',\n",
              "       'Crime|Drama|Mystery', 'Adventure|Animation|Fantasy|Romance',\n",
              "       'Western', 'Film-Noir|Mystery|Thriller',\n",
              "       'Action|Adventure|Children|Drama',\n",
              "       'Fantasy|Horror|Mystery|Romance',\n",
              "       'Adventure|Children|Comedy|Fantasy|IMAX',\n",
              "       'Action|Crime|Drama|Thriller|War',\n",
              "       'Animation|Comedy|Fantasy|Musical|Romance',\n",
              "       'Comedy|Crime|Mystery|Thriller',\n",
              "       'Action|Adventure|Comedy|Crime|Fantasy',\n",
              "       'Comedy|Drama|Musical|Sci-Fi', 'Animation|Comedy|Drama',\n",
              "       'Action|Comedy|Fantasy|Musical|Romance', 'Comedy|Drama|Mystery',\n",
              "       'Sci-Fi', 'Adventure|Children|Comedy|Musical',\n",
              "       'Comedy|Mystery|Romance', 'Comedy|Sci-Fi',\n",
              "       'Drama|Mystery|Romance|Thriller',\n",
              "       'Comedy|Crime|Mystery|Romance|Thriller', 'Comedy|Mystery|Thriller',\n",
              "       'Horror|Thriller', 'Drama|Fantasy|Horror|Thriller',\n",
              "       'Adventure|Children|Comedy', 'Action|Mystery|Sci-Fi',\n",
              "       'Adventure|Film-Noir|Sci-Fi|Thriller',\n",
              "       'Children|Drama|Fantasy|Mystery|Thriller',\n",
              "       'Action|Horror|Thriller', 'Action|Drama|Romance|Sci-Fi',\n",
              "       'Animation|Musical', 'Adventure|Comedy|Fantasy|Sci-Fi',\n",
              "       'Children|Comedy|Romance',\n",
              "       'Animation|Children|Fantasy|Musical|Romance', 'Musical|Romance',\n",
              "       'Action|Comedy|Romance', 'Musical|Romance|War',\n",
              "       'Action|Adventure|Children|Comedy', 'Action|Adventure|Comedy',\n",
              "       'Adventure|Children|Drama', 'Adventure|Children|Comedy|Mystery',\n",
              "       'Adventure|Fantasy|Thriller|IMAX', 'Action|Comedy|Fantasy|IMAX',\n",
              "       'Adventure|Romance|Sci-Fi|IMAX',\n",
              "       'Action|Adventure|Animation|Children|Comedy|Fantasy',\n",
              "       'Action|Animation|Comedy', 'Action|Comedy', 'Adventure|Sci-Fi',\n",
              "       'Action|Crime|Sci-Fi', 'Comedy|Documentary|Drama',\n",
              "       'Animation|Fantasy|Thriller',\n",
              "       'Adventure|Drama|Fantasy|Mystery|Sci-Fi',\n",
              "       'Action|Crime|Romance|Thriller',\n",
              "       'Action|Adventure|Animation|Sci-Fi', 'Crime|Film-Noir|Mystery',\n",
              "       'Crime|Film-Noir', 'Animation|Comedy|Fantasy', 'Mystery',\n",
              "       'Action|Adventure|Drama|Thriller', 'Drama|Fantasy|Mystery|Romance',\n",
              "       'Action|Comedy|Crime', 'Adventure|Comedy|Romance|War',\n",
              "       'Action|Adventure|Drama|War', 'Action|Horror',\n",
              "       'Crime|Drama|Mystery|Romance|Thriller', 'Comedy|Horror',\n",
              "       'Action|Adventure|Drama|Fantasy|Thriller',\n",
              "       'Action|Adventure|Crime|Drama|Thriller|War',\n",
              "       'Action|Comedy|Crime|Mystery', 'Action|Crime|Drama|Western',\n",
              "       'Children|Drama|Fantasy|Romance', 'Documentary|War',\n",
              "       'Action|Adventure|Fantasy|Sci-Fi', 'Action|Adventure|Drama|Sci-Fi',\n",
              "       'Adventure|Drama|Thriller', 'Adventure|Drama|Romance',\n",
              "       'Action|Animation|Drama|Fantasy|Sci-Fi',\n",
              "       'Animation|Mystery|Sci-Fi', 'Animation|Comedy|Fantasy|Sci-Fi',\n",
              "       'Action|Comedy|Fantasy|Sci-Fi', 'Action|Drama|Thriller|War',\n",
              "       'Horror|Mystery', 'Crime|Horror|Mystery|Thriller',\n",
              "       'Action|Adventure|Drama|Western',\n",
              "       'Comedy|Crime|Drama|Romance|Thriller', 'Documentary|IMAX',\n",
              "       'Action|Fantasy|Sci-Fi', 'Action|Animation|Drama|Sci-Fi',\n",
              "       'Adventure|Children|Comedy|Fantasy',\n",
              "       'Action|Adventure|Fantasy|Sci-Fi|IMAX',\n",
              "       'Action|Mystery|Sci-Fi|Thriller',\n",
              "       'Drama|Horror|Mystery|Sci-Fi|Thriller',\n",
              "       'Action|Adventure|Children', 'Action|Comedy|Crime|Horror',\n",
              "       'Action|Adventure|Children|Sci-Fi', 'Fantasy|Horror|Thriller',\n",
              "       'Action|Drama|Horror|Thriller', 'Animation|Drama|War',\n",
              "       'Crime|Mystery', 'Children|Comedy|Drama', 'Adventure|Documentary',\n",
              "       'Action|Adventure|Animation|Children|Comedy|Sci-Fi',\n",
              "       'Adventure|Crime|Drama', 'Drama|Romance|Western', 'Musical',\n",
              "       'Adventure|Comedy|Musical|Sci-Fi', 'Crime|Drama|Romance',\n",
              "       'Adventure|Animation|Children|Drama|Fantasy',\n",
              "       'Action|Animation|Sci-Fi|Thriller', 'Crime|Drama|Horror',\n",
              "       'Comedy|Musical|Romance|Western',\n",
              "       'Animation|Comedy|Drama|Fantasy|Sci-Fi',\n",
              "       'Adventure|Comedy|Romance', 'Romance', 'Romance|Thriller',\n",
              "       'Adventure|Animation|Comedy|Fantasy|Romance',\n",
              "       'Drama|Film-Noir|Mystery|Romance', 'Comedy|Documentary',\n",
              "       'Adventure|Comedy|Musical', 'Musical|Romance|Western', 'Fantasy',\n",
              "       'Drama|Fantasy', 'Action|Animation|Comedy|Sci-Fi',\n",
              "       'Adventure|Animation|Drama', 'Drama|Film-Noir',\n",
              "       'Adventure|Drama|Fantasy', 'Drama|Film-Noir|Thriller',\n",
              "       'Documentary|Drama', 'Children|Comedy|Crime|Drama|Fantasy',\n",
              "       'Crime|Drama|Fantasy|Mystery|Thriller', 'Documentary|Musical',\n",
              "       'Animation|Drama|Romance', 'Drama|Horror', 'Action|Crime|Horror',\n",
              "       'Comedy|Horror|Thriller', 'Film-Noir', 'Animation',\n",
              "       'Adventure|Children|Comedy|Romance|Sci-Fi',\n",
              "       'Action|Crime|Drama|Horror|Thriller',\n",
              "       'Action|Animation|Comedy|Horror|Thriller', 'Comedy|Drama|Musical',\n",
              "       'Action|Adventure|Animation|Crime|Fantasy',\n",
              "       'Comedy|Crime|Mystery|Romance', 'Action|Horror|Sci-Fi|Thriller',\n",
              "       'Adventure', 'Comedy|Romance|Sci-Fi',\n",
              "       'Drama|Film-Noir|Mystery|Thriller',\n",
              "       'Adventure|Comedy|Crime|Drama|Romance', 'Romance|War',\n",
              "       'Adventure|Crime|Drama|Thriller', 'Animation|Children|Musical',\n",
              "       'Drama|War|Western', 'Drama|Fantasy|Musical|Romance',\n",
              "       'Comedy|Crime|Mystery', 'Crime|Drama|Film-Noir|Romance|Thriller',\n",
              "       'Drama|Horror|Romance|Thriller',\n",
              "       'Comedy|Crime|Drama|Mystery|Romance',\n",
              "       'Comedy|Crime|Drama|Musical|Mystery|Romance',\n",
              "       'Drama|Horror|Mystery|Thriller', 'Drama|Thriller|Western',\n",
              "       'Drama|Film-Noir|Mystery', 'Animation|Drama|Sci-Fi|IMAX',\n",
              "       'Animation|Drama|Romance|Sci-Fi',\n",
              "       'Action|Animation|Mystery|Sci-Fi', 'Animation|Fantasy',\n",
              "       'Romance|Sci-Fi', 'Adventure|Animation|Drama|Horror',\n",
              "       'Romance|Sci-Fi|Thriller', 'Animation|Drama|Fantasy',\n",
              "       'Adventure|Animation', '(no genres listed)'], dtype=object)"
            ]
          },
          "execution_count": 21,
          "metadata": {},
          "output_type": "execute_result"
        }
      ],
      "source": [
        "#Let us see the list of genres in the genres column\n",
        "Movies_df['Genres'].unique()"
      ]
    },
    {
      "cell_type": "code",
      "execution_count": 32,
      "metadata": {
        "colab": {
          "base_uri": "https://localhost:8080/"
        },
        "id": "cJAFrIM6DqiP",
        "outputId": "ae521743-9247-4b1b-a56d-bbaa3eba84b8"
      },
      "outputs": [
        {
          "name": "stdout",
          "output_type": "stream",
          "text": [
            "year_of_production    3\n",
            "dtype: int64\n"
          ]
        }
      ],
      "source": [
        "# Check for missing values in the dataset\n",
        "missing_values = Movies_df.isnull().sum()\n",
        "\n",
        "# Print columns that have missing values\n",
        "print(missing_values[missing_values > 0])\n"
      ]
    },
    {
      "cell_type": "markdown",
      "metadata": {
        "id": "ZSO9B1vgDqiP"
      },
      "source": [
        "The year of prodution colum has 3 missing value.\n",
        "\n",
        "Since this is too low, we will proceed and delete the rows."
      ]
    },
    {
      "cell_type": "code",
      "execution_count": 33,
      "metadata": {
        "id": "OXYWXwvpDqiP"
      },
      "outputs": [],
      "source": [
        "# Remove rows with any missing values\n",
        "Movies_df.dropna(inplace=True)"
      ]
    },
    {
      "cell_type": "code",
      "execution_count": 34,
      "metadata": {
        "colab": {
          "base_uri": "https://localhost:8080/"
        },
        "id": "I0M_KZ6nDqiP",
        "outputId": "1140c6cd-4870-425b-99d1-45f81d4e314c"
      },
      "outputs": [
        {
          "name": "stdout",
          "output_type": "stream",
          "text": [
            "None\n"
          ]
        }
      ],
      "source": [
        "if Movies_df.isnull().values.any():\n",
        "    print(True)\n",
        "else:\n",
        "    print(None)"
      ]
    },
    {
      "cell_type": "code",
      "execution_count": 35,
      "metadata": {
        "colab": {
          "base_uri": "https://localhost:8080/",
          "height": 303
        },
        "id": "LNbS56o1DqiQ",
        "outputId": "06d9e0c5-4727-4209-8c9c-1677b75b0977"
      },
      "outputs": [
        {
          "data": {
            "text/html": [
              "<div>\n",
              "<style scoped>\n",
              "    .dataframe tbody tr th:only-of-type {\n",
              "        vertical-align: middle;\n",
              "    }\n",
              "\n",
              "    .dataframe tbody tr th {\n",
              "        vertical-align: top;\n",
              "    }\n",
              "\n",
              "    .dataframe thead th {\n",
              "        text-align: right;\n",
              "    }\n",
              "</style>\n",
              "<table border=\"1\" class=\"dataframe\">\n",
              "  <thead>\n",
              "    <tr style=\"text-align: right;\">\n",
              "      <th></th>\n",
              "      <th>0</th>\n",
              "    </tr>\n",
              "  </thead>\n",
              "  <tbody>\n",
              "    <tr>\n",
              "      <th>Userid</th>\n",
              "      <td>int64</td>\n",
              "    </tr>\n",
              "    <tr>\n",
              "      <th>Rating</th>\n",
              "      <td>float64</td>\n",
              "    </tr>\n",
              "    <tr>\n",
              "      <th>Timestamp</th>\n",
              "      <td>int64</td>\n",
              "    </tr>\n",
              "    <tr>\n",
              "      <th>Title</th>\n",
              "      <td>object</td>\n",
              "    </tr>\n",
              "    <tr>\n",
              "      <th>Genres</th>\n",
              "      <td>object</td>\n",
              "    </tr>\n",
              "    <tr>\n",
              "      <th>Tag</th>\n",
              "      <td>object</td>\n",
              "    </tr>\n",
              "    <tr>\n",
              "      <th>year_of_production</th>\n",
              "      <td>object</td>\n",
              "    </tr>\n",
              "  </tbody>\n",
              "</table>\n",
              "</div><br><label><b>dtype:</b> object</label>"
            ],
            "text/plain": [
              "Userid                  int64\n",
              "Rating                float64\n",
              "Timestamp               int64\n",
              "Title                  object\n",
              "Genres                 object\n",
              "Tag                    object\n",
              "year_of_production     object\n",
              "dtype: object"
            ]
          },
          "execution_count": 35,
          "metadata": {},
          "output_type": "execute_result"
        }
      ],
      "source": [
        "#checking the datatypes\n",
        "Movies_df.dtypes"
      ]
    },
    {
      "cell_type": "markdown",
      "metadata": {
        "id": "Ypi63dE2DqiQ"
      },
      "source": [
        "Now that we have confirmed that we do not have any missing values, we will proceed and conver the year of production to and int type from the current object type."
      ]
    },
    {
      "cell_type": "code",
      "execution_count": 48,
      "metadata": {
        "id": "MCcVPUV5DqiQ"
      },
      "outputs": [],
      "source": [
        "# Convert the year_of_production column to integer\n",
        "Movies_df['year_of_production'] = Movies_df['year_of_production'].astype(int)\n"
      ]
    },
    {
      "cell_type": "code",
      "execution_count": 49,
      "metadata": {
        "colab": {
          "base_uri": "https://localhost:8080/",
          "height": 206
        },
        "id": "zuo8SmnEDqiR",
        "outputId": "595f0b8f-ae13-4b56-b767-bb55fd9c5075"
      },
      "outputs": [
        {
          "data": {
            "application/vnd.google.colaboratory.intrinsic+json": {
              "summary": "{\n  \"name\": \"Movies_df\",\n  \"rows\": 3473,\n  \"fields\": [\n    {\n      \"column\": \"Userid\",\n      \"properties\": {\n        \"dtype\": \"number\",\n        \"std\": 161,\n        \"min\": 2,\n        \"max\": 610,\n        \"num_unique_values\": 54,\n        \"samples\": [\n          184,\n          567,\n          537\n        ],\n        \"semantic_type\": \"\",\n        \"description\": \"\"\n      }\n    },\n    {\n      \"column\": \"Rating\",\n      \"properties\": {\n        \"dtype\": \"number\",\n        \"std\": 0.857177694253371,\n        \"min\": 0.5,\n        \"max\": 5.0,\n        \"num_unique_values\": 10,\n        \"samples\": [\n          2.0,\n          1.0,\n          0.5\n        ],\n        \"semantic_type\": \"\",\n        \"description\": \"\"\n      }\n    },\n    {\n      \"column\": \"Timestamp\",\n      \"properties\": {\n        \"dtype\": \"number\",\n        \"std\": 203785736,\n        \"min\": 974666694,\n        \"max\": 1537098554,\n        \"num_unique_values\": 1586,\n        \"samples\": [\n          1084982148,\n          1046886834,\n          1165540056\n        ],\n        \"semantic_type\": \"\",\n        \"description\": \"\"\n      }\n    },\n    {\n      \"column\": \"Title\",\n      \"properties\": {\n        \"dtype\": \"category\",\n        \"num_unique_values\": 1463,\n        \"samples\": [\n          \"I Was a Male War Bride (1949)\",\n          \"Jezebel (1938)\",\n          \"Umbrellas of Cherbourg, The (Parapluies de Cherbourg, Les) (1964)\"\n        ],\n        \"semantic_type\": \"\",\n        \"description\": \"\"\n      }\n    },\n    {\n      \"column\": \"Genres\",\n      \"properties\": {\n        \"dtype\": \"category\",\n        \"num_unique_values\": 363,\n        \"samples\": [\n          \"Action|Adventure|Mystery|Romance|Thriller\",\n          \"Comedy|Drama|Fantasy|Romance\",\n          \"Adventure|Animation|Children|Comedy|Fantasy\"\n        ],\n        \"semantic_type\": \"\",\n        \"description\": \"\"\n      }\n    },\n    {\n      \"column\": \"Tag\",\n      \"properties\": {\n        \"dtype\": \"category\",\n        \"num_unique_values\": 1543,\n        \"samples\": [\n          \"unpredictable\",\n          \"George Clooney\",\n          \"fun\"\n        ],\n        \"semantic_type\": \"\",\n        \"description\": \"\"\n      }\n    },\n    {\n      \"column\": \"year_of_production\",\n      \"properties\": {\n        \"dtype\": \"number\",\n        \"std\": 18,\n        \"min\": 1921,\n        \"max\": 2018,\n        \"num_unique_values\": 97,\n        \"samples\": [\n          1939,\n          1980,\n          1923\n        ],\n        \"semantic_type\": \"\",\n        \"description\": \"\"\n      }\n    }\n  ]\n}",
              "type": "dataframe",
              "variable_name": "Movies_df"
            },
            "text/html": [
              "\n",
              "  <div id=\"df-175e2e09-8a82-4d87-a772-893a150b96f1\" class=\"colab-df-container\">\n",
              "    <div>\n",
              "<style scoped>\n",
              "    .dataframe tbody tr th:only-of-type {\n",
              "        vertical-align: middle;\n",
              "    }\n",
              "\n",
              "    .dataframe tbody tr th {\n",
              "        vertical-align: top;\n",
              "    }\n",
              "\n",
              "    .dataframe thead th {\n",
              "        text-align: right;\n",
              "    }\n",
              "</style>\n",
              "<table border=\"1\" class=\"dataframe\">\n",
              "  <thead>\n",
              "    <tr style=\"text-align: right;\">\n",
              "      <th></th>\n",
              "      <th>Userid</th>\n",
              "      <th>Rating</th>\n",
              "      <th>Timestamp</th>\n",
              "      <th>Title</th>\n",
              "      <th>Genres</th>\n",
              "      <th>Tag</th>\n",
              "      <th>year_of_production</th>\n",
              "    </tr>\n",
              "  </thead>\n",
              "  <tbody>\n",
              "    <tr>\n",
              "      <th>0</th>\n",
              "      <td>2</td>\n",
              "      <td>5.0</td>\n",
              "      <td>1445714980</td>\n",
              "      <td>Step Brothers (2008)</td>\n",
              "      <td>Comedy</td>\n",
              "      <td>funny</td>\n",
              "      <td>2008</td>\n",
              "    </tr>\n",
              "    <tr>\n",
              "      <th>1</th>\n",
              "      <td>2</td>\n",
              "      <td>5.0</td>\n",
              "      <td>1445714980</td>\n",
              "      <td>Step Brothers (2008)</td>\n",
              "      <td>Comedy</td>\n",
              "      <td>Highly quotable</td>\n",
              "      <td>2008</td>\n",
              "    </tr>\n",
              "    <tr>\n",
              "      <th>2</th>\n",
              "      <td>2</td>\n",
              "      <td>5.0</td>\n",
              "      <td>1445714980</td>\n",
              "      <td>Step Brothers (2008)</td>\n",
              "      <td>Comedy</td>\n",
              "      <td>will ferrell</td>\n",
              "      <td>2008</td>\n",
              "    </tr>\n",
              "    <tr>\n",
              "      <th>3</th>\n",
              "      <td>2</td>\n",
              "      <td>5.0</td>\n",
              "      <td>1445715189</td>\n",
              "      <td>Warrior (2011)</td>\n",
              "      <td>Drama</td>\n",
              "      <td>Boxing story</td>\n",
              "      <td>2011</td>\n",
              "    </tr>\n",
              "    <tr>\n",
              "      <th>4</th>\n",
              "      <td>2</td>\n",
              "      <td>5.0</td>\n",
              "      <td>1445715189</td>\n",
              "      <td>Warrior (2011)</td>\n",
              "      <td>Drama</td>\n",
              "      <td>MMA</td>\n",
              "      <td>2011</td>\n",
              "    </tr>\n",
              "  </tbody>\n",
              "</table>\n",
              "</div>\n",
              "    <div class=\"colab-df-buttons\">\n",
              "\n",
              "  <div class=\"colab-df-container\">\n",
              "    <button class=\"colab-df-convert\" onclick=\"convertToInteractive('df-175e2e09-8a82-4d87-a772-893a150b96f1')\"\n",
              "            title=\"Convert this dataframe to an interactive table.\"\n",
              "            style=\"display:none;\">\n",
              "\n",
              "  <svg xmlns=\"http://www.w3.org/2000/svg\" height=\"24px\" viewBox=\"0 -960 960 960\">\n",
              "    <path d=\"M120-120v-720h720v720H120Zm60-500h600v-160H180v160Zm220 220h160v-160H400v160Zm0 220h160v-160H400v160ZM180-400h160v-160H180v160Zm440 0h160v-160H620v160ZM180-180h160v-160H180v160Zm440 0h160v-160H620v160Z\"/>\n",
              "  </svg>\n",
              "    </button>\n",
              "\n",
              "  <style>\n",
              "    .colab-df-container {\n",
              "      display:flex;\n",
              "      gap: 12px;\n",
              "    }\n",
              "\n",
              "    .colab-df-convert {\n",
              "      background-color: #E8F0FE;\n",
              "      border: none;\n",
              "      border-radius: 50%;\n",
              "      cursor: pointer;\n",
              "      display: none;\n",
              "      fill: #1967D2;\n",
              "      height: 32px;\n",
              "      padding: 0 0 0 0;\n",
              "      width: 32px;\n",
              "    }\n",
              "\n",
              "    .colab-df-convert:hover {\n",
              "      background-color: #E2EBFA;\n",
              "      box-shadow: 0px 1px 2px rgba(60, 64, 67, 0.3), 0px 1px 3px 1px rgba(60, 64, 67, 0.15);\n",
              "      fill: #174EA6;\n",
              "    }\n",
              "\n",
              "    .colab-df-buttons div {\n",
              "      margin-bottom: 4px;\n",
              "    }\n",
              "\n",
              "    [theme=dark] .colab-df-convert {\n",
              "      background-color: #3B4455;\n",
              "      fill: #D2E3FC;\n",
              "    }\n",
              "\n",
              "    [theme=dark] .colab-df-convert:hover {\n",
              "      background-color: #434B5C;\n",
              "      box-shadow: 0px 1px 3px 1px rgba(0, 0, 0, 0.15);\n",
              "      filter: drop-shadow(0px 1px 2px rgba(0, 0, 0, 0.3));\n",
              "      fill: #FFFFFF;\n",
              "    }\n",
              "  </style>\n",
              "\n",
              "    <script>\n",
              "      const buttonEl =\n",
              "        document.querySelector('#df-175e2e09-8a82-4d87-a772-893a150b96f1 button.colab-df-convert');\n",
              "      buttonEl.style.display =\n",
              "        google.colab.kernel.accessAllowed ? 'block' : 'none';\n",
              "\n",
              "      async function convertToInteractive(key) {\n",
              "        const element = document.querySelector('#df-175e2e09-8a82-4d87-a772-893a150b96f1');\n",
              "        const dataTable =\n",
              "          await google.colab.kernel.invokeFunction('convertToInteractive',\n",
              "                                                    [key], {});\n",
              "        if (!dataTable) return;\n",
              "\n",
              "        const docLinkHtml = 'Like what you see? Visit the ' +\n",
              "          '<a target=\"_blank\" href=https://colab.research.google.com/notebooks/data_table.ipynb>data table notebook</a>'\n",
              "          + ' to learn more about interactive tables.';\n",
              "        element.innerHTML = '';\n",
              "        dataTable['output_type'] = 'display_data';\n",
              "        await google.colab.output.renderOutput(dataTable, element);\n",
              "        const docLink = document.createElement('div');\n",
              "        docLink.innerHTML = docLinkHtml;\n",
              "        element.appendChild(docLink);\n",
              "      }\n",
              "    </script>\n",
              "  </div>\n",
              "\n",
              "\n",
              "<div id=\"df-72572d75-79ea-4b68-9750-8e56f939380a\">\n",
              "  <button class=\"colab-df-quickchart\" onclick=\"quickchart('df-72572d75-79ea-4b68-9750-8e56f939380a')\"\n",
              "            title=\"Suggest charts\"\n",
              "            style=\"display:none;\">\n",
              "\n",
              "<svg xmlns=\"http://www.w3.org/2000/svg\" height=\"24px\"viewBox=\"0 0 24 24\"\n",
              "     width=\"24px\">\n",
              "    <g>\n",
              "        <path d=\"M19 3H5c-1.1 0-2 .9-2 2v14c0 1.1.9 2 2 2h14c1.1 0 2-.9 2-2V5c0-1.1-.9-2-2-2zM9 17H7v-7h2v7zm4 0h-2V7h2v10zm4 0h-2v-4h2v4z\"/>\n",
              "    </g>\n",
              "</svg>\n",
              "  </button>\n",
              "\n",
              "<style>\n",
              "  .colab-df-quickchart {\n",
              "      --bg-color: #E8F0FE;\n",
              "      --fill-color: #1967D2;\n",
              "      --hover-bg-color: #E2EBFA;\n",
              "      --hover-fill-color: #174EA6;\n",
              "      --disabled-fill-color: #AAA;\n",
              "      --disabled-bg-color: #DDD;\n",
              "  }\n",
              "\n",
              "  [theme=dark] .colab-df-quickchart {\n",
              "      --bg-color: #3B4455;\n",
              "      --fill-color: #D2E3FC;\n",
              "      --hover-bg-color: #434B5C;\n",
              "      --hover-fill-color: #FFFFFF;\n",
              "      --disabled-bg-color: #3B4455;\n",
              "      --disabled-fill-color: #666;\n",
              "  }\n",
              "\n",
              "  .colab-df-quickchart {\n",
              "    background-color: var(--bg-color);\n",
              "    border: none;\n",
              "    border-radius: 50%;\n",
              "    cursor: pointer;\n",
              "    display: none;\n",
              "    fill: var(--fill-color);\n",
              "    height: 32px;\n",
              "    padding: 0;\n",
              "    width: 32px;\n",
              "  }\n",
              "\n",
              "  .colab-df-quickchart:hover {\n",
              "    background-color: var(--hover-bg-color);\n",
              "    box-shadow: 0 1px 2px rgba(60, 64, 67, 0.3), 0 1px 3px 1px rgba(60, 64, 67, 0.15);\n",
              "    fill: var(--button-hover-fill-color);\n",
              "  }\n",
              "\n",
              "  .colab-df-quickchart-complete:disabled,\n",
              "  .colab-df-quickchart-complete:disabled:hover {\n",
              "    background-color: var(--disabled-bg-color);\n",
              "    fill: var(--disabled-fill-color);\n",
              "    box-shadow: none;\n",
              "  }\n",
              "\n",
              "  .colab-df-spinner {\n",
              "    border: 2px solid var(--fill-color);\n",
              "    border-color: transparent;\n",
              "    border-bottom-color: var(--fill-color);\n",
              "    animation:\n",
              "      spin 1s steps(1) infinite;\n",
              "  }\n",
              "\n",
              "  @keyframes spin {\n",
              "    0% {\n",
              "      border-color: transparent;\n",
              "      border-bottom-color: var(--fill-color);\n",
              "      border-left-color: var(--fill-color);\n",
              "    }\n",
              "    20% {\n",
              "      border-color: transparent;\n",
              "      border-left-color: var(--fill-color);\n",
              "      border-top-color: var(--fill-color);\n",
              "    }\n",
              "    30% {\n",
              "      border-color: transparent;\n",
              "      border-left-color: var(--fill-color);\n",
              "      border-top-color: var(--fill-color);\n",
              "      border-right-color: var(--fill-color);\n",
              "    }\n",
              "    40% {\n",
              "      border-color: transparent;\n",
              "      border-right-color: var(--fill-color);\n",
              "      border-top-color: var(--fill-color);\n",
              "    }\n",
              "    60% {\n",
              "      border-color: transparent;\n",
              "      border-right-color: var(--fill-color);\n",
              "    }\n",
              "    80% {\n",
              "      border-color: transparent;\n",
              "      border-right-color: var(--fill-color);\n",
              "      border-bottom-color: var(--fill-color);\n",
              "    }\n",
              "    90% {\n",
              "      border-color: transparent;\n",
              "      border-bottom-color: var(--fill-color);\n",
              "    }\n",
              "  }\n",
              "</style>\n",
              "\n",
              "  <script>\n",
              "    async function quickchart(key) {\n",
              "      const quickchartButtonEl =\n",
              "        document.querySelector('#' + key + ' button');\n",
              "      quickchartButtonEl.disabled = true;  // To prevent multiple clicks.\n",
              "      quickchartButtonEl.classList.add('colab-df-spinner');\n",
              "      try {\n",
              "        const charts = await google.colab.kernel.invokeFunction(\n",
              "            'suggestCharts', [key], {});\n",
              "      } catch (error) {\n",
              "        console.error('Error during call to suggestCharts:', error);\n",
              "      }\n",
              "      quickchartButtonEl.classList.remove('colab-df-spinner');\n",
              "      quickchartButtonEl.classList.add('colab-df-quickchart-complete');\n",
              "    }\n",
              "    (() => {\n",
              "      let quickchartButtonEl =\n",
              "        document.querySelector('#df-72572d75-79ea-4b68-9750-8e56f939380a button');\n",
              "      quickchartButtonEl.style.display =\n",
              "        google.colab.kernel.accessAllowed ? 'block' : 'none';\n",
              "    })();\n",
              "  </script>\n",
              "</div>\n",
              "\n",
              "    </div>\n",
              "  </div>\n"
            ],
            "text/plain": [
              "   Userid  Rating   Timestamp                 Title  Genres              Tag  \\\n",
              "0       2     5.0  1445714980  Step Brothers (2008)  Comedy            funny   \n",
              "1       2     5.0  1445714980  Step Brothers (2008)  Comedy  Highly quotable   \n",
              "2       2     5.0  1445714980  Step Brothers (2008)  Comedy     will ferrell   \n",
              "3       2     5.0  1445715189        Warrior (2011)   Drama     Boxing story   \n",
              "4       2     5.0  1445715189        Warrior (2011)   Drama              MMA   \n",
              "\n",
              "   year_of_production  \n",
              "0                2008  \n",
              "1                2008  \n",
              "2                2008  \n",
              "3                2011  \n",
              "4                2011  "
            ]
          },
          "execution_count": 49,
          "metadata": {},
          "output_type": "execute_result"
        }
      ],
      "source": [
        "#runnnig our final cleaned dataset ready for EDA\n",
        "Movies_df.head()"
      ]
    },
    {
      "cell_type": "markdown",
      "metadata": {
        "id": "xljmpEwvDqiR"
      },
      "source": [
        "We have no duplicated rows in our dataset. This means that each row is unique."
      ]
    },
    {
      "cell_type": "markdown",
      "metadata": {
        "id": "tb4sZSl7DqiR"
      },
      "source": [
        "# 4.0 EXPLANATORY DATA ANALYSIS"
      ]
    },
    {
      "cell_type": "code",
      "execution_count": 50,
      "metadata": {
        "id": "cOULzRN5DqiR"
      },
      "outputs": [],
      "source": [
        "#Improting libraries for visualization\n",
        "import matplotlib.pyplot as plt\n",
        "%matplotlib inline\n",
        "import seaborn as sns"
      ]
    },
    {
      "cell_type": "code",
      "execution_count": 51,
      "metadata": {
        "colab": {
          "base_uri": "https://localhost:8080/",
          "height": 656
        },
        "id": "R2sqwhrMDqiS",
        "outputId": "ab8725d8-55af-41f2-d52d-d99a26719a12"
      },
      "outputs": [
        {
          "name": "stderr",
          "output_type": "stream",
          "text": [
            "<ipython-input-51-5474c11ecb61>:8: FutureWarning: \n",
            "\n",
            "Passing `palette` without assigning `hue` is deprecated and will be removed in v0.14.0. Assign the `x` variable to `hue` and set `legend=False` for the same effect.\n",
            "\n",
            "  sns.barplot(x=rating_counts.index, y=rating_counts.values, palette='viridis')\n"
          ]
        },
        {
          "data": {
            "image/png": "[encoded data removed]",
            "text/plain": [
              "<Figure size 1200x600 with 1 Axes>"
            ]
          },
          "metadata": {},
          "output_type": "display_data"
        }
      ],
      "source": [
        "\n",
        "def plot_rating_distribution(data):\n",
        "\n",
        "    # Count the number of movies for each rating\n",
        "    rating_counts = data['Rating'].value_counts().sort_index()\n",
        "\n",
        "    # Plotting\n",
        "    plt.figure(figsize=(12, 6))\n",
        "    sns.barplot(x=rating_counts.index, y=rating_counts.values, palette='viridis')\n",
        "    plt.title('Distribution of Movie Ratings')\n",
        "    plt.xlabel('Ratings')\n",
        "    plt.ylabel('Number of Movies')\n",
        "    plt.xticks(rotation=0)\n",
        "    plt.show()\n",
        "\n",
        "# Example usage:\n",
        "plot_rating_distribution(Movies_df)  # Display the rating distribution plot\n"
      ]
    },
    {
      "cell_type": "code",
      "execution_count": 52,
      "metadata": {
        "colab": {
          "base_uri": "https://localhost:8080/",
          "height": 572
        },
        "id": "PxABfH4bDqiS",
        "outputId": "4f9b945a-a1ba-4b79-83dc-c0e95f9d5af3"
      },
      "outputs": [
        {
          "data": {
            "image/png": "[encoded data removed]",
            "text/plain": [
              "<Figure size 1200x600 with 1 Axes>"
            ]
          },
          "metadata": {},
          "output_type": "display_data"
        }
      ],
      "source": [
        "# Create a histogram for the Rating feature\n",
        "plt.figure(figsize=(12, 6))\n",
        "sns.histplot(Movies_df['year_of_production'], bins=10, kde=True, color='cyan')\n",
        "\n",
        "# Add labels and title\n",
        "plt.title('Distribution of year of production', fontsize=16)\n",
        "plt.xlabel('year_of_production', fontsize=14)\n",
        "plt.ylabel('Frequency', fontsize=14)\n",
        "\n",
        "# Show the plot\n",
        "plt.show()"
      ]
    },
    {
      "cell_type": "code",
      "execution_count": 53,
      "metadata": {
        "colab": {
          "base_uri": "https://localhost:8080/",
          "height": 564
        },
        "id": "EnMy5lnFDqiT",
        "outputId": "4ca4b817-b1a5-4299-e4f2-3ba91b43a95c"
      },
      "outputs": [
        {
          "data": {
            "image/png": "[encoded data removed]",
            "text/plain": [
              "<Figure size 1200x600 with 1 Axes>"
            ]
          },
          "metadata": {},
          "output_type": "display_data"
        }
      ],
      "source": [
        "# Count tags contributed by each user\n",
        "tags_per_user = tags['userId'].value_counts()\n",
        "\n",
        "# Create a histogram for tags per user\n",
        "plt.figure(figsize=(12, 6))\n",
        "plt.hist(tags_per_user, bins=30, edgecolor='black', alpha=0.7)\n",
        "plt.title('Distribution of Tags Contributed by Users')\n",
        "plt.xlabel('Number of Tags')\n",
        "plt.ylabel('Number of Users')\n",
        "plt.grid(axis='y', alpha=0.75)\n",
        "plt.show()"
      ]
    },
    {
      "cell_type": "code",
      "execution_count": 56,
      "metadata": {
        "colab": {
          "base_uri": "https://localhost:8080/",
          "height": 645
        },
        "id": "SnqS5E2jDqiT",
        "outputId": "647d24e3-f135-4c61-83e0-b53597bb3bf9"
      },
      "outputs": [
        {
          "data": {
            "image/png": "[encoded data removed]",
            "text/plain": [
              "<Figure size 1200x600 with 1 Axes>"
            ]
          },
          "metadata": {},
          "output_type": "display_data"
        }
      ],
      "source": [
        "import matplotlib.pyplot as plt\n",
        "import seaborn as sns\n",
        "from collections import Counter\n",
        "\n",
        "# Split genres and count the occurrences\n",
        "genres_list = Movies_df['Genres'].str.split('|').sum()  # Split genres and flatten the list\n",
        "genre_counts = Counter(genres_list)  # Count occurrences of each genre\n",
        "\n",
        "# Sort the genre counts dictionary by values (counts) in descending order\n",
        "sorted_genre_counts = dict(sorted(genre_counts.items(), key=lambda item: item[1], reverse=True))\n",
        "\n",
        "# Create the bar plot\n",
        "plt.figure(figsize=(12, 6))\n",
        "sns.barplot(x=list(sorted_genre_counts.keys()), y=list(sorted_genre_counts.values()))\n",
        "plt.xticks(rotation=90)\n",
        "plt.title('Genre Popularity')\n",
        "plt.xlabel('Genres')  # Optional: Add x-axis label\n",
        "plt.ylabel('Counts')   # Optional: Add y-axis label\n",
        "plt.show()\n"
      ]
    },
    {
      "cell_type": "markdown",
      "metadata": {
        "id": "yMWo8dYIDqiT"
      },
      "source": [
        "* The gragh shows that the genres \"Drama\" and \"Comedy\" are the most popular among the movies in the dataset, with significantly higher counts compared to other genres.\n",
        "\n",
        "* Genres like \"Action,\" \"Thriller,\" and \"Crime\" have moderate levels of popularity, with counts falling somewhere between the most and least popular categories.\n",
        "* Genres such as \"Western,\" \"Horror,\" \"Musical,\" \"Film-Noir,\" \"IMAX,\" and \"Documentary\" have relatively low counts, indicating they are less frequently represented in the dataset.\n",
        "* There is a category labeled \"(no genres listed)\" with a non-zero count, suggesting that some movies in the dataset might not have any associated genre information."
      ]
    },
    {
      "cell_type": "markdown",
      "metadata": {
        "id": "oyAG1VTHDqiU"
      },
      "source": [
        "# 5.0 DATA PREPROCESSING"
      ]
    },
    {
      "cell_type": "markdown",
      "metadata": {
        "id": "rTcGlxUpDqiU"
      },
      "source": [
        "## 5.1 Creating a User-Item Matrix"
      ]
    },
    {
      "cell_type": "code",
      "execution_count": 24,
      "metadata": {
        "colab": {
          "base_uri": "https://localhost:8080/",
          "height": 391
        },
        "id": "nI0-hwXLDqiU",
        "outputId": "17a23518-5cea-461c-f4b2-a3dba4c09548"
      },
      "outputs": [
        {
          "data": {
            "text/html": [
              "<div>\n",
              "<style scoped>\n",
              "    .dataframe tbody tr th:only-of-type {\n",
              "        vertical-align: middle;\n",
              "    }\n",
              "\n",
              "    .dataframe tbody tr th {\n",
              "        vertical-align: top;\n",
              "    }\n",
              "\n",
              "    .dataframe thead th {\n",
              "        text-align: right;\n",
              "    }\n",
              "</style>\n",
              "<table border=\"1\" class=\"dataframe\">\n",
              "  <thead>\n",
              "    <tr style=\"text-align: right;\">\n",
              "      <th>Title</th>\n",
              "      <th>(500) Days of Summer (2009)</th>\n",
              "      <th>...And Justice for All (1979)</th>\n",
              "      <th>10 Cloverfield Lane (2016)</th>\n",
              "      <th>10 Things I Hate About You (1999)</th>\n",
              "      <th>101 Dalmatians (1996)</th>\n",
              "      <th>101 Dalmatians (One Hundred and One Dalmatians) (1961)</th>\n",
              "      <th>11'09\"01 - September 11 (2002)</th>\n",
              "      <th>12 Angry Men (1957)</th>\n",
              "      <th>13 Going on 30 (2004)</th>\n",
              "      <th>2001: A Space Odyssey (1968)</th>\n",
              "      <th>...</th>\n",
              "      <th>Young Frankenstein (1974)</th>\n",
              "      <th>Z (1969)</th>\n",
              "      <th>Zack and Miri Make a Porno (2008)</th>\n",
              "      <th>Zelary (2003)</th>\n",
              "      <th>Zelig (1983)</th>\n",
              "      <th>Zero Dark Thirty (2012)</th>\n",
              "      <th>Zombieland (2009)</th>\n",
              "      <th>Zoolander (2001)</th>\n",
              "      <th>Zulu (1964)</th>\n",
              "      <th>eXistenZ (1999)</th>\n",
              "    </tr>\n",
              "    <tr>\n",
              "      <th>Userid</th>\n",
              "      <th></th>\n",
              "      <th></th>\n",
              "      <th></th>\n",
              "      <th></th>\n",
              "      <th></th>\n",
              "      <th></th>\n",
              "      <th></th>\n",
              "      <th></th>\n",
              "      <th></th>\n",
              "      <th></th>\n",
              "      <th></th>\n",
              "      <th></th>\n",
              "      <th></th>\n",
              "      <th></th>\n",
              "      <th></th>\n",
              "      <th></th>\n",
              "      <th></th>\n",
              "      <th></th>\n",
              "      <th></th>\n",
              "      <th></th>\n",
              "      <th></th>\n",
              "    </tr>\n",
              "  </thead>\n",
              "  <tbody>\n",
              "    <tr>\n",
              "      <th>2</th>\n",
              "      <td>NaN</td>\n",
              "      <td>NaN</td>\n",
              "      <td>NaN</td>\n",
              "      <td>NaN</td>\n",
              "      <td>NaN</td>\n",
              "      <td>NaN</td>\n",
              "      <td>NaN</td>\n",
              "      <td>NaN</td>\n",
              "      <td>NaN</td>\n",
              "      <td>NaN</td>\n",
              "      <td>...</td>\n",
              "      <td>NaN</td>\n",
              "      <td>NaN</td>\n",
              "      <td>NaN</td>\n",
              "      <td>NaN</td>\n",
              "      <td>NaN</td>\n",
              "      <td>NaN</td>\n",
              "      <td>NaN</td>\n",
              "      <td>NaN</td>\n",
              "      <td>NaN</td>\n",
              "      <td>NaN</td>\n",
              "    </tr>\n",
              "    <tr>\n",
              "      <th>7</th>\n",
              "      <td>NaN</td>\n",
              "      <td>NaN</td>\n",
              "      <td>NaN</td>\n",
              "      <td>NaN</td>\n",
              "      <td>NaN</td>\n",
              "      <td>NaN</td>\n",
              "      <td>NaN</td>\n",
              "      <td>NaN</td>\n",
              "      <td>NaN</td>\n",
              "      <td>NaN</td>\n",
              "      <td>...</td>\n",
              "      <td>NaN</td>\n",
              "      <td>NaN</td>\n",
              "      <td>NaN</td>\n",
              "      <td>NaN</td>\n",
              "      <td>NaN</td>\n",
              "      <td>NaN</td>\n",
              "      <td>NaN</td>\n",
              "      <td>NaN</td>\n",
              "      <td>NaN</td>\n",
              "      <td>NaN</td>\n",
              "    </tr>\n",
              "    <tr>\n",
              "      <th>18</th>\n",
              "      <td>NaN</td>\n",
              "      <td>NaN</td>\n",
              "      <td>NaN</td>\n",
              "      <td>NaN</td>\n",
              "      <td>NaN</td>\n",
              "      <td>NaN</td>\n",
              "      <td>NaN</td>\n",
              "      <td>NaN</td>\n",
              "      <td>NaN</td>\n",
              "      <td>NaN</td>\n",
              "      <td>...</td>\n",
              "      <td>NaN</td>\n",
              "      <td>NaN</td>\n",
              "      <td>NaN</td>\n",
              "      <td>NaN</td>\n",
              "      <td>NaN</td>\n",
              "      <td>NaN</td>\n",
              "      <td>NaN</td>\n",
              "      <td>NaN</td>\n",
              "      <td>NaN</td>\n",
              "      <td>NaN</td>\n",
              "    </tr>\n",
              "    <tr>\n",
              "      <th>21</th>\n",
              "      <td>NaN</td>\n",
              "      <td>NaN</td>\n",
              "      <td>NaN</td>\n",
              "      <td>NaN</td>\n",
              "      <td>NaN</td>\n",
              "      <td>NaN</td>\n",
              "      <td>NaN</td>\n",
              "      <td>NaN</td>\n",
              "      <td>NaN</td>\n",
              "      <td>NaN</td>\n",
              "      <td>...</td>\n",
              "      <td>NaN</td>\n",
              "      <td>NaN</td>\n",
              "      <td>NaN</td>\n",
              "      <td>NaN</td>\n",
              "      <td>NaN</td>\n",
              "      <td>NaN</td>\n",
              "      <td>NaN</td>\n",
              "      <td>NaN</td>\n",
              "      <td>NaN</td>\n",
              "      <td>NaN</td>\n",
              "    </tr>\n",
              "    <tr>\n",
              "      <th>49</th>\n",
              "      <td>NaN</td>\n",
              "      <td>NaN</td>\n",
              "      <td>NaN</td>\n",
              "      <td>NaN</td>\n",
              "      <td>NaN</td>\n",
              "      <td>NaN</td>\n",
              "      <td>NaN</td>\n",
              "      <td>NaN</td>\n",
              "      <td>NaN</td>\n",
              "      <td>NaN</td>\n",
              "      <td>...</td>\n",
              "      <td>NaN</td>\n",
              "      <td>NaN</td>\n",
              "      <td>NaN</td>\n",
              "      <td>NaN</td>\n",
              "      <td>NaN</td>\n",
              "      <td>NaN</td>\n",
              "      <td>NaN</td>\n",
              "      <td>NaN</td>\n",
              "      <td>NaN</td>\n",
              "      <td>NaN</td>\n",
              "    </tr>\n",
              "  </tbody>\n",
              "</table>\n",
              "<p>5 rows × 1464 columns</p>\n",
              "</div>"
            ],
            "text/plain": [
              "Title   (500) Days of Summer (2009)  ...And Justice for All (1979)  \\\n",
              "Userid                                                               \n",
              "2                               NaN                            NaN   \n",
              "7                               NaN                            NaN   \n",
              "18                              NaN                            NaN   \n",
              "21                              NaN                            NaN   \n",
              "49                              NaN                            NaN   \n",
              "\n",
              "Title   10 Cloverfield Lane (2016)  10 Things I Hate About You (1999)  \\\n",
              "Userid                                                                  \n",
              "2                              NaN                                NaN   \n",
              "7                              NaN                                NaN   \n",
              "18                             NaN                                NaN   \n",
              "21                             NaN                                NaN   \n",
              "49                             NaN                                NaN   \n",
              "\n",
              "Title   101 Dalmatians (1996)  \\\n",
              "Userid                          \n",
              "2                         NaN   \n",
              "7                         NaN   \n",
              "18                        NaN   \n",
              "21                        NaN   \n",
              "49                        NaN   \n",
              "\n",
              "Title   101 Dalmatians (One Hundred and One Dalmatians) (1961)  \\\n",
              "Userid                                                           \n",
              "2                                                     NaN        \n",
              "7                                                     NaN        \n",
              "18                                                    NaN        \n",
              "21                                                    NaN        \n",
              "49                                                    NaN        \n",
              "\n",
              "Title   11'09\"01 - September 11 (2002)  12 Angry Men (1957)  \\\n",
              "Userid                                                        \n",
              "2                                  NaN                  NaN   \n",
              "7                                  NaN                  NaN   \n",
              "18                                 NaN                  NaN   \n",
              "21                                 NaN                  NaN   \n",
              "49                                 NaN                  NaN   \n",
              "\n",
              "Title   13 Going on 30 (2004)  2001: A Space Odyssey (1968)  ...  \\\n",
              "Userid                                                       ...   \n",
              "2                         NaN                           NaN  ...   \n",
              "7                         NaN                           NaN  ...   \n",
              "18                        NaN                           NaN  ...   \n",
              "21                        NaN                           NaN  ...   \n",
              "49                        NaN                           NaN  ...   \n",
              "\n",
              "Title   Young Frankenstein (1974)  Z (1969)  \\\n",
              "Userid                                        \n",
              "2                             NaN       NaN   \n",
              "7                             NaN       NaN   \n",
              "18                            NaN       NaN   \n",
              "21                            NaN       NaN   \n",
              "49                            NaN       NaN   \n",
              "\n",
              "Title   Zack and Miri Make a Porno (2008)  Zelary (2003)  Zelig (1983)  \\\n",
              "Userid                                                                   \n",
              "2                                     NaN            NaN           NaN   \n",
              "7                                     NaN            NaN           NaN   \n",
              "18                                    NaN            NaN           NaN   \n",
              "21                                    NaN            NaN           NaN   \n",
              "49                                    NaN            NaN           NaN   \n",
              "\n",
              "Title   Zero Dark Thirty (2012)  Zombieland (2009)  Zoolander (2001)  \\\n",
              "Userid                                                                 \n",
              "2                           NaN                NaN               NaN   \n",
              "7                           NaN                NaN               NaN   \n",
              "18                          NaN                NaN               NaN   \n",
              "21                          NaN                NaN               NaN   \n",
              "49                          NaN                NaN               NaN   \n",
              "\n",
              "Title   Zulu (1964)  eXistenZ (1999)  \n",
              "Userid                                \n",
              "2               NaN              NaN  \n",
              "7               NaN              NaN  \n",
              "18              NaN              NaN  \n",
              "21              NaN              NaN  \n",
              "49              NaN              NaN  \n",
              "\n",
              "[5 rows x 1464 columns]"
            ]
          },
          "execution_count": 24,
          "metadata": {},
          "output_type": "execute_result"
        }
      ],
      "source": [
        "#step 1: creating a user-item matrix\n",
        "user_item_matrix = Movies_df.pivot_table(index='Userid', columns='Title', values='Rating')\n",
        "\n",
        "user_item_matrix.head()"
      ]
    },
    {
      "cell_type": "markdown",
      "metadata": {
        "id": "J_4nTOD4DqiU"
      },
      "source": [
        "## 5.2 Handling Missing Values"
      ]
    },
    {
      "cell_type": "markdown",
      "metadata": {
        "id": "0TUj6ZdADqiV"
      },
      "source": [
        "Since not every user will have rated every movie, the matrix will have many missing values. SVD can handle missing values implicitly by working only on the observed ratings, but for the our matrix, we want to fill in missing values with zeros"
      ]
    },
    {
      "cell_type": "code",
      "execution_count": 25,
      "metadata": {
        "colab": {
          "base_uri": "https://localhost:8080/",
          "height": 391
        },
        "id": "LG9RvHTgDqiV",
        "outputId": "0684e2e2-8766-48b6-e4b0-b5f16f167e95"
      },
      "outputs": [
        {
          "data": {
            "text/html": [
              "<div>\n",
              "<style scoped>\n",
              "    .dataframe tbody tr th:only-of-type {\n",
              "        vertical-align: middle;\n",
              "    }\n",
              "\n",
              "    .dataframe tbody tr th {\n",
              "        vertical-align: top;\n",
              "    }\n",
              "\n",
              "    .dataframe thead th {\n",
              "        text-align: right;\n",
              "    }\n",
              "</style>\n",
              "<table border=\"1\" class=\"dataframe\">\n",
              "  <thead>\n",
              "    <tr style=\"text-align: right;\">\n",
              "      <th>Title</th>\n",
              "      <th>(500) Days of Summer (2009)</th>\n",
              "      <th>...And Justice for All (1979)</th>\n",
              "      <th>10 Cloverfield Lane (2016)</th>\n",
              "      <th>10 Things I Hate About You (1999)</th>\n",
              "      <th>101 Dalmatians (1996)</th>\n",
              "      <th>101 Dalmatians (One Hundred and One Dalmatians) (1961)</th>\n",
              "      <th>11'09\"01 - September 11 (2002)</th>\n",
              "      <th>12 Angry Men (1957)</th>\n",
              "      <th>13 Going on 30 (2004)</th>\n",
              "      <th>2001: A Space Odyssey (1968)</th>\n",
              "      <th>...</th>\n",
              "      <th>Young Frankenstein (1974)</th>\n",
              "      <th>Z (1969)</th>\n",
              "      <th>Zack and Miri Make a Porno (2008)</th>\n",
              "      <th>Zelary (2003)</th>\n",
              "      <th>Zelig (1983)</th>\n",
              "      <th>Zero Dark Thirty (2012)</th>\n",
              "      <th>Zombieland (2009)</th>\n",
              "      <th>Zoolander (2001)</th>\n",
              "      <th>Zulu (1964)</th>\n",
              "      <th>eXistenZ (1999)</th>\n",
              "    </tr>\n",
              "    <tr>\n",
              "      <th>Userid</th>\n",
              "      <th></th>\n",
              "      <th></th>\n",
              "      <th></th>\n",
              "      <th></th>\n",
              "      <th></th>\n",
              "      <th></th>\n",
              "      <th></th>\n",
              "      <th></th>\n",
              "      <th></th>\n",
              "      <th></th>\n",
              "      <th></th>\n",
              "      <th></th>\n",
              "      <th></th>\n",
              "      <th></th>\n",
              "      <th></th>\n",
              "      <th></th>\n",
              "      <th></th>\n",
              "      <th></th>\n",
              "      <th></th>\n",
              "      <th></th>\n",
              "      <th></th>\n",
              "    </tr>\n",
              "  </thead>\n",
              "  <tbody>\n",
              "    <tr>\n",
              "      <th>319</th>\n",
              "      <td>0.0</td>\n",
              "      <td>0.0</td>\n",
              "      <td>0.0</td>\n",
              "      <td>0.0</td>\n",
              "      <td>0.0</td>\n",
              "      <td>0.0</td>\n",
              "      <td>0.0</td>\n",
              "      <td>0.0</td>\n",
              "      <td>0.0</td>\n",
              "      <td>0.0</td>\n",
              "      <td>...</td>\n",
              "      <td>0.0</td>\n",
              "      <td>0.0</td>\n",
              "      <td>0.0</td>\n",
              "      <td>0.0</td>\n",
              "      <td>0.0</td>\n",
              "      <td>0.0</td>\n",
              "      <td>0.0</td>\n",
              "      <td>0.0</td>\n",
              "      <td>0.0</td>\n",
              "      <td>0.0</td>\n",
              "    </tr>\n",
              "    <tr>\n",
              "      <th>184</th>\n",
              "      <td>0.0</td>\n",
              "      <td>0.0</td>\n",
              "      <td>0.0</td>\n",
              "      <td>0.0</td>\n",
              "      <td>0.0</td>\n",
              "      <td>0.0</td>\n",
              "      <td>0.0</td>\n",
              "      <td>0.0</td>\n",
              "      <td>0.0</td>\n",
              "      <td>0.0</td>\n",
              "      <td>...</td>\n",
              "      <td>0.0</td>\n",
              "      <td>0.0</td>\n",
              "      <td>0.0</td>\n",
              "      <td>0.0</td>\n",
              "      <td>0.0</td>\n",
              "      <td>0.0</td>\n",
              "      <td>0.0</td>\n",
              "      <td>0.0</td>\n",
              "      <td>0.0</td>\n",
              "      <td>0.0</td>\n",
              "    </tr>\n",
              "    <tr>\n",
              "      <th>63</th>\n",
              "      <td>0.0</td>\n",
              "      <td>0.0</td>\n",
              "      <td>0.0</td>\n",
              "      <td>0.0</td>\n",
              "      <td>0.0</td>\n",
              "      <td>0.0</td>\n",
              "      <td>0.0</td>\n",
              "      <td>0.0</td>\n",
              "      <td>0.0</td>\n",
              "      <td>0.0</td>\n",
              "      <td>...</td>\n",
              "      <td>0.0</td>\n",
              "      <td>0.0</td>\n",
              "      <td>0.0</td>\n",
              "      <td>0.0</td>\n",
              "      <td>0.0</td>\n",
              "      <td>0.0</td>\n",
              "      <td>0.0</td>\n",
              "      <td>0.0</td>\n",
              "      <td>0.0</td>\n",
              "      <td>0.0</td>\n",
              "    </tr>\n",
              "    <tr>\n",
              "      <th>357</th>\n",
              "      <td>0.0</td>\n",
              "      <td>0.0</td>\n",
              "      <td>0.0</td>\n",
              "      <td>0.0</td>\n",
              "      <td>0.0</td>\n",
              "      <td>0.0</td>\n",
              "      <td>0.0</td>\n",
              "      <td>0.0</td>\n",
              "      <td>4.5</td>\n",
              "      <td>0.0</td>\n",
              "      <td>...</td>\n",
              "      <td>0.0</td>\n",
              "      <td>0.0</td>\n",
              "      <td>0.0</td>\n",
              "      <td>0.0</td>\n",
              "      <td>0.0</td>\n",
              "      <td>0.0</td>\n",
              "      <td>0.0</td>\n",
              "      <td>0.0</td>\n",
              "      <td>0.0</td>\n",
              "      <td>0.0</td>\n",
              "    </tr>\n",
              "    <tr>\n",
              "      <th>106</th>\n",
              "      <td>0.0</td>\n",
              "      <td>0.0</td>\n",
              "      <td>0.0</td>\n",
              "      <td>0.0</td>\n",
              "      <td>0.0</td>\n",
              "      <td>0.0</td>\n",
              "      <td>0.0</td>\n",
              "      <td>0.0</td>\n",
              "      <td>0.0</td>\n",
              "      <td>0.0</td>\n",
              "      <td>...</td>\n",
              "      <td>0.0</td>\n",
              "      <td>0.0</td>\n",
              "      <td>0.0</td>\n",
              "      <td>0.0</td>\n",
              "      <td>0.0</td>\n",
              "      <td>0.0</td>\n",
              "      <td>0.0</td>\n",
              "      <td>0.0</td>\n",
              "      <td>0.0</td>\n",
              "      <td>0.0</td>\n",
              "    </tr>\n",
              "  </tbody>\n",
              "</table>\n",
              "<p>5 rows × 1464 columns</p>\n",
              "</div>"
            ],
            "text/plain": [
              "Title   (500) Days of Summer (2009)  ...And Justice for All (1979)  \\\n",
              "Userid                                                               \n",
              "319                             0.0                            0.0   \n",
              "184                             0.0                            0.0   \n",
              "63                              0.0                            0.0   \n",
              "357                             0.0                            0.0   \n",
              "106                             0.0                            0.0   \n",
              "\n",
              "Title   10 Cloverfield Lane (2016)  10 Things I Hate About You (1999)  \\\n",
              "Userid                                                                  \n",
              "319                            0.0                                0.0   \n",
              "184                            0.0                                0.0   \n",
              "63                             0.0                                0.0   \n",
              "357                            0.0                                0.0   \n",
              "106                            0.0                                0.0   \n",
              "\n",
              "Title   101 Dalmatians (1996)  \\\n",
              "Userid                          \n",
              "319                       0.0   \n",
              "184                       0.0   \n",
              "63                        0.0   \n",
              "357                       0.0   \n",
              "106                       0.0   \n",
              "\n",
              "Title   101 Dalmatians (One Hundred and One Dalmatians) (1961)  \\\n",
              "Userid                                                           \n",
              "319                                                   0.0        \n",
              "184                                                   0.0        \n",
              "63                                                    0.0        \n",
              "357                                                   0.0        \n",
              "106                                                   0.0        \n",
              "\n",
              "Title   11'09\"01 - September 11 (2002)  12 Angry Men (1957)  \\\n",
              "Userid                                                        \n",
              "319                                0.0                  0.0   \n",
              "184                                0.0                  0.0   \n",
              "63                                 0.0                  0.0   \n",
              "357                                0.0                  0.0   \n",
              "106                                0.0                  0.0   \n",
              "\n",
              "Title   13 Going on 30 (2004)  2001: A Space Odyssey (1968)  ...  \\\n",
              "Userid                                                       ...   \n",
              "319                       0.0                           0.0  ...   \n",
              "184                       0.0                           0.0  ...   \n",
              "63                        0.0                           0.0  ...   \n",
              "357                       4.5                           0.0  ...   \n",
              "106                       0.0                           0.0  ...   \n",
              "\n",
              "Title   Young Frankenstein (1974)  Z (1969)  \\\n",
              "Userid                                        \n",
              "319                           0.0       0.0   \n",
              "184                           0.0       0.0   \n",
              "63                            0.0       0.0   \n",
              "357                           0.0       0.0   \n",
              "106                           0.0       0.0   \n",
              "\n",
              "Title   Zack and Miri Make a Porno (2008)  Zelary (2003)  Zelig (1983)  \\\n",
              "Userid                                                                   \n",
              "319                                   0.0            0.0           0.0   \n",
              "184                                   0.0            0.0           0.0   \n",
              "63                                    0.0            0.0           0.0   \n",
              "357                                   0.0            0.0           0.0   \n",
              "106                                   0.0            0.0           0.0   \n",
              "\n",
              "Title   Zero Dark Thirty (2012)  Zombieland (2009)  Zoolander (2001)  \\\n",
              "Userid                                                                 \n",
              "319                         0.0                0.0               0.0   \n",
              "184                         0.0                0.0               0.0   \n",
              "63                          0.0                0.0               0.0   \n",
              "357                         0.0                0.0               0.0   \n",
              "106                         0.0                0.0               0.0   \n",
              "\n",
              "Title   Zulu (1964)  eXistenZ (1999)  \n",
              "Userid                                \n",
              "319             0.0              0.0  \n",
              "184             0.0              0.0  \n",
              "63              0.0              0.0  \n",
              "357             0.0              0.0  \n",
              "106             0.0              0.0  \n",
              "\n",
              "[5 rows x 1464 columns]"
            ]
          },
          "execution_count": 25,
          "metadata": {},
          "output_type": "execute_result"
        }
      ],
      "source": [
        "#Filling the missing values with 0\n",
        "user_item_matrix = user_item_matrix.fillna(0)\n",
        "user_item_matrix.sample(n=5)"
      ]
    },
    {
      "cell_type": "markdown",
      "metadata": {
        "id": "N__QKsuODqiV"
      },
      "source": [
        "## 5.3 Normalizing The Data"
      ]
    },
    {
      "cell_type": "markdown",
      "metadata": {
        "id": "MtesRqRSDqiV"
      },
      "source": [
        "For better performance of SVD, we will proceed and  normalize or mean-center the ratings by subtracting the user or movie average"
      ]
    },
    {
      "cell_type": "code",
      "execution_count": 26,
      "metadata": {
        "colab": {
          "base_uri": "https://localhost:8080/",
          "height": 328
        },
        "id": "D1WBZ2XZDqiW",
        "outputId": "3015b5bd-8197-4b9e-8f87-1abc37a0556e"
      },
      "outputs": [
        {
          "data": {
            "text/html": [
              "<div>\n",
              "<style scoped>\n",
              "    .dataframe tbody tr th:only-of-type {\n",
              "        vertical-align: middle;\n",
              "    }\n",
              "\n",
              "    .dataframe tbody tr th {\n",
              "        vertical-align: top;\n",
              "    }\n",
              "\n",
              "    .dataframe thead th {\n",
              "        text-align: right;\n",
              "    }\n",
              "</style>\n",
              "<table border=\"1\" class=\"dataframe\">\n",
              "  <thead>\n",
              "    <tr style=\"text-align: right;\">\n",
              "      <th>Title</th>\n",
              "      <th>(500) Days of Summer (2009)</th>\n",
              "      <th>...And Justice for All (1979)</th>\n",
              "      <th>10 Cloverfield Lane (2016)</th>\n",
              "      <th>10 Things I Hate About You (1999)</th>\n",
              "      <th>101 Dalmatians (1996)</th>\n",
              "      <th>101 Dalmatians (One Hundred and One Dalmatians) (1961)</th>\n",
              "      <th>11'09\"01 - September 11 (2002)</th>\n",
              "      <th>12 Angry Men (1957)</th>\n",
              "      <th>13 Going on 30 (2004)</th>\n",
              "      <th>2001: A Space Odyssey (1968)</th>\n",
              "      <th>...</th>\n",
              "      <th>Young Frankenstein (1974)</th>\n",
              "      <th>Z (1969)</th>\n",
              "      <th>Zack and Miri Make a Porno (2008)</th>\n",
              "      <th>Zelary (2003)</th>\n",
              "      <th>Zelig (1983)</th>\n",
              "      <th>Zero Dark Thirty (2012)</th>\n",
              "      <th>Zombieland (2009)</th>\n",
              "      <th>Zoolander (2001)</th>\n",
              "      <th>Zulu (1964)</th>\n",
              "      <th>eXistenZ (1999)</th>\n",
              "    </tr>\n",
              "    <tr>\n",
              "      <th>Userid</th>\n",
              "      <th></th>\n",
              "      <th></th>\n",
              "      <th></th>\n",
              "      <th></th>\n",
              "      <th></th>\n",
              "      <th></th>\n",
              "      <th></th>\n",
              "      <th></th>\n",
              "      <th></th>\n",
              "      <th></th>\n",
              "      <th></th>\n",
              "      <th></th>\n",
              "      <th></th>\n",
              "      <th></th>\n",
              "      <th></th>\n",
              "      <th></th>\n",
              "      <th></th>\n",
              "      <th></th>\n",
              "      <th></th>\n",
              "      <th></th>\n",
              "      <th></th>\n",
              "    </tr>\n",
              "  </thead>\n",
              "  <tbody>\n",
              "    <tr>\n",
              "      <th>2</th>\n",
              "      <td>-0.010246</td>\n",
              "      <td>-0.010246</td>\n",
              "      <td>-0.010246</td>\n",
              "      <td>-0.010246</td>\n",
              "      <td>-0.010246</td>\n",
              "      <td>-0.010246</td>\n",
              "      <td>-0.010246</td>\n",
              "      <td>-0.010246</td>\n",
              "      <td>-0.010246</td>\n",
              "      <td>-0.010246</td>\n",
              "      <td>...</td>\n",
              "      <td>-0.010246</td>\n",
              "      <td>-0.010246</td>\n",
              "      <td>-0.010246</td>\n",
              "      <td>-0.010246</td>\n",
              "      <td>-0.010246</td>\n",
              "      <td>-0.010246</td>\n",
              "      <td>-0.010246</td>\n",
              "      <td>-0.010246</td>\n",
              "      <td>-0.010246</td>\n",
              "      <td>-0.010246</td>\n",
              "    </tr>\n",
              "    <tr>\n",
              "      <th>7</th>\n",
              "      <td>-0.000683</td>\n",
              "      <td>-0.000683</td>\n",
              "      <td>-0.000683</td>\n",
              "      <td>-0.000683</td>\n",
              "      <td>-0.000683</td>\n",
              "      <td>-0.000683</td>\n",
              "      <td>-0.000683</td>\n",
              "      <td>-0.000683</td>\n",
              "      <td>-0.000683</td>\n",
              "      <td>-0.000683</td>\n",
              "      <td>...</td>\n",
              "      <td>-0.000683</td>\n",
              "      <td>-0.000683</td>\n",
              "      <td>-0.000683</td>\n",
              "      <td>-0.000683</td>\n",
              "      <td>-0.000683</td>\n",
              "      <td>-0.000683</td>\n",
              "      <td>-0.000683</td>\n",
              "      <td>-0.000683</td>\n",
              "      <td>-0.000683</td>\n",
              "      <td>-0.000683</td>\n",
              "    </tr>\n",
              "    <tr>\n",
              "      <th>18</th>\n",
              "      <td>-0.020150</td>\n",
              "      <td>-0.020150</td>\n",
              "      <td>-0.020150</td>\n",
              "      <td>-0.020150</td>\n",
              "      <td>-0.020150</td>\n",
              "      <td>-0.020150</td>\n",
              "      <td>-0.020150</td>\n",
              "      <td>-0.020150</td>\n",
              "      <td>-0.020150</td>\n",
              "      <td>-0.020150</td>\n",
              "      <td>...</td>\n",
              "      <td>-0.020150</td>\n",
              "      <td>-0.020150</td>\n",
              "      <td>-0.020150</td>\n",
              "      <td>-0.020150</td>\n",
              "      <td>-0.020150</td>\n",
              "      <td>-0.020150</td>\n",
              "      <td>-0.020150</td>\n",
              "      <td>-0.020150</td>\n",
              "      <td>-0.020150</td>\n",
              "      <td>-0.020150</td>\n",
              "    </tr>\n",
              "  </tbody>\n",
              "</table>\n",
              "<p>3 rows × 1464 columns</p>\n",
              "</div>"
            ],
            "text/plain": [
              "Title   (500) Days of Summer (2009)  ...And Justice for All (1979)  \\\n",
              "Userid                                                               \n",
              "2                         -0.010246                      -0.010246   \n",
              "7                         -0.000683                      -0.000683   \n",
              "18                        -0.020150                      -0.020150   \n",
              "\n",
              "Title   10 Cloverfield Lane (2016)  10 Things I Hate About You (1999)  \\\n",
              "Userid                                                                  \n",
              "2                        -0.010246                          -0.010246   \n",
              "7                        -0.000683                          -0.000683   \n",
              "18                       -0.020150                          -0.020150   \n",
              "\n",
              "Title   101 Dalmatians (1996)  \\\n",
              "Userid                          \n",
              "2                   -0.010246   \n",
              "7                   -0.000683   \n",
              "18                  -0.020150   \n",
              "\n",
              "Title   101 Dalmatians (One Hundred and One Dalmatians) (1961)  \\\n",
              "Userid                                                           \n",
              "2                                               -0.010246        \n",
              "7                                               -0.000683        \n",
              "18                                              -0.020150        \n",
              "\n",
              "Title   11'09\"01 - September 11 (2002)  12 Angry Men (1957)  \\\n",
              "Userid                                                        \n",
              "2                            -0.010246            -0.010246   \n",
              "7                            -0.000683            -0.000683   \n",
              "18                           -0.020150            -0.020150   \n",
              "\n",
              "Title   13 Going on 30 (2004)  2001: A Space Odyssey (1968)  ...  \\\n",
              "Userid                                                       ...   \n",
              "2                   -0.010246                     -0.010246  ...   \n",
              "7                   -0.000683                     -0.000683  ...   \n",
              "18                  -0.020150                     -0.020150  ...   \n",
              "\n",
              "Title   Young Frankenstein (1974)  Z (1969)  \\\n",
              "Userid                                        \n",
              "2                       -0.010246 -0.010246   \n",
              "7                       -0.000683 -0.000683   \n",
              "18                      -0.020150 -0.020150   \n",
              "\n",
              "Title   Zack and Miri Make a Porno (2008)  Zelary (2003)  Zelig (1983)  \\\n",
              "Userid                                                                   \n",
              "2                               -0.010246      -0.010246     -0.010246   \n",
              "7                               -0.000683      -0.000683     -0.000683   \n",
              "18                              -0.020150      -0.020150     -0.020150   \n",
              "\n",
              "Title   Zero Dark Thirty (2012)  Zombieland (2009)  Zoolander (2001)  \\\n",
              "Userid                                                                 \n",
              "2                     -0.010246          -0.010246         -0.010246   \n",
              "7                     -0.000683          -0.000683         -0.000683   \n",
              "18                    -0.020150          -0.020150         -0.020150   \n",
              "\n",
              "Title   Zulu (1964)  eXistenZ (1999)  \n",
              "Userid                                \n",
              "2         -0.010246        -0.010246  \n",
              "7         -0.000683        -0.000683  \n",
              "18        -0.020150        -0.020150  \n",
              "\n",
              "[3 rows x 1464 columns]"
            ]
          },
          "execution_count": 26,
          "metadata": {},
          "output_type": "execute_result"
        }
      ],
      "source": [
        "user_ratings_mean = user_item_matrix.mean(axis=1)\n",
        "user_item_matrix_normalized = user_item_matrix.sub(user_ratings_mean, axis=0)\n",
        "user_item_matrix_normalized .head(3)"
      ]
    },
    {
      "cell_type": "markdown",
      "metadata": {
        "id": "njK2oYVuDqiW"
      },
      "source": [
        "## 5.4 Performing Singular Value Decomposition"
      ]
    },
    {
      "cell_type": "markdown",
      "metadata": {
        "id": "r0H-6m5WDqiW"
      },
      "source": [
        "Now that we have a clean user-item matrix, we will apply SVD.\n",
        "\n",
        "First, we will install scikit-surprise"
      ]
    },
    {
      "cell_type": "code",
      "execution_count": 27,
      "metadata": {
        "colab": {
          "base_uri": "https://localhost:8080/"
        },
        "id": "m5jXeshJDqiX",
        "outputId": "82868483-df91-4314-9c4b-46aa4bb7ba13"
      },
      "outputs": [
        {
          "name": "stdout",
          "output_type": "stream",
          "text": [
            "Requirement already satisfied: scikit-surprise==1.1.1 in c:\\users\\lenovo\\anaconda3\\envs\\learn-env\\lib\\site-packages (1.1.1)Note: you may need to restart the kernel to use updated packages.\n",
            "Surprise library installed.\n",
            "\n",
            "Requirement already satisfied: joblib>=0.11 in c:\\users\\lenovo\\anaconda3\\envs\\learn-env\\lib\\site-packages (from scikit-surprise==1.1.1) (1.4.2)\n",
            "Requirement already satisfied: numpy>=1.11.2 in c:\\users\\lenovo\\anaconda3\\envs\\learn-env\\lib\\site-packages (from scikit-surprise==1.1.1) (1.24.4)\n",
            "Requirement already satisfied: scipy>=1.0.0 in c:\\users\\lenovo\\anaconda3\\envs\\learn-env\\lib\\site-packages (from scikit-surprise==1.1.1) (1.10.1)\n",
            "Requirement already satisfied: six>=1.10.0 in c:\\users\\lenovo\\anaconda3\\envs\\learn-env\\lib\\site-packages (from scikit-surprise==1.1.1) (1.16.0)\n",
            "Could not fetch URL https://pypi.org/simple/pip/: There was a problem confirming the ssl certificate: HTTPSConnectionPool(host='pypi.org', port=443): Max retries exceeded with url: /simple/pip/ (Caused by SSLError(\"Can't connect to HTTPS URL because the SSL module is not available.\")) - skipping\n"
          ]
        },
        {
          "name": "stderr",
          "output_type": "stream",
          "text": [
            "'DOSKEY' is not recognized as an internal or external command,\n",
            "operable program or batch file.\n",
            "WARNING: pip is configured with locations that require TLS/SSL, however the ssl module in Python is not available.\n",
            "WARNING: pip is configured with locations that require TLS/SSL, however the ssl module in Python is not available.\n"
          ]
        }
      ],
      "source": [
        "# Installation of the suprise library:\n",
        "%pip install scikit-surprise==1.1.1\n",
        "print(\"Surprise library installed.\")"
      ]
    },
    {
      "cell_type": "markdown",
      "metadata": {
        "id": "eN9EsycqDqiX"
      },
      "source": [
        "# 6.0 MODELLING"
      ]
    },
    {
      "cell_type": "markdown",
      "metadata": {
        "id": "C-15025GDqiY"
      },
      "source": [
        "In this section, we will build a baseline recommendation model using the Surprise library, specifically applying Singular Value Decomposition (SVD) (Singular Value Decomposition) for collaborative filtering. Our goal is to create a robust model that predicts user ratings for movies based on historical data.\n",
        "\n",
        "To evaluate the model's performance, we will utilize RMSE (Root Mean Squared Error) as our primary metric. Additionally, we will ensure that our predictions are rounded to the nearest 0.5-star increment to align with the rating scale used in the dataset."
      ]
    },
    {
      "cell_type": "markdown",
      "metadata": {
        "id": "7aKyralgDqiY"
      },
      "source": [
        "## 6.1 Creating a Baseline Model using SVD"
      ]
    },
    {
      "cell_type": "code",
      "execution_count": 28,
      "metadata": {
        "id": "-KGWSbuiDqiY"
      },
      "outputs": [],
      "source": [
        "# Importing neccesary libraries\n",
        "from surprise import Dataset, Reader, SVD\n",
        "from surprise.model_selection import train_test_split\n",
        "\n",
        "# Loading data into Surprise format\n",
        "reader = Reader(rating_scale=(0.5, 5))\n",
        "data = Dataset.load_from_df(Movies_df[['Userid', 'Title', 'Rating']], reader)\n",
        "\n",
        "\n",
        "# Splitting data into train and test set\n",
        "trainset, testset = train_test_split(data, test_size=0.2)\n",
        "\n",
        "\n",
        "# Initializing and train SVD model\n",
        "svd = SVD()\n",
        "svd.fit(trainset)\n",
        "\n",
        "# Predict ratings for testset\n",
        "predictions = svd.test(testset)\n",
        "\n",
        "# Function to round to nearest 0.5\n",
        "def round_to_half(x):\n",
        "    return round(x * 2) / 2\n",
        "\n",
        "# Apply rounding to predictions\n",
        "for pred in predictions:\n",
        "    rounded_rating = round_to_half(pred.est)"
      ]
    },
    {
      "cell_type": "markdown",
      "metadata": {
        "id": "70lay0kGDqiZ"
      },
      "source": [
        "## 6.2 Evaluating the Baseline Model"
      ]
    },
    {
      "cell_type": "code",
      "execution_count": 29,
      "metadata": {
        "colab": {
          "base_uri": "https://localhost:8080/"
        },
        "id": "w5pYj6MYDqiZ",
        "outputId": "346d7d42-b912-4e67-fcb7-ea0e2819c56e"
      },
      "outputs": [
        {
          "name": "stdout",
          "output_type": "stream",
          "text": [
            "RMSE: 0.5869\n"
          ]
        },
        {
          "data": {
            "text/plain": [
              "0.5869002942286503"
            ]
          },
          "execution_count": 29,
          "metadata": {},
          "output_type": "execute_result"
        }
      ],
      "source": [
        "# Importing library\n",
        "from surprise import accuracy\n",
        "\n",
        "# Calculating accuracy\n",
        "accuracy.rmse(predictions)"
      ]
    },
    {
      "cell_type": "markdown",
      "metadata": {
        "id": "RSvdcZvwDqiZ"
      },
      "source": [
        "An RMSE of 0.582 suggests that, on average, our predicted ratings are relatively close to the actual ratings. While this isn't the optimal result, we'll move forward with hyperparameter tuning to improve the model's accuracy."
      ]
    },
    {
      "cell_type": "markdown",
      "metadata": {
        "id": "Da819EOLDqia"
      },
      "source": [
        "## 6.3 Model Tunning"
      ]
    },
    {
      "cell_type": "markdown",
      "metadata": {
        "id": "vEYUpWlmDqia"
      },
      "source": [
        "For our model tunning, we will use the GridsearchCV to improve the perfomance of our model."
      ]
    },
    {
      "cell_type": "code",
      "execution_count": 31,
      "metadata": {},
      "outputs": [
        {
          "name": "stdout",
          "output_type": "stream",
          "text": [
            "0.5084641754204255\n",
            "{'n_factors': 50, 'n_epochs': 40, 'lr_all': 0.02}\n"
          ]
        }
      ],
      "source": [
        "from surprise.model_selection import GridSearchCV\n",
        "# Define Hyperparameter Grid\n",
        "param_grid = {\n",
        "    'n_factors': [50, 100, 150],\n",
        "    'n_epochs': [20, 30, 40],\n",
        "    'lr_all': [0.005, 0.01, 0.02]\n",
        "}\n",
        "# Perform GridSearchCV\n",
        "gs = GridSearchCV(SVD, param_grid, measures=['rmse'], cv=5)\n",
        "gs.fit(data)\n",
        "\n",
        "# Output the best score and parameters\n",
        "print(gs.best_score['rmse'])\n",
        "print(gs.best_params['rmse'])"
      ]
    },
    {
      "cell_type": "markdown",
      "metadata": {
        "id": "Z_XkzTWTDqib"
      },
      "source": [
        "The best RMSE score after tuning is 0.5084, which is an improvement from the previous RMSE of 0.5828. This indicates that the model now predicts user ratings with even higher accuracy after fine-tuning the hyperparameters."
      ]
    },
    {
      "cell_type": "markdown",
      "metadata": {
        "id": "TEWOUm1mDqib"
      },
      "source": [
        "## 7.Collaborative Filtering"
      ]
    },
    {
      "cell_type": "markdown",
      "metadata": {
        "id": "fAci-axfDqib"
      },
      "source": [
        "Now that we have tuned our SVD model using GridSearchCV and obtained the best hyperparameters, the next step is to predict the top 5 movies for each user based on their ratings using user based filtering."
      ]
    },
    {
      "cell_type": "markdown",
      "metadata": {
        "id": "AcC2UrZGDqib"
      },
      "source": [
        "####  - User_Based Fitering"
      ]
    },
    {
      "cell_type": "markdown",
      "metadata": {
        "id": "TbjFU0aIDqic"
      },
      "source": [
        "User_based filtering is a recommendation technique that focuses on finding similarities between users to make personalized recommendations.\n",
        "In this cse we will ue user rating to recommend top 5 best movies"
      ]
    },
    {
      "cell_type": "code",
      "execution_count": 65,
      "metadata": {
        "colab": {
          "base_uri": "https://localhost:8080/"
        },
        "id": "vqo0JMysDqic",
        "outputId": "3731c459-c661-4282-a8f0-66758a331bd8"
      },
      "outputs": [
        {
          "name": "stdout",
          "output_type": "stream",
          "text": [
            "Top 5 movie recommendations for User 247:\n",
            "\n",
            "Mary and Max (2009): Predicted Rating: 4.5\n",
            "\n",
            "Star Wars: Episode V - The Empire Strikes Back (1980): Predicted Rating: 4.5\n",
            "\n",
            "X2: X-Men United (2003): Predicted Rating: 4.5\n",
            "\n",
            "Eraserhead (1977): Predicted Rating: 4.5\n",
            "\n",
            "Buffalo '66 (a.k.a. Buffalo 66) (1998): Predicted Rating: 4.5\n",
            "\n"
          ]
        }
      ],
      "source": [
        "# Creating a function to get top 5 movie recommendations for a user\n",
        "\n",
        "def round_to_nearest_half(value):\n",
        "    \"\"\"Round a float to the nearest 0.5.\"\"\"\n",
        "    return round(value * 2) / 2\n",
        "\n",
        "def get_top_n_recommendations(user_id, model, data, n=5):\n",
        "    # Get the list of all unique movie titles\n",
        "    all_movie_titles = Movies_df['Title'].unique()\n",
        "\n",
        "    # Getting the list of movies the user has already rated\n",
        "    user_rated_movies = Movies_df[Movies_df['Userid'] == user_id]['Title'].values\n",
        "\n",
        "    # Finding the movies that the user hasn't rated yet\n",
        "    unrated_movies = [movie for movie in all_movie_titles if movie not in user_rated_movies]\n",
        "\n",
        "    # Predicting ratings for the unrated movies\n",
        "    predictions = [model.predict(user_id, movie) for movie in unrated_movies]\n",
        "\n",
        "    # Sortting the predicted ratings in descending order\n",
        "    top_n_predictions = sorted(predictions, key=lambda x: x.est, reverse=True)[:n]\n",
        "\n",
        "    # Return the top N movie titles and their predicted ratings rounded to nearest 0.5\n",
        "    return [(pred.iid, round_to_nearest_half(pred.est)) for pred in top_n_predictions]\n",
        "\n",
        "# Predicting the top 5 movies for a specific user\n",
        "user_id = 247\n",
        "top_5_recommendations = get_top_n_recommendations(user_id, svd, Movies_df, n=5)\n",
        "\n",
        "# Output the recommendations\n",
        "print(f\"Top 5 movie recommendations for User {user_id}:\\n\")\n",
        "for movie, rating in top_5_recommendations:\n",
        "    print(f\"{movie}: Predicted Rating: {rating:.1f}\\n\")  # Changed to .1f for one decimal place\n"
      ]
    },
    {
      "cell_type": "markdown",
      "metadata": {
        "id": "zQkXNJzZDqic"
      },
      "source": [
        "####  - Content_Based Filtering"
      ]
    },
    {
      "cell_type": "markdown",
      "metadata": {
        "id": "ap1qYTAbDqic"
      },
      "source": [
        "Content-based filtering is a recommendation technique that suggests items to users based on the features or attributes of the items themselves, rather than relying on user interactions with items (like ratings). It uses item metadata, such as descriptions, genres, keywords, or other characteristics, to make recommendations"
      ]
    },
    {
      "cell_type": "code",
      "execution_count": 80,
      "metadata": {
        "id": "2u6heZJXDqid"
      },
      "outputs": [],
      "source": [
        "from sklearn.feature_extraction.text import TfidfVectorizer\n",
        "\n",
        "# Combine genres and tags as a single feature string for each movie\n",
        "Movies_df['combined_features'] = Movies_df['Genres'] + ' ' + Movies_df['Tag']\n",
        "\n",
        "# Use TF-IDF Vectorizer to convert combined features into a matrix\n",
        "tfidf = TfidfVectorizer(stop_words='english')\n",
        "tfidf_matrix = tfidf.fit_transform(Movies_df['combined_features'])\n"
      ]
    },
    {
      "cell_type": "code",
      "execution_count": 81,
      "metadata": {
        "id": "pJiNlZoADqid"
      },
      "outputs": [],
      "source": [
        "from sklearn.metrics.pairwise import cosine_similarity\n",
        "\n",
        "# Compute the cosine similarity matrix\n",
        "cosine_sim = cosine_similarity(tfidf_matrix, tfidf_matrix)\n"
      ]
    },
    {
      "cell_type": "code",
      "execution_count": 82,
      "metadata": {
        "colab": {
          "base_uri": "https://localhost:8080/"
        },
        "id": "wqhNopnADqid",
        "outputId": "5c20056a-2180-421d-b3b0-54b46a06f551"
      },
      "outputs": [
        {
          "data": {
            "text/plain": [
              "array(['Clueless (1995)', 'Zombieland (2009)',\n",
              "       'Stranger than Fiction (2006)', 'Big (1988)',\n",
              "       '(500) Days of Summer (2009)'], dtype=object)"
            ]
          },
          "execution_count": 82,
          "metadata": {},
          "output_type": "execute_result"
        }
      ],
      "source": [
        "def get_recommendations(movie_title, cosine_sim=cosine_sim):\n",
        "    # Get the index of the movie that matches the title\n",
        "    idx = Movies_df[Movies_df['Title'] == movie_title].index[0]\n",
        "\n",
        "    # Get the pairwise similarity scores of all movies with that movie\n",
        "    sim_scores = list(enumerate(cosine_sim[idx]))\n",
        "\n",
        "    # Sort the movies based on the similarity scores\n",
        "    sim_scores = sorted(sim_scores, key=lambda x: x[1], reverse=True)\n",
        "\n",
        "    # Get the indices of the most similar movies, excluding the first one (which is the same movie)\n",
        "    movie_indices = [i[0] for i in sim_scores[1:6]]  # Exclude the first one\n",
        "\n",
        "    # Return the top 5 most similar movies\n",
        "    return Movies_df['Title'].iloc[movie_indices].unique()  # Ensure uniqueness\n",
        "get_recommendations('Stranger than Fiction (2006)')"
      ]
    },
    {
      "cell_type": "markdown",
      "metadata": {
        "id": "p1KCUYiFDqie"
      },
      "source": [
        "## 6.8 Hybrid Approach for cold start\n",
        "\n",
        "**You can combine both approaches using a weighting mechanism:**\n",
        "\n",
        "**Cold start users (no ratings):** 100% content-based filtering.\n",
        "\n",
        "**Active users (with enough ratings):** Use a blend, e.g., 70% collaborative filtering, 30% content-based filtering."
      ]
    },
    {
      "cell_type": "markdown",
      "metadata": {
        "id": "N8lDYqLEDqie"
      },
      "source": [
        "Content-based filtering for new users involves recommending movies based on the features of the movie themselves rather than the user's historical preferences, which is useful when there isn't enough interaction data for new users.\n",
        "\n",
        "Since new users don’t have a history of rated movies, we are going to recommend movies based on their known preferences (genres andtags) or general information about the items they might enjoy."
      ]
    },
    {
      "cell_type": "markdown",
      "metadata": {
        "id": "RroQzctLOSQR"
      },
      "source": [
        "**New users** are recommended items based on their metadata, handling the cold start problem.\n",
        "\n",
        "**Existing users** benefit from both collaborative filtering and content-based filtering, with the flexibility to weigh both components."
      ]
    },
    {
      "cell_type": "code",
      "execution_count": 92,
      "metadata": {
        "id": "vKY8KVT7QGXT"
      },
      "outputs": [],
      "source": [
        "#Now let us build a Hybrid Model to address cold start\n",
        "\n",
        "from surprise import Dataset, Reader, SVD\n",
        "from surprise.model_selection import train_test_split\n",
        "from surprise import accuracy\n",
        "from collections import defaultdict\n",
        "import numpy as np\n",
        "\n",
        "\n"
      ]
    },
    {
      "cell_type": "code",
      "execution_count": 95,
      "metadata": {
        "id": "Vi5ejrjyTDLm"
      },
      "outputs": [],
      "source": [
        "from collections import defaultdict\n",
        "\n",
        "def simulate_cold_start_users(data, min_ratings=5):\n",
        "    \"\"\"\n",
        "    Simulates cold start users by identifying users who have rated <= min_ratings movies.\n",
        "    Args:\n",
        "    - data: Surprise Dataset object\n",
        "    - min_ratings: Threshold to identify cold start users (default is 5)\n",
        "    Returns:\n",
        "    - A list of user IDs who are considered cold start users.\n",
        "    \"\"\"\n",
        "    user_ratings_count = defaultdict(int)\n",
        "\n",
        "    # Count how many ratings each user has\n",
        "    for uid, _, _, _ in data.raw_ratings:\n",
        "        user_ratings_count[uid] += 1\n",
        "\n",
        "    # Identify cold start users\n",
        "    cold_start_users = [uid for uid, count in user_ratings_count.items() if count <= min_ratings]\n",
        "\n",
        "    return cold_start_users\n",
        "\n",
        "# Identify cold start users\n",
        "cold_start_users = simulate_cold_start_users(data)\n"
      ]
    },
    {
      "cell_type": "code",
      "execution_count": 96,
      "metadata": {
        "id": "Xt_bFBC6TKlG"
      },
      "outputs": [],
      "source": [
        "def hybrid_predict(uid, iid, svd_model, content_sim_matrix, data, alpha=0.5):\n",
        "    \"\"\"\n",
        "    Hybrid prediction function that combines collaborative filtering (SVD)\n",
        "    and content-based filtering (cosine similarity).\n",
        "\n",
        "    Args:\n",
        "    - uid: User ID\n",
        "    - iid: Item (Movie) ID\n",
        "    - svd_model: Trained SVD model for CF\n",
        "    - content_sim_matrix: Cosine similarity matrix for content-based filtering\n",
        "    - data: Original dataset\n",
        "    - alpha: Weight for combining CF and CBF predictions (default = 0.5)\n",
        "\n",
        "    Returns:\n",
        "    - The hybrid rating prediction.\n",
        "    \"\"\"\n",
        "    # CF prediction using SVD\n",
        "    cf_pred = svd_model.predict(uid, iid).est\n",
        "\n",
        "    # Content-based filtering prediction (cosine similarity between items)\n",
        "    try:\n",
        "        # Get the index of the movie in the content-based matrix\n",
        "        movie_idx = data[data['Title'] == iid].index[0]\n",
        "\n",
        "        # Get the mean similarity score of the movie with all other movies rated by the user\n",
        "        sim_scores = content_sim_matrix[movie_idx]\n",
        "        user_movies = data[data['Userid'] == uid]['Title']\n",
        "        cbf_pred = sim_scores[user_movies.index].mean()\n",
        "    except:\n",
        "        # Default score if not enough information is available\n",
        "        cbf_pred = 3.0  # Neutral rating\n",
        "\n",
        "    # Hybrid prediction is a weighted sum of CF and CBF predictions\n",
        "    return alpha * cf_pred + (1 - alpha) * cbf_pred\n"
      ]
    },
    {
      "cell_type": "markdown",
      "metadata": {
        "id": "F0d1eKpsTiKH"
      },
      "source": [
        "**Evaluate the Hybrid Model for Cold Start Users**\n",
        "\n",
        "We will evaluate the hybrid model for cold start users by comparing it with pure content-based and collaborative filtering models"
      ]
    },
    {
      "cell_type": "code",
      "execution_count": 99,
      "metadata": {
        "colab": {
          "base_uri": "https://localhost:8080/"
        },
        "id": "9got5qX8T5or",
        "outputId": "6be5ad9d-cd53-47ce-e097-9b0a2b1c97b2"
      },
      "outputs": [
        {
          "name": "stdout",
          "output_type": "stream",
          "text": [
            "RMSE: 2.0863\n",
            "RMSE: 4.3862\n",
            "RMSE: 0.6059\n",
            "Cold Start RMSE - Hybrid: 2.0863, CBF: 4.3862, CF: 0.6059\n"
          ]
        }
      ],
      "source": [
        "from surprise import accuracy\n",
        "\n",
        "# Step 1: Prepare predictions for the hybrid model\n",
        "hybrid_predictions_group = [\n",
        "    (uid, iid, Movies_df.loc[(Movies_df['Userid'] == uid) & (Movies_df['Title'] == iid), 'Rating'].values[0], hybrid_predict(uid, iid, svd, cosine_sim, Movies_df), None)  # Added 'None' for details\n",
        "    for (uid, iid, _) in testset if uid in cold_start_users\n",
        "]\n",
        "\n",
        "# Step 2: Prepare predictions for the content-based model\n",
        "content_based_predictions = [\n",
        "    (uid, iid, Movies_df.loc[(Movies_df['Userid'] == uid) & (Movies_df['Title'] == iid), 'Rating'].values[0], cosine_sim[Movies_df[Movies_df['Title'] == iid].index[0]].mean(), None)  # Added 'None' for details\n",
        "    for (uid, iid, _) in testset if uid in cold_start_users\n",
        "]\n",
        "\n",
        "# Step 3: Prepare predictions for the collaborative filtering model\n",
        "cf_predictions = [\n",
        "    (uid, iid, Movies_df.loc[(Movies_df['Userid'] == uid) & (Movies_df['Title'] == iid), 'Rating'].values[0], svd.predict(uid, iid).est, None)  # Added 'None' for details\n",
        "    for (uid, iid, _) in testset if uid in cold_start_users\n",
        "]\n",
        "\n",
        "# Step 4: Evaluate RMSE for Cold Start Users for Each Model\n",
        "cold_start_rmse_hybrid = accuracy.rmse(hybrid_predictions_group, verbose=True)\n",
        "cbf_rmse = accuracy.rmse(content_based_predictions, verbose=True)\n",
        "cf_rmse = accuracy.rmse(cf_predictions, verbose=True)\n",
        "\n",
        "# Print results\n",
        "print(f\"Cold Start RMSE - Hybrid: {cold_start_rmse_hybrid:.4f}, CBF: {cbf_rmse:.4f}, CF: {cf_rmse:.4f}\")"
      ]
    },
    {
      "cell_type": "markdown",
      "metadata": {
        "id": "f1TegKhJUwc8"
      },
      "source": [
        "**RMSE Evaluation Summary**\n",
        "\n",
        "RMSE (Root Mean Squared Error) measures the accuracy of predicted ratings compared to actual ratings, with lower values indicating better performance.\n",
        "\n",
        "**Results:**\n",
        "\n",
        "Hybrid Model RMSE: 2.0863\n",
        "Moderate accuracy, indicating that the hybrid model predicts ratings for cold start users with some error.\n",
        "\n",
        "\n",
        "**Content-Based Filtering RMSE: 4.3862**\n",
        "\n",
        "Poor performance, with significant discrepancies between predicted and actual ratings, suggesting weaknesses in addressing cold start scenarios.\n",
        "\n",
        "**Collaborative Filtering RMSE: 0.6059**\n",
        "Excellent performance, indicating highly accurate predictions for cold start users with minimal error.\n",
        "\n",
        "**Interpretation:**\n",
        "\n",
        "The hybrid model performs better than the content-based model but is less accurate than the collaborative filtering model.\n",
        "\n",
        "\n",
        "The content-based model struggles due to reliance on user-item similarities and limited data for users with few ratings.\n",
        "\n",
        "**Recommendations:**\n",
        "\n",
        "Improve the Hybrid Model: Fine-tune parameters or add features to enhance predictions."
      ]
    },
    {
      "cell_type": "markdown",
      "metadata": {
        "id": "4V22XHmXMXs7"
      },
      "source": [
        "##Evaluation of the Hybrid model performance."
      ]
    },
    {
      "cell_type": "markdown",
      "metadata": {
        "id": "-5--rBnBMrBS"
      },
      "source": [
        "**Cold Start vs. Pure Content-Based/Collaborative Filtering**\n",
        "\n",
        "**Compare models:** Evaluate how the hybrid model performs in cold start scenarios compared to:\n",
        "\n",
        "**Pure content-based filtering.**\n",
        "\n",
        "**Pure collaborative filtering.**\n"
      ]
    },
    {
      "cell_type": "markdown",
      "metadata": {
        "id": "K7DVs1IZVz-h"
      },
      "source": [
        " ## Fine-tuning Parameters:\n",
        "\n",
        " For both the collaborative filtering and content-based filtering components of your hybrid model, you can perform hyperparameter tuning using techniques like Grid Search or Random Search.\n",
        "\n",
        "Example: Fine-tuning SVD (Collaborative Filtering)"
      ]
    },
    {
      "cell_type": "code",
      "execution_count": 100,
      "metadata": {
        "colab": {
          "base_uri": "https://localhost:8080/"
        },
        "id": "3JSliTjVV3PR",
        "outputId": "eb7bab4f-2cd9-41c1-b662-20edc5812bf3"
      },
      "outputs": [
        {
          "name": "stdout",
          "output_type": "stream",
          "text": [
            "Best SVD Parameters: {'n_factors': 150, 'n_epochs': 40, 'lr_all': 0.005, 'reg_all': 0.2}\n"
          ]
        }
      ],
      "source": [
        "from surprise import SVD, Dataset, Reader\n",
        "from surprise.model_selection import GridSearchCV\n",
        "\n",
        "# Load the data\n",
        "reader = Reader(rating_scale=(0.5, 5))\n",
        "data = Dataset.load_from_df(Movies_df[['Userid', 'Title', 'Rating']], reader)\n",
        "\n",
        "# Set the parameter grid for SVD\n",
        "param_grid = {\n",
        "    'n_factors': [50, 100, 150],\n",
        "    'n_epochs': [20, 30, 40],\n",
        "    'lr_all': [0.002, 0.005],\n",
        "    'reg_all': [0.2, 0.4],\n",
        "}\n",
        "\n",
        "# Perform grid search\n",
        "grid_search = GridSearchCV(SVD, param_grid, measures=['rmse'], cv=3)\n",
        "grid_search.fit(data)\n",
        "\n",
        "# Get the best parameters\n",
        "best_params = grid_search.best_params['rmse']\n",
        "print(f\"Best SVD Parameters: {best_params}\")\n"
      ]
    },
    {
      "cell_type": "markdown",
      "metadata": {
        "id": "3yeJWZMyWIgp"
      },
      "source": [
        "## Adding Features to Content-Based Filtering:\n",
        "\n",
        "You can enhance your content-based filtering by incorporating additional features like genre, director, or user demographics.\n",
        "\n",
        "Example: Incorporating Genre as a Feature"
      ]
    },
    {
      "cell_type": "code",
      "execution_count": 32,
      "metadata": {
        "colab": {
          "base_uri": "https://localhost:8080/"
        },
        "id": "tYQMgL9UXf_i",
        "outputId": "3f432769-87eb-487e-cc8e-d5215fb0198e"
      },
      "outputs": [
        {
          "name": "stdout",
          "output_type": "stream",
          "text": [
            "['Toy Story (1995)' 'Grumpier Old Men (1995)'\n",
            " 'Seven (a.k.a. Se7en) (1995)' 'Usual Suspects, The (1995)'\n",
            " 'Bottle Rocket (1996)' 'Braveheart (1995)' 'Billy Madison (1995)'\n",
            " 'Clerks (1994)' 'Ed Wood (1994)'\n",
            " 'Star Wars: Episode IV - A New Hope (1977)']\n"
          ]
        },
        {
          "ename": "NameError",
          "evalue": "name 'cosine_sim' is not defined",
          "output_type": "error",
          "traceback": [
            "\u001b[1;31m---------------------------------------------------------------------------\u001b[0m",
            "\u001b[1;31mNameError\u001b[0m                                 Traceback (most recent call last)",
            "Cell \u001b[1;32mIn [32], line 5\u001b[0m\n\u001b[0;32m      2\u001b[0m \u001b[38;5;28mprint\u001b[39m(Movies_df[\u001b[38;5;124m'\u001b[39m\u001b[38;5;124mTitle\u001b[39m\u001b[38;5;124m'\u001b[39m]\u001b[38;5;241m.\u001b[39munique()[:\u001b[38;5;241m10\u001b[39m])  \u001b[38;5;66;03m# Display the first 10 unique titles, changed 'title' to 'Title'\u001b[39;00m\n\u001b[0;32m      4\u001b[0m \u001b[38;5;66;03m# Step 2: Update the get_recommendations function\u001b[39;00m\n\u001b[1;32m----> 5\u001b[0m \u001b[38;5;28;01mdef\u001b[39;00m \u001b[38;5;21mget_recommendations\u001b[39m(title, cosine_sim\u001b[38;5;241m=\u001b[39m\u001b[43mcosine_sim\u001b[49m):\n\u001b[0;32m      6\u001b[0m     \u001b[38;5;28;01mif\u001b[39;00m title \u001b[38;5;129;01mnot\u001b[39;00m \u001b[38;5;129;01min\u001b[39;00m Movies_df[\u001b[38;5;124m'\u001b[39m\u001b[38;5;124mTitle\u001b[39m\u001b[38;5;124m'\u001b[39m]\u001b[38;5;241m.\u001b[39mvalues: \u001b[38;5;66;03m# Changed 'itle' to 'Title'\u001b[39;00m\n\u001b[0;32m      7\u001b[0m         \u001b[38;5;28;01mreturn\u001b[39;00m \u001b[38;5;124mf\u001b[39m\u001b[38;5;124m\"\u001b[39m\u001b[38;5;124mTitle \u001b[39m\u001b[38;5;124m'\u001b[39m\u001b[38;5;132;01m{\u001b[39;00mtitle\u001b[38;5;132;01m}\u001b[39;00m\u001b[38;5;124m'\u001b[39m\u001b[38;5;124m not found in the dataset.\u001b[39m\u001b[38;5;124m\"\u001b[39m\n",
            "\u001b[1;31mNameError\u001b[0m: name 'cosine_sim' is not defined"
          ]
        }
      ],
      "source": [
        "# Step 1: Check unique titles in your dataset (Optional)\n",
        "print(Movies_df['Title'].unique()[:10])  # Display the first 10 unique titles, changed 'title' to 'Title'\n",
        "\n",
        "# Step 2: Update the get_recommendations function\n",
        "def get_recommendations(title, cosine_sim=cosine_sim):\n",
        "    if title not in Movies_df['Title'].values: # Changed 'itle' to 'Title'\n",
        "        return f\"Title '{title}' not found in the dataset.\"\n",
        "\n",
        "    idx = Movies_df.index[Movies_df['Title'] == title].tolist()[0] # Changed 'title' to 'Title'\n",
        "    sim_scores = list(enumerate(cosine_sim[idx]))\n",
        "    sim_scores = sorted(sim_scores, key=lambda x: x[1], reverse=True)\n",
        "    sim_scores = sim_scores[1:11]  # Get top 10 recommendations\n",
        "    movie_indices = [i[0] for i in sim_scores]\n",
        "    return Movies_df['Title'].iloc[movie_indices]  # Changed 'title' to 'Title'\n",
        "\n",
        "# Test the new recommendations with an actual title\n",
        "print(get_recommendations('Step Brothers (2008)'))  # Replace with a title from your dataset"
      ]
    },
    {
      "cell_type": "markdown",
      "metadata": {
        "id": "SnAEccuZXnrJ"
      },
      "source": [
        "## Combining the Enhanced Components:\n",
        "\n",
        "Once you have improved both components, combine them to create a hybrid recommendation model."
      ]
    },
    {
      "cell_type": "code",
      "execution_count": 108,
      "metadata": {
        "colab": {
          "base_uri": "https://localhost:8080/"
        },
        "id": "RTwvcHnIXuJo",
        "outputId": "788e1e38-308f-44e4-ca1d-040a62e6611f"
      },
      "outputs": [
        {
          "name": "stdout",
          "output_type": "stream",
          "text": [
            "Collaborative Filtering Prediction for user 2 and item Step Brothers (2008): 4.735726971598318\n",
            "Content-Based Filtering Prediction for item Step Brothers (2008): 0.18560974867335925\n",
            "Hybrid Prediction for user 2 and item Step Brothers (2008): 2.4606683601358386\n",
            "Final Prediction: 2.4606683601358386\n"
          ]
        }
      ],
      "source": [
        "def hybrid_predict(uid, iid, svd_model, cosine_sim, Movies_df):\n",
        "    # Predict using collaborative filtering\n",
        "    cf_prediction = svd_model.predict(uid, iid).est\n",
        "    print(f\"Collaborative Filtering Prediction for user {uid} and item {iid}: {cf_prediction}\")\n",
        "\n",
        "    # Predict using content-based filtering\n",
        "    item_index = Movies_df[Movies_df['Title'] == iid].index[0]  # Ensure you use the correct column name\n",
        "    content_based_prediction = cosine_sim[item_index].mean()\n",
        "    print(f\"Content-Based Filtering Prediction for item {iid}: {content_based_prediction}\")\n",
        "\n",
        "    # Combine the predictions (e.g., weighted average)\n",
        "    hybrid_prediction = 0.5 * cf_prediction + 0.5 * content_based_prediction  # Adjust weights as needed\n",
        "    print(f\"Hybrid Prediction for user {uid} and item {iid}: {hybrid_prediction}\")\n",
        "\n",
        "    return hybrid_prediction\n",
        "\n",
        "# Example Usage\n",
        "uid = 2  # Replace with a valid user ID\n",
        "iid = 'Step Brothers (2008)'  # Replace with a valid movie title from your dataset\n",
        "prediction = hybrid_predict(uid, iid, svd, cosine_sim, Movies_df)\n",
        "print(f\"Final Prediction: {prediction}\")\n",
        "\n"
      ]
    },
    {
      "cell_type": "markdown",
      "metadata": {
        "id": "VugK6b3vZAd_"
      },
      "source": [
        "1. Collaborative Filtering Prediction\n",
        "\n",
        "Output: Collaborative Filtering Prediction for user 2 and item Step Brothers (2008): 4.735726971598318\n",
        "\n",
        "Interpretation: This value represents the estimated rating that user 2 would give to the movie \"Step Brothers (2008)\" based on collaborative filtering.\n",
        "\n",
        "Collaborative filtering typically uses user-item interactions (ratings) to find patterns and make predictions. A predicted rating of 4.74 suggests that the model believes user 2 would really enjoy this movie."
      ]
    },
    {
      "cell_type": "markdown",
      "metadata": {
        "id": "DG1h1rJjZFoH"
      },
      "source": [
        "2. Content-Based Filtering Prediction\n",
        "\n",
        "Output: Content-Based Filtering Prediction for item Step Brothers (2008): 0.18560974867335925\n",
        "\n",
        "Interpretation: This value represents the predicted rating for \"Step Brothers (2008)\" based on content-based filtering, which typically looks at the features of the items (like genres, descriptions, etc.) to suggest ratings.\n",
        "\n",
        "A prediction of 0.19 indicates that, based on its content (like the genre), the movie is not strongly aligned with user 2’s preferences, or there isn’t enough content data to make a robust prediction."
      ]
    },
    {
      "cell_type": "markdown",
      "metadata": {
        "id": "ireSK_xbZL23"
      },
      "source": [
        "3. Hybrid Prediction\n",
        "\n",
        "Output: Hybrid Prediction for user 2 and item Step Brothers (2008): 2.4606683601358386\n",
        "\n",
        "Interpretation: This is the final hybrid prediction that combines both the collaborative and content-based predictions.\n",
        "\n",
        "This prediction of 2.46 suggests a moderate enjoyment of the movie by user 2, but it’s lower than the collaborative prediction alone would suggest."
      ]
    },
    {
      "cell_type": "markdown",
      "metadata": {
        "id": "8a2Sa3PlZZ2g"
      },
      "source": [
        "**Summary of Results**\n",
        "\n",
        "Collaborative Filtering suggests user 2 would likely enjoy \"Step Brothers (2008)\" a lot (4.74).\n",
        "\n",
        "Content-Based Filtering suggests a much lower likelihood of enjoyment (0.19), possibly due to a lack of relevant content features that align with user 2's past ratings.\n",
        "\n",
        "Hybrid Model combines these insights, resulting in a prediction that is somewhat tempered by the content-based result, landing at a moderate score of 2.46."
      ]
    },
    {
      "cell_type": "markdown",
      "metadata": {},
      "source": [
        "## CONCLUSION\n",
        "\n",
        "Enhanced Accuracy with SVD and Hyperparameter Tuning\n",
        "\n",
        "Effective Collaborative and Content-Based Filtering\n",
        "\n",
        "Successful Cold Start Mitigation.\n",
        "\n",
        "Model Success:\n",
        "The combined approaches of collaborative filtering, content-based filtering, and cold-start mitigation provided robust and personalized movie recommendations.\n",
        "\n"
      ]
    },
    {
      "cell_type": "markdown",
      "metadata": {},
      "source": [
        "## RECOMMENDATIONS\n",
        "\n",
        "**Update the Dataset:** Continuously add new movie releases to keep recommendations aligned with current audience preferences and trends.\n",
        "\n",
        "**Include Filmmaker Information:** Enhance the dataset with details about screenwriters and producers\n",
        "\n",
        "**Expand Genre Classifications:** Broaden genres to include niche and diverse categories, making the platform more inclusive and encouraging user exploration.\n",
        "\n"
      ]
    },
    {
      "cell_type": "code",
      "execution_count": null,
      "metadata": {},
      "outputs": [],
      "source": [
        "from surprise import SVD, Dataset, Reader, accuracy\n",
        "from sklearn.feature_extraction.text import TfidfVectorizer\n",
        "from sklearn.metrics.pairwise import cosine_similarity\n",
        "\n",
        "# Collaborative Filtering (SVD) Setup\n",
        "reader = Reader(rating_scale=(0.5, 5))\n",
        "data = Dataset.load_from_df(Movies_df[['Userid', 'Title', 'Rating']], reader)\n",
        "trainset, testset = train_test_split(data, test_size=0.2, random_state=42)\n",
        "\n",
        "# Train SVD Model\n",
        "svd = SVD(n_factors=100, n_epochs=40, lr_all=0.02)\n",
        "svd.fit(trainset)\n",
        "\n",
        "# Content-Based Filtering Setup (TF-IDF + Cosine Similarity)\n",
        "Movies_df['combined_features'] = Movies_df['Genres'] + ' ' + Movies_df['Tag']\n",
        "tfidf = TfidfVectorizer(stop_words='english')\n",
        "tfidf_matrix = tfidf.fit_transform(Movies_df['combined_features'])\n",
        "cosine_sim = cosine_similarity(tfidf_matrix, tfidf_matrix)\n",
        "\n",
        "# Function to Get Collaborative Filtering Recommendations\n",
        "def get_collab_recommendations(user_id, model, n=5):\n",
        "    all_movie_titles = Movies_df['Title'].unique()\n",
        "    user_rated_movies = Movies_df[Movies_df['Userid'] == user_id]['Title'].values\n",
        "    unrated_movies = [movie for movie in all_movie_titles if movie not in user_rated_movies]\n",
        "    \n",
        "    predictions = [model.predict(user_id, movie) for movie in unrated_movies]\n",
        "    top_n_predictions = sorted(predictions, key=lambda x: x.est, reverse=True)[:n]\n",
        "    \n",
        "    return [(pred.iid, round(pred.est, 2)) for pred in top_n_predictions]\n",
        "\n",
        "# Function to Get Content-Based Recommendations\n",
        "def get_content_recommendations(movie_title, n=5):\n",
        "    if movie_title not in Movies_df['Title'].values:\n",
        "        return f\"Sorry, '{movie_title}' not found in the database. Please try another movie.\"\n",
        "\n",
        "    idx = Movies_df[Movies_df['Title'] == movie_title].index[0]\n",
        "    sim_scores = list(enumerate(cosine_sim[idx]))\n",
        "    sim_scores = sorted(sim_scores, key=lambda x: x[1], reverse=True)\n",
        "    \n",
        "    movie_indices = [i[0] for i in sim_scores[1:n+1]]\n",
        "    return Movies_df['Title'].iloc[movie_indices].unique()\n",
        "\n",
        "# Hybrid Recommendation Function\n",
        "def get_hybrid_recommendations(user_id, user_threshold=10, n=5):\n",
        "    \"\"\"Get hybrid recommendations combining both collaborative and content-based filtering.\"\"\"\n",
        "    \n",
        "    # Check how many ratings the user has provided\n",
        "    user_ratings_count = Movies_df[Movies_df['Userid'] == user_id].shape[0]\n",
        "    \n",
        "    # If the user has rated enough movies, prioritize collaborative filtering\n",
        "    if user_ratings_count >= user_threshold:\n",
        "        print(f\"User {user_id} has {user_ratings_count} ratings. Using Collaborative Filtering.\")\n",
        "        return get_collab_recommendations(user_id, svd, n)\n",
        "    \n",
        "    # Otherwise, use content-based filtering for cold start users\n",
        "    else:\n",
        "        print(f\"User {user_id} has {user_ratings_count} ratings. Using Content-Based Filtering.\")\n",
        "        \n",
        "        # Pick a random movie the user has rated to base content recommendations on\n",
        "        if user_ratings_count > 0:\n",
        "            user_movies = Movies_df[Movies_df['Userid'] == user_id]['Title'].values\n",
        "            reference_movie = user_movies[0]\n",
        "        else:\n",
        "            # If user has not rated any movie, recommend based on a popular movie\n",
        "            reference_movie = Movies_df['Title'].iloc[0]  # Just an example, can use popularity-based choice\n",
        "            \n",
        "        return get_content_recommendations(reference_movie, n)\n",
        "\n",
        "# Example Usage of Hybrid Recommendation System\n",
        "user_id_input = int(input(\"Please enter your User ID: \"))\n",
        "hybrid_recommendations = get_hybrid_recommendations(user_id_input, n=5)\n",
        "\n",
        "print(\"\\nTop Hybrid Recommendations:\\n\")\n",
        "if isinstance(hybrid_recommendations, str):\n",
        "    print(hybrid_recommendations)\n",
        "else:\n",
        "    for movie, rating in hybrid_recommendations:\n",
        "        print(f\"{movie}: Predicted Rating: {rating}\")\n"
      ]
    }
  ],
  "metadata": {
    "colab": {
      "provenance": []
    },
    "kernelspec": {
      "display_name": "learn-env",
      "language": "python",
      "name": "python3"
    },
    "language_info": {
      "codemirror_mode": {
        "name": "ipython",
        "version": 3
      },
      "file_extension": ".py",
      "mimetype": "text/x-python",
      "name": "python",
      "nbconvert_exporter": "python",
      "pygments_lexer": "ipython3",
      "version": "3.8.12"
    }
  },
  "nbformat": 4,
  "nbformat_minor": 0
}
