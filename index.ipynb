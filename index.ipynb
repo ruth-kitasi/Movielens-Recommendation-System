{
 "cells": [
  {
   "cell_type": "markdown",
   "metadata": {},
   "source": [
    "# MOVIELENS RECOMMENDATION SYSTEMS\n"
   ]
  },
  {
   "cell_type": "markdown",
   "metadata": {},
   "source": [
    "### Collaborators\n",
    "- 1.Ruth Kitasi\n",
    "- 2.Agatha Nyambati\n",
    "- 3.Joseline Apiyo\n",
    "- 4.Cecilia Ngunjiri\n",
    "- 5.John Mbego\n",
    "- 6.Leonard Koyio"
   ]
  },
  {
   "cell_type": "markdown",
   "metadata": {},
   "source": [
    "![movie-img.jpeg](movie-img.jpeg)"
   ]
  },
  {
   "cell_type": "markdown",
   "metadata": {},
   "source": [
    "# 1.BUSINESS UNDERSTANDING"
   ]
  },
  {
   "cell_type": "markdown",
   "metadata": {},
   "source": [
    "## 1.1 Overview"
   ]
  },
  {
   "cell_type": "markdown",
   "metadata": {},
   "source": [
    "In today's world of massive data growth, recommendation systems have become essential tools for filtering information and enhancing user experiences. These systems help users find relevant content by analyzing their past behaviors, such as search queries or browsing histories.\n",
    "\n",
    "Companies like YouTube and Spotify use recommendation algorithms to suggest the next video or curate personalized playlists based on user preferences.\n",
    "\n",
    "In line with our project objective we aim to harness the power of data analysis to build a movie recommendation system that provides users with personalized movie suggestions.\n",
    "\n",
    "By analyzing user ratings of other movies, we can generate tailored recommendations that align with individual preferences. The goal is to develop a model that delivers the top 5 movie recommendations for each user, optimizing their viewing experience based on their previous interactions."
   ]
  },
  {
   "cell_type": "markdown",
   "metadata": {},
   "source": [
    "## 1.2 Problem statement"
   ]
  },
  {
   "cell_type": "markdown",
   "metadata": {},
   "source": [
    "With the vast amount of content available on streaming platforms, users often feel overwhelmed by choices, making it difficult to discover movies that align with their preferences. Traditional search methods fall short in addressing this challenge, resulting in a less satisfying user experience and decreased engagement.\n",
    "\n",
    "MovieLens has tasked our team of data scientists with optimizing their recommendation system through data-driven approaches. By analyzing user behaviors and preferences, we aim to enhance the system's ability to deliver personalized movie recommendations."
   ]
  },
  {
   "cell_type": "markdown",
   "metadata": {},
   "source": [
    "## 1.3 Objectives"
   ]
  },
  {
   "cell_type": "markdown",
   "metadata": {},
   "source": [
    "- Develop a model to provide personalized top 5 movie recommendations for users based on their ratings and preferences, utilizing collaborative filtering techniques.\n",
    "\n",
    "- Determine the rating frequency of users based on various features, such as genre, director, and release year, to identify patterns in user preferences.\n",
    "\n",
    "- Analyze key features that contribute to the popularity of trending movies to enhance the effectiveness of the recommendation system in suggesting relevant content.\n",
    "\n",
    "- Implement collaborative filtering techniques, including both user-based and item-based methods, to segment users and items, improving the accuracy of personalized recommendations.\n",
    "\n",
    "- Create a solution to address the cold start problem by recommending popular and trending movies to new users with no prior ratings, ensuring an engaging initial experience.\n"
   ]
  },
  {
   "cell_type": "markdown",
   "metadata": {},
   "source": [
    "## 1.4 Data Limitations.\n",
    "\n",
    "While the MovieLens dataset is valuable for building a movie recommender system, it has some limitations:\n",
    "\n",
    "* Limited Temporal Coverage: The dataset spans a specific time period, which may not capture the most recent trends or preferences.\n",
    "\n",
    "* Cold-Start Problem: The system may struggle to provide recommendations for new users or movies with limited ratings or tags.\n",
    "\n",
    "* Bias in Ratings: User ratings can be influenced by various factors, such as popularity bias or groupthink, which may affect the accuracy of recommendations."
   ]
  },
  {
   "cell_type": "markdown",
   "metadata": {
    "vscode": {
     "languageId": "plaintext"
    }
   },
   "source": [
    "# 2. DATA UNDERSTANDING"
   ]
  },
  {
   "cell_type": "markdown",
   "metadata": {
    "vscode": {
     "languageId": "plaintext"
    }
   },
   "source": [
    "## 2.1 Data Source"
   ]
  },
  {
   "cell_type": "markdown",
   "metadata": {},
   "source": [
    "The dataset https://grouplens.org/datasets/movielens/, was obtained from the GroupLens website which  is a well-known resource for research in recommendation systems and data analysis.\n",
    "\n",
    "The Movielens comprises of four files:\n",
    "\n",
    "##### 1. `links.csv`\n",
    "Contains identifiers linking MovieLens movies to external databases (IMDB and TMDb). The structure is:\n",
    "\n",
    "| Column    | Description                                            |\n",
    "|-----------|--------------------------------------------------------|\n",
    "| `movieId` | ID representing each movie in the MovieLens dataset    |\n",
    "| `imdbId`  | Corresponding movie ID from IMDb                       |\n",
    "| `tmdbId`  | Corresponding movie ID from The Movie Database (TMDb)  |\n",
    "\n",
    "\n",
    "\n",
    "##### 2. `movies.csv`\n",
    "This file includes movie titles and their associated genres. The data is structured as follows:\n",
    "\n",
    "| Column    | Description                                            |\n",
    "|-----------|--------------------------------------------------------|\n",
    "| `movieId` | ID representing each movie                             |\n",
    "| `title`   | Movie title, including the year of release (e.g., *Toy Story (1995)*) |\n",
    "| `genres`  | Pipe-separated list of genres (e.g., *Animation|Children's|Comedy*)   |\n",
    "\n",
    "\n",
    "\n",
    "##### 3. `ratings.csv`\n",
    "This file contains explicit user ratings for movies on a **5-star scale**. The data is structured as:\n",
    "\n",
    "| Column   | Description                                   |\n",
    "|----------|-----------------------------------------------|\n",
    "| `userId` | Anonymized ID representing each user          |\n",
    "| `movieId`| ID representing each movie                    |\n",
    "| `rating` | User rating for the movie (0.5 to 5.0 stars)  |\n",
    "| `timestamp` | UNIX timestamp when the rating was made     |\n",
    "\n",
    "Ratings are sorted first by `userId`, then by `movieId`.\n",
    "\n",
    "##### 4. `tags.csv`\n",
    "Tags represent user-generated metadata (e.g., short descriptions or labels). The structure is:\n",
    "\n",
    "| Column   | Description                                    |\n",
    "|----------|------------------------------------------------|\n",
    "| `userId` | Anonymized ID representing each user           |\n",
    "| `movieId`| ID representing each movie                     |\n",
    "| `tag`    | User-assigned tag for the movie                |\n",
    "| `timestamp` | UNIX timestamp when the tag was added       |\n",
    "\n",
    "Like ratings, tags are sorted by `userId` and then by `movieId`\n",
    "\n",
    "\n",
    "  "
   ]
  },
  {
   "cell_type": "markdown",
   "metadata": {},
   "source": [
    "## 2.2 Data loading and Inspection\n"
   ]
  },
  {
   "cell_type": "code",
   "execution_count": 169,
   "metadata": {},
   "outputs": [],
   "source": [
    "## Importing the libraries\n",
    "\n",
    "import pandas as pd\n",
    "import numpy as np\n"
   ]
  },
  {
   "cell_type": "code",
   "execution_count": 116,
   "metadata": {},
   "outputs": [],
   "source": [
    "#Creating a function to read the files.\n",
    "\n",
    "def read_csv_file(file_name):\n",
    "\n",
    "    try:\n",
    "        df = pd.read_csv(file_name)\n",
    "        print(f\"{file_name} read successfully!\")\n",
    "        return df\n",
    "    except FileNotFoundError:\n",
    "        print(f\"Error: {file_name} not found!\")\n",
    "    except Exception as e:\n",
    "        print(f\"An error occurred while reading {file_name}: {e}\")\n"
   ]
  },
  {
   "cell_type": "code",
   "execution_count": 117,
   "metadata": {},
   "outputs": [
    {
     "name": "stdout",
     "output_type": "stream",
     "text": [
      "ml-latest-small\\links.csv read successfully!\n",
      "ml-latest-small\\movies.csv read successfully!\n",
      "ml-latest-small\\ratings.csv read successfully!\n",
      "ml-latest-small/tags.csv read successfully!\n"
     ]
    }
   ],
   "source": [
    "#using the fucntion to read files.\n",
    "\n",
    "links = read_csv_file(\"ml-latest-small\\links.csv\")\n",
    "movies = read_csv_file(\"ml-latest-small\\movies.csv\")\n",
    "ratings = read_csv_file(r\"ml-latest-small\\ratings.csv\")\n",
    "tags = read_csv_file(\"ml-latest-small/tags.csv\")"
   ]
  },
  {
   "cell_type": "code",
   "execution_count": 118,
   "metadata": {},
   "outputs": [],
   "source": [
    "# checking for basic statistics of our data sets\n",
    "\n",
    "def basic_stats(dataset, dataset_name):\n",
    "    print('dataset: ',dataset_name )\n",
    "    print('\\n')\n",
    "    dataset.info()\n",
    "    print('-------------------')\n",
    "    print('\\n')\n",
    "    print(dataset.describe())\n",
    "    print('-------------------')\n",
    "    print('\\n')\n",
    "    print('shape: ',dataset.shape)"
   ]
  },
  {
   "cell_type": "code",
   "execution_count": 119,
   "metadata": {},
   "outputs": [
    {
     "name": "stdout",
     "output_type": "stream",
     "text": [
      "dataset:  Links file\n",
      "\n",
      "\n",
      "<class 'pandas.core.frame.DataFrame'>\n",
      "RangeIndex: 9742 entries, 0 to 9741\n",
      "Data columns (total 3 columns):\n",
      " #   Column   Non-Null Count  Dtype  \n",
      "---  ------   --------------  -----  \n",
      " 0   movieId  9742 non-null   int64  \n",
      " 1   imdbId   9742 non-null   int64  \n",
      " 2   tmdbId   9734 non-null   float64\n",
      "dtypes: float64(1), int64(2)\n",
      "memory usage: 228.5 KB\n",
      "-------------------\n",
      "\n",
      "\n",
      "             movieId        imdbId         tmdbId\n",
      "count    9742.000000  9.742000e+03    9734.000000\n",
      "mean    42200.353623  6.771839e+05   55162.123793\n",
      "std     52160.494854  1.107228e+06   93653.481487\n",
      "min         1.000000  4.170000e+02       2.000000\n",
      "25%      3248.250000  9.518075e+04    9665.500000\n",
      "50%      7300.000000  1.672605e+05   16529.000000\n",
      "75%     76232.000000  8.055685e+05   44205.750000\n",
      "max    193609.000000  8.391976e+06  525662.000000\n",
      "-------------------\n",
      "\n",
      "\n",
      "shape:  (9742, 3)\n"
     ]
    }
   ],
   "source": [
    "# links dataset summary\n",
    "\n",
    "basic_stats(links, 'Links file')"
   ]
  },
  {
   "cell_type": "code",
   "execution_count": 120,
   "metadata": {},
   "outputs": [
    {
     "name": "stdout",
     "output_type": "stream",
     "text": [
      "dataset:  Movies file stats summary report\n",
      "\n",
      "\n",
      "<class 'pandas.core.frame.DataFrame'>\n",
      "RangeIndex: 9742 entries, 0 to 9741\n",
      "Data columns (total 3 columns):\n",
      " #   Column   Non-Null Count  Dtype \n",
      "---  ------   --------------  ----- \n",
      " 0   movieId  9742 non-null   int64 \n",
      " 1   title    9742 non-null   object\n",
      " 2   genres   9742 non-null   object\n",
      "dtypes: int64(1), object(2)\n",
      "memory usage: 228.5+ KB\n",
      "-------------------\n",
      "\n",
      "\n",
      "             movieId\n",
      "count    9742.000000\n",
      "mean    42200.353623\n",
      "std     52160.494854\n",
      "min         1.000000\n",
      "25%      3248.250000\n",
      "50%      7300.000000\n",
      "75%     76232.000000\n",
      "max    193609.000000\n",
      "-------------------\n",
      "\n",
      "\n",
      "shape:  (9742, 3)\n"
     ]
    }
   ],
   "source": [
    "# movies dataset summary\n",
    "\n",
    "basic_stats(movies, 'Movies file stats summary report')"
   ]
  },
  {
   "cell_type": "code",
   "execution_count": 121,
   "metadata": {},
   "outputs": [
    {
     "name": "stdout",
     "output_type": "stream",
     "text": [
      "dataset:  Rating file stats summary report\n",
      "\n",
      "\n",
      "<class 'pandas.core.frame.DataFrame'>\n",
      "RangeIndex: 100836 entries, 0 to 100835\n",
      "Data columns (total 4 columns):\n",
      " #   Column     Non-Null Count   Dtype  \n",
      "---  ------     --------------   -----  \n",
      " 0   userId     100836 non-null  int64  \n",
      " 1   movieId    100836 non-null  int64  \n",
      " 2   rating     100836 non-null  float64\n",
      " 3   timestamp  100836 non-null  int64  \n",
      "dtypes: float64(1), int64(3)\n",
      "memory usage: 3.1 MB\n",
      "-------------------\n",
      "\n",
      "\n",
      "              userId        movieId         rating     timestamp\n",
      "count  100836.000000  100836.000000  100836.000000  1.008360e+05\n",
      "mean      326.127564   19435.295718       3.501557  1.205946e+09\n",
      "std       182.618491   35530.987199       1.042529  2.162610e+08\n",
      "min         1.000000       1.000000       0.500000  8.281246e+08\n",
      "25%       177.000000    1199.000000       3.000000  1.019124e+09\n",
      "50%       325.000000    2991.000000       3.500000  1.186087e+09\n",
      "75%       477.000000    8122.000000       4.000000  1.435994e+09\n",
      "max       610.000000  193609.000000       5.000000  1.537799e+09\n",
      "-------------------\n",
      "\n",
      "\n",
      "shape:  (100836, 4)\n"
     ]
    }
   ],
   "source": [
    "# Rating dataset summary\n",
    "\n",
    "basic_stats(ratings, 'Rating file stats summary report')"
   ]
  },
  {
   "cell_type": "code",
   "execution_count": 122,
   "metadata": {},
   "outputs": [
    {
     "name": "stdout",
     "output_type": "stream",
     "text": [
      "dataset:  Tags file stats summary report\n",
      "\n",
      "\n",
      "<class 'pandas.core.frame.DataFrame'>\n",
      "RangeIndex: 3683 entries, 0 to 3682\n",
      "Data columns (total 4 columns):\n",
      " #   Column     Non-Null Count  Dtype \n",
      "---  ------     --------------  ----- \n",
      " 0   userId     3683 non-null   int64 \n",
      " 1   movieId    3683 non-null   int64 \n",
      " 2   tag        3683 non-null   object\n",
      " 3   timestamp  3683 non-null   int64 \n",
      "dtypes: int64(3), object(1)\n",
      "memory usage: 115.2+ KB\n",
      "-------------------\n",
      "\n",
      "\n",
      "            userId        movieId     timestamp\n",
      "count  3683.000000    3683.000000  3.683000e+03\n",
      "mean    431.149335   27252.013576  1.320032e+09\n",
      "std     158.472553   43490.558803  1.721025e+08\n",
      "min       2.000000       1.000000  1.137179e+09\n",
      "25%     424.000000    1262.500000  1.137521e+09\n",
      "50%     474.000000    4454.000000  1.269833e+09\n",
      "75%     477.000000   39263.000000  1.498457e+09\n",
      "max     610.000000  193565.000000  1.537099e+09\n",
      "-------------------\n",
      "\n",
      "\n",
      "shape:  (3683, 4)\n"
     ]
    }
   ],
   "source": [
    "# movies dataset summary\n",
    "\n",
    "basic_stats(tags, 'Tags file stats summary report')"
   ]
  },
  {
   "cell_type": "markdown",
   "metadata": {},
   "source": [
    "#### Observations made from data undertanding"
   ]
  },
  {
   "cell_type": "markdown",
   "metadata": {},
   "source": [
    "- All the four files have a common feature which is the movieID column.\n",
    "\n",
    "- The links and the movie datasets have equal number of rows of 9742.\n",
    "\n",
    "- Each dataset presents a mixed type of data.(int64, object and float64)"
   ]
  },
  {
   "cell_type": "markdown",
   "metadata": {},
   "source": [
    "## 2.3 Merging Files"
   ]
  },
  {
   "cell_type": "markdown",
   "metadata": {},
   "source": [
    "Given that the four datasets share a common feature, the movie ID, we will use this column to perform a merge, consolidating the datasets into a single file. This approach ensures not only the integration of information from different sources but also enhances data completeness and facilitates more thorough analysis."
   ]
  },
  {
   "cell_type": "code",
   "execution_count": 123,
   "metadata": {},
   "outputs": [
    {
     "data": {
      "text/html": [
       "<div>\n",
       "<style scoped>\n",
       "    .dataframe tbody tr th:only-of-type {\n",
       "        vertical-align: middle;\n",
       "    }\n",
       "\n",
       "    .dataframe tbody tr th {\n",
       "        vertical-align: top;\n",
       "    }\n",
       "\n",
       "    .dataframe thead th {\n",
       "        text-align: right;\n",
       "    }\n",
       "</style>\n",
       "<table border=\"1\" class=\"dataframe\">\n",
       "  <thead>\n",
       "    <tr style=\"text-align: right;\">\n",
       "      <th></th>\n",
       "      <th>movieId</th>\n",
       "      <th>title</th>\n",
       "      <th>genres</th>\n",
       "      <th>imdbId</th>\n",
       "      <th>tmdbId</th>\n",
       "    </tr>\n",
       "  </thead>\n",
       "  <tbody>\n",
       "    <tr>\n",
       "      <th>0</th>\n",
       "      <td>1</td>\n",
       "      <td>Toy Story (1995)</td>\n",
       "      <td>Adventure|Animation|Children|Comedy|Fantasy</td>\n",
       "      <td>114709</td>\n",
       "      <td>862.0</td>\n",
       "    </tr>\n",
       "    <tr>\n",
       "      <th>1</th>\n",
       "      <td>2</td>\n",
       "      <td>Jumanji (1995)</td>\n",
       "      <td>Adventure|Children|Fantasy</td>\n",
       "      <td>113497</td>\n",
       "      <td>8844.0</td>\n",
       "    </tr>\n",
       "    <tr>\n",
       "      <th>2</th>\n",
       "      <td>3</td>\n",
       "      <td>Grumpier Old Men (1995)</td>\n",
       "      <td>Comedy|Romance</td>\n",
       "      <td>113228</td>\n",
       "      <td>15602.0</td>\n",
       "    </tr>\n",
       "    <tr>\n",
       "      <th>3</th>\n",
       "      <td>4</td>\n",
       "      <td>Waiting to Exhale (1995)</td>\n",
       "      <td>Comedy|Drama|Romance</td>\n",
       "      <td>114885</td>\n",
       "      <td>31357.0</td>\n",
       "    </tr>\n",
       "    <tr>\n",
       "      <th>4</th>\n",
       "      <td>5</td>\n",
       "      <td>Father of the Bride Part II (1995)</td>\n",
       "      <td>Comedy</td>\n",
       "      <td>113041</td>\n",
       "      <td>11862.0</td>\n",
       "    </tr>\n",
       "  </tbody>\n",
       "</table>\n",
       "</div>"
      ],
      "text/plain": [
       "   movieId                               title  \\\n",
       "0        1                    Toy Story (1995)   \n",
       "1        2                      Jumanji (1995)   \n",
       "2        3             Grumpier Old Men (1995)   \n",
       "3        4            Waiting to Exhale (1995)   \n",
       "4        5  Father of the Bride Part II (1995)   \n",
       "\n",
       "                                        genres  imdbId   tmdbId  \n",
       "0  Adventure|Animation|Children|Comedy|Fantasy  114709    862.0  \n",
       "1                   Adventure|Children|Fantasy  113497   8844.0  \n",
       "2                               Comedy|Romance  113228  15602.0  \n",
       "3                         Comedy|Drama|Romance  114885  31357.0  \n",
       "4                                       Comedy  113041  11862.0  "
      ]
     },
     "execution_count": 123,
     "metadata": {},
     "output_type": "execute_result"
    }
   ],
   "source": [
    "## Merging files on the common feature the MovieID\n",
    "\n",
    "##Step 1: Merging the movies and the links datasets.\n",
    "movies_links_merged =  pd.merge(movies, links, on='movieId', how='inner')\n",
    "movies_links_merged.head()"
   ]
  },
  {
   "cell_type": "code",
   "execution_count": 124,
   "metadata": {},
   "outputs": [
    {
     "data": {
      "text/html": [
       "<div>\n",
       "<style scoped>\n",
       "    .dataframe tbody tr th:only-of-type {\n",
       "        vertical-align: middle;\n",
       "    }\n",
       "\n",
       "    .dataframe tbody tr th {\n",
       "        vertical-align: top;\n",
       "    }\n",
       "\n",
       "    .dataframe thead th {\n",
       "        text-align: right;\n",
       "    }\n",
       "</style>\n",
       "<table border=\"1\" class=\"dataframe\">\n",
       "  <thead>\n",
       "    <tr style=\"text-align: right;\">\n",
       "      <th></th>\n",
       "      <th>userId</th>\n",
       "      <th>movieId</th>\n",
       "      <th>rating</th>\n",
       "      <th>timestamp</th>\n",
       "      <th>title</th>\n",
       "      <th>genres</th>\n",
       "      <th>imdbId</th>\n",
       "      <th>tmdbId</th>\n",
       "    </tr>\n",
       "  </thead>\n",
       "  <tbody>\n",
       "    <tr>\n",
       "      <th>0</th>\n",
       "      <td>1</td>\n",
       "      <td>1</td>\n",
       "      <td>4.0</td>\n",
       "      <td>964982703</td>\n",
       "      <td>Toy Story (1995)</td>\n",
       "      <td>Adventure|Animation|Children|Comedy|Fantasy</td>\n",
       "      <td>114709</td>\n",
       "      <td>862.0</td>\n",
       "    </tr>\n",
       "    <tr>\n",
       "      <th>1</th>\n",
       "      <td>5</td>\n",
       "      <td>1</td>\n",
       "      <td>4.0</td>\n",
       "      <td>847434962</td>\n",
       "      <td>Toy Story (1995)</td>\n",
       "      <td>Adventure|Animation|Children|Comedy|Fantasy</td>\n",
       "      <td>114709</td>\n",
       "      <td>862.0</td>\n",
       "    </tr>\n",
       "    <tr>\n",
       "      <th>2</th>\n",
       "      <td>7</td>\n",
       "      <td>1</td>\n",
       "      <td>4.5</td>\n",
       "      <td>1106635946</td>\n",
       "      <td>Toy Story (1995)</td>\n",
       "      <td>Adventure|Animation|Children|Comedy|Fantasy</td>\n",
       "      <td>114709</td>\n",
       "      <td>862.0</td>\n",
       "    </tr>\n",
       "    <tr>\n",
       "      <th>3</th>\n",
       "      <td>15</td>\n",
       "      <td>1</td>\n",
       "      <td>2.5</td>\n",
       "      <td>1510577970</td>\n",
       "      <td>Toy Story (1995)</td>\n",
       "      <td>Adventure|Animation|Children|Comedy|Fantasy</td>\n",
       "      <td>114709</td>\n",
       "      <td>862.0</td>\n",
       "    </tr>\n",
       "    <tr>\n",
       "      <th>4</th>\n",
       "      <td>17</td>\n",
       "      <td>1</td>\n",
       "      <td>4.5</td>\n",
       "      <td>1305696483</td>\n",
       "      <td>Toy Story (1995)</td>\n",
       "      <td>Adventure|Animation|Children|Comedy|Fantasy</td>\n",
       "      <td>114709</td>\n",
       "      <td>862.0</td>\n",
       "    </tr>\n",
       "  </tbody>\n",
       "</table>\n",
       "</div>"
      ],
      "text/plain": [
       "   userId  movieId  rating   timestamp             title  \\\n",
       "0       1        1     4.0   964982703  Toy Story (1995)   \n",
       "1       5        1     4.0   847434962  Toy Story (1995)   \n",
       "2       7        1     4.5  1106635946  Toy Story (1995)   \n",
       "3      15        1     2.5  1510577970  Toy Story (1995)   \n",
       "4      17        1     4.5  1305696483  Toy Story (1995)   \n",
       "\n",
       "                                        genres  imdbId  tmdbId  \n",
       "0  Adventure|Animation|Children|Comedy|Fantasy  114709   862.0  \n",
       "1  Adventure|Animation|Children|Comedy|Fantasy  114709   862.0  \n",
       "2  Adventure|Animation|Children|Comedy|Fantasy  114709   862.0  \n",
       "3  Adventure|Animation|Children|Comedy|Fantasy  114709   862.0  \n",
       "4  Adventure|Animation|Children|Comedy|Fantasy  114709   862.0  "
      ]
     },
     "execution_count": 124,
     "metadata": {},
     "output_type": "execute_result"
    }
   ],
   "source": [
    "##Step 2: Merging the movies_links_merged and ratings datasets on movieId\n",
    "\n",
    "movies_links_ratings_merged =pd.merge(ratings, movies_links_merged,on='movieId', how='inner')\n",
    "movies_links_ratings_merged.head()"
   ]
  },
  {
   "cell_type": "code",
   "execution_count": 125,
   "metadata": {},
   "outputs": [
    {
     "data": {
      "text/html": [
       "<div>\n",
       "<style scoped>\n",
       "    .dataframe tbody tr th:only-of-type {\n",
       "        vertical-align: middle;\n",
       "    }\n",
       "\n",
       "    .dataframe tbody tr th {\n",
       "        vertical-align: top;\n",
       "    }\n",
       "\n",
       "    .dataframe thead th {\n",
       "        text-align: right;\n",
       "    }\n",
       "</style>\n",
       "<table border=\"1\" class=\"dataframe\">\n",
       "  <thead>\n",
       "    <tr style=\"text-align: right;\">\n",
       "      <th></th>\n",
       "      <th>userId</th>\n",
       "      <th>movieId</th>\n",
       "      <th>rating</th>\n",
       "      <th>timestamp_x</th>\n",
       "      <th>title</th>\n",
       "      <th>genres</th>\n",
       "      <th>imdbId</th>\n",
       "      <th>tmdbId</th>\n",
       "      <th>tag</th>\n",
       "      <th>timestamp_y</th>\n",
       "    </tr>\n",
       "  </thead>\n",
       "  <tbody>\n",
       "    <tr>\n",
       "      <th>0</th>\n",
       "      <td>336</td>\n",
       "      <td>1</td>\n",
       "      <td>4.0</td>\n",
       "      <td>1122227329</td>\n",
       "      <td>Toy Story (1995)</td>\n",
       "      <td>Adventure|Animation|Children|Comedy|Fantasy</td>\n",
       "      <td>114709</td>\n",
       "      <td>862.0</td>\n",
       "      <td>pixar</td>\n",
       "      <td>1139045764</td>\n",
       "    </tr>\n",
       "    <tr>\n",
       "      <th>1</th>\n",
       "      <td>474</td>\n",
       "      <td>1</td>\n",
       "      <td>4.0</td>\n",
       "      <td>978575760</td>\n",
       "      <td>Toy Story (1995)</td>\n",
       "      <td>Adventure|Animation|Children|Comedy|Fantasy</td>\n",
       "      <td>114709</td>\n",
       "      <td>862.0</td>\n",
       "      <td>pixar</td>\n",
       "      <td>1137206825</td>\n",
       "    </tr>\n",
       "    <tr>\n",
       "      <th>2</th>\n",
       "      <td>567</td>\n",
       "      <td>1</td>\n",
       "      <td>3.5</td>\n",
       "      <td>1525286001</td>\n",
       "      <td>Toy Story (1995)</td>\n",
       "      <td>Adventure|Animation|Children|Comedy|Fantasy</td>\n",
       "      <td>114709</td>\n",
       "      <td>862.0</td>\n",
       "      <td>fun</td>\n",
       "      <td>1525286013</td>\n",
       "    </tr>\n",
       "    <tr>\n",
       "      <th>3</th>\n",
       "      <td>289</td>\n",
       "      <td>3</td>\n",
       "      <td>2.5</td>\n",
       "      <td>1143424657</td>\n",
       "      <td>Grumpier Old Men (1995)</td>\n",
       "      <td>Comedy|Romance</td>\n",
       "      <td>113228</td>\n",
       "      <td>15602.0</td>\n",
       "      <td>moldy</td>\n",
       "      <td>1143424860</td>\n",
       "    </tr>\n",
       "    <tr>\n",
       "      <th>4</th>\n",
       "      <td>289</td>\n",
       "      <td>3</td>\n",
       "      <td>2.5</td>\n",
       "      <td>1143424657</td>\n",
       "      <td>Grumpier Old Men (1995)</td>\n",
       "      <td>Comedy|Romance</td>\n",
       "      <td>113228</td>\n",
       "      <td>15602.0</td>\n",
       "      <td>old</td>\n",
       "      <td>1143424860</td>\n",
       "    </tr>\n",
       "  </tbody>\n",
       "</table>\n",
       "</div>"
      ],
      "text/plain": [
       "   userId  movieId  rating  timestamp_x                    title  \\\n",
       "0     336        1     4.0   1122227329         Toy Story (1995)   \n",
       "1     474        1     4.0    978575760         Toy Story (1995)   \n",
       "2     567        1     3.5   1525286001         Toy Story (1995)   \n",
       "3     289        3     2.5   1143424657  Grumpier Old Men (1995)   \n",
       "4     289        3     2.5   1143424657  Grumpier Old Men (1995)   \n",
       "\n",
       "                                        genres  imdbId   tmdbId    tag  \\\n",
       "0  Adventure|Animation|Children|Comedy|Fantasy  114709    862.0  pixar   \n",
       "1  Adventure|Animation|Children|Comedy|Fantasy  114709    862.0  pixar   \n",
       "2  Adventure|Animation|Children|Comedy|Fantasy  114709    862.0    fun   \n",
       "3                               Comedy|Romance  113228  15602.0  moldy   \n",
       "4                               Comedy|Romance  113228  15602.0    old   \n",
       "\n",
       "   timestamp_y  \n",
       "0   1139045764  \n",
       "1   1137206825  \n",
       "2   1525286013  \n",
       "3   1143424860  \n",
       "4   1143424860  "
      ]
     },
     "execution_count": 125,
     "metadata": {},
     "output_type": "execute_result"
    }
   ],
   "source": [
    "##Step 3: Merging the results of movies_links_rating_merged with the tags dataset.\n",
    "final_merge =  pd.merge(movies_links_ratings_merged, tags, on=['movieId','userId'])\n",
    "final_merge.head()"
   ]
  },
  {
   "cell_type": "code",
   "execution_count": 126,
   "metadata": {},
   "outputs": [
    {
     "name": "stdout",
     "output_type": "stream",
     "text": [
      "The final merged dataset contains 3476 rows and 10 colums\n"
     ]
    }
   ],
   "source": [
    "## Checking the number of rows and colums of our final merged dataset\n",
    "\n",
    "rows, colums = final_merge.shape\n",
    "print(f'The final merged dataset contains {rows} rows and {colums} colums')"
   ]
  },
  {
   "cell_type": "code",
   "execution_count": 127,
   "metadata": {},
   "outputs": [
    {
     "name": "stdout",
     "output_type": "stream",
     "text": [
      "<class 'pandas.core.frame.DataFrame'>\n",
      "Int64Index: 3476 entries, 0 to 3475\n",
      "Data columns (total 10 columns):\n",
      " #   Column       Non-Null Count  Dtype  \n",
      "---  ------       --------------  -----  \n",
      " 0   userId       3476 non-null   int64  \n",
      " 1   movieId      3476 non-null   int64  \n",
      " 2   rating       3476 non-null   float64\n",
      " 3   timestamp_x  3476 non-null   int64  \n",
      " 4   title        3476 non-null   object \n",
      " 5   genres       3476 non-null   object \n",
      " 6   imdbId       3476 non-null   int64  \n",
      " 7   tmdbId       3476 non-null   float64\n",
      " 8   tag          3476 non-null   object \n",
      " 9   timestamp_y  3476 non-null   int64  \n",
      "dtypes: float64(2), int64(5), object(3)\n",
      "memory usage: 298.7+ KB\n"
     ]
    }
   ],
   "source": [
    "##Getting the conside summary of the final merged dataset\n",
    "\n",
    "final_merge.info()"
   ]
  },
  {
   "cell_type": "markdown",
   "metadata": {},
   "source": [
    "The output shows that the final_merged dataset contains 3 types as follows:\n",
    "- 2 float64\n",
    "- 6 int664\n",
    "- 3 Object\n",
    "\n",
    "The memory usage of the final merged dataset is approximately 21.4 MB. This suggests that the dataset has grown significantly after merging, especially due to the repetition of movie information across different user ratings and tag.\n",
    "\n",
    "High Movie Engagement: The fact that the merged dataset contains 233,213 rows while the ratings dataset had 100,836 rows suggests that multiple users have rated, tagged, or interacted with the same movie, indicating high engagement for some movies.\n"
   ]
  },
  {
   "cell_type": "code",
   "execution_count": 128,
   "metadata": {},
   "outputs": [
    {
     "data": {
      "text/html": [
       "<div>\n",
       "<style scoped>\n",
       "    .dataframe tbody tr th:only-of-type {\n",
       "        vertical-align: middle;\n",
       "    }\n",
       "\n",
       "    .dataframe tbody tr th {\n",
       "        vertical-align: top;\n",
       "    }\n",
       "\n",
       "    .dataframe thead th {\n",
       "        text-align: right;\n",
       "    }\n",
       "</style>\n",
       "<table border=\"1\" class=\"dataframe\">\n",
       "  <thead>\n",
       "    <tr style=\"text-align: right;\">\n",
       "      <th></th>\n",
       "      <th>userId</th>\n",
       "      <th>movieId</th>\n",
       "      <th>rating</th>\n",
       "      <th>timestamp_x</th>\n",
       "      <th>imdbId</th>\n",
       "      <th>tmdbId</th>\n",
       "      <th>timestamp_y</th>\n",
       "    </tr>\n",
       "  </thead>\n",
       "  <tbody>\n",
       "    <tr>\n",
       "      <th>count</th>\n",
       "      <td>3476.000000</td>\n",
       "      <td>3476.000000</td>\n",
       "      <td>3476.000000</td>\n",
       "      <td>3.476000e+03</td>\n",
       "      <td>3.476000e+03</td>\n",
       "      <td>3476.000000</td>\n",
       "      <td>3.476000e+03</td>\n",
       "    </tr>\n",
       "    <tr>\n",
       "      <th>mean</th>\n",
       "      <td>429.785386</td>\n",
       "      <td>28009.502301</td>\n",
       "      <td>4.016830</td>\n",
       "      <td>1.297281e+09</td>\n",
       "      <td>4.920095e+05</td>\n",
       "      <td>33499.696203</td>\n",
       "      <td>1.323525e+09</td>\n",
       "    </tr>\n",
       "    <tr>\n",
       "      <th>std</th>\n",
       "      <td>161.552990</td>\n",
       "      <td>44138.125029</td>\n",
       "      <td>0.856925</td>\n",
       "      <td>2.038080e+08</td>\n",
       "      <td>8.193528e+05</td>\n",
       "      <td>75172.715180</td>\n",
       "      <td>1.731554e+08</td>\n",
       "    </tr>\n",
       "    <tr>\n",
       "      <th>min</th>\n",
       "      <td>2.000000</td>\n",
       "      <td>1.000000</td>\n",
       "      <td>0.500000</td>\n",
       "      <td>9.746667e+08</td>\n",
       "      <td>1.234900e+04</td>\n",
       "      <td>11.000000</td>\n",
       "      <td>1.137179e+09</td>\n",
       "    </tr>\n",
       "    <tr>\n",
       "      <th>25%</th>\n",
       "      <td>424.000000</td>\n",
       "      <td>1261.500000</td>\n",
       "      <td>3.500000</td>\n",
       "      <td>1.100120e+09</td>\n",
       "      <td>9.740875e+04</td>\n",
       "      <td>680.000000</td>\n",
       "      <td>1.138032e+09</td>\n",
       "    </tr>\n",
       "    <tr>\n",
       "      <th>50%</th>\n",
       "      <td>474.000000</td>\n",
       "      <td>4492.000000</td>\n",
       "      <td>4.000000</td>\n",
       "      <td>1.281766e+09</td>\n",
       "      <td>1.207750e+05</td>\n",
       "      <td>7708.000000</td>\n",
       "      <td>1.279956e+09</td>\n",
       "    </tr>\n",
       "    <tr>\n",
       "      <th>75%</th>\n",
       "      <td>523.250000</td>\n",
       "      <td>45499.000000</td>\n",
       "      <td>5.000000</td>\n",
       "      <td>1.498457e+09</td>\n",
       "      <td>3.953342e+05</td>\n",
       "      <td>19913.000000</td>\n",
       "      <td>1.498457e+09</td>\n",
       "    </tr>\n",
       "    <tr>\n",
       "      <th>max</th>\n",
       "      <td>610.000000</td>\n",
       "      <td>193565.000000</td>\n",
       "      <td>5.000000</td>\n",
       "      <td>1.537099e+09</td>\n",
       "      <td>5.580390e+06</td>\n",
       "      <td>503475.000000</td>\n",
       "      <td>1.537099e+09</td>\n",
       "    </tr>\n",
       "  </tbody>\n",
       "</table>\n",
       "</div>"
      ],
      "text/plain": [
       "            userId        movieId       rating   timestamp_x        imdbId  \\\n",
       "count  3476.000000    3476.000000  3476.000000  3.476000e+03  3.476000e+03   \n",
       "mean    429.785386   28009.502301     4.016830  1.297281e+09  4.920095e+05   \n",
       "std     161.552990   44138.125029     0.856925  2.038080e+08  8.193528e+05   \n",
       "min       2.000000       1.000000     0.500000  9.746667e+08  1.234900e+04   \n",
       "25%     424.000000    1261.500000     3.500000  1.100120e+09  9.740875e+04   \n",
       "50%     474.000000    4492.000000     4.000000  1.281766e+09  1.207750e+05   \n",
       "75%     523.250000   45499.000000     5.000000  1.498457e+09  3.953342e+05   \n",
       "max     610.000000  193565.000000     5.000000  1.537099e+09  5.580390e+06   \n",
       "\n",
       "              tmdbId   timestamp_y  \n",
       "count    3476.000000  3.476000e+03  \n",
       "mean    33499.696203  1.323525e+09  \n",
       "std     75172.715180  1.731554e+08  \n",
       "min        11.000000  1.137179e+09  \n",
       "25%       680.000000  1.138032e+09  \n",
       "50%      7708.000000  1.279956e+09  \n",
       "75%     19913.000000  1.498457e+09  \n",
       "max    503475.000000  1.537099e+09  "
      ]
     },
     "execution_count": 128,
     "metadata": {},
     "output_type": "execute_result"
    }
   ],
   "source": [
    "final_merge.describe()"
   ]
  },
  {
   "cell_type": "markdown",
   "metadata": {},
   "source": [
    "userId_x and userId_y: The user IDs range from 1 to 610, which shows that there are 610 unique users in the dataset\n",
    "\n",
    "Each column has 233,213 entries, meaning no missing values for the columns shown (movieId, imdbId, tmdbId, userId_x, rating, timestamp_x, userId_y, timestamp_y).\n",
    "\n",
    "Movie IDs range from 1 to 193565, suggesting a large dataset covering a wide variety of movies.\n",
    "The 50th percentile (50%, or median) movie ID is 1198, indicating that half the movies have an ID less than 1198.\n",
    "The average (mean) movie ID is 12319.99, which is much higher than the median, indicating a right-skewed distribution of movie IDs (a few movies with very high IDs).\n",
    "\n",
    "imdbId and tmdbId: Similarly, the IMDb IDs and TMDB IDs show a broad range from 12,349 to 5,580,390 (IMDb) and from 11 to 503,475 (TMDB), also suggesting a wide variety of movie records. The high standard deviation indicates significant variation in these IDs.\n",
    "\n",
    "The mean rating is approximately 3.97, indicating that, on average, users gave higher ratings (closer to 4)\n",
    "\n",
    "The mean timestamp (timestamp_x) is about 1.213 billion, which corresponds to around 2008 and maximum timestamp suggests ratings were given around 2018.\n",
    "\n",
    "Right-skewed Distribution: Both movieId and rating columns exhibit right-skewed distributions. This could influence modeling choices, as the majority of movies or users may fall within a specific subset of the range."
   ]
  },
  {
   "cell_type": "code",
   "execution_count": 129,
   "metadata": {},
   "outputs": [
    {
     "data": {
      "text/html": [
       "<div>\n",
       "<style scoped>\n",
       "    .dataframe tbody tr th:only-of-type {\n",
       "        vertical-align: middle;\n",
       "    }\n",
       "\n",
       "    .dataframe tbody tr th {\n",
       "        vertical-align: top;\n",
       "    }\n",
       "\n",
       "    .dataframe thead th {\n",
       "        text-align: right;\n",
       "    }\n",
       "</style>\n",
       "<table border=\"1\" class=\"dataframe\">\n",
       "  <thead>\n",
       "    <tr style=\"text-align: right;\">\n",
       "      <th></th>\n",
       "      <th>userId</th>\n",
       "      <th>movieId</th>\n",
       "      <th>rating</th>\n",
       "      <th>timestamp_x</th>\n",
       "      <th>title</th>\n",
       "      <th>genres</th>\n",
       "      <th>imdbId</th>\n",
       "      <th>tmdbId</th>\n",
       "      <th>tag</th>\n",
       "      <th>timestamp_y</th>\n",
       "    </tr>\n",
       "  </thead>\n",
       "  <tbody>\n",
       "    <tr>\n",
       "      <th>0</th>\n",
       "      <td>336</td>\n",
       "      <td>1</td>\n",
       "      <td>4.0</td>\n",
       "      <td>1122227329</td>\n",
       "      <td>Toy Story (1995)</td>\n",
       "      <td>Adventure|Animation|Children|Comedy|Fantasy</td>\n",
       "      <td>114709</td>\n",
       "      <td>862.0</td>\n",
       "      <td>pixar</td>\n",
       "      <td>1139045764</td>\n",
       "    </tr>\n",
       "    <tr>\n",
       "      <th>1</th>\n",
       "      <td>474</td>\n",
       "      <td>1</td>\n",
       "      <td>4.0</td>\n",
       "      <td>978575760</td>\n",
       "      <td>Toy Story (1995)</td>\n",
       "      <td>Adventure|Animation|Children|Comedy|Fantasy</td>\n",
       "      <td>114709</td>\n",
       "      <td>862.0</td>\n",
       "      <td>pixar</td>\n",
       "      <td>1137206825</td>\n",
       "    </tr>\n",
       "    <tr>\n",
       "      <th>2</th>\n",
       "      <td>567</td>\n",
       "      <td>1</td>\n",
       "      <td>3.5</td>\n",
       "      <td>1525286001</td>\n",
       "      <td>Toy Story (1995)</td>\n",
       "      <td>Adventure|Animation|Children|Comedy|Fantasy</td>\n",
       "      <td>114709</td>\n",
       "      <td>862.0</td>\n",
       "      <td>fun</td>\n",
       "      <td>1525286013</td>\n",
       "    </tr>\n",
       "    <tr>\n",
       "      <th>3</th>\n",
       "      <td>289</td>\n",
       "      <td>3</td>\n",
       "      <td>2.5</td>\n",
       "      <td>1143424657</td>\n",
       "      <td>Grumpier Old Men (1995)</td>\n",
       "      <td>Comedy|Romance</td>\n",
       "      <td>113228</td>\n",
       "      <td>15602.0</td>\n",
       "      <td>moldy</td>\n",
       "      <td>1143424860</td>\n",
       "    </tr>\n",
       "    <tr>\n",
       "      <th>4</th>\n",
       "      <td>289</td>\n",
       "      <td>3</td>\n",
       "      <td>2.5</td>\n",
       "      <td>1143424657</td>\n",
       "      <td>Grumpier Old Men (1995)</td>\n",
       "      <td>Comedy|Romance</td>\n",
       "      <td>113228</td>\n",
       "      <td>15602.0</td>\n",
       "      <td>old</td>\n",
       "      <td>1143424860</td>\n",
       "    </tr>\n",
       "  </tbody>\n",
       "</table>\n",
       "</div>"
      ],
      "text/plain": [
       "   userId  movieId  rating  timestamp_x                    title  \\\n",
       "0     336        1     4.0   1122227329         Toy Story (1995)   \n",
       "1     474        1     4.0    978575760         Toy Story (1995)   \n",
       "2     567        1     3.5   1525286001         Toy Story (1995)   \n",
       "3     289        3     2.5   1143424657  Grumpier Old Men (1995)   \n",
       "4     289        3     2.5   1143424657  Grumpier Old Men (1995)   \n",
       "\n",
       "                                        genres  imdbId   tmdbId    tag  \\\n",
       "0  Adventure|Animation|Children|Comedy|Fantasy  114709    862.0  pixar   \n",
       "1  Adventure|Animation|Children|Comedy|Fantasy  114709    862.0  pixar   \n",
       "2  Adventure|Animation|Children|Comedy|Fantasy  114709    862.0    fun   \n",
       "3                               Comedy|Romance  113228  15602.0  moldy   \n",
       "4                               Comedy|Romance  113228  15602.0    old   \n",
       "\n",
       "   timestamp_y  \n",
       "0   1139045764  \n",
       "1   1137206825  \n",
       "2   1525286013  \n",
       "3   1143424860  \n",
       "4   1143424860  "
      ]
     },
     "execution_count": 129,
     "metadata": {},
     "output_type": "execute_result"
    }
   ],
   "source": [
    "#creating a copy of the final merge for to perform data cleaning\n",
    "Movies_df = final_merge\n",
    "Movies_df.head()"
   ]
  },
  {
   "cell_type": "markdown",
   "metadata": {},
   "source": [
    "## 3.DATA CLEANING"
   ]
  },
  {
   "cell_type": "markdown",
   "metadata": {},
   "source": [
    "Now that we have merged our dataset, we will take the following steps to ensure it is clean and ready for analysis:\n",
    "\n",
    "1. `Checking and handling duplicates columns` to avoid redundancy.\n",
    "\n",
    "2. `Renaming columns` to improve readability.\n",
    "\n",
    "3. `Case Conversion` to ensure that all our headers are standadized.\n",
    "\n",
    "4. `Checking for missing` and address them appropriately.\n",
    "\n",
    "5. `Ensure consistent data types` across all columns.\n",
    "\n",
    "6. `Creating new features from existing features` for precise EDA.\n"
   ]
  },
  {
   "cell_type": "markdown",
   "metadata": {},
   "source": [
    "## 3.1.Checking and handling duplicates colums"
   ]
  },
  {
   "cell_type": "code",
   "execution_count": 130,
   "metadata": {},
   "outputs": [
    {
     "data": {
      "text/plain": [
       "False"
      ]
     },
     "execution_count": 130,
     "metadata": {},
     "output_type": "execute_result"
    }
   ],
   "source": [
    "#Compare userI_X and user1D_y to check id they have columns for identical values\n",
    "Movies_df['timestamp_x'].equals(Movies_df['timestamp_y'])"
   ]
  },
  {
   "cell_type": "markdown",
   "metadata": {},
   "source": [
    "## 3.2 Removing Unnceccesary columns."
   ]
  },
  {
   "cell_type": "code",
   "execution_count": 131,
   "metadata": {},
   "outputs": [],
   "source": [
    "#Removing unnecessary colums for our model.\n",
    "Movies_df.drop(['movieId','imdbId','tmdbId','timestamp_y'],axis=1, inplace=True)"
   ]
  },
  {
   "cell_type": "code",
   "execution_count": 132,
   "metadata": {},
   "outputs": [
    {
     "data": {
      "text/html": [
       "<div>\n",
       "<style scoped>\n",
       "    .dataframe tbody tr th:only-of-type {\n",
       "        vertical-align: middle;\n",
       "    }\n",
       "\n",
       "    .dataframe tbody tr th {\n",
       "        vertical-align: top;\n",
       "    }\n",
       "\n",
       "    .dataframe thead th {\n",
       "        text-align: right;\n",
       "    }\n",
       "</style>\n",
       "<table border=\"1\" class=\"dataframe\">\n",
       "  <thead>\n",
       "    <tr style=\"text-align: right;\">\n",
       "      <th></th>\n",
       "      <th>userId</th>\n",
       "      <th>rating</th>\n",
       "      <th>timestamp_x</th>\n",
       "      <th>title</th>\n",
       "      <th>genres</th>\n",
       "      <th>tag</th>\n",
       "    </tr>\n",
       "  </thead>\n",
       "  <tbody>\n",
       "    <tr>\n",
       "      <th>3177</th>\n",
       "      <td>567</td>\n",
       "      <td>3.0</td>\n",
       "      <td>1525286967</td>\n",
       "      <td>Beasts of No Nation (2015)</td>\n",
       "      <td>Drama|War</td>\n",
       "      <td>Moving</td>\n",
       "    </tr>\n",
       "    <tr>\n",
       "      <th>2219</th>\n",
       "      <td>474</td>\n",
       "      <td>4.5</td>\n",
       "      <td>1090241137</td>\n",
       "      <td>Killing, The (1956)</td>\n",
       "      <td>Crime|Film-Noir</td>\n",
       "      <td>heist</td>\n",
       "    </tr>\n",
       "    <tr>\n",
       "      <th>307</th>\n",
       "      <td>474</td>\n",
       "      <td>3.5</td>\n",
       "      <td>1118667194</td>\n",
       "      <td>Platoon (1986)</td>\n",
       "      <td>Drama|War</td>\n",
       "      <td>Vietnam</td>\n",
       "    </tr>\n",
       "    <tr>\n",
       "      <th>858</th>\n",
       "      <td>567</td>\n",
       "      <td>4.5</td>\n",
       "      <td>1525283516</td>\n",
       "      <td>In the Mood For Love (Fa yeung nin wa) (2000)</td>\n",
       "      <td>Drama|Romance</td>\n",
       "      <td>Beautiful</td>\n",
       "    </tr>\n",
       "    <tr>\n",
       "      <th>2605</th>\n",
       "      <td>62</td>\n",
       "      <td>4.0</td>\n",
       "      <td>1528934997</td>\n",
       "      <td>Anchorman 2: The Legend Continues (2013)</td>\n",
       "      <td>Comedy</td>\n",
       "      <td>comedy</td>\n",
       "    </tr>\n",
       "  </tbody>\n",
       "</table>\n",
       "</div>"
      ],
      "text/plain": [
       "      userId  rating  timestamp_x  \\\n",
       "3177     567     3.0   1525286967   \n",
       "2219     474     4.5   1090241137   \n",
       "307      474     3.5   1118667194   \n",
       "858      567     4.5   1525283516   \n",
       "2605      62     4.0   1528934997   \n",
       "\n",
       "                                              title           genres  \\\n",
       "3177                     Beasts of No Nation (2015)        Drama|War   \n",
       "2219                            Killing, The (1956)  Crime|Film-Noir   \n",
       "307                                  Platoon (1986)        Drama|War   \n",
       "858   In the Mood For Love (Fa yeung nin wa) (2000)    Drama|Romance   \n",
       "2605       Anchorman 2: The Legend Continues (2013)           Comedy   \n",
       "\n",
       "            tag  \n",
       "3177     Moving  \n",
       "2219      heist  \n",
       "307     Vietnam  \n",
       "858   Beautiful  \n",
       "2605     comedy  "
      ]
     },
     "execution_count": 132,
     "metadata": {},
     "output_type": "execute_result"
    }
   ],
   "source": [
    "Movies_df.sample(n=5)"
   ]
  },
  {
   "cell_type": "markdown",
   "metadata": {},
   "source": [
    "## 3.3 Renaming columns."
   ]
  },
  {
   "cell_type": "code",
   "execution_count": 133,
   "metadata": {},
   "outputs": [
    {
     "data": {
      "text/html": [
       "<div>\n",
       "<style scoped>\n",
       "    .dataframe tbody tr th:only-of-type {\n",
       "        vertical-align: middle;\n",
       "    }\n",
       "\n",
       "    .dataframe tbody tr th {\n",
       "        vertical-align: top;\n",
       "    }\n",
       "\n",
       "    .dataframe thead th {\n",
       "        text-align: right;\n",
       "    }\n",
       "</style>\n",
       "<table border=\"1\" class=\"dataframe\">\n",
       "  <thead>\n",
       "    <tr style=\"text-align: right;\">\n",
       "      <th></th>\n",
       "      <th>userId</th>\n",
       "      <th>rating</th>\n",
       "      <th>timestamp</th>\n",
       "      <th>title</th>\n",
       "      <th>genres</th>\n",
       "      <th>tag</th>\n",
       "    </tr>\n",
       "  </thead>\n",
       "  <tbody>\n",
       "    <tr>\n",
       "      <th>0</th>\n",
       "      <td>336</td>\n",
       "      <td>4.0</td>\n",
       "      <td>1122227329</td>\n",
       "      <td>Toy Story (1995)</td>\n",
       "      <td>Adventure|Animation|Children|Comedy|Fantasy</td>\n",
       "      <td>pixar</td>\n",
       "    </tr>\n",
       "    <tr>\n",
       "      <th>1</th>\n",
       "      <td>474</td>\n",
       "      <td>4.0</td>\n",
       "      <td>978575760</td>\n",
       "      <td>Toy Story (1995)</td>\n",
       "      <td>Adventure|Animation|Children|Comedy|Fantasy</td>\n",
       "      <td>pixar</td>\n",
       "    </tr>\n",
       "    <tr>\n",
       "      <th>2</th>\n",
       "      <td>567</td>\n",
       "      <td>3.5</td>\n",
       "      <td>1525286001</td>\n",
       "      <td>Toy Story (1995)</td>\n",
       "      <td>Adventure|Animation|Children|Comedy|Fantasy</td>\n",
       "      <td>fun</td>\n",
       "    </tr>\n",
       "    <tr>\n",
       "      <th>3</th>\n",
       "      <td>289</td>\n",
       "      <td>2.5</td>\n",
       "      <td>1143424657</td>\n",
       "      <td>Grumpier Old Men (1995)</td>\n",
       "      <td>Comedy|Romance</td>\n",
       "      <td>moldy</td>\n",
       "    </tr>\n",
       "    <tr>\n",
       "      <th>4</th>\n",
       "      <td>289</td>\n",
       "      <td>2.5</td>\n",
       "      <td>1143424657</td>\n",
       "      <td>Grumpier Old Men (1995)</td>\n",
       "      <td>Comedy|Romance</td>\n",
       "      <td>old</td>\n",
       "    </tr>\n",
       "  </tbody>\n",
       "</table>\n",
       "</div>"
      ],
      "text/plain": [
       "   userId  rating   timestamp                    title  \\\n",
       "0     336     4.0  1122227329         Toy Story (1995)   \n",
       "1     474     4.0   978575760         Toy Story (1995)   \n",
       "2     567     3.5  1525286001         Toy Story (1995)   \n",
       "3     289     2.5  1143424657  Grumpier Old Men (1995)   \n",
       "4     289     2.5  1143424657  Grumpier Old Men (1995)   \n",
       "\n",
       "                                        genres    tag  \n",
       "0  Adventure|Animation|Children|Comedy|Fantasy  pixar  \n",
       "1  Adventure|Animation|Children|Comedy|Fantasy  pixar  \n",
       "2  Adventure|Animation|Children|Comedy|Fantasy    fun  \n",
       "3                               Comedy|Romance  moldy  \n",
       "4                               Comedy|Romance    old  "
      ]
     },
     "execution_count": 133,
     "metadata": {},
     "output_type": "execute_result"
    }
   ],
   "source": [
    "#Renaming the timestamp_x column\n",
    "Movies_df.rename(columns={'timestamp_x':'timestamp'}, inplace=True)\n",
    "\n",
    "#checking the dataset after remaming our desired column\n",
    "Movies_df.head()"
   ]
  },
  {
   "cell_type": "markdown",
   "metadata": {},
   "source": [
    "## 3.4 Case Coversion."
   ]
  },
  {
   "cell_type": "code",
   "execution_count": 134,
   "metadata": {},
   "outputs": [
    {
     "data": {
      "text/html": [
       "<div>\n",
       "<style scoped>\n",
       "    .dataframe tbody tr th:only-of-type {\n",
       "        vertical-align: middle;\n",
       "    }\n",
       "\n",
       "    .dataframe tbody tr th {\n",
       "        vertical-align: top;\n",
       "    }\n",
       "\n",
       "    .dataframe thead th {\n",
       "        text-align: right;\n",
       "    }\n",
       "</style>\n",
       "<table border=\"1\" class=\"dataframe\">\n",
       "  <thead>\n",
       "    <tr style=\"text-align: right;\">\n",
       "      <th></th>\n",
       "      <th>Userid</th>\n",
       "      <th>Rating</th>\n",
       "      <th>Timestamp</th>\n",
       "      <th>Title</th>\n",
       "      <th>Genres</th>\n",
       "      <th>Tag</th>\n",
       "    </tr>\n",
       "  </thead>\n",
       "  <tbody>\n",
       "    <tr>\n",
       "      <th>3471</th>\n",
       "      <td>567</td>\n",
       "      <td>3.5</td>\n",
       "      <td>1525286512</td>\n",
       "      <td>It Comes at Night (2017)</td>\n",
       "      <td>Horror|Mystery|Thriller</td>\n",
       "      <td>Suspenseful</td>\n",
       "    </tr>\n",
       "    <tr>\n",
       "      <th>3472</th>\n",
       "      <td>567</td>\n",
       "      <td>3.0</td>\n",
       "      <td>1525287581</td>\n",
       "      <td>Mother! (2017)</td>\n",
       "      <td>Drama|Horror|Mystery|Thriller</td>\n",
       "      <td>allegorical</td>\n",
       "    </tr>\n",
       "    <tr>\n",
       "      <th>3473</th>\n",
       "      <td>567</td>\n",
       "      <td>3.0</td>\n",
       "      <td>1525287581</td>\n",
       "      <td>Mother! (2017)</td>\n",
       "      <td>Drama|Horror|Mystery|Thriller</td>\n",
       "      <td>uncomfortable</td>\n",
       "    </tr>\n",
       "    <tr>\n",
       "      <th>3474</th>\n",
       "      <td>567</td>\n",
       "      <td>3.0</td>\n",
       "      <td>1525287581</td>\n",
       "      <td>Mother! (2017)</td>\n",
       "      <td>Drama|Horror|Mystery|Thriller</td>\n",
       "      <td>unsettling</td>\n",
       "    </tr>\n",
       "    <tr>\n",
       "      <th>3475</th>\n",
       "      <td>606</td>\n",
       "      <td>4.0</td>\n",
       "      <td>1171324428</td>\n",
       "      <td>Night of the Shooting Stars (Notte di San Lore...</td>\n",
       "      <td>Drama|War</td>\n",
       "      <td>World War II</td>\n",
       "    </tr>\n",
       "  </tbody>\n",
       "</table>\n",
       "</div>"
      ],
      "text/plain": [
       "      Userid  Rating   Timestamp  \\\n",
       "3471     567     3.5  1525286512   \n",
       "3472     567     3.0  1525287581   \n",
       "3473     567     3.0  1525287581   \n",
       "3474     567     3.0  1525287581   \n",
       "3475     606     4.0  1171324428   \n",
       "\n",
       "                                                  Title  \\\n",
       "3471                           It Comes at Night (2017)   \n",
       "3472                                     Mother! (2017)   \n",
       "3473                                     Mother! (2017)   \n",
       "3474                                     Mother! (2017)   \n",
       "3475  Night of the Shooting Stars (Notte di San Lore...   \n",
       "\n",
       "                             Genres            Tag  \n",
       "3471        Horror|Mystery|Thriller    Suspenseful  \n",
       "3472  Drama|Horror|Mystery|Thriller    allegorical  \n",
       "3473  Drama|Horror|Mystery|Thriller  uncomfortable  \n",
       "3474  Drama|Horror|Mystery|Thriller     unsettling  \n",
       "3475                      Drama|War   World War II  "
      ]
     },
     "execution_count": 134,
     "metadata": {},
     "output_type": "execute_result"
    }
   ],
   "source": [
    "#converting our headers to title case from the current lowercase.\n",
    "Movies_df.rename(columns=lambda x: x.title(), inplace=True)\n",
    "\n",
    "##viewing our dataset our the headers converstion\n",
    "Movies_df.tail()\n"
   ]
  },
  {
   "cell_type": "markdown",
   "metadata": {},
   "source": [
    "## 3.5 Checking and Handling Missing Values."
   ]
  },
  {
   "cell_type": "code",
   "execution_count": 135,
   "metadata": {},
   "outputs": [
    {
     "name": "stdout",
     "output_type": "stream",
     "text": [
      "None\n"
     ]
    }
   ],
   "source": [
    "if Movies_df.isnull().values.any():\n",
    "    print(True)\n",
    "else:\n",
    "    print(None)"
   ]
  },
  {
   "cell_type": "markdown",
   "metadata": {},
   "source": [
    "The output confirms that our movie_df has no missing values."
   ]
  },
  {
   "cell_type": "markdown",
   "metadata": {},
   "source": [
    "## 3.6 Ensuring consistent data types."
   ]
  },
  {
   "cell_type": "code",
   "execution_count": 136,
   "metadata": {},
   "outputs": [
    {
     "name": "stdout",
     "output_type": "stream",
     "text": [
      "Userid         int64\n",
      "Rating       float64\n",
      "Timestamp      int64\n",
      "Title         object\n",
      "Genres        object\n",
      "Tag           object\n",
      "dtype: object\n"
     ]
    }
   ],
   "source": [
    "#Checking the datatype of each column\n",
    "print(Movies_df.dtypes)"
   ]
  },
  {
   "cell_type": "markdown",
   "metadata": {},
   "source": [
    "After removal of unccesary colums, we can counclude now that thedataset has\n",
    "  - One feature of float64 \n",
    "     - Rating\n",
    "  - Two features of int64\n",
    "    - userId\n",
    "    - timestamp\n",
    "  - Three features of object\n",
    "    - Title\n",
    "    - Genres\n",
    "    - Tags\n",
    "\n",
    "For accurate analysis, we will proceed and convert our timestamp from int64 to data and time"
   ]
  },
  {
   "cell_type": "code",
   "execution_count": 137,
   "metadata": {},
   "outputs": [
    {
     "name": "stdout",
     "output_type": "stream",
     "text": [
      "<class 'pandas.core.frame.DataFrame'>\n",
      "Int64Index: 3476 entries, 0 to 3475\n",
      "Data columns (total 6 columns):\n",
      " #   Column     Non-Null Count  Dtype         \n",
      "---  ------     --------------  -----         \n",
      " 0   Userid     3476 non-null   int64         \n",
      " 1   Rating     3476 non-null   float64       \n",
      " 2   Timestamp  3476 non-null   datetime64[ns]\n",
      " 3   Title      3476 non-null   object        \n",
      " 4   Genres     3476 non-null   object        \n",
      " 5   Tag        3476 non-null   object        \n",
      "dtypes: datetime64[ns](1), float64(1), int64(1), object(3)\n",
      "memory usage: 190.1+ KB\n"
     ]
    }
   ],
   "source": [
    "# Creating a new dataframe\n",
    "Movies= pd.DataFrame(Movies_df)\n",
    "\n",
    "# Converting the timestamp_x column to datetime format\n",
    "Movies['Timestamp'] = pd.to_datetime(Movies['Timestamp'], unit='s')\n",
    "\n",
    "# Displaying the DataFrame\n",
    "Movies.info()"
   ]
  },
  {
   "cell_type": "markdown",
   "metadata": {},
   "source": [
    "Now out timestamp feature has succefully been converte to to a datetime column"
   ]
  },
  {
   "cell_type": "markdown",
   "metadata": {},
   "source": [
    "## 3.7 Creating new features from existing features"
   ]
  },
  {
   "cell_type": "code",
   "execution_count": 140,
   "metadata": {},
   "outputs": [
    {
     "data": {
      "text/html": [
       "<div>\n",
       "<style scoped>\n",
       "    .dataframe tbody tr th:only-of-type {\n",
       "        vertical-align: middle;\n",
       "    }\n",
       "\n",
       "    .dataframe tbody tr th {\n",
       "        vertical-align: top;\n",
       "    }\n",
       "\n",
       "    .dataframe thead th {\n",
       "        text-align: right;\n",
       "    }\n",
       "</style>\n",
       "<table border=\"1\" class=\"dataframe\">\n",
       "  <thead>\n",
       "    <tr style=\"text-align: right;\">\n",
       "      <th></th>\n",
       "      <th>Userid</th>\n",
       "      <th>Rating</th>\n",
       "      <th>Timestamp</th>\n",
       "      <th>Title</th>\n",
       "      <th>Genres</th>\n",
       "      <th>Tag</th>\n",
       "      <th>Timetamp_date</th>\n",
       "    </tr>\n",
       "  </thead>\n",
       "  <tbody>\n",
       "    <tr>\n",
       "      <th>0</th>\n",
       "      <td>336</td>\n",
       "      <td>4.0</td>\n",
       "      <td>2005-07-24 17:48:49</td>\n",
       "      <td>Toy Story (1995)</td>\n",
       "      <td>Adventure|Animation|Children|Comedy|Fantasy</td>\n",
       "      <td>pixar</td>\n",
       "      <td>2005-07-24</td>\n",
       "    </tr>\n",
       "    <tr>\n",
       "      <th>1</th>\n",
       "      <td>474</td>\n",
       "      <td>4.0</td>\n",
       "      <td>2001-01-04 02:36:00</td>\n",
       "      <td>Toy Story (1995)</td>\n",
       "      <td>Adventure|Animation|Children|Comedy|Fantasy</td>\n",
       "      <td>pixar</td>\n",
       "      <td>2001-01-04</td>\n",
       "    </tr>\n",
       "    <tr>\n",
       "      <th>2</th>\n",
       "      <td>567</td>\n",
       "      <td>3.5</td>\n",
       "      <td>2018-05-02 18:33:21</td>\n",
       "      <td>Toy Story (1995)</td>\n",
       "      <td>Adventure|Animation|Children|Comedy|Fantasy</td>\n",
       "      <td>fun</td>\n",
       "      <td>2018-05-02</td>\n",
       "    </tr>\n",
       "    <tr>\n",
       "      <th>3</th>\n",
       "      <td>289</td>\n",
       "      <td>2.5</td>\n",
       "      <td>2006-03-27 01:57:37</td>\n",
       "      <td>Grumpier Old Men (1995)</td>\n",
       "      <td>Comedy|Romance</td>\n",
       "      <td>moldy</td>\n",
       "      <td>2006-03-27</td>\n",
       "    </tr>\n",
       "    <tr>\n",
       "      <th>4</th>\n",
       "      <td>289</td>\n",
       "      <td>2.5</td>\n",
       "      <td>2006-03-27 01:57:37</td>\n",
       "      <td>Grumpier Old Men (1995)</td>\n",
       "      <td>Comedy|Romance</td>\n",
       "      <td>old</td>\n",
       "      <td>2006-03-27</td>\n",
       "    </tr>\n",
       "  </tbody>\n",
       "</table>\n",
       "</div>"
      ],
      "text/plain": [
       "   Userid  Rating           Timestamp                    Title  \\\n",
       "0     336     4.0 2005-07-24 17:48:49         Toy Story (1995)   \n",
       "1     474     4.0 2001-01-04 02:36:00         Toy Story (1995)   \n",
       "2     567     3.5 2018-05-02 18:33:21         Toy Story (1995)   \n",
       "3     289     2.5 2006-03-27 01:57:37  Grumpier Old Men (1995)   \n",
       "4     289     2.5 2006-03-27 01:57:37  Grumpier Old Men (1995)   \n",
       "\n",
       "                                        Genres    Tag Timetamp_date  \n",
       "0  Adventure|Animation|Children|Comedy|Fantasy  pixar    2005-07-24  \n",
       "1  Adventure|Animation|Children|Comedy|Fantasy  pixar    2001-01-04  \n",
       "2  Adventure|Animation|Children|Comedy|Fantasy    fun    2018-05-02  \n",
       "3                               Comedy|Romance  moldy    2006-03-27  \n",
       "4                               Comedy|Romance    old    2006-03-27  "
      ]
     },
     "execution_count": 140,
     "metadata": {},
     "output_type": "execute_result"
    }
   ],
   "source": [
    "# Create 'Date' from the timeshtamp \n",
    "Movies['Timetamp_date'] = Movies['Timestamp'].dt.date\n",
    "\n",
    "\n",
    "#viewing the dataset\n",
    "Movies.head()"
   ]
  },
  {
   "cell_type": "code",
   "execution_count": 146,
   "metadata": {},
   "outputs": [
    {
     "data": {
      "text/html": [
       "<div>\n",
       "<style scoped>\n",
       "    .dataframe tbody tr th:only-of-type {\n",
       "        vertical-align: middle;\n",
       "    }\n",
       "\n",
       "    .dataframe tbody tr th {\n",
       "        vertical-align: top;\n",
       "    }\n",
       "\n",
       "    .dataframe thead th {\n",
       "        text-align: right;\n",
       "    }\n",
       "</style>\n",
       "<table border=\"1\" class=\"dataframe\">\n",
       "  <thead>\n",
       "    <tr style=\"text-align: right;\">\n",
       "      <th></th>\n",
       "      <th>Userid</th>\n",
       "      <th>Rating</th>\n",
       "      <th>Timestamp</th>\n",
       "      <th>Title</th>\n",
       "      <th>Genres</th>\n",
       "      <th>Tag</th>\n",
       "      <th>Timetamp_date</th>\n",
       "      <th>year_of_production</th>\n",
       "    </tr>\n",
       "  </thead>\n",
       "  <tbody>\n",
       "    <tr>\n",
       "      <th>1672</th>\n",
       "      <td>305</td>\n",
       "      <td>3.0</td>\n",
       "      <td>2018-03-10 18:37:35</td>\n",
       "      <td>Anchorman: The Legend of Ron Burgundy (2004)</td>\n",
       "      <td>Comedy</td>\n",
       "      <td>stupid</td>\n",
       "      <td>2018-03-10</td>\n",
       "      <td>2004</td>\n",
       "    </tr>\n",
       "    <tr>\n",
       "      <th>1889</th>\n",
       "      <td>567</td>\n",
       "      <td>3.0</td>\n",
       "      <td>2018-05-02 18:54:28</td>\n",
       "      <td>Pi (1998)</td>\n",
       "      <td>Drama|Sci-Fi|Thriller</td>\n",
       "      <td>cerebral</td>\n",
       "      <td>2018-05-02</td>\n",
       "      <td>1998</td>\n",
       "    </tr>\n",
       "    <tr>\n",
       "      <th>3295</th>\n",
       "      <td>474</td>\n",
       "      <td>4.0</td>\n",
       "      <td>2003-08-20 12:57:14</td>\n",
       "      <td>Blue Angel, The (Blaue Engel, Der) (1930)</td>\n",
       "      <td>Drama</td>\n",
       "      <td>singers</td>\n",
       "      <td>2003-08-20</td>\n",
       "      <td>1930</td>\n",
       "    </tr>\n",
       "    <tr>\n",
       "      <th>112</th>\n",
       "      <td>599</td>\n",
       "      <td>5.0</td>\n",
       "      <td>2017-06-26 06:01:07</td>\n",
       "      <td>Pulp Fiction (1994)</td>\n",
       "      <td>Comedy|Crime|Drama|Thriller</td>\n",
       "      <td>disjointed timeline</td>\n",
       "      <td>2017-06-26</td>\n",
       "      <td>1994</td>\n",
       "    </tr>\n",
       "    <tr>\n",
       "      <th>845</th>\n",
       "      <td>474</td>\n",
       "      <td>4.5</td>\n",
       "      <td>2004-04-05 15:01:10</td>\n",
       "      <td>Almost Famous (2000)</td>\n",
       "      <td>Drama</td>\n",
       "      <td>journalism</td>\n",
       "      <td>2004-04-05</td>\n",
       "      <td>2000</td>\n",
       "    </tr>\n",
       "  </tbody>\n",
       "</table>\n",
       "</div>"
      ],
      "text/plain": [
       "      Userid  Rating           Timestamp  \\\n",
       "1672     305     3.0 2018-03-10 18:37:35   \n",
       "1889     567     3.0 2018-05-02 18:54:28   \n",
       "3295     474     4.0 2003-08-20 12:57:14   \n",
       "112      599     5.0 2017-06-26 06:01:07   \n",
       "845      474     4.5 2004-04-05 15:01:10   \n",
       "\n",
       "                                             Title  \\\n",
       "1672  Anchorman: The Legend of Ron Burgundy (2004)   \n",
       "1889                                     Pi (1998)   \n",
       "3295     Blue Angel, The (Blaue Engel, Der) (1930)   \n",
       "112                            Pulp Fiction (1994)   \n",
       "845                           Almost Famous (2000)   \n",
       "\n",
       "                           Genres                  Tag Timetamp_date  \\\n",
       "1672                       Comedy               stupid    2018-03-10   \n",
       "1889        Drama|Sci-Fi|Thriller             cerebral    2018-05-02   \n",
       "3295                        Drama              singers    2003-08-20   \n",
       "112   Comedy|Crime|Drama|Thriller  disjointed timeline    2017-06-26   \n",
       "845                         Drama           journalism    2004-04-05   \n",
       "\n",
       "     year_of_production  \n",
       "1672               2004  \n",
       "1889               1998  \n",
       "3295               1930  \n",
       "112                1994  \n",
       "845                2000  "
      ]
     },
     "execution_count": 146,
     "metadata": {},
     "output_type": "execute_result"
    }
   ],
   "source": [
    "# Extracting the year from the Title and creating a new column year_of_production\n",
    "Movies_df['year_of_production'] = Movies_df['Title'].str.extract(r'\\((\\d{4})\\)')\n",
    "\n",
    "#viewing the dataset\n",
    "Movies_df.sample(n=5)"
   ]
  },
  {
   "cell_type": "markdown",
   "metadata": {},
   "source": [
    "After creating the two new features, `timestamp_date` and `year_of_production`, the next step is to check for any missing values in the dataset."
   ]
  },
  {
   "cell_type": "code",
   "execution_count": 149,
   "metadata": {},
   "outputs": [
    {
     "name": "stdout",
     "output_type": "stream",
     "text": [
      "year_of_production    3\n",
      "dtype: int64\n"
     ]
    }
   ],
   "source": [
    "# Check for missing values in the dataset\n",
    "missing_values = Movies_df.isnull().sum()\n",
    "\n",
    "# Print columns that have missing values\n",
    "print(missing_values[missing_values > 0])\n"
   ]
  },
  {
   "cell_type": "markdown",
   "metadata": {},
   "source": [
    "The year of prodution colum has 3 missing value.\n",
    "\n",
    "Since this is too low, we will proceed and delete the rows."
   ]
  },
  {
   "cell_type": "code",
   "execution_count": 150,
   "metadata": {},
   "outputs": [],
   "source": [
    "# Remove rows with any missing values\n",
    "Movies_df.dropna(inplace=True)"
   ]
  },
  {
   "cell_type": "code",
   "execution_count": 151,
   "metadata": {},
   "outputs": [
    {
     "name": "stdout",
     "output_type": "stream",
     "text": [
      "None\n"
     ]
    }
   ],
   "source": [
    "if Movies_df.isnull().values.any():\n",
    "    print(True)\n",
    "else:\n",
    "    print(None)"
   ]
  },
  {
   "cell_type": "code",
   "execution_count": 152,
   "metadata": {},
   "outputs": [
    {
     "name": "stdout",
     "output_type": "stream",
     "text": [
      "<class 'pandas.core.frame.DataFrame'>\n",
      "Int64Index: 3473 entries, 0 to 3475\n",
      "Data columns (total 8 columns):\n",
      " #   Column              Non-Null Count  Dtype         \n",
      "---  ------              --------------  -----         \n",
      " 0   Userid              3473 non-null   int64         \n",
      " 1   Rating              3473 non-null   float64       \n",
      " 2   Timestamp           3473 non-null   datetime64[ns]\n",
      " 3   Title               3473 non-null   object        \n",
      " 4   Genres              3473 non-null   object        \n",
      " 5   Tag                 3473 non-null   object        \n",
      " 6   Timetamp_date       3473 non-null   object        \n",
      " 7   year_of_production  3473 non-null   object        \n",
      "dtypes: datetime64[ns](1), float64(1), int64(1), object(5)\n",
      "memory usage: 244.2+ KB\n"
     ]
    }
   ],
   "source": [
    "#checkingthe datatypes\n",
    "Movies_df.info()"
   ]
  },
  {
   "cell_type": "markdown",
   "metadata": {},
   "source": [
    "Now that we have confirmed that we do not have any missing values, we will proceed and conver the year of production to and int type from the current object type."
   ]
  },
  {
   "cell_type": "code",
   "execution_count": 157,
   "metadata": {},
   "outputs": [],
   "source": [
    "# Convert the year_of_production column to integer\n",
    "Movies_df['year_of_production'] = Movies_df['year_of_production'].astype(int)\n"
   ]
  },
  {
   "cell_type": "code",
   "execution_count": 159,
   "metadata": {},
   "outputs": [
    {
     "data": {
      "text/html": [
       "<div>\n",
       "<style scoped>\n",
       "    .dataframe tbody tr th:only-of-type {\n",
       "        vertical-align: middle;\n",
       "    }\n",
       "\n",
       "    .dataframe tbody tr th {\n",
       "        vertical-align: top;\n",
       "    }\n",
       "\n",
       "    .dataframe thead th {\n",
       "        text-align: right;\n",
       "    }\n",
       "</style>\n",
       "<table border=\"1\" class=\"dataframe\">\n",
       "  <thead>\n",
       "    <tr style=\"text-align: right;\">\n",
       "      <th></th>\n",
       "      <th>Userid</th>\n",
       "      <th>Rating</th>\n",
       "      <th>Timestamp</th>\n",
       "      <th>Title</th>\n",
       "      <th>Genres</th>\n",
       "      <th>Tag</th>\n",
       "      <th>Timetamp_date</th>\n",
       "      <th>year_of_production</th>\n",
       "    </tr>\n",
       "  </thead>\n",
       "  <tbody>\n",
       "    <tr>\n",
       "      <th>0</th>\n",
       "      <td>336</td>\n",
       "      <td>4.0</td>\n",
       "      <td>2005-07-24 17:48:49</td>\n",
       "      <td>Toy Story (1995)</td>\n",
       "      <td>Adventure|Animation|Children|Comedy|Fantasy</td>\n",
       "      <td>pixar</td>\n",
       "      <td>2005-07-24</td>\n",
       "      <td>1995</td>\n",
       "    </tr>\n",
       "    <tr>\n",
       "      <th>1</th>\n",
       "      <td>474</td>\n",
       "      <td>4.0</td>\n",
       "      <td>2001-01-04 02:36:00</td>\n",
       "      <td>Toy Story (1995)</td>\n",
       "      <td>Adventure|Animation|Children|Comedy|Fantasy</td>\n",
       "      <td>pixar</td>\n",
       "      <td>2001-01-04</td>\n",
       "      <td>1995</td>\n",
       "    </tr>\n",
       "  </tbody>\n",
       "</table>\n",
       "</div>"
      ],
      "text/plain": [
       "   Userid  Rating           Timestamp             Title  \\\n",
       "0     336     4.0 2005-07-24 17:48:49  Toy Story (1995)   \n",
       "1     474     4.0 2001-01-04 02:36:00  Toy Story (1995)   \n",
       "\n",
       "                                        Genres    Tag Timetamp_date  \\\n",
       "0  Adventure|Animation|Children|Comedy|Fantasy  pixar    2005-07-24   \n",
       "1  Adventure|Animation|Children|Comedy|Fantasy  pixar    2001-01-04   \n",
       "\n",
       "   year_of_production  \n",
       "0                1995  \n",
       "1                1995  "
      ]
     },
     "execution_count": 159,
     "metadata": {},
     "output_type": "execute_result"
    }
   ],
   "source": [
    "#runnnig our inal cleaned dataset ready for EDA\n",
    "Movies_df.head(2)"
   ]
  },
  {
   "cell_type": "markdown",
   "metadata": {},
   "source": [
    "We have no duplicated rows in our dataset. This means that each row is unique."
   ]
  },
  {
   "cell_type": "markdown",
   "metadata": {},
   "source": [
    "# 4.0 EXPLANATORY DATA ANALYSIS"
   ]
  },
  {
   "cell_type": "code",
   "execution_count": 170,
   "metadata": {},
   "outputs": [],
   "source": [
    "#Improting libraries for visualization\n",
    "import matplotlib.pyplot as plt\n",
    "%matplotlib inline\n",
    "import seaborn as sns"
   ]
  },
  {
   "cell_type": "code",
   "execution_count": 179,
   "metadata": {},
   "outputs": [
    {
     "data": {
      "image/png": "[encoded data removed]",
      "text/plain": [
       "<Figure size 1296x432 with 1 Axes>"
      ]
     },
     "metadata": {},
     "output_type": "display_data"
    }
   ],
   "source": [
    "\n",
    "def plot_rating_distribution(data):\n",
    "   \n",
    "    # Count the number of movies for each rating\n",
    "    rating_counts = data['Rating'].value_counts().sort_index()\n",
    "\n",
    "    # Plotting\n",
    "    plt.figure(figsize=(18, 6))\n",
    "    sns.barplot(x=rating_counts.index, y=rating_counts.values, palette='viridis')\n",
    "    plt.title('Distribution of Movie Ratings')\n",
    "    plt.xlabel('Ratings')\n",
    "    plt.ylabel('Number of Movies')\n",
    "    plt.xticks(rotation=0)\n",
    "    plt.show()\n",
    "\n",
    "# Example usage:\n",
    "plot_rating_distribution(Movies_df)  # Display the rating distribution plot\n"
   ]
  },
  {
   "cell_type": "code",
   "execution_count": 174,
   "metadata": {},
   "outputs": [
    {
     "data": {
      "image/png": "[encoded data removed]",
      "text/plain": [
       "<Figure size 1296x432 with 1 Axes>"
      ]
     },
     "metadata": {},
     "output_type": "display_data"
    }
   ],
   "source": [
    "# Create a histogram for the Rating feature\n",
    "plt.figure(figsize=(18, 6))\n",
    "sns.histplot(Movies_df['year_of_production'], bins=10, kde=True, color='cyan')\n",
    "\n",
    "# Add labels and title\n",
    "plt.title('Distribution of year of production', fontsize=16)\n",
    "plt.xlabel('year_of_production', fontsize=14)\n",
    "plt.ylabel('Frequency', fontsize=14)\n",
    "\n",
    "# Show the plot\n",
    "plt.show()"
   ]
  },
  {
   "cell_type": "code",
   "execution_count": 188,
   "metadata": {},
   "outputs": [
    {
     "data": {
      "image/png": "[encoded data removed]",
      "text/plain": [
       "<Figure size 1296x432 with 1 Axes>"
      ]
     },
     "metadata": {},
     "output_type": "display_data"
    }
   ],
   "source": [
    "import matplotlib.pyplot as plt\n",
    "\n",
    "# Get the frequency of the top 10 movie titles\n",
    "top_10_titles = Movies_df['Title'].value_counts().head(20)\n",
    "\n",
    "# Plotting the transposed bar graph\n",
    "plt.figure(figsize=(18, 6))\n",
    "top_10_titles.plot(kind='barh', color='skyblue')  # 'barh' for horizontal bars\n",
    "plt.title('Top 10 Movies by Frequency', fontsize=16)\n",
    "plt.xlabel('Frequency', fontsize=14)\n",
    "plt.ylabel('Movie Titles', fontsize=14)\n",
    "plt.grid(axis='x', linestyle='--', alpha=0.7)  # Horizontal grid\n",
    "plt.tight_layout()  # Adjusts the layout to make room for the labels\n",
    "plt.show()\n"
   ]
  },
  {
   "cell_type": "code",
   "execution_count": 202,
   "metadata": {},
   "outputs": [
    {
     "data": {
      "image/png": "[encoded data removed]",
      "text/plain": [
       "<Figure size 1296x432 with 1 Axes>"
      ]
     },
     "metadata": {},
     "output_type": "display_data"
    }
   ],
   "source": [
    "import matplotlib.pyplot as plt\n",
    "\n",
    "# Get the frequency of the top 10 movie titles\n",
    "top_10_Genres = Movies_df['Genres'].value_counts().head(10)\n",
    "\n",
    "# Plotting the transposed bar graph\n",
    "plt.figure(figsize=(18, 6))\n",
    "top_10_titles.plot(kind='barh', color='green')  # 'barh' for horizontal bars\n",
    "plt.title('Top 10 Genres by Frequency', fontsize=16)\n",
    "plt.xlabel('Frequency', fontsize=14)\n",
    "plt.ylabel('Movie Genres', fontsize=14)\n",
    "plt.grid(axis='x', linestyle='--', alpha=0.7)  # Horizontal grid\n",
    "plt.tight_layout()  # Adjusts the layout to make room for the labels\n",
    "plt.show()"
   ]
  },
  {
   "cell_type": "code",
   "execution_count": 203,
   "metadata": {},
   "outputs": [
    {
     "data": {
      "text/plain": [
       "Counter({'Adventure': 582,\n",
       "         'Animation': 231,\n",
       "         'Children': 183,\n",
       "         'Comedy': 1105,\n",
       "         'Fantasy': 283,\n",
       "         'Romance': 585,\n",
       "         'Mystery': 388,\n",
       "         'Thriller': 1065,\n",
       "         'Crime': 779,\n",
       "         'Action': 788,\n",
       "         'Drama': 2000,\n",
       "         'War': 153,\n",
       "         'Sci-Fi': 641,\n",
       "         'Western': 59,\n",
       "         'Horror': 209,\n",
       "         'Musical': 117,\n",
       "         'Film-Noir': 43,\n",
       "         'IMAX': 152,\n",
       "         'Documentary': 97})"
      ]
     },
     "execution_count": 203,
     "metadata": {},
     "output_type": "execute_result"
    }
   ],
   "source": [
    "from collections import Counter\n",
    "\n",
    "genres_list = Movies_df['Genres'].str.split('|').sum()\n",
    "genre_counts = Counter(genres_list)\n",
    "genre_counts"
   ]
  },
  {
   "cell_type": "code",
   "execution_count": 205,
   "metadata": {},
   "outputs": [
    {
     "data": {
      "image/png": "[encoded data removed]",
      "text/plain": [
       "<Figure size 1296x432 with 1 Axes>"
      ]
     },
     "metadata": {},
     "output_type": "display_data"
    }
   ],
   "source": [
    "#plotting genre against frequency.\n",
    "#  Separate the genre names and their respective counts\n",
    "genres = list(genre_counts.keys())\n",
    "counts = list(genre_counts.values())\n",
    "\n",
    "# Create a bar chart\n",
    "plt.figure(figsize=(18, 6))\n",
    "plt.bar(genres, counts, color='gray')\n",
    "\n",
    "# Add title and labels\n",
    "plt.title('Genres vs Frequency', fontsize=16)\n",
    "plt.xlabel('Genres', fontsize=14)\n",
    "plt.ylabel('Frequency', fontsize=14)\n",
    "\n",
    "# Rotate the x-axis labels for better readability\n",
    "plt.xticks(rotation=45, ha='right')\n",
    "\n",
    "# Display the graph\n",
    "plt.tight_layout()\n",
    "plt.show()\n"
   ]
  },
  {
   "cell_type": "markdown",
   "metadata": {},
   "source": [
    "* The gragh shows that the genres \"Drama\" and \"Comedy\" are the most popular among the movies in the dataset, with significantly higher counts compared to other genres.\n",
    "\n",
    "* Genres like \"Action,\" \"Thriller,\" and \"Crime\" have moderate levels of popularity, with counts falling somewhere between the most and least popular categories.\n",
    "* Genres such as \"Western,\" \"Horror,\" \"Musical,\" \"Film-Noir,\" \"IMAX,\" and \"Documentary\" have relatively low counts, indicating they are less frequently represented in the dataset.\n",
    "* There is a category labeled \"(no genres listed)\" with a non-zero count, suggesting that some movies in the dataset might not have any associated genre information."
   ]
  },
  {
   "cell_type": "markdown",
   "metadata": {},
   "source": [
    "# 5.0 MODELLING"
   ]
  }
 ],
 "metadata": {
  "kernelspec": {
   "display_name": "learn-env",
   "language": "python",
   "name": "python3"
  },
  "language_info": {
   "codemirror_mode": {
    "name": "ipython",
    "version": 3
   },
   "file_extension": ".py",
   "mimetype": "text/x-python",
   "name": "python",
   "nbconvert_exporter": "python",
   "pygments_lexer": "ipython3",
   "version": "3.8.5"
  }
 },
 "nbformat": 4,
 "nbformat_minor": 2
}
