{
 "cells": [
  {
   "cell_type": "markdown",
   "metadata": {},
   "source": [
    "\n",
    "# <font><b>MOVIELENS RECOMMENDATION SYSTEMS</b></font>\n",
    "\n",
    "\n"
   ]
  },
  {
   "cell_type": "markdown",
   "metadata": {},
   "source": [
    "## <font color=\"#90EE90\"><b>Collaborators</b></font>\n",
    "- 1.Ruth Kitasi\n",
    "- 2.Agatha Nyambati\n",
    "- 3.Joseline Apiyo\n",
    "- 4.Cecilia Ngunjiri\n",
    "- 5.John Mbego\n",
    "- 6.Leonard Koyio"
   ]
  },
  {
   "cell_type": "markdown",
   "metadata": {},
   "source": [
    "![Movie.jpeg](Movie.jpeg)"
   ]
  },
  {
   "cell_type": "markdown",
   "metadata": {},
   "source": [
    "# <font color=green><b>1. BUSINESS UNDERSTANDING</b></font> "
   ]
  },
  {
   "cell_type": "markdown",
   "metadata": {},
   "source": [
    "## <font color=\"#90EE90\"><b>1.1 Overview</b></font>\n"
   ]
  },
  {
   "cell_type": "markdown",
   "metadata": {},
   "source": [
    "In today’s data-driven world, recommendation systems are crucial for filtering information and enhancing user experiences. These systems help users discover relevant content by analyzing their past interactions, such as search queries or viewing histories.\n",
    "\n",
    "Major platforms like Netflix and YouTube utilize recommendation algorithms to suggest movies and videos that cater to individual preferences, enhancing user engagement.\n",
    "\n",
    "Aligned with our project objectives, we aim to leverage the power of data analysis to build an efficient movie recommendation system. Our goal is to deliver personalized movie suggestions by analyzing users’ previous movie ratings and interactions.\n",
    "\n",
    "By doing so, the system will generate top 5 tailored movie recommendations for each user, improving their viewing experience and aligning with their unique preferences."
   ]
  },
  {
   "cell_type": "markdown",
   "metadata": {},
   "source": [
    "## <font color=\"#90EE90\"><b>1.2 Problem Statement</b></font>"
   ]
  },
  {
   "cell_type": "markdown",
   "metadata": {},
   "source": [
    "With the vast amount of content available on streaming platforms, users often feel overwhelmed by choices, making it difficult to discover movies that align with their preferences. Traditional search methods fall short in addressing this challenge, resulting in a less satisfying user experience and decreased engagement.\n",
    "\n",
    "MovieLens has tasked our team of data scientists with optimizing their recommendation system through data-driven approaches. By analyzing user behaviors and preferences, we aim to enhance the system's ability to deliver personalized movie recommendations."
   ]
  },
  {
   "cell_type": "markdown",
   "metadata": {},
   "source": [
    "## <font color=\"#90EE90\"><b>1.3 Objectives</b></font>\n"
   ]
  },
  {
   "cell_type": "markdown",
   "metadata": {},
   "source": [
    "1. Develop a Personalized Recommendation System: Build a model that provides the top 5 movie recommendations to a user based on their ratings of other movies.\n",
    "\n",
    "2. Implement Content-Based Filtering for Existing Users: Establish a content-based filtering mechanism for existing users, enabling them to input specific movie titles to receive similar movie suggestions.\n",
    "\n",
    "3. Mitigate the Cold Start Problem by:\n",
    "\n",
    "   - Promoting Movie Popularity: Recommend high-rated movies to new users lacking interaction history, regardless of genre.\n",
    "   - Content-Based Filtering: Allow new users to select their preferred movie genre and receive the best movies within that genre.\n",
    "\n",
    "4. Evaluate the Recommendation System Performance: Assess the effectiveness of the recommendation system using the Root Mean Square Error (RMSE) metric.\n",
    "\n",
    "5. Analyze Movie Rating Frequency: Conduct an analysis of the MovieLens dataset to determine the average movie rating, aiming to understand user preferences.\n",
    "\n"
   ]
  },
  {
   "cell_type": "markdown",
   "metadata": {},
   "source": [
    "## <font color=\"#90EE90\"><b>1.4 Data Limitations</b></font>\n",
    "\n",
    "While the MovieLens dataset is a valuable resource for developing a movie recommendation system, it does come with certain limitations some of which are:-\n",
    "\n",
    "`Limited Temporal Coverage`: The dataset represents user interactions within a specific time period, which may not capture the latest shifts in movie trends or evolving audience preferences.\n",
    "\n",
    "`Genre Imbalance`: While the dataset contains various movie genres, some genres may be underrepresented, which could limit the diversity of recommendations. Users with preferences for niche or less popular genres might not receive accurate suggestions tailored to their tastes.\n",
    "\n",
    "`Cold-Start Problem`: The system may struggle with the cold-start problem, especially when dealing with new users or newly added movies that lack sufficient ratings or interaction data. This can hinder the system's ability to provide personalized and relevant recommendations in the absence of prior information.\n",
    "\n",
    "`Potential Rating Bias`: User ratings can be influenced by factors like popularity bias (where users tend to rate popular movies higher) or external social dynamics. This can skew the system's predictions, leading to recommendations that do not fully reflect a user's authentic preferences.\n",
    "."
   ]
  },
  {
   "cell_type": "markdown",
   "metadata": {
    "vscode": {
     "languageId": "plaintext"
    }
   },
   "source": [
    " \n",
    "# <font color=green><b>2.DATA UNDERSTANDING</b></font> "
   ]
  },
  {
   "cell_type": "markdown",
   "metadata": {
    "vscode": {
     "languageId": "plaintext"
    }
   },
   "source": [
    "## <font color=\"#90EE90\"><b>2.1 Data Structure and Description</b></font> "
   ]
  },
  {
   "cell_type": "markdown",
   "metadata": {},
   "source": [
    "The dataset https://grouplens.org/datasets/movielens/, was obtained from the GroupLens website which  is a well-known resource for research in recommendation systems and data analysis.\n",
    "\n",
    "The Movielens comprises of four files:\n",
    "\n",
    "##### 1. `links.csv`\n",
    "Contains identifiers linking MovieLens movies to external databases (IMDB and TMDb). The structure is structured as follows:\n",
    "\n",
    "\n",
    "| Column    | Description                                            |\n",
    "|-----------|--------------------------------------------------------|\n",
    "| `movieId` | ID representing each movie in the MovieLens dataset    |\n",
    "| `imdbId`  | Corresponding movie ID from IMDb                       |\n",
    "| `tmdbId`  | Corresponding movie ID from The Movie Database (TMDb)  |\n",
    "\n",
    "\n",
    "\n",
    "##### 2. `movies.csv`\n",
    "This file includes movie titles and their associated genres. The data is structured as follows:\n",
    "\n",
    "| Column    | Description                                                           |\n",
    "|-----------|-----------------------------------------------------------------------|\n",
    "| `movieId` | ID representing each movie                             |\n",
    "| `title`   | Movie title, including the year of release (e.g., *Toy Story (1995)*) |\n",
    "| `genres`  | Pipe-separated list of genres (e.g., *Animation|Children's|Comedy*)   |\n",
    "\n",
    "\n",
    "\n",
    "##### 3. `ratings.csv`\n",
    "This file contains explicit user ratings for movies on a **5-star scale**. The data is structured as:\n",
    "\n",
    "| Column   | Description                                   |\n",
    "|----------|-----------------------------------------------|\n",
    "| `userId` | Anonymized ID representing each user          |\n",
    "| `movieId`| ID representing each movie                    |\n",
    "| `rating` | User rating for the movie (0.5 to 5.0 stars)  |\n",
    "| `timestamp` | UNIX timestamp when the rating was made     |\n",
    "\n",
    "Ratings are sorted first by `userId`, then by `movieId`.\n",
    "\n",
    "##### 4. `tags.csv`\n",
    "Tags represent user-generated metadata (e.g., short descriptions or labels). The structure is:\n",
    "\n",
    "| Column   | Description                                    |\n",
    "|----------|------------------------------------------------|\n",
    "| `userId` | Anonymized ID representing each user           |\n",
    "| `movieId`| ID representing each movie                     |\n",
    "| `tag`    | User-assigned tag for the movie                |\n",
    "| `timestamp` | UNIX timestamp when the tag was added       |\n",
    "\n",
    "Like ratings, tags are sorted by `userId` and then by `movieId`\n",
    "\n",
    "\n",
    "  "
   ]
  },
  {
   "cell_type": "markdown",
   "metadata": {},
   "source": [
    "## <font color=\"#90EE90\"><b>2.2 Data Loading and Inspection </b></font> \n"
   ]
  },
  {
   "cell_type": "markdown",
   "metadata": {},
   "source": [
    "Our first step is to import the libraries required for viewing the dataset. \n",
    "\n",
    "Instead of importing all libraries simultaneously, we opt to import only those necessary at the moment of use. This strategy helps maintain a clean code structure and makes it easier to recognize when each library is being applied."
   ]
  },
  {
   "cell_type": "code",
   "execution_count": 282,
   "metadata": {},
   "outputs": [],
   "source": [
    "## Importing neccesary libraries\n",
    "import pandas as pd\n",
    "import numpy as np"
   ]
  },
  {
   "cell_type": "code",
   "execution_count": 283,
   "metadata": {},
   "outputs": [],
   "source": [
    "#Creating a function to read the files.\n",
    "\n",
    "def read_csv_file(file_name):\n",
    "\n",
    "    try:\n",
    "        df = pd.read_csv(file_name)\n",
    "        print(f\"{file_name} read successfully!\")\n",
    "        return df\n",
    "    except FileNotFoundError:\n",
    "        print(f\"Error: {file_name} not found!\")\n",
    "    except Exception as e:\n",
    "        print(f\"An error occurred while reading {file_name}: {e}\")\n"
   ]
  },
  {
   "cell_type": "code",
   "execution_count": 284,
   "metadata": {},
   "outputs": [
    {
     "name": "stdout",
     "output_type": "stream",
     "text": [
      "ml-latest-small\\links.csv read successfully!\n",
      "ml-latest-small\\movies.csv read successfully!\n",
      "ml-latest-small\\ratings.csv read successfully!\n",
      "ml-latest-small/tags.csv read successfully!\n"
     ]
    }
   ],
   "source": [
    "#using the fucntion to read files.\n",
    "\n",
    "links = read_csv_file(\"ml-latest-small\\links.csv\")\n",
    "movies = read_csv_file(\"ml-latest-small\\movies.csv\")\n",
    "ratings = read_csv_file(r\"ml-latest-small\\ratings.csv\")\n",
    "tags = read_csv_file(\"ml-latest-small/tags.csv\")"
   ]
  },
  {
   "cell_type": "markdown",
   "metadata": {},
   "source": [
    "Viewing the first few rows of each dataset"
   ]
  },
  {
   "cell_type": "code",
   "execution_count": 285,
   "metadata": {},
   "outputs": [
    {
     "data": {
      "text/html": [
       "<div>\n",
       "<style scoped>\n",
       "    .dataframe tbody tr th:only-of-type {\n",
       "        vertical-align: middle;\n",
       "    }\n",
       "\n",
       "    .dataframe tbody tr th {\n",
       "        vertical-align: top;\n",
       "    }\n",
       "\n",
       "    .dataframe thead th {\n",
       "        text-align: right;\n",
       "    }\n",
       "</style>\n",
       "<table border=\"1\" class=\"dataframe\">\n",
       "  <thead>\n",
       "    <tr style=\"text-align: right;\">\n",
       "      <th></th>\n",
       "      <th>movieId</th>\n",
       "      <th>imdbId</th>\n",
       "      <th>tmdbId</th>\n",
       "    </tr>\n",
       "  </thead>\n",
       "  <tbody>\n",
       "    <tr>\n",
       "      <th>0</th>\n",
       "      <td>1</td>\n",
       "      <td>114709</td>\n",
       "      <td>862.0</td>\n",
       "    </tr>\n",
       "    <tr>\n",
       "      <th>1</th>\n",
       "      <td>2</td>\n",
       "      <td>113497</td>\n",
       "      <td>8844.0</td>\n",
       "    </tr>\n",
       "    <tr>\n",
       "      <th>2</th>\n",
       "      <td>3</td>\n",
       "      <td>113228</td>\n",
       "      <td>15602.0</td>\n",
       "    </tr>\n",
       "    <tr>\n",
       "      <th>3</th>\n",
       "      <td>4</td>\n",
       "      <td>114885</td>\n",
       "      <td>31357.0</td>\n",
       "    </tr>\n",
       "    <tr>\n",
       "      <th>4</th>\n",
       "      <td>5</td>\n",
       "      <td>113041</td>\n",
       "      <td>11862.0</td>\n",
       "    </tr>\n",
       "  </tbody>\n",
       "</table>\n",
       "</div>"
      ],
      "text/plain": [
       "   movieId  imdbId   tmdbId\n",
       "0        1  114709    862.0\n",
       "1        2  113497   8844.0\n",
       "2        3  113228  15602.0\n",
       "3        4  114885  31357.0\n",
       "4        5  113041  11862.0"
      ]
     },
     "execution_count": 285,
     "metadata": {},
     "output_type": "execute_result"
    }
   ],
   "source": [
    "# links dataset \n",
    "links.head()"
   ]
  },
  {
   "cell_type": "code",
   "execution_count": 286,
   "metadata": {},
   "outputs": [
    {
     "data": {
      "text/html": [
       "<div>\n",
       "<style scoped>\n",
       "    .dataframe tbody tr th:only-of-type {\n",
       "        vertical-align: middle;\n",
       "    }\n",
       "\n",
       "    .dataframe tbody tr th {\n",
       "        vertical-align: top;\n",
       "    }\n",
       "\n",
       "    .dataframe thead th {\n",
       "        text-align: right;\n",
       "    }\n",
       "</style>\n",
       "<table border=\"1\" class=\"dataframe\">\n",
       "  <thead>\n",
       "    <tr style=\"text-align: right;\">\n",
       "      <th></th>\n",
       "      <th>movieId</th>\n",
       "      <th>title</th>\n",
       "      <th>genres</th>\n",
       "    </tr>\n",
       "  </thead>\n",
       "  <tbody>\n",
       "    <tr>\n",
       "      <th>0</th>\n",
       "      <td>1</td>\n",
       "      <td>Toy Story (1995)</td>\n",
       "      <td>Adventure|Animation|Children|Comedy|Fantasy</td>\n",
       "    </tr>\n",
       "    <tr>\n",
       "      <th>1</th>\n",
       "      <td>2</td>\n",
       "      <td>Jumanji (1995)</td>\n",
       "      <td>Adventure|Children|Fantasy</td>\n",
       "    </tr>\n",
       "    <tr>\n",
       "      <th>2</th>\n",
       "      <td>3</td>\n",
       "      <td>Grumpier Old Men (1995)</td>\n",
       "      <td>Comedy|Romance</td>\n",
       "    </tr>\n",
       "    <tr>\n",
       "      <th>3</th>\n",
       "      <td>4</td>\n",
       "      <td>Waiting to Exhale (1995)</td>\n",
       "      <td>Comedy|Drama|Romance</td>\n",
       "    </tr>\n",
       "    <tr>\n",
       "      <th>4</th>\n",
       "      <td>5</td>\n",
       "      <td>Father of the Bride Part II (1995)</td>\n",
       "      <td>Comedy</td>\n",
       "    </tr>\n",
       "  </tbody>\n",
       "</table>\n",
       "</div>"
      ],
      "text/plain": [
       "   movieId                               title  \\\n",
       "0        1                    Toy Story (1995)   \n",
       "1        2                      Jumanji (1995)   \n",
       "2        3             Grumpier Old Men (1995)   \n",
       "3        4            Waiting to Exhale (1995)   \n",
       "4        5  Father of the Bride Part II (1995)   \n",
       "\n",
       "                                        genres  \n",
       "0  Adventure|Animation|Children|Comedy|Fantasy  \n",
       "1                   Adventure|Children|Fantasy  \n",
       "2                               Comedy|Romance  \n",
       "3                         Comedy|Drama|Romance  \n",
       "4                                       Comedy  "
      ]
     },
     "execution_count": 286,
     "metadata": {},
     "output_type": "execute_result"
    }
   ],
   "source": [
    "# movies dataset\n",
    "movies.head()"
   ]
  },
  {
   "cell_type": "code",
   "execution_count": 287,
   "metadata": {},
   "outputs": [
    {
     "data": {
      "text/html": [
       "<div>\n",
       "<style scoped>\n",
       "    .dataframe tbody tr th:only-of-type {\n",
       "        vertical-align: middle;\n",
       "    }\n",
       "\n",
       "    .dataframe tbody tr th {\n",
       "        vertical-align: top;\n",
       "    }\n",
       "\n",
       "    .dataframe thead th {\n",
       "        text-align: right;\n",
       "    }\n",
       "</style>\n",
       "<table border=\"1\" class=\"dataframe\">\n",
       "  <thead>\n",
       "    <tr style=\"text-align: right;\">\n",
       "      <th></th>\n",
       "      <th>userId</th>\n",
       "      <th>movieId</th>\n",
       "      <th>rating</th>\n",
       "      <th>timestamp</th>\n",
       "    </tr>\n",
       "  </thead>\n",
       "  <tbody>\n",
       "    <tr>\n",
       "      <th>0</th>\n",
       "      <td>1</td>\n",
       "      <td>1</td>\n",
       "      <td>4.0</td>\n",
       "      <td>964982703</td>\n",
       "    </tr>\n",
       "    <tr>\n",
       "      <th>1</th>\n",
       "      <td>1</td>\n",
       "      <td>3</td>\n",
       "      <td>4.0</td>\n",
       "      <td>964981247</td>\n",
       "    </tr>\n",
       "    <tr>\n",
       "      <th>2</th>\n",
       "      <td>1</td>\n",
       "      <td>6</td>\n",
       "      <td>4.0</td>\n",
       "      <td>964982224</td>\n",
       "    </tr>\n",
       "    <tr>\n",
       "      <th>3</th>\n",
       "      <td>1</td>\n",
       "      <td>47</td>\n",
       "      <td>5.0</td>\n",
       "      <td>964983815</td>\n",
       "    </tr>\n",
       "    <tr>\n",
       "      <th>4</th>\n",
       "      <td>1</td>\n",
       "      <td>50</td>\n",
       "      <td>5.0</td>\n",
       "      <td>964982931</td>\n",
       "    </tr>\n",
       "  </tbody>\n",
       "</table>\n",
       "</div>"
      ],
      "text/plain": [
       "   userId  movieId  rating  timestamp\n",
       "0       1        1     4.0  964982703\n",
       "1       1        3     4.0  964981247\n",
       "2       1        6     4.0  964982224\n",
       "3       1       47     5.0  964983815\n",
       "4       1       50     5.0  964982931"
      ]
     },
     "execution_count": 287,
     "metadata": {},
     "output_type": "execute_result"
    }
   ],
   "source": [
    "# ratings dataset\n",
    "ratings.head()"
   ]
  },
  {
   "cell_type": "code",
   "execution_count": 288,
   "metadata": {},
   "outputs": [
    {
     "data": {
      "text/html": [
       "<div>\n",
       "<style scoped>\n",
       "    .dataframe tbody tr th:only-of-type {\n",
       "        vertical-align: middle;\n",
       "    }\n",
       "\n",
       "    .dataframe tbody tr th {\n",
       "        vertical-align: top;\n",
       "    }\n",
       "\n",
       "    .dataframe thead th {\n",
       "        text-align: right;\n",
       "    }\n",
       "</style>\n",
       "<table border=\"1\" class=\"dataframe\">\n",
       "  <thead>\n",
       "    <tr style=\"text-align: right;\">\n",
       "      <th></th>\n",
       "      <th>userId</th>\n",
       "      <th>movieId</th>\n",
       "      <th>tag</th>\n",
       "      <th>timestamp</th>\n",
       "    </tr>\n",
       "  </thead>\n",
       "  <tbody>\n",
       "    <tr>\n",
       "      <th>0</th>\n",
       "      <td>2</td>\n",
       "      <td>60756</td>\n",
       "      <td>funny</td>\n",
       "      <td>1445714994</td>\n",
       "    </tr>\n",
       "    <tr>\n",
       "      <th>1</th>\n",
       "      <td>2</td>\n",
       "      <td>60756</td>\n",
       "      <td>Highly quotable</td>\n",
       "      <td>1445714996</td>\n",
       "    </tr>\n",
       "    <tr>\n",
       "      <th>2</th>\n",
       "      <td>2</td>\n",
       "      <td>60756</td>\n",
       "      <td>will ferrell</td>\n",
       "      <td>1445714992</td>\n",
       "    </tr>\n",
       "    <tr>\n",
       "      <th>3</th>\n",
       "      <td>2</td>\n",
       "      <td>89774</td>\n",
       "      <td>Boxing story</td>\n",
       "      <td>1445715207</td>\n",
       "    </tr>\n",
       "    <tr>\n",
       "      <th>4</th>\n",
       "      <td>2</td>\n",
       "      <td>89774</td>\n",
       "      <td>MMA</td>\n",
       "      <td>1445715200</td>\n",
       "    </tr>\n",
       "  </tbody>\n",
       "</table>\n",
       "</div>"
      ],
      "text/plain": [
       "   userId  movieId              tag   timestamp\n",
       "0       2    60756            funny  1445714994\n",
       "1       2    60756  Highly quotable  1445714996\n",
       "2       2    60756     will ferrell  1445714992\n",
       "3       2    89774     Boxing story  1445715207\n",
       "4       2    89774              MMA  1445715200"
      ]
     },
     "execution_count": 288,
     "metadata": {},
     "output_type": "execute_result"
    }
   ],
   "source": [
    "#tags dataset\n",
    "tags.head()"
   ]
  },
  {
   "cell_type": "markdown",
   "metadata": {},
   "source": [
    "To gain insights into our dataset, we will proceed and create a function that provides an overview of the DataFrame.The function will display:-\n",
    "- Detailed information about the data types and non-null counts of each column.\n",
    "- the number of rows and columns.\n",
    "- A descriptive summary."
   ]
  },
  {
   "cell_type": "code",
   "execution_count": 289,
   "metadata": {},
   "outputs": [],
   "source": [
    "#Creating the function.\n",
    "def basic_stats(dataset, dataset_name):\n",
    "    print('Dataset: ', dataset_name)\n",
    "    print('\\n')\n",
    "\n",
    "    # Print the info of the dataset\n",
    "    dataset.info()\n",
    "    print('----------------------------------------------------------------------------------------')\n",
    "\n",
    "    # Print the shape of the dataset\n",
    "    print('Shape: ', dataset.shape)\n",
    "    print('----------------------------------------------------------------------------------------')\n",
    "\n",
    "      # Print basic statistics\n",
    "    print(dataset.describe())\n"
   ]
  },
  {
   "cell_type": "code",
   "execution_count": 290,
   "metadata": {},
   "outputs": [
    {
     "name": "stdout",
     "output_type": "stream",
     "text": [
      "Dataset:  Links\n",
      "\n",
      "\n",
      "<class 'pandas.core.frame.DataFrame'>\n",
      "RangeIndex: 9742 entries, 0 to 9741\n",
      "Data columns (total 3 columns):\n",
      " #   Column   Non-Null Count  Dtype  \n",
      "---  ------   --------------  -----  \n",
      " 0   movieId  9742 non-null   int64  \n",
      " 1   imdbId   9742 non-null   int64  \n",
      " 2   tmdbId   9734 non-null   float64\n",
      "dtypes: float64(1), int64(2)\n",
      "memory usage: 228.5 KB\n",
      "----------------------------------------------------------------------------------------\n",
      "Shape:  (9742, 3)\n",
      "----------------------------------------------------------------------------------------\n",
      "             movieId        imdbId         tmdbId\n",
      "count    9742.000000  9.742000e+03    9734.000000\n",
      "mean    42200.353623  6.771839e+05   55162.123793\n",
      "std     52160.494854  1.107228e+06   93653.481487\n",
      "min         1.000000  4.170000e+02       2.000000\n",
      "25%      3248.250000  9.518075e+04    9665.500000\n",
      "50%      7300.000000  1.672605e+05   16529.000000\n",
      "75%     76232.000000  8.055685e+05   44205.750000\n",
      "max    193609.000000  8.391976e+06  525662.000000\n"
     ]
    }
   ],
   "source": [
    "# links dataset summary\n",
    "\n",
    "basic_stats(links, 'Links')"
   ]
  },
  {
   "cell_type": "code",
   "execution_count": 291,
   "metadata": {},
   "outputs": [
    {
     "name": "stdout",
     "output_type": "stream",
     "text": [
      "Dataset:  Movie\n",
      "\n",
      "\n",
      "<class 'pandas.core.frame.DataFrame'>\n",
      "RangeIndex: 9742 entries, 0 to 9741\n",
      "Data columns (total 3 columns):\n",
      " #   Column   Non-Null Count  Dtype \n",
      "---  ------   --------------  ----- \n",
      " 0   movieId  9742 non-null   int64 \n",
      " 1   title    9742 non-null   object\n",
      " 2   genres   9742 non-null   object\n",
      "dtypes: int64(1), object(2)\n",
      "memory usage: 228.5+ KB\n",
      "----------------------------------------------------------------------------------------\n",
      "Shape:  (9742, 3)\n",
      "----------------------------------------------------------------------------------------\n",
      "             movieId\n",
      "count    9742.000000\n",
      "mean    42200.353623\n",
      "std     52160.494854\n",
      "min         1.000000\n",
      "25%      3248.250000\n",
      "50%      7300.000000\n",
      "75%     76232.000000\n",
      "max    193609.000000\n"
     ]
    }
   ],
   "source": [
    "# movies dataset summary\n",
    "\n",
    "basic_stats(movies, 'Movie')"
   ]
  },
  {
   "cell_type": "code",
   "execution_count": 292,
   "metadata": {},
   "outputs": [
    {
     "name": "stdout",
     "output_type": "stream",
     "text": [
      "Dataset:  Rating\n",
      "\n",
      "\n",
      "<class 'pandas.core.frame.DataFrame'>\n",
      "RangeIndex: 100836 entries, 0 to 100835\n",
      "Data columns (total 4 columns):\n",
      " #   Column     Non-Null Count   Dtype  \n",
      "---  ------     --------------   -----  \n",
      " 0   userId     100836 non-null  int64  \n",
      " 1   movieId    100836 non-null  int64  \n",
      " 2   rating     100836 non-null  float64\n",
      " 3   timestamp  100836 non-null  int64  \n",
      "dtypes: float64(1), int64(3)\n",
      "memory usage: 3.1 MB\n",
      "----------------------------------------------------------------------------------------\n",
      "Shape:  (100836, 4)\n",
      "----------------------------------------------------------------------------------------\n",
      "              userId        movieId         rating     timestamp\n",
      "count  100836.000000  100836.000000  100836.000000  1.008360e+05\n",
      "mean      326.127564   19435.295718       3.501557  1.205946e+09\n",
      "std       182.618491   35530.987199       1.042529  2.162610e+08\n",
      "min         1.000000       1.000000       0.500000  8.281246e+08\n",
      "25%       177.000000    1199.000000       3.000000  1.019124e+09\n",
      "50%       325.000000    2991.000000       3.500000  1.186087e+09\n",
      "75%       477.000000    8122.000000       4.000000  1.435994e+09\n",
      "max       610.000000  193609.000000       5.000000  1.537799e+09\n"
     ]
    }
   ],
   "source": [
    "# Rating dataset summary\n",
    "\n",
    "basic_stats(ratings, 'Rating')"
   ]
  },
  {
   "cell_type": "code",
   "execution_count": 293,
   "metadata": {},
   "outputs": [
    {
     "name": "stdout",
     "output_type": "stream",
     "text": [
      "Dataset:  Tags\n",
      "\n",
      "\n"
     ]
    },
    {
     "name": "stdout",
     "output_type": "stream",
     "text": [
      "<class 'pandas.core.frame.DataFrame'>\n",
      "RangeIndex: 3683 entries, 0 to 3682\n",
      "Data columns (total 4 columns):\n",
      " #   Column     Non-Null Count  Dtype \n",
      "---  ------     --------------  ----- \n",
      " 0   userId     3683 non-null   int64 \n",
      " 1   movieId    3683 non-null   int64 \n",
      " 2   tag        3683 non-null   object\n",
      " 3   timestamp  3683 non-null   int64 \n",
      "dtypes: int64(3), object(1)\n",
      "memory usage: 115.2+ KB\n",
      "----------------------------------------------------------------------------------------\n",
      "Shape:  (3683, 4)\n",
      "----------------------------------------------------------------------------------------\n",
      "            userId        movieId     timestamp\n",
      "count  3683.000000    3683.000000  3.683000e+03\n",
      "mean    431.149335   27252.013576  1.320032e+09\n",
      "std     158.472553   43490.558803  1.721025e+08\n",
      "min       2.000000       1.000000  1.137179e+09\n",
      "25%     424.000000    1262.500000  1.137521e+09\n",
      "50%     474.000000    4454.000000  1.269833e+09\n",
      "75%     477.000000   39263.000000  1.498457e+09\n",
      "max     610.000000  193565.000000  1.537099e+09\n"
     ]
    }
   ],
   "source": [
    "# movies dataset summary\n",
    "\n",
    "basic_stats(tags, 'Tags')"
   ]
  },
  {
   "cell_type": "markdown",
   "metadata": {},
   "source": [
    "### Observations made from Data Undertanding"
   ]
  },
  {
   "cell_type": "markdown",
   "metadata": {},
   "source": [
    "- All the four files have a common feature which is the movieID column.\n",
    "\n",
    "- The links and the movie datasets have equal number of rows of 9742.\n",
    "\n",
    "- Each dataset presents a mixed type of data.(int64, object and float64)"
   ]
  },
  {
   "cell_type": "markdown",
   "metadata": {},
   "source": [
    "\n",
    "## <font color=\"#90EE90\"><b>2.3 Merging Files</b></font>"
   ]
  },
  {
   "cell_type": "markdown",
   "metadata": {},
   "source": [
    "Given that the four datasets share a common feature, the movie ID, we will use this column to perform a merge, consolidating the datasets into a single file. This approach ensures not only the integration of information from different sources but also enhances data completeness and facilitates more thorough analysis."
   ]
  },
  {
   "cell_type": "code",
   "execution_count": 294,
   "metadata": {},
   "outputs": [
    {
     "data": {
      "text/html": [
       "<div>\n",
       "<style scoped>\n",
       "    .dataframe tbody tr th:only-of-type {\n",
       "        vertical-align: middle;\n",
       "    }\n",
       "\n",
       "    .dataframe tbody tr th {\n",
       "        vertical-align: top;\n",
       "    }\n",
       "\n",
       "    .dataframe thead th {\n",
       "        text-align: right;\n",
       "    }\n",
       "</style>\n",
       "<table border=\"1\" class=\"dataframe\">\n",
       "  <thead>\n",
       "    <tr style=\"text-align: right;\">\n",
       "      <th></th>\n",
       "      <th>movieId</th>\n",
       "      <th>title</th>\n",
       "      <th>genres</th>\n",
       "      <th>imdbId</th>\n",
       "      <th>tmdbId</th>\n",
       "    </tr>\n",
       "  </thead>\n",
       "  <tbody>\n",
       "    <tr>\n",
       "      <th>0</th>\n",
       "      <td>1</td>\n",
       "      <td>Toy Story (1995)</td>\n",
       "      <td>Adventure|Animation|Children|Comedy|Fantasy</td>\n",
       "      <td>114709</td>\n",
       "      <td>862.0</td>\n",
       "    </tr>\n",
       "    <tr>\n",
       "      <th>1</th>\n",
       "      <td>2</td>\n",
       "      <td>Jumanji (1995)</td>\n",
       "      <td>Adventure|Children|Fantasy</td>\n",
       "      <td>113497</td>\n",
       "      <td>8844.0</td>\n",
       "    </tr>\n",
       "    <tr>\n",
       "      <th>2</th>\n",
       "      <td>3</td>\n",
       "      <td>Grumpier Old Men (1995)</td>\n",
       "      <td>Comedy|Romance</td>\n",
       "      <td>113228</td>\n",
       "      <td>15602.0</td>\n",
       "    </tr>\n",
       "    <tr>\n",
       "      <th>3</th>\n",
       "      <td>4</td>\n",
       "      <td>Waiting to Exhale (1995)</td>\n",
       "      <td>Comedy|Drama|Romance</td>\n",
       "      <td>114885</td>\n",
       "      <td>31357.0</td>\n",
       "    </tr>\n",
       "    <tr>\n",
       "      <th>4</th>\n",
       "      <td>5</td>\n",
       "      <td>Father of the Bride Part II (1995)</td>\n",
       "      <td>Comedy</td>\n",
       "      <td>113041</td>\n",
       "      <td>11862.0</td>\n",
       "    </tr>\n",
       "  </tbody>\n",
       "</table>\n",
       "</div>"
      ],
      "text/plain": [
       "   movieId                               title  \\\n",
       "0        1                    Toy Story (1995)   \n",
       "1        2                      Jumanji (1995)   \n",
       "2        3             Grumpier Old Men (1995)   \n",
       "3        4            Waiting to Exhale (1995)   \n",
       "4        5  Father of the Bride Part II (1995)   \n",
       "\n",
       "                                        genres  imdbId   tmdbId  \n",
       "0  Adventure|Animation|Children|Comedy|Fantasy  114709    862.0  \n",
       "1                   Adventure|Children|Fantasy  113497   8844.0  \n",
       "2                               Comedy|Romance  113228  15602.0  \n",
       "3                         Comedy|Drama|Romance  114885  31357.0  \n",
       "4                                       Comedy  113041  11862.0  "
      ]
     },
     "execution_count": 294,
     "metadata": {},
     "output_type": "execute_result"
    }
   ],
   "source": [
    "## Merging files on the common feature the MovieID\n",
    "\n",
    "##Step 1: Merging the movies and the links datasets.\n",
    "movies_links_merged =  pd.merge(movies, links, on='movieId', how='inner')\n",
    "movies_links_merged.head()"
   ]
  },
  {
   "cell_type": "code",
   "execution_count": 295,
   "metadata": {},
   "outputs": [
    {
     "data": {
      "text/html": [
       "<div>\n",
       "<style scoped>\n",
       "    .dataframe tbody tr th:only-of-type {\n",
       "        vertical-align: middle;\n",
       "    }\n",
       "\n",
       "    .dataframe tbody tr th {\n",
       "        vertical-align: top;\n",
       "    }\n",
       "\n",
       "    .dataframe thead th {\n",
       "        text-align: right;\n",
       "    }\n",
       "</style>\n",
       "<table border=\"1\" class=\"dataframe\">\n",
       "  <thead>\n",
       "    <tr style=\"text-align: right;\">\n",
       "      <th></th>\n",
       "      <th>userId</th>\n",
       "      <th>movieId</th>\n",
       "      <th>rating</th>\n",
       "      <th>timestamp</th>\n",
       "      <th>title</th>\n",
       "      <th>genres</th>\n",
       "      <th>imdbId</th>\n",
       "      <th>tmdbId</th>\n",
       "    </tr>\n",
       "  </thead>\n",
       "  <tbody>\n",
       "    <tr>\n",
       "      <th>0</th>\n",
       "      <td>1</td>\n",
       "      <td>1</td>\n",
       "      <td>4.0</td>\n",
       "      <td>964982703</td>\n",
       "      <td>Toy Story (1995)</td>\n",
       "      <td>Adventure|Animation|Children|Comedy|Fantasy</td>\n",
       "      <td>114709</td>\n",
       "      <td>862.0</td>\n",
       "    </tr>\n",
       "    <tr>\n",
       "      <th>1</th>\n",
       "      <td>5</td>\n",
       "      <td>1</td>\n",
       "      <td>4.0</td>\n",
       "      <td>847434962</td>\n",
       "      <td>Toy Story (1995)</td>\n",
       "      <td>Adventure|Animation|Children|Comedy|Fantasy</td>\n",
       "      <td>114709</td>\n",
       "      <td>862.0</td>\n",
       "    </tr>\n",
       "    <tr>\n",
       "      <th>2</th>\n",
       "      <td>7</td>\n",
       "      <td>1</td>\n",
       "      <td>4.5</td>\n",
       "      <td>1106635946</td>\n",
       "      <td>Toy Story (1995)</td>\n",
       "      <td>Adventure|Animation|Children|Comedy|Fantasy</td>\n",
       "      <td>114709</td>\n",
       "      <td>862.0</td>\n",
       "    </tr>\n",
       "    <tr>\n",
       "      <th>3</th>\n",
       "      <td>15</td>\n",
       "      <td>1</td>\n",
       "      <td>2.5</td>\n",
       "      <td>1510577970</td>\n",
       "      <td>Toy Story (1995)</td>\n",
       "      <td>Adventure|Animation|Children|Comedy|Fantasy</td>\n",
       "      <td>114709</td>\n",
       "      <td>862.0</td>\n",
       "    </tr>\n",
       "    <tr>\n",
       "      <th>4</th>\n",
       "      <td>17</td>\n",
       "      <td>1</td>\n",
       "      <td>4.5</td>\n",
       "      <td>1305696483</td>\n",
       "      <td>Toy Story (1995)</td>\n",
       "      <td>Adventure|Animation|Children|Comedy|Fantasy</td>\n",
       "      <td>114709</td>\n",
       "      <td>862.0</td>\n",
       "    </tr>\n",
       "  </tbody>\n",
       "</table>\n",
       "</div>"
      ],
      "text/plain": [
       "   userId  movieId  rating   timestamp             title  \\\n",
       "0       1        1     4.0   964982703  Toy Story (1995)   \n",
       "1       5        1     4.0   847434962  Toy Story (1995)   \n",
       "2       7        1     4.5  1106635946  Toy Story (1995)   \n",
       "3      15        1     2.5  1510577970  Toy Story (1995)   \n",
       "4      17        1     4.5  1305696483  Toy Story (1995)   \n",
       "\n",
       "                                        genres  imdbId  tmdbId  \n",
       "0  Adventure|Animation|Children|Comedy|Fantasy  114709   862.0  \n",
       "1  Adventure|Animation|Children|Comedy|Fantasy  114709   862.0  \n",
       "2  Adventure|Animation|Children|Comedy|Fantasy  114709   862.0  \n",
       "3  Adventure|Animation|Children|Comedy|Fantasy  114709   862.0  \n",
       "4  Adventure|Animation|Children|Comedy|Fantasy  114709   862.0  "
      ]
     },
     "execution_count": 295,
     "metadata": {},
     "output_type": "execute_result"
    }
   ],
   "source": [
    "##Step 2: Merging the movies_links_merged and ratings datasets on movieId\n",
    "\n",
    "movies_links_ratings_merged =pd.merge(ratings, movies_links_merged,on='movieId', how='inner')\n",
    "movies_links_ratings_merged.head()"
   ]
  },
  {
   "cell_type": "code",
   "execution_count": 296,
   "metadata": {},
   "outputs": [
    {
     "data": {
      "text/html": [
       "<div>\n",
       "<style scoped>\n",
       "    .dataframe tbody tr th:only-of-type {\n",
       "        vertical-align: middle;\n",
       "    }\n",
       "\n",
       "    .dataframe tbody tr th {\n",
       "        vertical-align: top;\n",
       "    }\n",
       "\n",
       "    .dataframe thead th {\n",
       "        text-align: right;\n",
       "    }\n",
       "</style>\n",
       "<table border=\"1\" class=\"dataframe\">\n",
       "  <thead>\n",
       "    <tr style=\"text-align: right;\">\n",
       "      <th></th>\n",
       "      <th>userId</th>\n",
       "      <th>movieId</th>\n",
       "      <th>rating</th>\n",
       "      <th>timestamp_x</th>\n",
       "      <th>title</th>\n",
       "      <th>genres</th>\n",
       "      <th>imdbId</th>\n",
       "      <th>tmdbId</th>\n",
       "      <th>tag</th>\n",
       "      <th>timestamp_y</th>\n",
       "    </tr>\n",
       "  </thead>\n",
       "  <tbody>\n",
       "    <tr>\n",
       "      <th>0</th>\n",
       "      <td>336</td>\n",
       "      <td>1</td>\n",
       "      <td>4.0</td>\n",
       "      <td>1122227329</td>\n",
       "      <td>Toy Story (1995)</td>\n",
       "      <td>Adventure|Animation|Children|Comedy|Fantasy</td>\n",
       "      <td>114709</td>\n",
       "      <td>862.0</td>\n",
       "      <td>pixar</td>\n",
       "      <td>1139045764</td>\n",
       "    </tr>\n",
       "    <tr>\n",
       "      <th>1</th>\n",
       "      <td>474</td>\n",
       "      <td>1</td>\n",
       "      <td>4.0</td>\n",
       "      <td>978575760</td>\n",
       "      <td>Toy Story (1995)</td>\n",
       "      <td>Adventure|Animation|Children|Comedy|Fantasy</td>\n",
       "      <td>114709</td>\n",
       "      <td>862.0</td>\n",
       "      <td>pixar</td>\n",
       "      <td>1137206825</td>\n",
       "    </tr>\n",
       "    <tr>\n",
       "      <th>2</th>\n",
       "      <td>567</td>\n",
       "      <td>1</td>\n",
       "      <td>3.5</td>\n",
       "      <td>1525286001</td>\n",
       "      <td>Toy Story (1995)</td>\n",
       "      <td>Adventure|Animation|Children|Comedy|Fantasy</td>\n",
       "      <td>114709</td>\n",
       "      <td>862.0</td>\n",
       "      <td>fun</td>\n",
       "      <td>1525286013</td>\n",
       "    </tr>\n",
       "    <tr>\n",
       "      <th>3</th>\n",
       "      <td>289</td>\n",
       "      <td>3</td>\n",
       "      <td>2.5</td>\n",
       "      <td>1143424657</td>\n",
       "      <td>Grumpier Old Men (1995)</td>\n",
       "      <td>Comedy|Romance</td>\n",
       "      <td>113228</td>\n",
       "      <td>15602.0</td>\n",
       "      <td>moldy</td>\n",
       "      <td>1143424860</td>\n",
       "    </tr>\n",
       "    <tr>\n",
       "      <th>4</th>\n",
       "      <td>289</td>\n",
       "      <td>3</td>\n",
       "      <td>2.5</td>\n",
       "      <td>1143424657</td>\n",
       "      <td>Grumpier Old Men (1995)</td>\n",
       "      <td>Comedy|Romance</td>\n",
       "      <td>113228</td>\n",
       "      <td>15602.0</td>\n",
       "      <td>old</td>\n",
       "      <td>1143424860</td>\n",
       "    </tr>\n",
       "  </tbody>\n",
       "</table>\n",
       "</div>"
      ],
      "text/plain": [
       "   userId  movieId  rating  timestamp_x                    title  \\\n",
       "0     336        1     4.0   1122227329         Toy Story (1995)   \n",
       "1     474        1     4.0    978575760         Toy Story (1995)   \n",
       "2     567        1     3.5   1525286001         Toy Story (1995)   \n",
       "3     289        3     2.5   1143424657  Grumpier Old Men (1995)   \n",
       "4     289        3     2.5   1143424657  Grumpier Old Men (1995)   \n",
       "\n",
       "                                        genres  imdbId   tmdbId    tag  \\\n",
       "0  Adventure|Animation|Children|Comedy|Fantasy  114709    862.0  pixar   \n",
       "1  Adventure|Animation|Children|Comedy|Fantasy  114709    862.0  pixar   \n",
       "2  Adventure|Animation|Children|Comedy|Fantasy  114709    862.0    fun   \n",
       "3                               Comedy|Romance  113228  15602.0  moldy   \n",
       "4                               Comedy|Romance  113228  15602.0    old   \n",
       "\n",
       "   timestamp_y  \n",
       "0   1139045764  \n",
       "1   1137206825  \n",
       "2   1525286013  \n",
       "3   1143424860  \n",
       "4   1143424860  "
      ]
     },
     "execution_count": 296,
     "metadata": {},
     "output_type": "execute_result"
    }
   ],
   "source": [
    "##Step 3: Merging the results of movies_links_rating_merged with the tags dataset.\n",
    "final_merge =  pd.merge(movies_links_ratings_merged, tags, on=['movieId','userId'])\n",
    "final_merge.head()"
   ]
  },
  {
   "cell_type": "code",
   "execution_count": 297,
   "metadata": {},
   "outputs": [
    {
     "name": "stdout",
     "output_type": "stream",
     "text": [
      "The final merged dataset contains 3476 rows and 10 columns\n"
     ]
    }
   ],
   "source": [
    "## Checking the number of rows and colums of our final merged dataset\n",
    "\n",
    "rows, colums = final_merge.shape\n",
    "print(f'The final merged dataset contains {rows} rows and {colums} columns')"
   ]
  },
  {
   "cell_type": "code",
   "execution_count": 298,
   "metadata": {},
   "outputs": [
    {
     "name": "stdout",
     "output_type": "stream",
     "text": [
      "<class 'pandas.core.frame.DataFrame'>\n",
      "Int64Index: 3476 entries, 0 to 3475\n",
      "Data columns (total 10 columns):\n",
      " #   Column       Non-Null Count  Dtype  \n",
      "---  ------       --------------  -----  \n",
      " 0   userId       3476 non-null   int64  \n",
      " 1   movieId      3476 non-null   int64  \n",
      " 2   rating       3476 non-null   float64\n",
      " 3   timestamp_x  3476 non-null   int64  \n",
      " 4   title        3476 non-null   object \n",
      " 5   genres       3476 non-null   object \n",
      " 6   imdbId       3476 non-null   int64  \n",
      " 7   tmdbId       3476 non-null   float64\n",
      " 8   tag          3476 non-null   object \n",
      " 9   timestamp_y  3476 non-null   int64  \n",
      "dtypes: float64(2), int64(5), object(3)\n",
      "memory usage: 298.7+ KB\n"
     ]
    }
   ],
   "source": [
    "##Getting a detailed information about the data types and non-null counts of each column.\n",
    "final_merge.info()"
   ]
  },
  {
   "cell_type": "markdown",
   "metadata": {},
   "source": [
    "The dataset contains 3476 entries, and all columns have non-null counts equal to the total number of entries. This indicates that there are no missing values in the dataset, which is essential for ensuring the reliability of any analyses or models built on this data.\n",
    "\n",
    "The dataset includes a mix of data types:\n",
    "  - Integer Types (int64): Columns such as userId, movieId, imdbId, and timestamp_x are stored as integers, which are typically suitable for unique identifiers and timestamps.\n",
    "  - Float Types (float64): The rating and tmdbId columns are stored as float64, which is appropriate for numerical values that may require decimal representation.\n",
    "  - Object Types: The columns title, genres, tag, and timestamp_y are categorized as objects (strings). These columns likely contain categorical data or textual information, which may require further processing or encoding for analysis or modeling\n",
    "\n",
    "memory Usage:The dataset uses approximately 298.7 KB of memory, indicating that it is manageable in size.\n",
    "\n",
    "\n"
   ]
  },
  {
   "cell_type": "code",
   "execution_count": 299,
   "metadata": {},
   "outputs": [
    {
     "data": {
      "text/html": [
       "<div>\n",
       "<style scoped>\n",
       "    .dataframe tbody tr th:only-of-type {\n",
       "        vertical-align: middle;\n",
       "    }\n",
       "\n",
       "    .dataframe tbody tr th {\n",
       "        vertical-align: top;\n",
       "    }\n",
       "\n",
       "    .dataframe thead th {\n",
       "        text-align: right;\n",
       "    }\n",
       "</style>\n",
       "<table border=\"1\" class=\"dataframe\">\n",
       "  <thead>\n",
       "    <tr style=\"text-align: right;\">\n",
       "      <th></th>\n",
       "      <th>userId</th>\n",
       "      <th>movieId</th>\n",
       "      <th>rating</th>\n",
       "      <th>timestamp_x</th>\n",
       "      <th>imdbId</th>\n",
       "      <th>tmdbId</th>\n",
       "      <th>timestamp_y</th>\n",
       "    </tr>\n",
       "  </thead>\n",
       "  <tbody>\n",
       "    <tr>\n",
       "      <th>count</th>\n",
       "      <td>3476.000000</td>\n",
       "      <td>3476.000000</td>\n",
       "      <td>3476.000000</td>\n",
       "      <td>3.476000e+03</td>\n",
       "      <td>3.476000e+03</td>\n",
       "      <td>3476.000000</td>\n",
       "      <td>3.476000e+03</td>\n",
       "    </tr>\n",
       "    <tr>\n",
       "      <th>mean</th>\n",
       "      <td>429.785386</td>\n",
       "      <td>28009.502301</td>\n",
       "      <td>4.016830</td>\n",
       "      <td>1.297281e+09</td>\n",
       "      <td>4.920095e+05</td>\n",
       "      <td>33499.696203</td>\n",
       "      <td>1.323525e+09</td>\n",
       "    </tr>\n",
       "    <tr>\n",
       "      <th>std</th>\n",
       "      <td>161.552990</td>\n",
       "      <td>44138.125029</td>\n",
       "      <td>0.856925</td>\n",
       "      <td>2.038080e+08</td>\n",
       "      <td>8.193528e+05</td>\n",
       "      <td>75172.715180</td>\n",
       "      <td>1.731554e+08</td>\n",
       "    </tr>\n",
       "    <tr>\n",
       "      <th>min</th>\n",
       "      <td>2.000000</td>\n",
       "      <td>1.000000</td>\n",
       "      <td>0.500000</td>\n",
       "      <td>9.746667e+08</td>\n",
       "      <td>1.234900e+04</td>\n",
       "      <td>11.000000</td>\n",
       "      <td>1.137179e+09</td>\n",
       "    </tr>\n",
       "    <tr>\n",
       "      <th>25%</th>\n",
       "      <td>424.000000</td>\n",
       "      <td>1261.500000</td>\n",
       "      <td>3.500000</td>\n",
       "      <td>1.100120e+09</td>\n",
       "      <td>9.740875e+04</td>\n",
       "      <td>680.000000</td>\n",
       "      <td>1.138032e+09</td>\n",
       "    </tr>\n",
       "    <tr>\n",
       "      <th>50%</th>\n",
       "      <td>474.000000</td>\n",
       "      <td>4492.000000</td>\n",
       "      <td>4.000000</td>\n",
       "      <td>1.281766e+09</td>\n",
       "      <td>1.207750e+05</td>\n",
       "      <td>7708.000000</td>\n",
       "      <td>1.279956e+09</td>\n",
       "    </tr>\n",
       "    <tr>\n",
       "      <th>75%</th>\n",
       "      <td>523.250000</td>\n",
       "      <td>45499.000000</td>\n",
       "      <td>5.000000</td>\n",
       "      <td>1.498457e+09</td>\n",
       "      <td>3.953342e+05</td>\n",
       "      <td>19913.000000</td>\n",
       "      <td>1.498457e+09</td>\n",
       "    </tr>\n",
       "    <tr>\n",
       "      <th>max</th>\n",
       "      <td>610.000000</td>\n",
       "      <td>193565.000000</td>\n",
       "      <td>5.000000</td>\n",
       "      <td>1.537099e+09</td>\n",
       "      <td>5.580390e+06</td>\n",
       "      <td>503475.000000</td>\n",
       "      <td>1.537099e+09</td>\n",
       "    </tr>\n",
       "  </tbody>\n",
       "</table>\n",
       "</div>"
      ],
      "text/plain": [
       "            userId        movieId       rating   timestamp_x        imdbId  \\\n",
       "count  3476.000000    3476.000000  3476.000000  3.476000e+03  3.476000e+03   \n",
       "mean    429.785386   28009.502301     4.016830  1.297281e+09  4.920095e+05   \n",
       "std     161.552990   44138.125029     0.856925  2.038080e+08  8.193528e+05   \n",
       "min       2.000000       1.000000     0.500000  9.746667e+08  1.234900e+04   \n",
       "25%     424.000000    1261.500000     3.500000  1.100120e+09  9.740875e+04   \n",
       "50%     474.000000    4492.000000     4.000000  1.281766e+09  1.207750e+05   \n",
       "75%     523.250000   45499.000000     5.000000  1.498457e+09  3.953342e+05   \n",
       "max     610.000000  193565.000000     5.000000  1.537099e+09  5.580390e+06   \n",
       "\n",
       "              tmdbId   timestamp_y  \n",
       "count    3476.000000  3.476000e+03  \n",
       "mean    33499.696203  1.323525e+09  \n",
       "std     75172.715180  1.731554e+08  \n",
       "min        11.000000  1.137179e+09  \n",
       "25%       680.000000  1.138032e+09  \n",
       "50%      7708.000000  1.279956e+09  \n",
       "75%     19913.000000  1.498457e+09  \n",
       "max    503475.000000  1.537099e+09  "
      ]
     },
     "execution_count": 299,
     "metadata": {},
     "output_type": "execute_result"
    }
   ],
   "source": [
    "final_merge.describe()"
   ]
  },
  {
   "cell_type": "markdown",
   "metadata": {},
   "source": [
    "User IDs (userId): The dataset contains 610 unique users (from ID 2 to 610), with a mean of approximately 429.79 and a standard deviation of 161.55. This indicates a reasonably diverse set of users, but there may be a concentration of ratings from a smaller subset of users\n",
    "\n",
    "Movie IDs (movieId): There are 193,565 unique movies (from ID 1 to 193,565), but the mean movie ID is around 28,009.5 with a standard deviation of 44,138.13. This suggests a wide range of movies are being rated, with many movies likely having few ratings.\n",
    "imdbId and tmdbId: Similarly, the IMDb IDs and TMDB IDs show a broad range from 12,349 to 5,580,390 (IMDb) and from 11 to 503,475 (TMDB), also suggesting a wide variety of movie records. The high standard deviation indicates significant variation in these IDs.\n",
    "\n",
    "Rating Scale: Ratings range from 0.5 to 5.0. The mean rating is 4.02, indicating that users tend to rate movies positively on average.\n",
    "IMDB IDs (imdbId): The IMDB IDs range from 12,349 to 5,580,390, with a mean of 492,009.5. This wide range suggests that the dataset includes movies from various genres and production years.\n",
    "TMDB IDs (tmdbId): Similarly, the TMDB IDs have a range from 11 to 503,475. The variability in these IDs can give insights into the variety of movies included in the dataset."
   ]
  },
  {
   "cell_type": "code",
   "execution_count": 300,
   "metadata": {},
   "outputs": [
    {
     "data": {
      "text/html": [
       "<div>\n",
       "<style scoped>\n",
       "    .dataframe tbody tr th:only-of-type {\n",
       "        vertical-align: middle;\n",
       "    }\n",
       "\n",
       "    .dataframe tbody tr th {\n",
       "        vertical-align: top;\n",
       "    }\n",
       "\n",
       "    .dataframe thead th {\n",
       "        text-align: right;\n",
       "    }\n",
       "</style>\n",
       "<table border=\"1\" class=\"dataframe\">\n",
       "  <thead>\n",
       "    <tr style=\"text-align: right;\">\n",
       "      <th></th>\n",
       "      <th>userId</th>\n",
       "      <th>movieId</th>\n",
       "      <th>rating</th>\n",
       "      <th>timestamp_x</th>\n",
       "      <th>title</th>\n",
       "      <th>genres</th>\n",
       "      <th>imdbId</th>\n",
       "      <th>tmdbId</th>\n",
       "      <th>tag</th>\n",
       "      <th>timestamp_y</th>\n",
       "    </tr>\n",
       "  </thead>\n",
       "  <tbody>\n",
       "    <tr>\n",
       "      <th>0</th>\n",
       "      <td>336</td>\n",
       "      <td>1</td>\n",
       "      <td>4.0</td>\n",
       "      <td>1122227329</td>\n",
       "      <td>Toy Story (1995)</td>\n",
       "      <td>Adventure|Animation|Children|Comedy|Fantasy</td>\n",
       "      <td>114709</td>\n",
       "      <td>862.0</td>\n",
       "      <td>pixar</td>\n",
       "      <td>1139045764</td>\n",
       "    </tr>\n",
       "    <tr>\n",
       "      <th>1</th>\n",
       "      <td>474</td>\n",
       "      <td>1</td>\n",
       "      <td>4.0</td>\n",
       "      <td>978575760</td>\n",
       "      <td>Toy Story (1995)</td>\n",
       "      <td>Adventure|Animation|Children|Comedy|Fantasy</td>\n",
       "      <td>114709</td>\n",
       "      <td>862.0</td>\n",
       "      <td>pixar</td>\n",
       "      <td>1137206825</td>\n",
       "    </tr>\n",
       "    <tr>\n",
       "      <th>2</th>\n",
       "      <td>567</td>\n",
       "      <td>1</td>\n",
       "      <td>3.5</td>\n",
       "      <td>1525286001</td>\n",
       "      <td>Toy Story (1995)</td>\n",
       "      <td>Adventure|Animation|Children|Comedy|Fantasy</td>\n",
       "      <td>114709</td>\n",
       "      <td>862.0</td>\n",
       "      <td>fun</td>\n",
       "      <td>1525286013</td>\n",
       "    </tr>\n",
       "    <tr>\n",
       "      <th>3</th>\n",
       "      <td>289</td>\n",
       "      <td>3</td>\n",
       "      <td>2.5</td>\n",
       "      <td>1143424657</td>\n",
       "      <td>Grumpier Old Men (1995)</td>\n",
       "      <td>Comedy|Romance</td>\n",
       "      <td>113228</td>\n",
       "      <td>15602.0</td>\n",
       "      <td>moldy</td>\n",
       "      <td>1143424860</td>\n",
       "    </tr>\n",
       "    <tr>\n",
       "      <th>4</th>\n",
       "      <td>289</td>\n",
       "      <td>3</td>\n",
       "      <td>2.5</td>\n",
       "      <td>1143424657</td>\n",
       "      <td>Grumpier Old Men (1995)</td>\n",
       "      <td>Comedy|Romance</td>\n",
       "      <td>113228</td>\n",
       "      <td>15602.0</td>\n",
       "      <td>old</td>\n",
       "      <td>1143424860</td>\n",
       "    </tr>\n",
       "  </tbody>\n",
       "</table>\n",
       "</div>"
      ],
      "text/plain": [
       "   userId  movieId  rating  timestamp_x                    title  \\\n",
       "0     336        1     4.0   1122227329         Toy Story (1995)   \n",
       "1     474        1     4.0    978575760         Toy Story (1995)   \n",
       "2     567        1     3.5   1525286001         Toy Story (1995)   \n",
       "3     289        3     2.5   1143424657  Grumpier Old Men (1995)   \n",
       "4     289        3     2.5   1143424657  Grumpier Old Men (1995)   \n",
       "\n",
       "                                        genres  imdbId   tmdbId    tag  \\\n",
       "0  Adventure|Animation|Children|Comedy|Fantasy  114709    862.0  pixar   \n",
       "1  Adventure|Animation|Children|Comedy|Fantasy  114709    862.0  pixar   \n",
       "2  Adventure|Animation|Children|Comedy|Fantasy  114709    862.0    fun   \n",
       "3                               Comedy|Romance  113228  15602.0  moldy   \n",
       "4                               Comedy|Romance  113228  15602.0    old   \n",
       "\n",
       "   timestamp_y  \n",
       "0   1139045764  \n",
       "1   1137206825  \n",
       "2   1525286013  \n",
       "3   1143424860  \n",
       "4   1143424860  "
      ]
     },
     "execution_count": 300,
     "metadata": {},
     "output_type": "execute_result"
    }
   ],
   "source": [
    "#creating a copy of the final merge for to perform data cleaning\n",
    "Movies_df = final_merge\n",
    "Movies_df.head()"
   ]
  },
  {
   "cell_type": "markdown",
   "metadata": {},
   "source": [
    "\n",
    "## <font color=green><b>3.DATA CLEANING</b></font> "
   ]
  },
  {
   "cell_type": "markdown",
   "metadata": {},
   "source": [
    "Now that we have merged our dataset, we will take the following steps to ensure it is clean and ready for analysis:\n",
    "\n",
    "1. `Checking and handling duplicates columns` to avoid redundancy.\n",
    "\n",
    "2. `Removing unnecessary columns` to reduce complexity.\n",
    "\n",
    "3. `Case Conversion` to ensure that all our headers are standadized.\n",
    "\n",
    "4. `Checking for missing` and address them appropriately.\n",
    "\n",
    "5. `Creating new features from existing features` for precise EDA.\n",
    "\n",
    "6. `Keeping consistent data types` across all columns.\n"
   ]
  },
  {
   "cell_type": "markdown",
   "metadata": {},
   "source": [
    "## <font color=\"#90EE90\"><b>3.1.Checking and handling duplicates columns</b></font>"
   ]
  },
  {
   "cell_type": "code",
   "execution_count": 301,
   "metadata": {},
   "outputs": [
    {
     "name": "stdout",
     "output_type": "stream",
     "text": [
      "No duplicate columns found\n"
     ]
    },
    {
     "data": {
      "text/plain": [
       "[]"
      ]
     },
     "execution_count": 301,
     "metadata": {},
     "output_type": "execute_result"
    }
   ],
   "source": [
    "#checking and handling duplicate collums\n",
    "\n",
    "def find_duplicate_columns(df):\n",
    "    # Create an empty list to store the names of duplicate columns\n",
    "    duplicate_columns = []\n",
    "    \n",
    "    # Iterate over each column and compare it with the remaining columns\n",
    "    for i in range(len(df.columns)):\n",
    "        col1 = df.columns[i]\n",
    "        for j in range(i + 1, len(df.columns)):\n",
    "            col2 = df.columns[j]\n",
    "            # Check if two columns are identical\n",
    "            if df[col1].equals(df[col2]):\n",
    "                duplicate_columns.append(col2)\n",
    "    \n",
    "    # Return the list of duplicate columns\n",
    "    if len(duplicate_columns) > 0:\n",
    "        print(f\"Duplicate columns: {duplicate_columns}\")\n",
    "    else:\n",
    "        print(\"No duplicate columns found\")\n",
    "    \n",
    "    return duplicate_columns\n",
    "\n",
    "find_duplicate_columns(Movies_df)\n"
   ]
  },
  {
   "cell_type": "markdown",
   "metadata": {},
   "source": [
    "## <font color=\"#90EE90\"><b>3.2 Removing unnecessary Columns</b></font>"
   ]
  },
  {
   "cell_type": "code",
   "execution_count": 302,
   "metadata": {},
   "outputs": [],
   "source": [
    "#Removing unnecessary colums for our model.\n",
    "Movies_df.drop(['timestamp_x','movieId','imdbId','tmdbId','timestamp_y'],axis=1, inplace=True)"
   ]
  },
  {
   "cell_type": "code",
   "execution_count": 303,
   "metadata": {},
   "outputs": [
    {
     "data": {
      "text/html": [
       "<div>\n",
       "<style scoped>\n",
       "    .dataframe tbody tr th:only-of-type {\n",
       "        vertical-align: middle;\n",
       "    }\n",
       "\n",
       "    .dataframe tbody tr th {\n",
       "        vertical-align: top;\n",
       "    }\n",
       "\n",
       "    .dataframe thead th {\n",
       "        text-align: right;\n",
       "    }\n",
       "</style>\n",
       "<table border=\"1\" class=\"dataframe\">\n",
       "  <thead>\n",
       "    <tr style=\"text-align: right;\">\n",
       "      <th></th>\n",
       "      <th>userId</th>\n",
       "      <th>rating</th>\n",
       "      <th>title</th>\n",
       "      <th>genres</th>\n",
       "      <th>tag</th>\n",
       "    </tr>\n",
       "  </thead>\n",
       "  <tbody>\n",
       "    <tr>\n",
       "      <th>2340</th>\n",
       "      <td>62</td>\n",
       "      <td>4.5</td>\n",
       "      <td>Blood Diamond (2006)</td>\n",
       "      <td>Action|Adventure|Crime|Drama|Thriller|War</td>\n",
       "      <td>Jennifer Connelly</td>\n",
       "    </tr>\n",
       "    <tr>\n",
       "      <th>2645</th>\n",
       "      <td>125</td>\n",
       "      <td>5.0</td>\n",
       "      <td>Battle Royale (Batoru rowaiaru) (2000)</td>\n",
       "      <td>Action|Drama|Horror|Thriller</td>\n",
       "      <td>goretastic</td>\n",
       "    </tr>\n",
       "    <tr>\n",
       "      <th>3338</th>\n",
       "      <td>474</td>\n",
       "      <td>3.5</td>\n",
       "      <td>Red Shoes, The (1948)</td>\n",
       "      <td>Drama|Fantasy|Musical|Romance</td>\n",
       "      <td>ballet</td>\n",
       "    </tr>\n",
       "    <tr>\n",
       "      <th>1797</th>\n",
       "      <td>424</td>\n",
       "      <td>5.0</td>\n",
       "      <td>Prisoners (2013)</td>\n",
       "      <td>Drama|Mystery|Thriller</td>\n",
       "      <td>Jake Gyllenhaal</td>\n",
       "    </tr>\n",
       "    <tr>\n",
       "      <th>1712</th>\n",
       "      <td>62</td>\n",
       "      <td>4.0</td>\n",
       "      <td>Kiss Kiss Bang Bang (2005)</td>\n",
       "      <td>Comedy|Crime|Mystery|Thriller</td>\n",
       "      <td>black comedy</td>\n",
       "    </tr>\n",
       "  </tbody>\n",
       "</table>\n",
       "</div>"
      ],
      "text/plain": [
       "      userId  rating                                   title  \\\n",
       "2340      62     4.5                    Blood Diamond (2006)   \n",
       "2645     125     5.0  Battle Royale (Batoru rowaiaru) (2000)   \n",
       "3338     474     3.5                   Red Shoes, The (1948)   \n",
       "1797     424     5.0                        Prisoners (2013)   \n",
       "1712      62     4.0              Kiss Kiss Bang Bang (2005)   \n",
       "\n",
       "                                         genres                tag  \n",
       "2340  Action|Adventure|Crime|Drama|Thriller|War  Jennifer Connelly  \n",
       "2645               Action|Drama|Horror|Thriller         goretastic  \n",
       "3338              Drama|Fantasy|Musical|Romance             ballet  \n",
       "1797                     Drama|Mystery|Thriller    Jake Gyllenhaal  \n",
       "1712              Comedy|Crime|Mystery|Thriller       black comedy  "
      ]
     },
     "execution_count": 303,
     "metadata": {},
     "output_type": "execute_result"
    }
   ],
   "source": [
    "Movies_df.sample(n=5)"
   ]
  },
  {
   "cell_type": "markdown",
   "metadata": {},
   "source": [
    "## <font color=\"#90EE90\"><b>3.3 Case Coversion</b></font>"
   ]
  },
  {
   "cell_type": "code",
   "execution_count": 304,
   "metadata": {},
   "outputs": [
    {
     "data": {
      "text/html": [
       "<div>\n",
       "<style scoped>\n",
       "    .dataframe tbody tr th:only-of-type {\n",
       "        vertical-align: middle;\n",
       "    }\n",
       "\n",
       "    .dataframe tbody tr th {\n",
       "        vertical-align: top;\n",
       "    }\n",
       "\n",
       "    .dataframe thead th {\n",
       "        text-align: right;\n",
       "    }\n",
       "</style>\n",
       "<table border=\"1\" class=\"dataframe\">\n",
       "  <thead>\n",
       "    <tr style=\"text-align: right;\">\n",
       "      <th></th>\n",
       "      <th>Userid</th>\n",
       "      <th>Rating</th>\n",
       "      <th>Title</th>\n",
       "      <th>Genres</th>\n",
       "      <th>Tag</th>\n",
       "    </tr>\n",
       "  </thead>\n",
       "  <tbody>\n",
       "    <tr>\n",
       "      <th>3471</th>\n",
       "      <td>567</td>\n",
       "      <td>3.5</td>\n",
       "      <td>It Comes at Night (2017)</td>\n",
       "      <td>Horror|Mystery|Thriller</td>\n",
       "      <td>Suspenseful</td>\n",
       "    </tr>\n",
       "    <tr>\n",
       "      <th>3472</th>\n",
       "      <td>567</td>\n",
       "      <td>3.0</td>\n",
       "      <td>Mother! (2017)</td>\n",
       "      <td>Drama|Horror|Mystery|Thriller</td>\n",
       "      <td>allegorical</td>\n",
       "    </tr>\n",
       "    <tr>\n",
       "      <th>3473</th>\n",
       "      <td>567</td>\n",
       "      <td>3.0</td>\n",
       "      <td>Mother! (2017)</td>\n",
       "      <td>Drama|Horror|Mystery|Thriller</td>\n",
       "      <td>uncomfortable</td>\n",
       "    </tr>\n",
       "    <tr>\n",
       "      <th>3474</th>\n",
       "      <td>567</td>\n",
       "      <td>3.0</td>\n",
       "      <td>Mother! (2017)</td>\n",
       "      <td>Drama|Horror|Mystery|Thriller</td>\n",
       "      <td>unsettling</td>\n",
       "    </tr>\n",
       "    <tr>\n",
       "      <th>3475</th>\n",
       "      <td>606</td>\n",
       "      <td>4.0</td>\n",
       "      <td>Night of the Shooting Stars (Notte di San Lore...</td>\n",
       "      <td>Drama|War</td>\n",
       "      <td>World War II</td>\n",
       "    </tr>\n",
       "  </tbody>\n",
       "</table>\n",
       "</div>"
      ],
      "text/plain": [
       "      Userid  Rating                                              Title  \\\n",
       "3471     567     3.5                           It Comes at Night (2017)   \n",
       "3472     567     3.0                                     Mother! (2017)   \n",
       "3473     567     3.0                                     Mother! (2017)   \n",
       "3474     567     3.0                                     Mother! (2017)   \n",
       "3475     606     4.0  Night of the Shooting Stars (Notte di San Lore...   \n",
       "\n",
       "                             Genres            Tag  \n",
       "3471        Horror|Mystery|Thriller    Suspenseful  \n",
       "3472  Drama|Horror|Mystery|Thriller    allegorical  \n",
       "3473  Drama|Horror|Mystery|Thriller  uncomfortable  \n",
       "3474  Drama|Horror|Mystery|Thriller     unsettling  \n",
       "3475                      Drama|War   World War II  "
      ]
     },
     "execution_count": 304,
     "metadata": {},
     "output_type": "execute_result"
    }
   ],
   "source": [
    "#converting our headers to title case from the current lowercase.\n",
    "Movies_df.rename(columns=lambda x: x.title(), inplace=True)\n",
    "\n",
    "##viewing our dataset our the headers converstion\n",
    "Movies_df.tail()\n"
   ]
  },
  {
   "cell_type": "markdown",
   "metadata": {},
   "source": [
    "## <font color=\"#90EE90\"><b>3.4 Checking and Handling Missing Values</b></font>\n"
   ]
  },
  {
   "cell_type": "code",
   "execution_count": 305,
   "metadata": {},
   "outputs": [
    {
     "name": "stdout",
     "output_type": "stream",
     "text": [
      "None\n"
     ]
    }
   ],
   "source": [
    "if Movies_df.isnull().values.any():\n",
    "    print(True)\n",
    "else:\n",
    "    print(None)"
   ]
  },
  {
   "cell_type": "markdown",
   "metadata": {},
   "source": [
    "The output confirms that our movie_df has no missing values."
   ]
  },
  {
   "cell_type": "markdown",
   "metadata": {},
   "source": [
    "## <font color=\"#90EE90\"><b>3.5 Creating new features from existing features</b></font>"
   ]
  },
  {
   "cell_type": "code",
   "execution_count": 306,
   "metadata": {},
   "outputs": [
    {
     "data": {
      "text/html": [
       "<div>\n",
       "<style scoped>\n",
       "    .dataframe tbody tr th:only-of-type {\n",
       "        vertical-align: middle;\n",
       "    }\n",
       "\n",
       "    .dataframe tbody tr th {\n",
       "        vertical-align: top;\n",
       "    }\n",
       "\n",
       "    .dataframe thead th {\n",
       "        text-align: right;\n",
       "    }\n",
       "</style>\n",
       "<table border=\"1\" class=\"dataframe\">\n",
       "  <thead>\n",
       "    <tr style=\"text-align: right;\">\n",
       "      <th></th>\n",
       "      <th>Userid</th>\n",
       "      <th>Rating</th>\n",
       "      <th>Title</th>\n",
       "      <th>Genres</th>\n",
       "      <th>Tag</th>\n",
       "      <th>Year_of_production</th>\n",
       "    </tr>\n",
       "  </thead>\n",
       "  <tbody>\n",
       "    <tr>\n",
       "      <th>1926</th>\n",
       "      <td>474</td>\n",
       "      <td>1.5</td>\n",
       "      <td>Superman III</td>\n",
       "      <td>Action|Adventure|Sci-Fi</td>\n",
       "      <td>superhero</td>\n",
       "      <td>1983</td>\n",
       "    </tr>\n",
       "    <tr>\n",
       "      <th>1375</th>\n",
       "      <td>477</td>\n",
       "      <td>4.0</td>\n",
       "      <td>I Am Legend</td>\n",
       "      <td>Action|Horror|Sci-Fi|Thriller|IMAX</td>\n",
       "      <td>apocalypse</td>\n",
       "      <td>2007</td>\n",
       "    </tr>\n",
       "    <tr>\n",
       "      <th>2588</th>\n",
       "      <td>62</td>\n",
       "      <td>3.5</td>\n",
       "      <td>Green Lantern</td>\n",
       "      <td>Action|Adventure|Sci-Fi</td>\n",
       "      <td>CGI</td>\n",
       "      <td>2011</td>\n",
       "    </tr>\n",
       "    <tr>\n",
       "      <th>355</th>\n",
       "      <td>474</td>\n",
       "      <td>4.0</td>\n",
       "      <td>Shining, The</td>\n",
       "      <td>Horror</td>\n",
       "      <td>Stephen King</td>\n",
       "      <td>1980</td>\n",
       "    </tr>\n",
       "    <tr>\n",
       "      <th>1819</th>\n",
       "      <td>567</td>\n",
       "      <td>3.0</td>\n",
       "      <td>Big Short, The</td>\n",
       "      <td>Drama</td>\n",
       "      <td>funny</td>\n",
       "      <td>2015</td>\n",
       "    </tr>\n",
       "  </tbody>\n",
       "</table>\n",
       "</div>"
      ],
      "text/plain": [
       "      Userid  Rating           Title                              Genres  \\\n",
       "1926     474     1.5    Superman III             Action|Adventure|Sci-Fi   \n",
       "1375     477     4.0     I Am Legend  Action|Horror|Sci-Fi|Thriller|IMAX   \n",
       "2588      62     3.5   Green Lantern             Action|Adventure|Sci-Fi   \n",
       "355      474     4.0    Shining, The                              Horror   \n",
       "1819     567     3.0  Big Short, The                               Drama   \n",
       "\n",
       "               Tag Year_of_production  \n",
       "1926     superhero               1983  \n",
       "1375    apocalypse               2007  \n",
       "2588           CGI               2011  \n",
       "355   Stephen King               1980  \n",
       "1819         funny               2015  "
      ]
     },
     "execution_count": 306,
     "metadata": {},
     "output_type": "execute_result"
    }
   ],
   "source": [
    "# Extract the year using regex and store it in a new 'Year' column\n",
    "Movies_df['Year_of_production'] = Movies_df['Title'].str.extract(r'\\((\\d{4})\\)')\n",
    "\n",
    "# Remove the year from the 'Title' column\n",
    "Movies_df['Title'] = Movies_df['Title'].str.replace(r'\\(\\d{4}\\)', '').str.strip()\n",
    "\n",
    "#viewing the dataset\n",
    "Movies_df.sample(n=5)"
   ]
  },
  {
   "cell_type": "markdown",
   "metadata": {},
   "source": [
    "After creating the new feature`year_of_production`, the next step is to check for any missing values in the that colum since prevouls our dataset had no missing values.."
   ]
  },
  {
   "cell_type": "code",
   "execution_count": 307,
   "metadata": {},
   "outputs": [
    {
     "name": "stdout",
     "output_type": "stream",
     "text": [
      "Year_of_production    3\n",
      "dtype: int64\n"
     ]
    }
   ],
   "source": [
    "# Check for missing values in the dataset\n",
    "missing_values = Movies_df.isnull().sum()\n",
    "\n",
    "# Print columns that have missing values\n",
    "print(missing_values[missing_values > 0])\n"
   ]
  },
  {
   "cell_type": "markdown",
   "metadata": {},
   "source": [
    "The year of prodution colum has 3 missing value. Since this is too low, we will proceed and delete these three rows."
   ]
  },
  {
   "cell_type": "code",
   "execution_count": 308,
   "metadata": {},
   "outputs": [],
   "source": [
    "# Remove rows with any missing values\n",
    "Movies_df.dropna(inplace=True)"
   ]
  },
  {
   "cell_type": "code",
   "execution_count": 309,
   "metadata": {},
   "outputs": [
    {
     "name": "stdout",
     "output_type": "stream",
     "text": [
      "None\n"
     ]
    }
   ],
   "source": [
    "#Confirming that the rows with the missing values are removed from our dataset.\n",
    "if Movies_df.isnull().values.any():\n",
    "    print(True)\n",
    "else:\n",
    "    print(None)"
   ]
  },
  {
   "cell_type": "markdown",
   "metadata": {},
   "source": [
    "## <font color=\"#90EE90\"><b>3.6 Keeping consistent data types</b></font>"
   ]
  },
  {
   "cell_type": "code",
   "execution_count": 310,
   "metadata": {},
   "outputs": [
    {
     "data": {
      "text/plain": [
       "Userid                  int64\n",
       "Rating                float64\n",
       "Title                  object\n",
       "Genres                 object\n",
       "Tag                    object\n",
       "Year_of_production     object\n",
       "dtype: object"
      ]
     },
     "execution_count": 310,
     "metadata": {},
     "output_type": "execute_result"
    }
   ],
   "source": [
    "#checking the datatypes\n",
    "Movies_df.dtypes"
   ]
  },
  {
   "cell_type": "markdown",
   "metadata": {},
   "source": [
    "Apon inspection of the column type, we can counclude now that the dataset has\n",
    "\n",
    "  - One feature of float64 type\n",
    "     - Rating\n",
    "  - One features of int64 type\n",
    "    - userId\n",
    "  - Five features of object type\n",
    "    - Title\n",
    "    - Genres\n",
    "    - Tags\n",
    "    - Timestamp_date\n",
    "    - year_of_production\n",
    "\n",
    "For accurate analysis, we will proceed and convert the year_of_production from object type to int64 type "
   ]
  },
  {
   "cell_type": "code",
   "execution_count": 311,
   "metadata": {},
   "outputs": [],
   "source": [
    "# Convert the year_of_production column to integer\n",
    "Movies_df['Year_of_production'] = Movies_df['Year_of_production'].astype(int)\n"
   ]
  },
  {
   "cell_type": "code",
   "execution_count": 312,
   "metadata": {},
   "outputs": [
    {
     "data": {
      "text/plain": [
       "Userid                  int64\n",
       "Rating                float64\n",
       "Title                  object\n",
       "Genres                 object\n",
       "Tag                    object\n",
       "Year_of_production      int32\n",
       "dtype: object"
      ]
     },
     "execution_count": 312,
     "metadata": {},
     "output_type": "execute_result"
    }
   ],
   "source": [
    "#confirming that our dataset has the desired datatypes.\n",
    "Movies_df.dtypes"
   ]
  },
  {
   "cell_type": "code",
   "execution_count": 313,
   "metadata": {},
   "outputs": [
    {
     "data": {
      "text/html": [
       "<div>\n",
       "<style scoped>\n",
       "    .dataframe tbody tr th:only-of-type {\n",
       "        vertical-align: middle;\n",
       "    }\n",
       "\n",
       "    .dataframe tbody tr th {\n",
       "        vertical-align: top;\n",
       "    }\n",
       "\n",
       "    .dataframe thead th {\n",
       "        text-align: right;\n",
       "    }\n",
       "</style>\n",
       "<table border=\"1\" class=\"dataframe\">\n",
       "  <thead>\n",
       "    <tr style=\"text-align: right;\">\n",
       "      <th></th>\n",
       "      <th>Userid</th>\n",
       "      <th>Rating</th>\n",
       "      <th>Title</th>\n",
       "      <th>Genres</th>\n",
       "      <th>Tag</th>\n",
       "      <th>Year_of_production</th>\n",
       "    </tr>\n",
       "  </thead>\n",
       "  <tbody>\n",
       "    <tr>\n",
       "      <th>0</th>\n",
       "      <td>336</td>\n",
       "      <td>4.0</td>\n",
       "      <td>Toy Story</td>\n",
       "      <td>Adventure|Animation|Children|Comedy|Fantasy</td>\n",
       "      <td>pixar</td>\n",
       "      <td>1995</td>\n",
       "    </tr>\n",
       "    <tr>\n",
       "      <th>1</th>\n",
       "      <td>474</td>\n",
       "      <td>4.0</td>\n",
       "      <td>Toy Story</td>\n",
       "      <td>Adventure|Animation|Children|Comedy|Fantasy</td>\n",
       "      <td>pixar</td>\n",
       "      <td>1995</td>\n",
       "    </tr>\n",
       "    <tr>\n",
       "      <th>2</th>\n",
       "      <td>567</td>\n",
       "      <td>3.5</td>\n",
       "      <td>Toy Story</td>\n",
       "      <td>Adventure|Animation|Children|Comedy|Fantasy</td>\n",
       "      <td>fun</td>\n",
       "      <td>1995</td>\n",
       "    </tr>\n",
       "    <tr>\n",
       "      <th>3</th>\n",
       "      <td>289</td>\n",
       "      <td>2.5</td>\n",
       "      <td>Grumpier Old Men</td>\n",
       "      <td>Comedy|Romance</td>\n",
       "      <td>moldy</td>\n",
       "      <td>1995</td>\n",
       "    </tr>\n",
       "    <tr>\n",
       "      <th>4</th>\n",
       "      <td>289</td>\n",
       "      <td>2.5</td>\n",
       "      <td>Grumpier Old Men</td>\n",
       "      <td>Comedy|Romance</td>\n",
       "      <td>old</td>\n",
       "      <td>1995</td>\n",
       "    </tr>\n",
       "  </tbody>\n",
       "</table>\n",
       "</div>"
      ],
      "text/plain": [
       "   Userid  Rating             Title  \\\n",
       "0     336     4.0         Toy Story   \n",
       "1     474     4.0         Toy Story   \n",
       "2     567     3.5         Toy Story   \n",
       "3     289     2.5  Grumpier Old Men   \n",
       "4     289     2.5  Grumpier Old Men   \n",
       "\n",
       "                                        Genres    Tag  Year_of_production  \n",
       "0  Adventure|Animation|Children|Comedy|Fantasy  pixar                1995  \n",
       "1  Adventure|Animation|Children|Comedy|Fantasy  pixar                1995  \n",
       "2  Adventure|Animation|Children|Comedy|Fantasy    fun                1995  \n",
       "3                               Comedy|Romance  moldy                1995  \n",
       "4                               Comedy|Romance    old                1995  "
      ]
     },
     "execution_count": 313,
     "metadata": {},
     "output_type": "execute_result"
    }
   ],
   "source": [
    "#runnnig our final cleaned dataset ready for EDA\n",
    "Movies_df.head()"
   ]
  },
  {
   "cell_type": "markdown",
   "metadata": {},
   "source": [
    "# <font color=green><b>4.0 EXPLANATORY DATA ANALYSIS</b></font> "
   ]
  },
  {
   "cell_type": "markdown",
   "metadata": {},
   "source": [
    "Exploratory Data Analysis (EDA) is a crucial step in understanding the dataset before applying any machine learning models or drawing conclusions. It involves visualizing and summarizing key features to uncover patterns, relationships, and potential anomalies in the data. Through EDA, we aim to gain insights on:-\n",
    "\n",
    "- Distribution of movie ratings on a scale of 0.5 to 5.0\n",
    "- Distribution of ratings over the years.\n",
    "- Genre popularity in the dataset.\n",
    "- Average ratings by genres.\n",
    "- Years in which movies most movies were released"
   ]
  },
  {
   "cell_type": "code",
   "execution_count": 314,
   "metadata": {},
   "outputs": [],
   "source": [
    "#Improting libraries for visualization\n",
    "import matplotlib.pyplot as plt\n",
    "%matplotlib inline\n",
    "import seaborn as sns"
   ]
  },
  {
   "cell_type": "code",
   "execution_count": 315,
   "metadata": {},
   "outputs": [
    {
     "data": {
      "image/png": "[encoded data removed]",
      "text/plain": [
       "<Figure size 864x432 with 1 Axes>"
      ]
     },
     "metadata": {
      "needs_background": "light"
     },
     "output_type": "display_data"
    }
   ],
   "source": [
    "\n",
    "def plot_rating_distribution(data):\n",
    "   \n",
    "    # Count the number of movies for each rating\n",
    "    rating_counts = data['Rating'].value_counts().sort_index()\n",
    "\n",
    "    # Plotting\n",
    "    plt.figure(figsize=(12, 6))\n",
    "    sns.barplot(x=rating_counts.index, y=rating_counts.values, palette='viridis')\n",
    "    plt.title('Distribution of Movie Ratings')\n",
    "    plt.xlabel('Ratings')\n",
    "    plt.ylabel('Number of Movies')\n",
    "    plt.xticks(rotation=0)\n",
    "    plt.show()\n",
    "\n",
    "# Example usage:\n",
    "plot_rating_distribution(Movies_df)  # Display the rating distribution plot\n"
   ]
  },
  {
   "cell_type": "markdown",
   "metadata": {},
   "source": [
    "On a scale of 0.5 to 5.0, the analysis shows that most movies received an average rating of 4.0, indicating that users generally rated the majority of films positively. This suggests a tendency for users to favorably evaluate the available content, with few movies receiving extremely low ratings of 0.5"
   ]
  },
  {
   "cell_type": "code",
   "execution_count": 316,
   "metadata": {},
   "outputs": [
    {
     "data": {
      "image/png": "[encoded data removed]",
      "text/plain": [
       "<Figure size 864x432 with 1 Axes>"
      ]
     },
     "metadata": {
      "needs_background": "light"
     },
     "output_type": "display_data"
    }
   ],
   "source": [
    "\n",
    "ratings['timestamp'] = pd.to_datetime(ratings['timestamp'], unit='s')\n",
    "ratings['year'] = ratings['timestamp'].dt.year\n",
    "ratings_per_year = ratings.groupby('year')['rating'].count()\n",
    "\n",
    "plt.figure(figsize=(12, 6))\n",
    "ratings_per_year.plot(kind='line', marker='o', color='teal')\n",
    "plt.title('Number of Ratings Over the Years')\n",
    "plt.xlabel('Year')\n",
    "plt.ylabel('Number of Ratings')\n",
    "plt.grid()\n",
    "plt.show()"
   ]
  },
  {
   "cell_type": "markdown",
   "metadata": {},
   "source": [
    "There is a noticeable spike around the year 2000, where the number of ratings peaked at over 10,000.\n",
    "This might imply that there was a surge in user activity, perhaps due to the popularity of certain movies or the increased availability of the platform at the time."
   ]
  },
  {
   "cell_type": "code",
   "execution_count": 317,
   "metadata": {},
   "outputs": [
    {
     "data": {
      "image/png": "[encoded data removed]",
      "text/plain": [
       "<Figure size 864x432 with 1 Axes>"
      ]
     },
     "metadata": {
      "needs_background": "light"
     },
     "output_type": "display_data"
    }
   ],
   "source": [
    "from collections import Counter\n",
    "# Split genres and count the occurrences\n",
    "genres_list = Movies_df['Genres'].str.split('|').sum()  # Split genres and flatten the list\n",
    "genre_counts = Counter(genres_list)  # Count occurrences of each genre\n",
    "\n",
    "# Sort the genre counts dictionary by values (counts) in descending order\n",
    "sorted_genre_counts = dict(sorted(genre_counts.items(), key=lambda item: item[1], reverse=True))\n",
    "\n",
    "# Create the bar plot\n",
    "plt.figure(figsize=(12, 6))\n",
    "# Use a horizontal bar plot instead\n",
    "sns.barplot(y=list(sorted_genre_counts.keys()), x=list(sorted_genre_counts.values()), palette='viridis')\n",
    "plt.title('Genre Popularity')\n",
    "plt.xlabel('Counts') \n",
    "plt.ylabel('Genres')  \n",
    "plt.show()\n"
   ]
  },
  {
   "cell_type": "markdown",
   "metadata": {},
   "source": [
    "* The gragh shows that the genres \"Drama\" and \"Comedy\" are the most popular among the movies in the dataset, with significantly higher counts compared to other genres."
   ]
  },
  {
   "cell_type": "code",
   "execution_count": 318,
   "metadata": {},
   "outputs": [
    {
     "data": {
      "image/png": "[encoded data removed]",
      "text/plain": [
       "<Figure size 1152x432 with 1 Axes>"
      ]
     },
     "metadata": {
      "needs_background": "light"
     },
     "output_type": "display_data"
    }
   ],
   "source": [
    "# Split genres and calculate average ratings for each genre\n",
    "Movies_df['Genres_split'] = Movies_df['Genres'].str.split('|')\n",
    "genres_ratings = Movies_df.explode('Genres_split').groupby('Genres_split')['Rating'].mean()\n",
    "\n",
    "# Create a bar plot\n",
    "plt.figure(figsize=(16, 6))\n",
    "genres_ratings.sort_values(ascending=False).plot(kind='bar', color='cyan')\n",
    "plt.title('Average Ratings by Genre', fontsize=16)\n",
    "plt.xlabel('Genre', fontsize=14)\n",
    "plt.ylabel('Average Rating', fontsize=14)\n",
    "plt.show()\n"
   ]
  },
  {
   "cell_type": "code",
   "execution_count": 319,
   "metadata": {},
   "outputs": [
    {
     "name": "stdout",
     "output_type": "stream",
     "text": [
      "Drama          2000\n",
      "Comedy         1105\n",
      "Thriller       1065\n",
      "Action          788\n",
      "Crime           779\n",
      "Sci-Fi          641\n",
      "Romance         585\n",
      "Adventure       582\n",
      "Mystery         388\n",
      "Fantasy         283\n",
      "Animation       231\n",
      "Horror          209\n",
      "Children        183\n",
      "War             153\n",
      "IMAX            152\n",
      "Musical         117\n",
      "Documentary      97\n",
      "Western          59\n",
      "Film-Noir        43\n",
      "Name: Genres_split, dtype: int64\n"
     ]
    }
   ],
   "source": [
    "# Split the genres into a list\n",
    "Movies_df['Genres_split'] = Movies_df['Genres'].str.split('|')\n",
    "\n",
    "# Explode the DataFrame to count each genre\n",
    "genre_counts = Movies_df.explode('Genres_split')['Genres_split'].value_counts()\n",
    "\n",
    "# Print the genre counts\n",
    "print(genre_counts)\n"
   ]
  },
  {
   "cell_type": "markdown",
   "metadata": {},
   "source": [
    "Despite the relatively lower number of Western movies produced, this genre stands out due to its impressive average ratings, surpassing those of other genres. This observation suggests that while Western films may not be as prolific as others, they resonate more strongly with audiences, gaining higher appreciation and positive feedback."
   ]
  },
  {
   "cell_type": "code",
   "execution_count": 320,
   "metadata": {},
   "outputs": [
    {
     "data": {
      "image/png": "[encoded data removed]",
      "text/plain": [
       "<Figure size 864x432 with 1 Axes>"
      ]
     },
     "metadata": {
      "needs_background": "light"
     },
     "output_type": "display_data"
    }
   ],
   "source": [
    "# Group the dataset by 'year_of_production' and count the number of movies released each year\n",
    "movies_per_year = Movies_df['Year_of_production'].value_counts().sort_values(ascending=False).head(10)\n",
    "\n",
    "# Create a bar plot for the top 10 years with the most movies released\n",
    "plt.figure(figsize=(12, 6))\n",
    "movies_per_year.plot(kind='bar', color='skyblue')\n",
    "\n",
    "# Add labels and title\n",
    "plt.title('Top 10 Years with the Most Movies Released', fontsize=16)\n",
    "plt.xlabel('Year of Production', fontsize=14)\n",
    "plt.ylabel('Number of Movies', fontsize=14)\n",
    "\n",
    "# Display the plot\n",
    "plt.show()\n"
   ]
  },
  {
   "cell_type": "markdown",
   "metadata": {},
   "source": [
    "The analysis indicates that the majority of films were produced in 1994. One might expect this year to reflect the highest ratings. However, the ratings distribution graph reveals that 2000 actually had the highest number of ratings, despite a lower volume of films produced in that year compared to 1994."
   ]
  },
  {
   "cell_type": "markdown",
   "metadata": {},
   "source": [
    "# <font color=green><b>5.0 DATA PREPROCESSING</b></font> "
   ]
  },
  {
   "cell_type": "markdown",
   "metadata": {},
   "source": [
    "\n",
    "## <font color=\"#90EE90\"><b>5.1 Creating a User-Item Matrix</b></font>"
   ]
  },
  {
   "cell_type": "code",
   "execution_count": 321,
   "metadata": {},
   "outputs": [
    {
     "data": {
      "text/html": [
       "<div>\n",
       "<style scoped>\n",
       "    .dataframe tbody tr th:only-of-type {\n",
       "        vertical-align: middle;\n",
       "    }\n",
       "\n",
       "    .dataframe tbody tr th {\n",
       "        vertical-align: top;\n",
       "    }\n",
       "\n",
       "    .dataframe thead th {\n",
       "        text-align: right;\n",
       "    }\n",
       "</style>\n",
       "<table border=\"1\" class=\"dataframe\">\n",
       "  <thead>\n",
       "    <tr style=\"text-align: right;\">\n",
       "      <th>Title</th>\n",
       "      <th>(500) Days of Summer</th>\n",
       "      <th>...And Justice for All</th>\n",
       "      <th>10 Cloverfield Lane</th>\n",
       "      <th>10 Things I Hate About You</th>\n",
       "      <th>101 Dalmatians</th>\n",
       "      <th>101 Dalmatians (One Hundred and One Dalmatians)</th>\n",
       "      <th>11'09\"01 - September 11</th>\n",
       "      <th>12 Angry Men</th>\n",
       "      <th>13 Going on 30</th>\n",
       "      <th>2001: A Space Odyssey</th>\n",
       "      <th>...</th>\n",
       "      <th>Young Frankenstein</th>\n",
       "      <th>Z</th>\n",
       "      <th>Zack and Miri Make a Porno</th>\n",
       "      <th>Zelary</th>\n",
       "      <th>Zelig</th>\n",
       "      <th>Zero Dark Thirty</th>\n",
       "      <th>Zombieland</th>\n",
       "      <th>Zoolander</th>\n",
       "      <th>Zulu</th>\n",
       "      <th>eXistenZ</th>\n",
       "    </tr>\n",
       "    <tr>\n",
       "      <th>Userid</th>\n",
       "      <th></th>\n",
       "      <th></th>\n",
       "      <th></th>\n",
       "      <th></th>\n",
       "      <th></th>\n",
       "      <th></th>\n",
       "      <th></th>\n",
       "      <th></th>\n",
       "      <th></th>\n",
       "      <th></th>\n",
       "      <th></th>\n",
       "      <th></th>\n",
       "      <th></th>\n",
       "      <th></th>\n",
       "      <th></th>\n",
       "      <th></th>\n",
       "      <th></th>\n",
       "      <th></th>\n",
       "      <th></th>\n",
       "      <th></th>\n",
       "      <th></th>\n",
       "    </tr>\n",
       "  </thead>\n",
       "  <tbody>\n",
       "    <tr>\n",
       "      <th>2</th>\n",
       "      <td>NaN</td>\n",
       "      <td>NaN</td>\n",
       "      <td>NaN</td>\n",
       "      <td>NaN</td>\n",
       "      <td>NaN</td>\n",
       "      <td>NaN</td>\n",
       "      <td>NaN</td>\n",
       "      <td>NaN</td>\n",
       "      <td>NaN</td>\n",
       "      <td>NaN</td>\n",
       "      <td>...</td>\n",
       "      <td>NaN</td>\n",
       "      <td>NaN</td>\n",
       "      <td>NaN</td>\n",
       "      <td>NaN</td>\n",
       "      <td>NaN</td>\n",
       "      <td>NaN</td>\n",
       "      <td>NaN</td>\n",
       "      <td>NaN</td>\n",
       "      <td>NaN</td>\n",
       "      <td>NaN</td>\n",
       "    </tr>\n",
       "    <tr>\n",
       "      <th>7</th>\n",
       "      <td>NaN</td>\n",
       "      <td>NaN</td>\n",
       "      <td>NaN</td>\n",
       "      <td>NaN</td>\n",
       "      <td>NaN</td>\n",
       "      <td>NaN</td>\n",
       "      <td>NaN</td>\n",
       "      <td>NaN</td>\n",
       "      <td>NaN</td>\n",
       "      <td>NaN</td>\n",
       "      <td>...</td>\n",
       "      <td>NaN</td>\n",
       "      <td>NaN</td>\n",
       "      <td>NaN</td>\n",
       "      <td>NaN</td>\n",
       "      <td>NaN</td>\n",
       "      <td>NaN</td>\n",
       "      <td>NaN</td>\n",
       "      <td>NaN</td>\n",
       "      <td>NaN</td>\n",
       "      <td>NaN</td>\n",
       "    </tr>\n",
       "    <tr>\n",
       "      <th>18</th>\n",
       "      <td>NaN</td>\n",
       "      <td>NaN</td>\n",
       "      <td>NaN</td>\n",
       "      <td>NaN</td>\n",
       "      <td>NaN</td>\n",
       "      <td>NaN</td>\n",
       "      <td>NaN</td>\n",
       "      <td>NaN</td>\n",
       "      <td>NaN</td>\n",
       "      <td>NaN</td>\n",
       "      <td>...</td>\n",
       "      <td>NaN</td>\n",
       "      <td>NaN</td>\n",
       "      <td>NaN</td>\n",
       "      <td>NaN</td>\n",
       "      <td>NaN</td>\n",
       "      <td>NaN</td>\n",
       "      <td>NaN</td>\n",
       "      <td>NaN</td>\n",
       "      <td>NaN</td>\n",
       "      <td>NaN</td>\n",
       "    </tr>\n",
       "    <tr>\n",
       "      <th>21</th>\n",
       "      <td>NaN</td>\n",
       "      <td>NaN</td>\n",
       "      <td>NaN</td>\n",
       "      <td>NaN</td>\n",
       "      <td>NaN</td>\n",
       "      <td>NaN</td>\n",
       "      <td>NaN</td>\n",
       "      <td>NaN</td>\n",
       "      <td>NaN</td>\n",
       "      <td>NaN</td>\n",
       "      <td>...</td>\n",
       "      <td>NaN</td>\n",
       "      <td>NaN</td>\n",
       "      <td>NaN</td>\n",
       "      <td>NaN</td>\n",
       "      <td>NaN</td>\n",
       "      <td>NaN</td>\n",
       "      <td>NaN</td>\n",
       "      <td>NaN</td>\n",
       "      <td>NaN</td>\n",
       "      <td>NaN</td>\n",
       "    </tr>\n",
       "    <tr>\n",
       "      <th>49</th>\n",
       "      <td>NaN</td>\n",
       "      <td>NaN</td>\n",
       "      <td>NaN</td>\n",
       "      <td>NaN</td>\n",
       "      <td>NaN</td>\n",
       "      <td>NaN</td>\n",
       "      <td>NaN</td>\n",
       "      <td>NaN</td>\n",
       "      <td>NaN</td>\n",
       "      <td>NaN</td>\n",
       "      <td>...</td>\n",
       "      <td>NaN</td>\n",
       "      <td>NaN</td>\n",
       "      <td>NaN</td>\n",
       "      <td>NaN</td>\n",
       "      <td>NaN</td>\n",
       "      <td>NaN</td>\n",
       "      <td>NaN</td>\n",
       "      <td>NaN</td>\n",
       "      <td>NaN</td>\n",
       "      <td>NaN</td>\n",
       "    </tr>\n",
       "  </tbody>\n",
       "</table>\n",
       "<p>5 rows × 1454 columns</p>\n",
       "</div>"
      ],
      "text/plain": [
       "Title   (500) Days of Summer  ...And Justice for All  10 Cloverfield Lane  \\\n",
       "Userid                                                                      \n",
       "2                        NaN                     NaN                  NaN   \n",
       "7                        NaN                     NaN                  NaN   \n",
       "18                       NaN                     NaN                  NaN   \n",
       "21                       NaN                     NaN                  NaN   \n",
       "49                       NaN                     NaN                  NaN   \n",
       "\n",
       "Title   10 Things I Hate About You  101 Dalmatians  \\\n",
       "Userid                                               \n",
       "2                              NaN             NaN   \n",
       "7                              NaN             NaN   \n",
       "18                             NaN             NaN   \n",
       "21                             NaN             NaN   \n",
       "49                             NaN             NaN   \n",
       "\n",
       "Title   101 Dalmatians (One Hundred and One Dalmatians)  \\\n",
       "Userid                                                    \n",
       "2                                                   NaN   \n",
       "7                                                   NaN   \n",
       "18                                                  NaN   \n",
       "21                                                  NaN   \n",
       "49                                                  NaN   \n",
       "\n",
       "Title   11'09\"01 - September 11  12 Angry Men  13 Going on 30  \\\n",
       "Userid                                                          \n",
       "2                           NaN           NaN             NaN   \n",
       "7                           NaN           NaN             NaN   \n",
       "18                          NaN           NaN             NaN   \n",
       "21                          NaN           NaN             NaN   \n",
       "49                          NaN           NaN             NaN   \n",
       "\n",
       "Title   2001: A Space Odyssey  ...  Young Frankenstein   Z  \\\n",
       "Userid                         ...                           \n",
       "2                         NaN  ...                 NaN NaN   \n",
       "7                         NaN  ...                 NaN NaN   \n",
       "18                        NaN  ...                 NaN NaN   \n",
       "21                        NaN  ...                 NaN NaN   \n",
       "49                        NaN  ...                 NaN NaN   \n",
       "\n",
       "Title   Zack and Miri Make a Porno  Zelary  Zelig  Zero Dark Thirty  \\\n",
       "Userid                                                                \n",
       "2                              NaN     NaN    NaN               NaN   \n",
       "7                              NaN     NaN    NaN               NaN   \n",
       "18                             NaN     NaN    NaN               NaN   \n",
       "21                             NaN     NaN    NaN               NaN   \n",
       "49                             NaN     NaN    NaN               NaN   \n",
       "\n",
       "Title   Zombieland  Zoolander  Zulu  eXistenZ  \n",
       "Userid                                         \n",
       "2              NaN        NaN   NaN       NaN  \n",
       "7              NaN        NaN   NaN       NaN  \n",
       "18             NaN        NaN   NaN       NaN  \n",
       "21             NaN        NaN   NaN       NaN  \n",
       "49             NaN        NaN   NaN       NaN  \n",
       "\n",
       "[5 rows x 1454 columns]"
      ]
     },
     "execution_count": 321,
     "metadata": {},
     "output_type": "execute_result"
    }
   ],
   "source": [
    "#step 1: creating a user-item matrix\n",
    "user_item_matrix = Movies_df.pivot_table(index='Userid', columns='Title', values='Rating')\n",
    "\n",
    "user_item_matrix.head()"
   ]
  },
  {
   "cell_type": "markdown",
   "metadata": {},
   "source": [
    "## <font color=\"#90EE90\"><b>5.2 Handling Missing Values</b></font>"
   ]
  },
  {
   "cell_type": "markdown",
   "metadata": {},
   "source": [
    "Since not every user will have rated every movie, the matrix will have many missing values. SVD can handle missing values implicitly by working only on the observed ratings, but for the our matrix, we want to fill in missing values with zeros"
   ]
  },
  {
   "cell_type": "code",
   "execution_count": 322,
   "metadata": {},
   "outputs": [
    {
     "data": {
      "text/html": [
       "<div>\n",
       "<style scoped>\n",
       "    .dataframe tbody tr th:only-of-type {\n",
       "        vertical-align: middle;\n",
       "    }\n",
       "\n",
       "    .dataframe tbody tr th {\n",
       "        vertical-align: top;\n",
       "    }\n",
       "\n",
       "    .dataframe thead th {\n",
       "        text-align: right;\n",
       "    }\n",
       "</style>\n",
       "<table border=\"1\" class=\"dataframe\">\n",
       "  <thead>\n",
       "    <tr style=\"text-align: right;\">\n",
       "      <th>Title</th>\n",
       "      <th>(500) Days of Summer</th>\n",
       "      <th>...And Justice for All</th>\n",
       "      <th>10 Cloverfield Lane</th>\n",
       "      <th>10 Things I Hate About You</th>\n",
       "      <th>101 Dalmatians</th>\n",
       "      <th>101 Dalmatians (One Hundred and One Dalmatians)</th>\n",
       "      <th>11'09\"01 - September 11</th>\n",
       "      <th>12 Angry Men</th>\n",
       "      <th>13 Going on 30</th>\n",
       "      <th>2001: A Space Odyssey</th>\n",
       "      <th>...</th>\n",
       "      <th>Young Frankenstein</th>\n",
       "      <th>Z</th>\n",
       "      <th>Zack and Miri Make a Porno</th>\n",
       "      <th>Zelary</th>\n",
       "      <th>Zelig</th>\n",
       "      <th>Zero Dark Thirty</th>\n",
       "      <th>Zombieland</th>\n",
       "      <th>Zoolander</th>\n",
       "      <th>Zulu</th>\n",
       "      <th>eXistenZ</th>\n",
       "    </tr>\n",
       "    <tr>\n",
       "      <th>Userid</th>\n",
       "      <th></th>\n",
       "      <th></th>\n",
       "      <th></th>\n",
       "      <th></th>\n",
       "      <th></th>\n",
       "      <th></th>\n",
       "      <th></th>\n",
       "      <th></th>\n",
       "      <th></th>\n",
       "      <th></th>\n",
       "      <th></th>\n",
       "      <th></th>\n",
       "      <th></th>\n",
       "      <th></th>\n",
       "      <th></th>\n",
       "      <th></th>\n",
       "      <th></th>\n",
       "      <th></th>\n",
       "      <th></th>\n",
       "      <th></th>\n",
       "      <th></th>\n",
       "    </tr>\n",
       "  </thead>\n",
       "  <tbody>\n",
       "    <tr>\n",
       "      <th>256</th>\n",
       "      <td>0.0</td>\n",
       "      <td>0.0</td>\n",
       "      <td>0.0</td>\n",
       "      <td>0.0</td>\n",
       "      <td>0.0</td>\n",
       "      <td>0.0</td>\n",
       "      <td>0.0</td>\n",
       "      <td>0.0</td>\n",
       "      <td>0.0</td>\n",
       "      <td>0.0</td>\n",
       "      <td>...</td>\n",
       "      <td>0.0</td>\n",
       "      <td>0.0</td>\n",
       "      <td>0.0</td>\n",
       "      <td>0.0</td>\n",
       "      <td>0.0</td>\n",
       "      <td>0.0</td>\n",
       "      <td>0.0</td>\n",
       "      <td>0.0</td>\n",
       "      <td>0.0</td>\n",
       "      <td>0.0</td>\n",
       "    </tr>\n",
       "    <tr>\n",
       "      <th>506</th>\n",
       "      <td>0.0</td>\n",
       "      <td>0.0</td>\n",
       "      <td>0.0</td>\n",
       "      <td>0.0</td>\n",
       "      <td>0.0</td>\n",
       "      <td>0.0</td>\n",
       "      <td>0.0</td>\n",
       "      <td>0.0</td>\n",
       "      <td>0.0</td>\n",
       "      <td>0.0</td>\n",
       "      <td>...</td>\n",
       "      <td>0.0</td>\n",
       "      <td>0.0</td>\n",
       "      <td>0.0</td>\n",
       "      <td>0.0</td>\n",
       "      <td>0.0</td>\n",
       "      <td>0.0</td>\n",
       "      <td>0.0</td>\n",
       "      <td>0.0</td>\n",
       "      <td>0.0</td>\n",
       "      <td>0.0</td>\n",
       "    </tr>\n",
       "    <tr>\n",
       "      <th>567</th>\n",
       "      <td>0.0</td>\n",
       "      <td>0.0</td>\n",
       "      <td>3.0</td>\n",
       "      <td>0.0</td>\n",
       "      <td>0.0</td>\n",
       "      <td>0.0</td>\n",
       "      <td>0.0</td>\n",
       "      <td>4.5</td>\n",
       "      <td>0.0</td>\n",
       "      <td>0.0</td>\n",
       "      <td>...</td>\n",
       "      <td>0.0</td>\n",
       "      <td>0.0</td>\n",
       "      <td>0.0</td>\n",
       "      <td>0.0</td>\n",
       "      <td>0.0</td>\n",
       "      <td>0.0</td>\n",
       "      <td>0.0</td>\n",
       "      <td>0.0</td>\n",
       "      <td>0.0</td>\n",
       "      <td>0.0</td>\n",
       "    </tr>\n",
       "    <tr>\n",
       "      <th>76</th>\n",
       "      <td>0.0</td>\n",
       "      <td>0.0</td>\n",
       "      <td>0.0</td>\n",
       "      <td>0.0</td>\n",
       "      <td>0.0</td>\n",
       "      <td>0.0</td>\n",
       "      <td>0.0</td>\n",
       "      <td>0.0</td>\n",
       "      <td>0.0</td>\n",
       "      <td>0.0</td>\n",
       "      <td>...</td>\n",
       "      <td>0.0</td>\n",
       "      <td>0.0</td>\n",
       "      <td>0.0</td>\n",
       "      <td>0.0</td>\n",
       "      <td>0.0</td>\n",
       "      <td>0.0</td>\n",
       "      <td>0.0</td>\n",
       "      <td>0.0</td>\n",
       "      <td>0.0</td>\n",
       "      <td>0.0</td>\n",
       "    </tr>\n",
       "    <tr>\n",
       "      <th>357</th>\n",
       "      <td>0.0</td>\n",
       "      <td>0.0</td>\n",
       "      <td>0.0</td>\n",
       "      <td>0.0</td>\n",
       "      <td>0.0</td>\n",
       "      <td>0.0</td>\n",
       "      <td>0.0</td>\n",
       "      <td>0.0</td>\n",
       "      <td>4.5</td>\n",
       "      <td>0.0</td>\n",
       "      <td>...</td>\n",
       "      <td>0.0</td>\n",
       "      <td>0.0</td>\n",
       "      <td>0.0</td>\n",
       "      <td>0.0</td>\n",
       "      <td>0.0</td>\n",
       "      <td>0.0</td>\n",
       "      <td>0.0</td>\n",
       "      <td>0.0</td>\n",
       "      <td>0.0</td>\n",
       "      <td>0.0</td>\n",
       "    </tr>\n",
       "  </tbody>\n",
       "</table>\n",
       "<p>5 rows × 1454 columns</p>\n",
       "</div>"
      ],
      "text/plain": [
       "Title   (500) Days of Summer  ...And Justice for All  10 Cloverfield Lane  \\\n",
       "Userid                                                                      \n",
       "256                      0.0                     0.0                  0.0   \n",
       "506                      0.0                     0.0                  0.0   \n",
       "567                      0.0                     0.0                  3.0   \n",
       "76                       0.0                     0.0                  0.0   \n",
       "357                      0.0                     0.0                  0.0   \n",
       "\n",
       "Title   10 Things I Hate About You  101 Dalmatians  \\\n",
       "Userid                                               \n",
       "256                            0.0             0.0   \n",
       "506                            0.0             0.0   \n",
       "567                            0.0             0.0   \n",
       "76                             0.0             0.0   \n",
       "357                            0.0             0.0   \n",
       "\n",
       "Title   101 Dalmatians (One Hundred and One Dalmatians)  \\\n",
       "Userid                                                    \n",
       "256                                                 0.0   \n",
       "506                                                 0.0   \n",
       "567                                                 0.0   \n",
       "76                                                  0.0   \n",
       "357                                                 0.0   \n",
       "\n",
       "Title   11'09\"01 - September 11  12 Angry Men  13 Going on 30  \\\n",
       "Userid                                                          \n",
       "256                         0.0           0.0             0.0   \n",
       "506                         0.0           0.0             0.0   \n",
       "567                         0.0           4.5             0.0   \n",
       "76                          0.0           0.0             0.0   \n",
       "357                         0.0           0.0             4.5   \n",
       "\n",
       "Title   2001: A Space Odyssey  ...  Young Frankenstein    Z  \\\n",
       "Userid                         ...                            \n",
       "256                       0.0  ...                 0.0  0.0   \n",
       "506                       0.0  ...                 0.0  0.0   \n",
       "567                       0.0  ...                 0.0  0.0   \n",
       "76                        0.0  ...                 0.0  0.0   \n",
       "357                       0.0  ...                 0.0  0.0   \n",
       "\n",
       "Title   Zack and Miri Make a Porno  Zelary  Zelig  Zero Dark Thirty  \\\n",
       "Userid                                                                \n",
       "256                            0.0     0.0    0.0               0.0   \n",
       "506                            0.0     0.0    0.0               0.0   \n",
       "567                            0.0     0.0    0.0               0.0   \n",
       "76                             0.0     0.0    0.0               0.0   \n",
       "357                            0.0     0.0    0.0               0.0   \n",
       "\n",
       "Title   Zombieland  Zoolander  Zulu  eXistenZ  \n",
       "Userid                                         \n",
       "256            0.0        0.0   0.0       0.0  \n",
       "506            0.0        0.0   0.0       0.0  \n",
       "567            0.0        0.0   0.0       0.0  \n",
       "76             0.0        0.0   0.0       0.0  \n",
       "357            0.0        0.0   0.0       0.0  \n",
       "\n",
       "[5 rows x 1454 columns]"
      ]
     },
     "execution_count": 322,
     "metadata": {},
     "output_type": "execute_result"
    }
   ],
   "source": [
    "#Filling the missing values with 0\n",
    "user_item_matrix = user_item_matrix.fillna(0)\n",
    "user_item_matrix.sample(n=5)"
   ]
  },
  {
   "cell_type": "markdown",
   "metadata": {},
   "source": [
    "\n",
    "## <font color=\"#90EE90\"><b>5.3 Normalizing The Data</b></font>"
   ]
  },
  {
   "cell_type": "markdown",
   "metadata": {},
   "source": [
    "For better performance of SVD, we will proceed and  normalize or mean-center the ratings by subtracting the user or movie average"
   ]
  },
  {
   "cell_type": "code",
   "execution_count": 323,
   "metadata": {},
   "outputs": [
    {
     "data": {
      "text/html": [
       "<div>\n",
       "<style scoped>\n",
       "    .dataframe tbody tr th:only-of-type {\n",
       "        vertical-align: middle;\n",
       "    }\n",
       "\n",
       "    .dataframe tbody tr th {\n",
       "        vertical-align: top;\n",
       "    }\n",
       "\n",
       "    .dataframe thead th {\n",
       "        text-align: right;\n",
       "    }\n",
       "</style>\n",
       "<table border=\"1\" class=\"dataframe\">\n",
       "  <thead>\n",
       "    <tr style=\"text-align: right;\">\n",
       "      <th>Title</th>\n",
       "      <th>(500) Days of Summer</th>\n",
       "      <th>...And Justice for All</th>\n",
       "      <th>10 Cloverfield Lane</th>\n",
       "      <th>10 Things I Hate About You</th>\n",
       "      <th>101 Dalmatians</th>\n",
       "      <th>101 Dalmatians (One Hundred and One Dalmatians)</th>\n",
       "      <th>11'09\"01 - September 11</th>\n",
       "      <th>12 Angry Men</th>\n",
       "      <th>13 Going on 30</th>\n",
       "      <th>2001: A Space Odyssey</th>\n",
       "      <th>...</th>\n",
       "      <th>Young Frankenstein</th>\n",
       "      <th>Z</th>\n",
       "      <th>Zack and Miri Make a Porno</th>\n",
       "      <th>Zelary</th>\n",
       "      <th>Zelig</th>\n",
       "      <th>Zero Dark Thirty</th>\n",
       "      <th>Zombieland</th>\n",
       "      <th>Zoolander</th>\n",
       "      <th>Zulu</th>\n",
       "      <th>eXistenZ</th>\n",
       "    </tr>\n",
       "    <tr>\n",
       "      <th>Userid</th>\n",
       "      <th></th>\n",
       "      <th></th>\n",
       "      <th></th>\n",
       "      <th></th>\n",
       "      <th></th>\n",
       "      <th></th>\n",
       "      <th></th>\n",
       "      <th></th>\n",
       "      <th></th>\n",
       "      <th></th>\n",
       "      <th></th>\n",
       "      <th></th>\n",
       "      <th></th>\n",
       "      <th></th>\n",
       "      <th></th>\n",
       "      <th></th>\n",
       "      <th></th>\n",
       "      <th></th>\n",
       "      <th></th>\n",
       "      <th></th>\n",
       "      <th></th>\n",
       "    </tr>\n",
       "  </thead>\n",
       "  <tbody>\n",
       "    <tr>\n",
       "      <th>2</th>\n",
       "      <td>-0.010316</td>\n",
       "      <td>-0.010316</td>\n",
       "      <td>-0.010316</td>\n",
       "      <td>-0.010316</td>\n",
       "      <td>-0.010316</td>\n",
       "      <td>-0.010316</td>\n",
       "      <td>-0.010316</td>\n",
       "      <td>-0.010316</td>\n",
       "      <td>-0.010316</td>\n",
       "      <td>-0.010316</td>\n",
       "      <td>...</td>\n",
       "      <td>-0.010316</td>\n",
       "      <td>-0.010316</td>\n",
       "      <td>-0.010316</td>\n",
       "      <td>-0.010316</td>\n",
       "      <td>-0.010316</td>\n",
       "      <td>-0.010316</td>\n",
       "      <td>-0.010316</td>\n",
       "      <td>-0.010316</td>\n",
       "      <td>-0.010316</td>\n",
       "      <td>-0.010316</td>\n",
       "    </tr>\n",
       "    <tr>\n",
       "      <th>7</th>\n",
       "      <td>-0.000688</td>\n",
       "      <td>-0.000688</td>\n",
       "      <td>-0.000688</td>\n",
       "      <td>-0.000688</td>\n",
       "      <td>-0.000688</td>\n",
       "      <td>-0.000688</td>\n",
       "      <td>-0.000688</td>\n",
       "      <td>-0.000688</td>\n",
       "      <td>-0.000688</td>\n",
       "      <td>-0.000688</td>\n",
       "      <td>...</td>\n",
       "      <td>-0.000688</td>\n",
       "      <td>-0.000688</td>\n",
       "      <td>-0.000688</td>\n",
       "      <td>-0.000688</td>\n",
       "      <td>-0.000688</td>\n",
       "      <td>-0.000688</td>\n",
       "      <td>-0.000688</td>\n",
       "      <td>-0.000688</td>\n",
       "      <td>-0.000688</td>\n",
       "      <td>-0.000688</td>\n",
       "    </tr>\n",
       "    <tr>\n",
       "      <th>18</th>\n",
       "      <td>-0.020289</td>\n",
       "      <td>-0.020289</td>\n",
       "      <td>-0.020289</td>\n",
       "      <td>-0.020289</td>\n",
       "      <td>-0.020289</td>\n",
       "      <td>-0.020289</td>\n",
       "      <td>-0.020289</td>\n",
       "      <td>-0.020289</td>\n",
       "      <td>-0.020289</td>\n",
       "      <td>-0.020289</td>\n",
       "      <td>...</td>\n",
       "      <td>-0.020289</td>\n",
       "      <td>-0.020289</td>\n",
       "      <td>-0.020289</td>\n",
       "      <td>-0.020289</td>\n",
       "      <td>-0.020289</td>\n",
       "      <td>-0.020289</td>\n",
       "      <td>-0.020289</td>\n",
       "      <td>-0.020289</td>\n",
       "      <td>-0.020289</td>\n",
       "      <td>-0.020289</td>\n",
       "    </tr>\n",
       "  </tbody>\n",
       "</table>\n",
       "<p>3 rows × 1454 columns</p>\n",
       "</div>"
      ],
      "text/plain": [
       "Title   (500) Days of Summer  ...And Justice for All  10 Cloverfield Lane  \\\n",
       "Userid                                                                      \n",
       "2                  -0.010316               -0.010316            -0.010316   \n",
       "7                  -0.000688               -0.000688            -0.000688   \n",
       "18                 -0.020289               -0.020289            -0.020289   \n",
       "\n",
       "Title   10 Things I Hate About You  101 Dalmatians  \\\n",
       "Userid                                               \n",
       "2                        -0.010316       -0.010316   \n",
       "7                        -0.000688       -0.000688   \n",
       "18                       -0.020289       -0.020289   \n",
       "\n",
       "Title   101 Dalmatians (One Hundred and One Dalmatians)  \\\n",
       "Userid                                                    \n",
       "2                                             -0.010316   \n",
       "7                                             -0.000688   \n",
       "18                                            -0.020289   \n",
       "\n",
       "Title   11'09\"01 - September 11  12 Angry Men  13 Going on 30  \\\n",
       "Userid                                                          \n",
       "2                     -0.010316     -0.010316       -0.010316   \n",
       "7                     -0.000688     -0.000688       -0.000688   \n",
       "18                    -0.020289     -0.020289       -0.020289   \n",
       "\n",
       "Title   2001: A Space Odyssey  ...  Young Frankenstein         Z  \\\n",
       "Userid                         ...                                 \n",
       "2                   -0.010316  ...           -0.010316 -0.010316   \n",
       "7                   -0.000688  ...           -0.000688 -0.000688   \n",
       "18                  -0.020289  ...           -0.020289 -0.020289   \n",
       "\n",
       "Title   Zack and Miri Make a Porno    Zelary     Zelig  Zero Dark Thirty  \\\n",
       "Userid                                                                     \n",
       "2                        -0.010316 -0.010316 -0.010316         -0.010316   \n",
       "7                        -0.000688 -0.000688 -0.000688         -0.000688   \n",
       "18                       -0.020289 -0.020289 -0.020289         -0.020289   \n",
       "\n",
       "Title   Zombieland  Zoolander      Zulu  eXistenZ  \n",
       "Userid                                             \n",
       "2        -0.010316  -0.010316 -0.010316 -0.010316  \n",
       "7        -0.000688  -0.000688 -0.000688 -0.000688  \n",
       "18       -0.020289  -0.020289 -0.020289 -0.020289  \n",
       "\n",
       "[3 rows x 1454 columns]"
      ]
     },
     "execution_count": 323,
     "metadata": {},
     "output_type": "execute_result"
    }
   ],
   "source": [
    "user_ratings_mean = user_item_matrix.mean(axis=1)\n",
    "user_item_matrix_normalized = user_item_matrix.sub(user_ratings_mean, axis=0)\n",
    "user_item_matrix_normalized .head(3)"
   ]
  },
  {
   "cell_type": "markdown",
   "metadata": {},
   "source": [
    "\n",
    "## <font color=\"#90EE90\"><b>5.4 Performing Singular Value Decomposition</b><font>"
   ]
  },
  {
   "cell_type": "markdown",
   "metadata": {},
   "source": [
    "Now that we have a clean user-item matrix, we will apply SVD.\n",
    "\n",
    "First, we will install scikit-surprise"
   ]
  },
  {
   "cell_type": "code",
   "execution_count": 324,
   "metadata": {},
   "outputs": [
    {
     "name": "stdout",
     "output_type": "stream",
     "text": [
      "Requirement already satisfied: scikit-surprise==1.1.1 in c:\\users\\ahb\\anaconda3\\envs\\learn-env\\lib\\site-packages (1.1.1)\n",
      "Requirement already satisfied: joblib>=0.11 in c:\\users\\ahb\\anaconda3\\envs\\learn-env\\lib\\site-packages (from scikit-surprise==1.1.1) (0.17.0)\n",
      "Requirement already satisfied: numpy>=1.11.2 in c:\\users\\ahb\\anaconda3\\envs\\learn-env\\lib\\site-packages (from scikit-surprise==1.1.1) (1.22.0)\n",
      "Requirement already satisfied: scipy>=1.0.0 in c:\\users\\ahb\\anaconda3\\envs\\learn-env\\lib\\site-packages (from scikit-surprise==1.1.1) (1.5.0)\n",
      "Requirement already satisfied: six>=1.10.0 in c:\\users\\ahb\\anaconda3\\envs\\learn-env\\lib\\site-packages (from scikit-surprise==1.1.1) (1.15.0)\n",
      "Note: you may need to restart the kernel to use updated packages.\n",
      "Surprise library installed.\n"
     ]
    }
   ],
   "source": [
    "# Installation of the suprise library:\n",
    "%pip install scikit-surprise==1.1.1\n",
    "print(\"Surprise library installed.\")"
   ]
  },
  {
   "cell_type": "markdown",
   "metadata": {},
   "source": [
    "\n",
    "# <font color=green><b>6.0 MODELLING</b></font> "
   ]
  },
  {
   "cell_type": "markdown",
   "metadata": {},
   "source": [
    "In this section, we will build a baseline recommendation model using the Surprise library, specifically applying Singular Value Decomposition (SVD) (Singular Value Decomposition) for collaborative filtering. Our goal is to create a robust model that predicts user ratings for movies based on historical data.\n",
    "\n",
    "To evaluate the model's performance, we will utilize RMSE (Root Mean Squared Error) as our primary metric. Additionally, we will ensure that our predictions are rounded to the nearest 0.5-star increment to align with the rating scale used in the dataset."
   ]
  },
  {
   "cell_type": "markdown",
   "metadata": {},
   "source": [
    "## <font color=\"#90EE98\"><b>6.1 KNNBasic Model</b><font>"
   ]
  },
  {
   "cell_type": "markdown",
   "metadata": {},
   "source": [
    "KNNBasic is a traditional collaborative filtering approach, which relies on finding similarities between users or items based on real ratings. It uses the ratings provided by users for movies (or other items) and recommends new movies based on the similarity of users or item."
   ]
  },
  {
   "cell_type": "code",
   "execution_count": 326,
   "metadata": {},
   "outputs": [
    {
     "name": "stdout",
     "output_type": "stream",
     "text": [
      "Computing the cosine similarity matrix...\n",
      "Done computing similarity matrix.\n",
      "RMSE: 0.7574\n"
     ]
    },
    {
     "data": {
      "text/plain": [
       "0.7573895614086353"
      ]
     },
     "execution_count": 326,
     "metadata": {},
     "output_type": "execute_result"
    }
   ],
   "source": [
    "# Importing necessary libraries\n",
    "from surprise import KNNBasic\n",
    "from surprise import accuracy\n",
    "from surprise import Dataset, Reader, SVD\n",
    "from surprise.model_selection import train_test_split\n",
    "\n",
    "# Loading data into Surprise format (you already have this)\n",
    "reader = Reader(rating_scale=(0.5, 5))\n",
    "data = Dataset.load_from_df(Movies_df[['Userid', 'Title', 'Rating']], reader)\n",
    "\n",
    "# Splitting data into train and test set (you already have this)\n",
    "trainset, testset = train_test_split(data, test_size=0.2, random_state=42)\n",
    "\n",
    "# Defining the KNNBasic model\n",
    "sim_options = {'name': 'cosine', 'user_based': False}  # item-based collaborative filtering\n",
    "knn = KNNBasic(sim_options=sim_options)\n",
    "\n",
    "# Training the KNN model\n",
    "knn.fit(trainset)\n",
    "\n",
    "# Predicting ratings for testset using KNN\n",
    "knn_predictions = knn.test(testset)\n",
    "\n",
    "# Calculating RMSE for KNN model\n",
    "accuracy.rmse(knn_predictions)\n"
   ]
  },
  {
   "cell_type": "markdown",
   "metadata": {},
   "source": [
    "\n",
    "## <font color=\"#90EE90\"><b>6.2 Singular Value Decomposition Model</b><font>"
   ]
  },
  {
   "cell_type": "code",
   "execution_count": 327,
   "metadata": {},
   "outputs": [
    {
     "name": "stdout",
     "output_type": "stream",
     "text": [
      "RMSE: 0.5307\n"
     ]
    },
    {
     "data": {
      "text/plain": [
       "0.5307407111293858"
      ]
     },
     "execution_count": 327,
     "metadata": {},
     "output_type": "execute_result"
    }
   ],
   "source": [
    "# Loading data into Surprise format\n",
    "reader = Reader(rating_scale=(0.5, 5))\n",
    "data = Dataset.load_from_df(Movies_df[['Userid', 'Title', 'Rating']], reader)\n",
    "\n",
    "\n",
    "# Splitting data into train and test set\n",
    "trainset, testset = train_test_split(data, test_size=0.2, random_state=42)\n",
    "\n",
    "\n",
    "# Initializing and train SVD model\n",
    "svd = SVD()\n",
    "svd.fit(trainset)\n",
    "\n",
    "# Predict ratings for testset\n",
    "predictions = svd.test(testset)\n",
    "# Importing library\n",
    "from surprise import accuracy\n",
    "\n",
    "# Calculating accuracy\n",
    "accuracy.rmse(predictions)\n",
    " "
   ]
  },
  {
   "cell_type": "markdown",
   "metadata": {},
   "source": [
    "KNNBasic higher RMSE, indicates that its predictions deviate more from the true user ratings compared to the SVD model which outperforms the KNNBasic model, as indicated by its lower RMSE (0.533 compared to 0.754).\n",
    "\n",
    "Given the current RMSE scores, we would proceed and focus on tuning the SVD model. This model already has better predictive performance, and fine-tuning its hyperparameters (such as the number of factors, learning rate, regularization, etc.) could further reduce the RMSE and improve the recommendation"
   ]
  },
  {
   "cell_type": "markdown",
   "metadata": {},
   "source": [
    "An RMSE of 0.582 suggests that, on average, our predicted ratings are relatively close to the actual ratings. While this isn't the optimal result, we'll move forward with hyperparameter tuning to improve the model's accuracy."
   ]
  },
  {
   "cell_type": "markdown",
   "metadata": {},
   "source": [
    "\n",
    "## <font color=\"#90EE90\"><b>6.3 SVD Model Tunning</b><font>"
   ]
  },
  {
   "cell_type": "markdown",
   "metadata": {},
   "source": [
    "For our model tunning, we will use the GridsearchCV to improve the perfomance of our model."
   ]
  },
  {
   "cell_type": "code",
   "execution_count": 397,
   "metadata": {},
   "outputs": [
    {
     "name": "stdout",
     "output_type": "stream",
     "text": [
      "0.4952036936905572\n",
      "{'n_factors': 100, 'n_epochs': 40, 'lr_all': 0.02}\n"
     ]
    }
   ],
   "source": [
    "from surprise.model_selection import GridSearchCV\n",
    "# Define Hyperparameter Grid\n",
    "param_grid = {\n",
    "    'n_factors': [50, 100, 150],\n",
    "    'n_epochs': [20, 30, 40],\n",
    "    'lr_all': [0.005, 0.01, 0.02]\n",
    "}\n",
    "# Perform GridSearchCV\n",
    "gs = GridSearchCV(SVD, param_grid, measures=['rmse'], cv=5)\n",
    "gs.fit(data)\n",
    "\n",
    "# Output the best score and parameters\n",
    "print(gs.best_score['rmse'])\n",
    "print(gs.best_params['rmse'])"
   ]
  },
  {
   "cell_type": "markdown",
   "metadata": {},
   "source": [
    "The best RMSE score after tuning is 0.5084, which is an improvement from the previous RMSE of 0.5828. This indicates that the model now predicts user ratings with even higher accuracy after fine-tuning the hyperparameters."
   ]
  },
  {
   "cell_type": "markdown",
   "metadata": {},
   "source": [
    "\n",
    "\n",
    "# <font color=green><b>7.COLLABORATIVE FILTERING</b></font> "
   ]
  },
  {
   "cell_type": "markdown",
   "metadata": {},
   "source": [
    "Now that we have tunned our SVD model using GridSearchCV and obtained the best hyperparameters, the next step is to provide top 5 movie recommendations to a user, based on their ratings of other movies.\n",
    "This will be achieved by the use of user_based filtration"
   ]
  },
  {
   "cell_type": "markdown",
   "metadata": {},
   "source": [
    "### - User_Based Filtering"
   ]
  },
  {
   "cell_type": "code",
   "execution_count": 328,
   "metadata": {},
   "outputs": [
    {
     "name": "stdout",
     "output_type": "stream",
     "text": [
      "\u001b[4mTop 5 movie recommendations for User 145:\u001b[0m\n",
      "\n",
      "Talented Mr. Ripley, The: Predicted Rating: 4.5\n",
      "\n",
      "X2: X-Men United: Predicted Rating: 4.5\n",
      "\n",
      "Eternal Sunshine of the Spotless Mind: Predicted Rating: 4.5\n",
      "\n",
      "Eraserhead: Predicted Rating: 4.5\n",
      "\n",
      "Star Wars: Episode V - The Empire Strikes Back: Predicted Rating: 4.5\n",
      "\n"
     ]
    }
   ],
   "source": [
    "def round_to_nearest_half(value):\n",
    "    \"\"\"Round a float to the nearest 0.5.\"\"\"\n",
    "    return round(value * 2) / 2\n",
    "\n",
    "def get_top_n_recommendations(user_id, model, data, n=5):\n",
    "    \"\"\"Get the top N movie recommendations for a specific user.\"\"\"\n",
    "    # Get the list of all unique movie titles\n",
    "    all_movie_titles = Movies_df['Title'].unique()\n",
    "    \n",
    "    # Getting the list of movies the user has already rated\n",
    "    user_rated_movies = Movies_df[Movies_df['Userid'] == user_id]['Title'].values\n",
    "    \n",
    "    # Finding the movies that the user hasn't rated yet\n",
    "    unrated_movies = [movie for movie in all_movie_titles if movie not in user_rated_movies]\n",
    "    \n",
    "    # Predicting ratings for the unrated movies\n",
    "    predictions = [model.predict(user_id, movie) for movie in unrated_movies]\n",
    "    \n",
    "    # Sorting the predicted ratings in descending order\n",
    "    top_n_predictions = sorted(predictions, key=lambda x: x.est, reverse=True)[:n]\n",
    "    \n",
    "    # Return the top N movie titles and their predicted ratings rounded to nearest 0.5\n",
    "    return [(pred.iid, round_to_nearest_half(pred.est)) for pred in top_n_predictions]\n",
    "\n",
    "# Ask the user to input their user ID\n",
    "user_id = input(\"Please enter your User ID: \")\n",
    "\n",
    "# Predicting the top 5 movies for the specified user\n",
    "top_5_recommendations = get_top_n_recommendations(int(user_id), svd, Movies_df, n=5)\n",
    "\n",
    "# Output the recommendations\n",
    "print(f\"\\033[4mTop 5 movie recommendations for User {user_id}:\\033[0m\\n\")\n",
    "for movie, rating in top_5_recommendations:\n",
    "    print(f\"{movie}: Predicted Rating: {rating:.1f}\\n\")\n"
   ]
  },
  {
   "cell_type": "markdown",
   "metadata": {},
   "source": [
    "Using the user based filtration, we have implemented an input field that allows the entry of User ID, which generates the top 5 movie recommendations based on their ratings."
   ]
  },
  {
   "cell_type": "markdown",
   "metadata": {},
   "source": [
    "###  - Content_Based Filtering"
   ]
  },
  {
   "cell_type": "markdown",
   "metadata": {},
   "source": [
    "Content-based filtering is a recommendation technique that suggests items to users based on the features or attributes of the items themselves, rather than relying on user interactions with items (like ratings). It uses item metadata, such as descriptions, genres, keywords, or other characteristics, to make recommendations"
   ]
  },
  {
   "cell_type": "markdown",
   "metadata": {},
   "source": [
    "We will leverage the **scikit-learn** `TfidfVectorizer` function which converts text to feature vectors that is fed into an estimator."
   ]
  },
  {
   "cell_type": "code",
   "execution_count": 329,
   "metadata": {},
   "outputs": [],
   "source": [
    "from sklearn.feature_extraction.text import TfidfVectorizer\n",
    "\n",
    "# Combine genres and tags as a single feature string for each movie\n",
    "Movies_df['combined_features'] = Movies_df['Genres'] + ' ' + Movies_df['Tag']\n",
    "\n",
    "# Use TF-IDF Vectorizer to convert combined features into a matrix\n",
    "tfidf = TfidfVectorizer(stop_words='english')\n",
    "tfidf_matrix = tfidf.fit_transform(Movies_df['combined_features'])"
   ]
  },
  {
   "cell_type": "code",
   "execution_count": 330,
   "metadata": {},
   "outputs": [],
   "source": [
    "from sklearn.metrics.pairwise import cosine_similarity\n",
    "\n",
    "# Compute the cosine similarity matrix\n",
    "cosine_sim = cosine_similarity(tfidf_matrix, tfidf_matrix)\n"
   ]
  },
  {
   "cell_type": "code",
   "execution_count": 331,
   "metadata": {},
   "outputs": [
    {
     "name": "stdout",
     "output_type": "stream",
     "text": [
      "\u001b[4mYou might also like:\u001b[0m\n",
      "\n",
      "Pulp Fiction\n",
      "Kiss Kiss Bang Bang\n",
      "12 Angry Men\n",
      "Social Network, The\n"
     ]
    }
   ],
   "source": [
    "def get_recommendations(movie_title, cosine_sim=cosine_sim):\n",
    "    \"\"\"Get recommendations based on a given movie title.\"\"\"\n",
    "    # Check if the movie title exists in the DataFrame\n",
    "    if movie_title not in Movies_df['Title'].values:\n",
    "        return f\"Sorry, '{movie_title}' not found in the database. Please try another movie.\"\n",
    "\n",
    "    # Get the index of the movie that matches the title\n",
    "    idx = Movies_df[Movies_df['Title'] == movie_title].index[0]\n",
    "\n",
    "    # Get the pairwise similarity scores of all movies with that movie\n",
    "    sim_scores = list(enumerate(cosine_sim[idx]))\n",
    "\n",
    "    # Sort the movies based on the similarity scores\n",
    "    sim_scores = sorted(sim_scores, key=lambda x: x[1], reverse=True)\n",
    "\n",
    "    # Get the indices of the most similar movies, excluding the first one (which is the same movie)\n",
    "    movie_indices = [i[0] for i in sim_scores[1:6]]  # Exclude the first one\n",
    "\n",
    "    # Return the top 5 most similar movies\n",
    "    return Movies_df['Title'].iloc[movie_indices].unique()  # Ensure uniqueness\n",
    "\n",
    "# Allow user input for movie title\n",
    "movie_title_input = input(\"Please enter a movie title: \")\n",
    "\n",
    "# Get recommendations\n",
    "recommendations = get_recommendations(movie_title_input)\n",
    "\n",
    "# Output the recommendations\n",
    "\n",
    "print(f\"\\033[4mYou might also like:\\033[0m\\n\")\n",
    "if isinstance(recommendations, str):\n",
    "    print(recommendations)  # Print error message\n",
    "else:\n",
    "    for movie in recommendations:\n",
    "        print(movie)\n"
   ]
  },
  {
   "cell_type": "markdown",
   "metadata": {},
   "source": [
    "\n",
    "## <font color=\"Green\"><b>8. COLD START MITIGATION FOR NEW USER</b><font>"
   ]
  },
  {
   "cell_type": "markdown",
   "metadata": {},
   "source": [
    "Cold start mitigation for new users is a critical challenge in recommendation systems, particularly in collaborative filtering methods, where the system relies heavily on user interactions and preferences to make suggestions: Here we will employ two stratges to adress this issue. There strategies are:-\n",
    "- Content based Filtering for new users \n",
    "- Movie polularity "
   ]
  },
  {
   "cell_type": "markdown",
   "metadata": {},
   "source": [
    " ### <font color=\"#90EE90\"><b>8.1 Content_based filtering for </B>`new users`<font>"
   ]
  },
  {
   "cell_type": "markdown",
   "metadata": {},
   "source": [
    "Content-based filtering for new users involves recommending movies based on the features of the movie themselves.\n",
    "\n",
    "Since new users don’t have a history of rated movies, we are going to recommend movies based on their known preferences, in this case movie genre to recommend the best movies thes elected genre."
   ]
  },
  {
   "cell_type": "code",
   "execution_count": 335,
   "metadata": {},
   "outputs": [
    {
     "name": "stdout",
     "output_type": "stream",
     "text": [
      "Available genres:\n",
      "- Adventure\n",
      "- Animation\n",
      "- Children\n",
      "- Comedy\n",
      "- Fantasy\n",
      "- Romance\n",
      "- Mystery\n",
      "- Thriller\n",
      "- Crime\n",
      "- Action\n",
      "- Drama\n",
      "- War\n",
      "- Sci-Fi\n",
      "- Western\n",
      "- Horror\n",
      "- Musical\n",
      "- Film-Noir\n",
      "- IMAX\n",
      "- Documentary\n",
      "\n",
      "Top movies in the 'War' genre:\n",
      "                                                  Title\n",
      "344                                   Full Metal Jacket\n",
      "240                                        Forrest Gump\n",
      "1061  Dr. Strangelove or: How I Learned to Stop Worr...\n",
      "3131                        Come and See (Idi i smotri)\n",
      "252                                    Schindler's List\n"
     ]
    }
   ],
   "source": [
    "# Sample user preferences - genres to choose from\n",
    "available_genres = [\n",
    "    'Adventure', 'Animation', 'Children', 'Comedy', 'Fantasy',\n",
    "    'Romance', 'Mystery', 'Thriller', 'Crime', 'Action',\n",
    "    'Drama', 'War', 'Sci-Fi', 'Western', 'Horror',\n",
    "    'Musical', 'Film-Noir', 'IMAX', 'Documentary'\n",
    "]\n",
    "\n",
    "# Ask the user to input their preferred genre\n",
    "print(\"Available genres:\")\n",
    "for genre in available_genres:\n",
    "    print(f\"- {genre}\")\n",
    "\n",
    "user_genre = input(\"Please enter your preferred genre: \")\n",
    "\n",
    "# Check if the input genre is valid\n",
    "if user_genre in available_genres:\n",
    "    # Filter the Movies_df based on the user-selected genre\n",
    "    recommended_movies = Movies_df[Movies_df['Genres'].str.contains(user_genre)]\n",
    "    \n",
    "    # Sort the recommended movies by ratings in descending order\n",
    "    recommended_movies_sorted = recommended_movies.sort_values(by='Rating', ascending=False)\n",
    "\n",
    "    # Remove duplicates by keeping the first occurrence of each unique title\n",
    "    recommended_movies_unique = recommended_movies_sorted.drop_duplicates(subset=['Title'])\n",
    "\n",
    "    # Display the top 5 recommended unique movies\n",
    "    print(f\"\\nTop movies in the '{user_genre}' genre:\")\n",
    "    print(recommended_movies_unique[['Title']].head(5))\n",
    "      # print(recommended_movies_unique[['Title', 'Genres', 'Rating']].head(5))\n",
    "else:\n",
    "    print(\"Sorry, the genre you entered is not available. Please try again.\")\n"
   ]
  },
  {
   "cell_type": "markdown",
   "metadata": {},
   "source": [
    "\n",
    " ### <font color=\"#90EE90\"><b>8.2Movie Popularity</b> `new users`<font>"
   ]
  },
  {
   "cell_type": "markdown",
   "metadata": {},
   "source": [
    "Another approach to tackle the cold start problem for new users is to recommend the highest-rated movies regardless of genre. \n",
    "\n",
    "Since new users lack interaction history, suggesting highly-rated or popular films guarantees that they receive quality recommendations immediately, thereby enhancing user acquisition and retention"
   ]
  },
  {
   "cell_type": "code",
   "execution_count": 404,
   "metadata": {},
   "outputs": [
    {
     "name": "stdout",
     "output_type": "stream",
     "text": [
      "                                     Title  Rating\n",
      "0                     (500) Days of Summer     5.0\n",
      "304                       Dead Man Walking     5.0\n",
      "254            Come and See (Idi i smotri)     5.0\n",
      "1182  South Park: Bigger, Longer and Uncut     5.0\n",
      "1180                   Sound of Music, The     5.0\n"
     ]
    }
   ],
   "source": [
    "# movie ratings and their average rating\n",
    "popular_movies = Movies_df.groupby('Title').agg({'Rating': 'mean'}).reset_index()\n",
    "popular_movies = popular_movies.sort_values(by='Rating', ascending=False)\n",
    "\n",
    "# Get the top 5 popular movies\n",
    "top_n_popular = popular_movies.head(5)\n",
    "\n",
    "# Display the popular movies\n",
    "print(top_n_popular)\n"
   ]
  },
  {
   "cell_type": "markdown",
   "metadata": {},
   "source": [
    "\n",
    "By implementing the hybrid model, we successfully addressed the cold start problem for new users by recommending popular movies and leveraging content-based filtering to provide personalized suggestions based on their preferences."
   ]
  },
  {
   "cell_type": "markdown",
   "metadata": {},
   "source": [
    "\n",
    "# <font color=\"Green\"><b>9 CONCLUSIONS</b><font>"
   ]
  },
  {
   "cell_type": "markdown",
   "metadata": {},
   "source": [
    "### 1.Personalized Top 5 Movie Recommendations.\n",
    "The implementation of collaborative filtering  using the user based filtration techniques successfully provides personalized recommendations, enhancing user engagement and satisfaction. Users receive tailored movie suggestions based on their ratings, leading to increased interaction with the platform.\n",
    "\n",
    "### 2. Content based filteration for existing users .\n",
    "Employment of the content-based filtering system for existing users, allows them to enter a specific movie title. Upon entering the title, the system suggests similar movies based on the selected movie's attributes\n",
    "\n",
    "### 3. Cold Start Problem Mitigation\n",
    "- Movie Popularity:\n",
    "For new users who lack interaction history, the system recommends the highest-rated regardless of genre. This approach ensures that users are introduced to quality content right from their first interaction.\n",
    "\n",
    "- Content-Based Genre Recommendations:\n",
    " In addition to popularity-based recommendations, we have integrated a content-based filtering mechanism that allows new users to select their preferred movie genre. Once a genre is selected, the system suggests the highest-rated movies within that category. This method not only personalizes the recommendations based on user interests but also facilitates a more targeted exploration of films that align with their tastes.\n",
    "\n",
    " ### 4. Evaluation of the model.\n",
    "To assess the performance of our recommendation system, we employed the Root Mean Square Error (RMSE).\n",
    "After implementing improvements to the best perfoming model,(which in our case is the SVD) through hyperparameter tuning with GridSearchCV, we achieved an RMSE of 0.50. This indicates that, on average, our model's predictions are within 0.50 rating points of the actual user ratings.\n",
    "\n",
    "### 5. Movie Rating Frequency\n",
    "The analysis reveals that, on average, movies from the MovieLens dataset received a rating of 4.0 on a scale ranging from 0.5 to 5.0"
   ]
  },
  {
   "cell_type": "markdown",
   "metadata": {},
   "source": [
    "# <font color=\"Green\"><b>10.RECOMENDATION</b><font>"
   ]
  },
  {
   "cell_type": "markdown",
   "metadata": {},
   "source": [
    "- The film industry is dynamic, with new releases reflecting changing audience preferences, cultural trends, and technological advancements. By including the latest movies, the dataset remains relevant and up-to-date, ensuring users have access to current content that aligns with contemporary tastes.\n",
    "\n",
    "- Enrich the existing movie data with comprehensive information about the filmmakers. Specifically, including details about the authors (screenwriters) and producers of each film can greatly enhance the dataset's value for users and improve the recommendation system's effectiveness.By analyzing the works of specific authors and producers, the recommendation system can suggest similar films created by the same talent.\n",
    "\n",
    "- By broadening genre classifications to include niche and diverse categories, MovieLens can create a more inclusive and engaging platform that appeals to a wider range of viewers. This strategy not only enhances user satisfaction but also promotes exploration and discovery, ultimately enriching the overall cinematic experience for all users.\n",
    "\n",
    "- leveraging user location data to enhance movie recommendations, specifically to address the cold start problem. For instance, if a movie is popular in a particular area, such as Kenya,it can be recommended to new users from the same location.\n",
    "\n",
    "- Integration with External Data Sources: Expanding data sources by integrating external datasets, such as movie reviews, social media sentiment analysis, or movie industry trends. This additional data can provide valuable insights into the popularity and sentiment surrounding movies, enhancing the quality and relevance of recommendations."
   ]
  },
  {
   "cell_type": "markdown",
   "metadata": {},
   "source": [
    "-----------------------------------------------------------------------------------------------------------------------------------------------------------"
   ]
  }
 ],
 "metadata": {
  "kernelspec": {
   "display_name": "Python (learn-env)",
   "language": "python",
   "name": "learn-env"
  },
  "language_info": {
   "codemirror_mode": {
    "name": "ipython",
    "version": 3
   },
   "file_extension": ".py",
   "mimetype": "text/x-python",
   "name": "python",
   "nbconvert_exporter": "python",
   "pygments_lexer": "ipython3",
   "version": "3.8.5"
  }
 },
 "nbformat": 4,
 "nbformat_minor": 2
}
