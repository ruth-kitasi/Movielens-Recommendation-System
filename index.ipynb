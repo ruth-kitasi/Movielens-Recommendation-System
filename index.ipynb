{
 "cells": [
  {
   "cell_type": "markdown",
   "metadata": {},
   "source": [
    "# MOVIELENS RECOMMENDATION SYSTEMS\n"
   ]
  },
  {
   "cell_type": "markdown",
   "metadata": {},
   "source": [
    "### Collaborators\n",
    "- 1.Ruth Kitasi\n",
    "- 2.Agatha Nyambati\n",
    "- 3.Joseline Apiyo\n",
    "- 4.Cecilia Ngunjiri\n",
    "- 5.John Mbego\n",
    "- 6.Leonard Koyio"
   ]
  },
  {
   "cell_type": "markdown",
   "metadata": {},
   "source": [
    "![Movie.jpeg](Movie.jpeg)"
   ]
  },
  {
   "cell_type": "markdown",
   "metadata": {},
   "source": [
    "# 1.BUSINESS UNDERSTANDING"
   ]
  },
  {
   "cell_type": "markdown",
   "metadata": {},
   "source": [
    "## 1.1 Overview"
   ]
  },
  {
   "cell_type": "markdown",
   "metadata": {},
   "source": [
    "In today's world of massive data growth, recommendation systems have become essential tools for filtering information and enhancing user experiences. These systems help users find relevant content by analyzing their past behaviors, such as search queries or browsing histories.\n",
    "\n",
    "Companies like YouTube and Spotify use recommendation algorithms to suggest the next video or curate personalized playlists based on user preferences.\n",
    "\n",
    "In line with our project objective we aim to harness the power of data analysis to build a movie recommendation system that provides users with personalized movie suggestions.\n",
    "\n",
    "By analyzing user ratings of other movies, we can generate tailored recommendations that align with individual preferences. The goal is to develop a model that delivers the top 5 movie recommendations for each user, optimizing their viewing experience based on their previous interactions."
   ]
  },
  {
   "cell_type": "markdown",
   "metadata": {},
   "source": [
    "## 1.2 Problem statement"
   ]
  },
  {
   "cell_type": "markdown",
   "metadata": {},
   "source": [
    "With the vast amount of content available on streaming platforms, users often feel overwhelmed by choices, making it difficult to discover movies that align with their preferences. Traditional search methods fall short in addressing this challenge, resulting in a less satisfying user experience and decreased engagement.\n",
    "\n",
    "MovieLens has tasked our team of data scientists with optimizing their recommendation system through data-driven approaches. By analyzing user behaviors and preferences, we aim to enhance the system's ability to deliver personalized movie recommendations."
   ]
  },
  {
   "cell_type": "markdown",
   "metadata": {},
   "source": [
    "## 1.3 Objectives"
   ]
  },
  {
   "cell_type": "markdown",
   "metadata": {},
   "source": [
    "1. Develop a Personalized Recommendation System: Build a model that provides the top 5 movie recommendations to a user based on their ratings of other movies.\n",
    "\n",
    "2. Implement Content-Based Filtering for Existing Users: Establish a content-based filtering mechanism for existing users, enabling them to input specific movie titles to receive similar movie suggestions.\n",
    "\n",
    "3. Mitigate the Cold Start Problem by:\n",
    "\n",
    "   - Promoting Movie Popularity: Recommend high-rated movies to new users lacking interaction history, regardless of genre.\n",
    "   - Content-Based Filtering: Allow new users to select their preferred movie genre and receive the best movies within that genre.\n",
    "\n",
    "4. Evaluate the Recommendation System Performance: Assess the effectiveness of the recommendation system using the Root Mean Square Error (RMSE) metric.\n",
    "\n",
    "5. Analyze Movie Rating Frequency: Conduct an analysis of the MovieLens dataset to determine the average movie rating, aiming to understand user preferences.\n",
    "\n"
   ]
  },
  {
   "cell_type": "markdown",
   "metadata": {},
   "source": [
    "## 1.4 Data Limitations.\n",
    "\n",
    "While the MovieLens dataset is valuable for building a movie recommender system, it has some limitations:\n",
    "\n",
    "* Limited Temporal Coverage: The dataset spans a specific time period, which may not capture the most recent trends or preferences.\n",
    "\n",
    "* Cold-Start Problem: The system may struggle to provide recommendations for new users or movies with limited ratings or tags.\n",
    "\n",
    "* Bias in Ratings: User ratings can be influenced by various factors, such as popularity bias or groupthink, which may affect the accuracy of recommendations."
   ]
  },
  {
   "cell_type": "markdown",
   "metadata": {
    "vscode": {
     "languageId": "plaintext"
    }
   },
   "source": [
    "# 2. DATA UNDERSTANDING"
   ]
  },
  {
   "cell_type": "markdown",
   "metadata": {
    "vscode": {
     "languageId": "plaintext"
    }
   },
   "source": [
    "## 2.1 Data Source"
   ]
  },
  {
   "cell_type": "markdown",
   "metadata": {},
   "source": [
    "The dataset https://grouplens.org/datasets/movielens/, was obtained from the GroupLens website which  is a well-known resource for research in recommendation systems and data analysis.\n",
    "\n",
    "The Movielens comprises of four files:\n",
    "\n",
    "##### 1. `links.csv`\n",
    "Contains identifiers linking MovieLens movies to external databases (IMDB and TMDb). The structure is:\n",
    "\n",
    "\n",
    "\n",
    "| Column    | Description                                            |\n",
    "|-----------|--------------------------------------------------------|\n",
    "| `movieId` | ID representing each movie in the MovieLens dataset    |\n",
    "| `imdbId`  | Corresponding movie ID from IMDb                       |\n",
    "| `tmdbId`  | Corresponding movie ID from The Movie Database (TMDb)  |\n",
    "\n",
    "\n",
    "\n",
    "##### 2. `movies.csv`\n",
    "This file includes movie titles and their associated genres. The data is structured as follows:\n",
    "\n",
    "| Column    | Description                                            |\n",
    "|-----------|--------------------------------------------------------|\n",
    "| `movieId` | ID representing each movie                             |\n",
    "| `title`   | Movie title, including the year of release (e.g., *Toy Story (1995)*) |\n",
    "| `genres`  | Pipe-separated list of genres (e.g., *Animation|Children's|Comedy*)   |\n",
    "\n",
    "\n",
    "\n",
    "##### 3. `ratings.csv`\n",
    "This file contains explicit user ratings for movies on a **5-star scale**. The data is structured as:\n",
    "\n",
    "| Column   | Description                                   |\n",
    "|----------|-----------------------------------------------|\n",
    "| `userId` | Anonymized ID representing each user          |\n",
    "| `movieId`| ID representing each movie                    |\n",
    "| `rating` | User rating for the movie (0.5 to 5.0 stars)  |\n",
    "| `timestamp` | UNIX timestamp when the rating was made     |\n",
    "\n",
    "Ratings are sorted first by `userId`, then by `movieId`.\n",
    "\n",
    "##### 4. `tags.csv`\n",
    "Tags represent user-generated metadata (e.g., short descriptions or labels). The structure is:\n",
    "\n",
    "| Column   | Description                                    |\n",
    "|----------|------------------------------------------------|\n",
    "| `userId` | Anonymized ID representing each user           |\n",
    "| `movieId`| ID representing each movie                     |\n",
    "| `tag`    | User-assigned tag for the movie                |\n",
    "| `timestamp` | UNIX timestamp when the tag was added       |\n",
    "\n",
    "Like ratings, tags are sorted by `userId` and then by `movieId`\n",
    "\n",
    "\n",
    "  "
   ]
  },
  {
   "cell_type": "markdown",
   "metadata": {},
   "source": [
    "## 2.2 Data loading and Inspection\n"
   ]
  },
  {
   "cell_type": "code",
   "execution_count": 213,
   "metadata": {},
   "outputs": [],
   "source": [
    "## Importing the libraries\n",
    "\n",
    "import pandas as pd\n",
    "import numpy as np\n"
   ]
  },
  {
   "cell_type": "code",
   "execution_count": 214,
   "metadata": {},
   "outputs": [],
   "source": [
    "#Creating a function to read the files.\n",
    "\n",
    "def read_csv_file(file_name):\n",
    "\n",
    "    try:\n",
    "        df = pd.read_csv(file_name)\n",
    "        print(f\"{file_name} read successfully!\")\n",
    "        return df\n",
    "    except FileNotFoundError:\n",
    "        print(f\"Error: {file_name} not found!\")\n",
    "    except Exception as e:\n",
    "        print(f\"An error occurred while reading {file_name}: {e}\")\n"
   ]
  },
  {
   "cell_type": "code",
   "execution_count": 215,
   "metadata": {},
   "outputs": [
    {
     "name": "stdout",
     "output_type": "stream",
     "text": [
      "ml-latest-small\\links.csv read successfully!\n",
      "ml-latest-small\\movies.csv read successfully!\n",
      "ml-latest-small\\ratings.csv read successfully!\n",
      "ml-latest-small/tags.csv read successfully!\n"
     ]
    }
   ],
   "source": [
    "#using the fucntion to read files.\n",
    "\n",
    "links = read_csv_file(\"ml-latest-small\\links.csv\")\n",
    "movies = read_csv_file(\"ml-latest-small\\movies.csv\")\n",
    "ratings = read_csv_file(r\"ml-latest-small\\ratings.csv\")\n",
    "tags = read_csv_file(\"ml-latest-small/tags.csv\")"
   ]
  },
  {
   "cell_type": "code",
   "execution_count": 216,
   "metadata": {},
   "outputs": [],
   "source": [
    "# checking for basic statistics of our data sets\n",
    "\n",
    "def basic_stats(dataset, dataset_name):\n",
    "    print('dataset: ',dataset_name )\n",
    "    print('\\n')\n",
    "    dataset.info()\n",
    "    print('-------------------')\n",
    "    print('\\n')\n",
    "    print(dataset.describe())\n",
    "    print('-------------------')\n",
    "    print('\\n')\n",
    "    print('shape: ',dataset.shape)"
   ]
  },
  {
   "cell_type": "code",
   "execution_count": 217,
   "metadata": {},
   "outputs": [
    {
     "name": "stdout",
     "output_type": "stream",
     "text": [
      "dataset:  Links file\n",
      "\n",
      "\n",
      "<class 'pandas.core.frame.DataFrame'>\n",
      "RangeIndex: 9742 entries, 0 to 9741\n",
      "Data columns (total 3 columns):\n",
      " #   Column   Non-Null Count  Dtype  \n",
      "---  ------   --------------  -----  \n",
      " 0   movieId  9742 non-null   int64  \n",
      " 1   imdbId   9742 non-null   int64  \n",
      " 2   tmdbId   9734 non-null   float64\n",
      "dtypes: float64(1), int64(2)\n",
      "memory usage: 228.5 KB\n",
      "-------------------\n",
      "\n",
      "\n",
      "             movieId        imdbId         tmdbId\n",
      "count    9742.000000  9.742000e+03    9734.000000\n",
      "mean    42200.353623  6.771839e+05   55162.123793\n",
      "std     52160.494854  1.107228e+06   93653.481487\n",
      "min         1.000000  4.170000e+02       2.000000\n",
      "25%      3248.250000  9.518075e+04    9665.500000\n",
      "50%      7300.000000  1.672605e+05   16529.000000\n",
      "75%     76232.000000  8.055685e+05   44205.750000\n",
      "max    193609.000000  8.391976e+06  525662.000000\n",
      "-------------------\n",
      "\n",
      "\n",
      "shape:  (9742, 3)\n"
     ]
    }
   ],
   "source": [
    "# links dataset summary\n",
    "\n",
    "basic_stats(links, 'Links file')"
   ]
  },
  {
   "cell_type": "code",
   "execution_count": 218,
   "metadata": {},
   "outputs": [
    {
     "name": "stdout",
     "output_type": "stream",
     "text": [
      "dataset:  Movies file stats summary report\n",
      "\n",
      "\n",
      "<class 'pandas.core.frame.DataFrame'>\n",
      "RangeIndex: 9742 entries, 0 to 9741\n",
      "Data columns (total 3 columns):\n",
      " #   Column   Non-Null Count  Dtype \n",
      "---  ------   --------------  ----- \n",
      " 0   movieId  9742 non-null   int64 \n",
      " 1   title    9742 non-null   object\n",
      " 2   genres   9742 non-null   object\n",
      "dtypes: int64(1), object(2)\n",
      "memory usage: 228.5+ KB\n",
      "-------------------\n",
      "\n",
      "\n",
      "             movieId\n",
      "count    9742.000000\n",
      "mean    42200.353623\n",
      "std     52160.494854\n",
      "min         1.000000\n",
      "25%      3248.250000\n",
      "50%      7300.000000\n",
      "75%     76232.000000\n",
      "max    193609.000000\n",
      "-------------------\n",
      "\n",
      "\n",
      "shape:  (9742, 3)\n"
     ]
    }
   ],
   "source": [
    "# movies dataset summary\n",
    "\n",
    "basic_stats(movies, 'Movies file stats summary report')"
   ]
  },
  {
   "cell_type": "code",
   "execution_count": 219,
   "metadata": {},
   "outputs": [
    {
     "name": "stdout",
     "output_type": "stream",
     "text": [
      "dataset:  Rating file stats summary report\n",
      "\n",
      "\n",
      "<class 'pandas.core.frame.DataFrame'>\n",
      "RangeIndex: 100836 entries, 0 to 100835\n",
      "Data columns (total 4 columns):\n",
      " #   Column     Non-Null Count   Dtype  \n",
      "---  ------     --------------   -----  \n",
      " 0   userId     100836 non-null  int64  \n",
      " 1   movieId    100836 non-null  int64  \n",
      " 2   rating     100836 non-null  float64\n",
      " 3   timestamp  100836 non-null  int64  \n",
      "dtypes: float64(1), int64(3)\n",
      "memory usage: 3.1 MB\n",
      "-------------------\n",
      "\n",
      "\n",
      "              userId        movieId         rating     timestamp\n",
      "count  100836.000000  100836.000000  100836.000000  1.008360e+05\n",
      "mean      326.127564   19435.295718       3.501557  1.205946e+09\n",
      "std       182.618491   35530.987199       1.042529  2.162610e+08\n",
      "min         1.000000       1.000000       0.500000  8.281246e+08\n",
      "25%       177.000000    1199.000000       3.000000  1.019124e+09\n",
      "50%       325.000000    2991.000000       3.500000  1.186087e+09\n",
      "75%       477.000000    8122.000000       4.000000  1.435994e+09\n",
      "max       610.000000  193609.000000       5.000000  1.537799e+09\n",
      "-------------------\n",
      "\n",
      "\n",
      "shape:  (100836, 4)\n"
     ]
    }
   ],
   "source": [
    "# Rating dataset summary\n",
    "\n",
    "basic_stats(ratings, 'Rating file stats summary report')"
   ]
  },
  {
   "cell_type": "code",
   "execution_count": 220,
   "metadata": {},
   "outputs": [
    {
     "name": "stdout",
     "output_type": "stream",
     "text": [
      "dataset:  Tags file stats summary report\n",
      "\n",
      "\n",
      "<class 'pandas.core.frame.DataFrame'>\n",
      "RangeIndex: 3683 entries, 0 to 3682\n",
      "Data columns (total 4 columns):\n",
      " #   Column     Non-Null Count  Dtype \n",
      "---  ------     --------------  ----- \n",
      " 0   userId     3683 non-null   int64 \n",
      " 1   movieId    3683 non-null   int64 \n",
      " 2   tag        3683 non-null   object\n",
      " 3   timestamp  3683 non-null   int64 \n",
      "dtypes: int64(3), object(1)\n",
      "memory usage: 115.2+ KB\n",
      "-------------------\n",
      "\n",
      "\n"
     ]
    },
    {
     "name": "stdout",
     "output_type": "stream",
     "text": [
      "            userId        movieId     timestamp\n",
      "count  3683.000000    3683.000000  3.683000e+03\n",
      "mean    431.149335   27252.013576  1.320032e+09\n",
      "std     158.472553   43490.558803  1.721025e+08\n",
      "min       2.000000       1.000000  1.137179e+09\n",
      "25%     424.000000    1262.500000  1.137521e+09\n",
      "50%     474.000000    4454.000000  1.269833e+09\n",
      "75%     477.000000   39263.000000  1.498457e+09\n",
      "max     610.000000  193565.000000  1.537099e+09\n",
      "-------------------\n",
      "\n",
      "\n",
      "shape:  (3683, 4)\n"
     ]
    }
   ],
   "source": [
    "# movies dataset summary\n",
    "\n",
    "basic_stats(tags, 'Tags file stats summary report')"
   ]
  },
  {
   "cell_type": "markdown",
   "metadata": {},
   "source": [
    "#### Observations made from data undertanding"
   ]
  },
  {
   "cell_type": "markdown",
   "metadata": {},
   "source": [
    "- All the four files have a common feature which is the movieID column.\n",
    "\n",
    "- The links and the movie datasets have equal number of rows of 9742.\n",
    "\n",
    "- Each dataset presents a mixed type of data.(int64, object and float64)"
   ]
  },
  {
   "cell_type": "markdown",
   "metadata": {},
   "source": [
    "## 2.3 Merging Files"
   ]
  },
  {
   "cell_type": "markdown",
   "metadata": {},
   "source": [
    "Given that the four datasets share a common feature, the movie ID, we will use this column to perform a merge, consolidating the datasets into a single file. This approach ensures not only the integration of information from different sources but also enhances data completeness and facilitates more thorough analysis."
   ]
  },
  {
   "cell_type": "code",
   "execution_count": 221,
   "metadata": {},
   "outputs": [
    {
     "data": {
      "text/html": [
       "<div>\n",
       "<style scoped>\n",
       "    .dataframe tbody tr th:only-of-type {\n",
       "        vertical-align: middle;\n",
       "    }\n",
       "\n",
       "    .dataframe tbody tr th {\n",
       "        vertical-align: top;\n",
       "    }\n",
       "\n",
       "    .dataframe thead th {\n",
       "        text-align: right;\n",
       "    }\n",
       "</style>\n",
       "<table border=\"1\" class=\"dataframe\">\n",
       "  <thead>\n",
       "    <tr style=\"text-align: right;\">\n",
       "      <th></th>\n",
       "      <th>movieId</th>\n",
       "      <th>title</th>\n",
       "      <th>genres</th>\n",
       "      <th>imdbId</th>\n",
       "      <th>tmdbId</th>\n",
       "    </tr>\n",
       "  </thead>\n",
       "  <tbody>\n",
       "    <tr>\n",
       "      <th>0</th>\n",
       "      <td>1</td>\n",
       "      <td>Toy Story (1995)</td>\n",
       "      <td>Adventure|Animation|Children|Comedy|Fantasy</td>\n",
       "      <td>114709</td>\n",
       "      <td>862.0</td>\n",
       "    </tr>\n",
       "    <tr>\n",
       "      <th>1</th>\n",
       "      <td>2</td>\n",
       "      <td>Jumanji (1995)</td>\n",
       "      <td>Adventure|Children|Fantasy</td>\n",
       "      <td>113497</td>\n",
       "      <td>8844.0</td>\n",
       "    </tr>\n",
       "    <tr>\n",
       "      <th>2</th>\n",
       "      <td>3</td>\n",
       "      <td>Grumpier Old Men (1995)</td>\n",
       "      <td>Comedy|Romance</td>\n",
       "      <td>113228</td>\n",
       "      <td>15602.0</td>\n",
       "    </tr>\n",
       "    <tr>\n",
       "      <th>3</th>\n",
       "      <td>4</td>\n",
       "      <td>Waiting to Exhale (1995)</td>\n",
       "      <td>Comedy|Drama|Romance</td>\n",
       "      <td>114885</td>\n",
       "      <td>31357.0</td>\n",
       "    </tr>\n",
       "    <tr>\n",
       "      <th>4</th>\n",
       "      <td>5</td>\n",
       "      <td>Father of the Bride Part II (1995)</td>\n",
       "      <td>Comedy</td>\n",
       "      <td>113041</td>\n",
       "      <td>11862.0</td>\n",
       "    </tr>\n",
       "  </tbody>\n",
       "</table>\n",
       "</div>"
      ],
      "text/plain": [
       "   movieId                               title  \\\n",
       "0        1                    Toy Story (1995)   \n",
       "1        2                      Jumanji (1995)   \n",
       "2        3             Grumpier Old Men (1995)   \n",
       "3        4            Waiting to Exhale (1995)   \n",
       "4        5  Father of the Bride Part II (1995)   \n",
       "\n",
       "                                        genres  imdbId   tmdbId  \n",
       "0  Adventure|Animation|Children|Comedy|Fantasy  114709    862.0  \n",
       "1                   Adventure|Children|Fantasy  113497   8844.0  \n",
       "2                               Comedy|Romance  113228  15602.0  \n",
       "3                         Comedy|Drama|Romance  114885  31357.0  \n",
       "4                                       Comedy  113041  11862.0  "
      ]
     },
     "execution_count": 221,
     "metadata": {},
     "output_type": "execute_result"
    }
   ],
   "source": [
    "## Merging files on the common feature the MovieID\n",
    "\n",
    "##Step 1: Merging the movies and the links datasets.\n",
    "movies_links_merged =  pd.merge(movies, links, on='movieId', how='inner')\n",
    "movies_links_merged.head()"
   ]
  },
  {
   "cell_type": "code",
   "execution_count": 222,
   "metadata": {},
   "outputs": [
    {
     "data": {
      "text/html": [
       "<div>\n",
       "<style scoped>\n",
       "    .dataframe tbody tr th:only-of-type {\n",
       "        vertical-align: middle;\n",
       "    }\n",
       "\n",
       "    .dataframe tbody tr th {\n",
       "        vertical-align: top;\n",
       "    }\n",
       "\n",
       "    .dataframe thead th {\n",
       "        text-align: right;\n",
       "    }\n",
       "</style>\n",
       "<table border=\"1\" class=\"dataframe\">\n",
       "  <thead>\n",
       "    <tr style=\"text-align: right;\">\n",
       "      <th></th>\n",
       "      <th>userId</th>\n",
       "      <th>movieId</th>\n",
       "      <th>rating</th>\n",
       "      <th>timestamp</th>\n",
       "      <th>title</th>\n",
       "      <th>genres</th>\n",
       "      <th>imdbId</th>\n",
       "      <th>tmdbId</th>\n",
       "    </tr>\n",
       "  </thead>\n",
       "  <tbody>\n",
       "    <tr>\n",
       "      <th>0</th>\n",
       "      <td>1</td>\n",
       "      <td>1</td>\n",
       "      <td>4.0</td>\n",
       "      <td>964982703</td>\n",
       "      <td>Toy Story (1995)</td>\n",
       "      <td>Adventure|Animation|Children|Comedy|Fantasy</td>\n",
       "      <td>114709</td>\n",
       "      <td>862.0</td>\n",
       "    </tr>\n",
       "    <tr>\n",
       "      <th>1</th>\n",
       "      <td>5</td>\n",
       "      <td>1</td>\n",
       "      <td>4.0</td>\n",
       "      <td>847434962</td>\n",
       "      <td>Toy Story (1995)</td>\n",
       "      <td>Adventure|Animation|Children|Comedy|Fantasy</td>\n",
       "      <td>114709</td>\n",
       "      <td>862.0</td>\n",
       "    </tr>\n",
       "    <tr>\n",
       "      <th>2</th>\n",
       "      <td>7</td>\n",
       "      <td>1</td>\n",
       "      <td>4.5</td>\n",
       "      <td>1106635946</td>\n",
       "      <td>Toy Story (1995)</td>\n",
       "      <td>Adventure|Animation|Children|Comedy|Fantasy</td>\n",
       "      <td>114709</td>\n",
       "      <td>862.0</td>\n",
       "    </tr>\n",
       "    <tr>\n",
       "      <th>3</th>\n",
       "      <td>15</td>\n",
       "      <td>1</td>\n",
       "      <td>2.5</td>\n",
       "      <td>1510577970</td>\n",
       "      <td>Toy Story (1995)</td>\n",
       "      <td>Adventure|Animation|Children|Comedy|Fantasy</td>\n",
       "      <td>114709</td>\n",
       "      <td>862.0</td>\n",
       "    </tr>\n",
       "    <tr>\n",
       "      <th>4</th>\n",
       "      <td>17</td>\n",
       "      <td>1</td>\n",
       "      <td>4.5</td>\n",
       "      <td>1305696483</td>\n",
       "      <td>Toy Story (1995)</td>\n",
       "      <td>Adventure|Animation|Children|Comedy|Fantasy</td>\n",
       "      <td>114709</td>\n",
       "      <td>862.0</td>\n",
       "    </tr>\n",
       "  </tbody>\n",
       "</table>\n",
       "</div>"
      ],
      "text/plain": [
       "   userId  movieId  rating   timestamp             title  \\\n",
       "0       1        1     4.0   964982703  Toy Story (1995)   \n",
       "1       5        1     4.0   847434962  Toy Story (1995)   \n",
       "2       7        1     4.5  1106635946  Toy Story (1995)   \n",
       "3      15        1     2.5  1510577970  Toy Story (1995)   \n",
       "4      17        1     4.5  1305696483  Toy Story (1995)   \n",
       "\n",
       "                                        genres  imdbId  tmdbId  \n",
       "0  Adventure|Animation|Children|Comedy|Fantasy  114709   862.0  \n",
       "1  Adventure|Animation|Children|Comedy|Fantasy  114709   862.0  \n",
       "2  Adventure|Animation|Children|Comedy|Fantasy  114709   862.0  \n",
       "3  Adventure|Animation|Children|Comedy|Fantasy  114709   862.0  \n",
       "4  Adventure|Animation|Children|Comedy|Fantasy  114709   862.0  "
      ]
     },
     "execution_count": 222,
     "metadata": {},
     "output_type": "execute_result"
    }
   ],
   "source": [
    "##Step 2: Merging the movies_links_merged and ratings datasets on movieId\n",
    "\n",
    "movies_links_ratings_merged =pd.merge(ratings, movies_links_merged,on='movieId', how='inner')\n",
    "movies_links_ratings_merged.head()"
   ]
  },
  {
   "cell_type": "code",
   "execution_count": 223,
   "metadata": {},
   "outputs": [
    {
     "data": {
      "text/html": [
       "<div>\n",
       "<style scoped>\n",
       "    .dataframe tbody tr th:only-of-type {\n",
       "        vertical-align: middle;\n",
       "    }\n",
       "\n",
       "    .dataframe tbody tr th {\n",
       "        vertical-align: top;\n",
       "    }\n",
       "\n",
       "    .dataframe thead th {\n",
       "        text-align: right;\n",
       "    }\n",
       "</style>\n",
       "<table border=\"1\" class=\"dataframe\">\n",
       "  <thead>\n",
       "    <tr style=\"text-align: right;\">\n",
       "      <th></th>\n",
       "      <th>userId</th>\n",
       "      <th>movieId</th>\n",
       "      <th>rating</th>\n",
       "      <th>timestamp_x</th>\n",
       "      <th>title</th>\n",
       "      <th>genres</th>\n",
       "      <th>imdbId</th>\n",
       "      <th>tmdbId</th>\n",
       "      <th>tag</th>\n",
       "      <th>timestamp_y</th>\n",
       "    </tr>\n",
       "  </thead>\n",
       "  <tbody>\n",
       "    <tr>\n",
       "      <th>0</th>\n",
       "      <td>336</td>\n",
       "      <td>1</td>\n",
       "      <td>4.0</td>\n",
       "      <td>1122227329</td>\n",
       "      <td>Toy Story (1995)</td>\n",
       "      <td>Adventure|Animation|Children|Comedy|Fantasy</td>\n",
       "      <td>114709</td>\n",
       "      <td>862.0</td>\n",
       "      <td>pixar</td>\n",
       "      <td>1139045764</td>\n",
       "    </tr>\n",
       "    <tr>\n",
       "      <th>1</th>\n",
       "      <td>474</td>\n",
       "      <td>1</td>\n",
       "      <td>4.0</td>\n",
       "      <td>978575760</td>\n",
       "      <td>Toy Story (1995)</td>\n",
       "      <td>Adventure|Animation|Children|Comedy|Fantasy</td>\n",
       "      <td>114709</td>\n",
       "      <td>862.0</td>\n",
       "      <td>pixar</td>\n",
       "      <td>1137206825</td>\n",
       "    </tr>\n",
       "    <tr>\n",
       "      <th>2</th>\n",
       "      <td>567</td>\n",
       "      <td>1</td>\n",
       "      <td>3.5</td>\n",
       "      <td>1525286001</td>\n",
       "      <td>Toy Story (1995)</td>\n",
       "      <td>Adventure|Animation|Children|Comedy|Fantasy</td>\n",
       "      <td>114709</td>\n",
       "      <td>862.0</td>\n",
       "      <td>fun</td>\n",
       "      <td>1525286013</td>\n",
       "    </tr>\n",
       "    <tr>\n",
       "      <th>3</th>\n",
       "      <td>289</td>\n",
       "      <td>3</td>\n",
       "      <td>2.5</td>\n",
       "      <td>1143424657</td>\n",
       "      <td>Grumpier Old Men (1995)</td>\n",
       "      <td>Comedy|Romance</td>\n",
       "      <td>113228</td>\n",
       "      <td>15602.0</td>\n",
       "      <td>moldy</td>\n",
       "      <td>1143424860</td>\n",
       "    </tr>\n",
       "    <tr>\n",
       "      <th>4</th>\n",
       "      <td>289</td>\n",
       "      <td>3</td>\n",
       "      <td>2.5</td>\n",
       "      <td>1143424657</td>\n",
       "      <td>Grumpier Old Men (1995)</td>\n",
       "      <td>Comedy|Romance</td>\n",
       "      <td>113228</td>\n",
       "      <td>15602.0</td>\n",
       "      <td>old</td>\n",
       "      <td>1143424860</td>\n",
       "    </tr>\n",
       "  </tbody>\n",
       "</table>\n",
       "</div>"
      ],
      "text/plain": [
       "   userId  movieId  rating  timestamp_x                    title  \\\n",
       "0     336        1     4.0   1122227329         Toy Story (1995)   \n",
       "1     474        1     4.0    978575760         Toy Story (1995)   \n",
       "2     567        1     3.5   1525286001         Toy Story (1995)   \n",
       "3     289        3     2.5   1143424657  Grumpier Old Men (1995)   \n",
       "4     289        3     2.5   1143424657  Grumpier Old Men (1995)   \n",
       "\n",
       "                                        genres  imdbId   tmdbId    tag  \\\n",
       "0  Adventure|Animation|Children|Comedy|Fantasy  114709    862.0  pixar   \n",
       "1  Adventure|Animation|Children|Comedy|Fantasy  114709    862.0  pixar   \n",
       "2  Adventure|Animation|Children|Comedy|Fantasy  114709    862.0    fun   \n",
       "3                               Comedy|Romance  113228  15602.0  moldy   \n",
       "4                               Comedy|Romance  113228  15602.0    old   \n",
       "\n",
       "   timestamp_y  \n",
       "0   1139045764  \n",
       "1   1137206825  \n",
       "2   1525286013  \n",
       "3   1143424860  \n",
       "4   1143424860  "
      ]
     },
     "execution_count": 223,
     "metadata": {},
     "output_type": "execute_result"
    }
   ],
   "source": [
    "##Step 3: Merging the results of movies_links_rating_merged with the tags dataset.\n",
    "final_merge =  pd.merge(movies_links_ratings_merged, tags, on=['movieId','userId'])\n",
    "final_merge.head()"
   ]
  },
  {
   "cell_type": "code",
   "execution_count": 224,
   "metadata": {},
   "outputs": [
    {
     "name": "stdout",
     "output_type": "stream",
     "text": [
      "The final merged dataset contains 3476 rows and 10 colums\n"
     ]
    }
   ],
   "source": [
    "## Checking the number of rows and colums of our final merged dataset\n",
    "\n",
    "rows, colums = final_merge.shape\n",
    "print(f'The final merged dataset contains {rows} rows and {colums} colums')"
   ]
  },
  {
   "cell_type": "code",
   "execution_count": 225,
   "metadata": {},
   "outputs": [
    {
     "name": "stdout",
     "output_type": "stream",
     "text": [
      "<class 'pandas.core.frame.DataFrame'>\n",
      "Int64Index: 3476 entries, 0 to 3475\n",
      "Data columns (total 10 columns):\n",
      " #   Column       Non-Null Count  Dtype  \n",
      "---  ------       --------------  -----  \n",
      " 0   userId       3476 non-null   int64  \n",
      " 1   movieId      3476 non-null   int64  \n",
      " 2   rating       3476 non-null   float64\n",
      " 3   timestamp_x  3476 non-null   int64  \n",
      " 4   title        3476 non-null   object \n",
      " 5   genres       3476 non-null   object \n",
      " 6   imdbId       3476 non-null   int64  \n",
      " 7   tmdbId       3476 non-null   float64\n",
      " 8   tag          3476 non-null   object \n",
      " 9   timestamp_y  3476 non-null   int64  \n",
      "dtypes: float64(2), int64(5), object(3)\n",
      "memory usage: 298.7+ KB\n"
     ]
    }
   ],
   "source": [
    "##Getting the conside summary of the final merged dataset\n",
    "\n",
    "final_merge.info()"
   ]
  },
  {
   "cell_type": "markdown",
   "metadata": {},
   "source": [
    "The output shows that the final_merged dataset contains 3 types as follows:\n",
    "- 2 float64\n",
    "- 6 int664\n",
    "- 3 Object\n",
    "\n",
    "The memory usage of the final merged dataset is approximately 21.4 MB. This suggests that the dataset has grown significantly after merging, especially due to the repetition of movie information across different user ratings and tag.\n",
    "\n",
    "High Movie Engagement: The fact that the merged dataset contains 233,213 rows while the ratings dataset had 100,836 rows suggests that multiple users have rated, tagged, or interacted with the same movie, indicating high engagement for some movies.\n"
   ]
  },
  {
   "cell_type": "code",
   "execution_count": 226,
   "metadata": {},
   "outputs": [
    {
     "data": {
      "text/html": [
       "<div>\n",
       "<style scoped>\n",
       "    .dataframe tbody tr th:only-of-type {\n",
       "        vertical-align: middle;\n",
       "    }\n",
       "\n",
       "    .dataframe tbody tr th {\n",
       "        vertical-align: top;\n",
       "    }\n",
       "\n",
       "    .dataframe thead th {\n",
       "        text-align: right;\n",
       "    }\n",
       "</style>\n",
       "<table border=\"1\" class=\"dataframe\">\n",
       "  <thead>\n",
       "    <tr style=\"text-align: right;\">\n",
       "      <th></th>\n",
       "      <th>userId</th>\n",
       "      <th>movieId</th>\n",
       "      <th>rating</th>\n",
       "      <th>timestamp_x</th>\n",
       "      <th>imdbId</th>\n",
       "      <th>tmdbId</th>\n",
       "      <th>timestamp_y</th>\n",
       "    </tr>\n",
       "  </thead>\n",
       "  <tbody>\n",
       "    <tr>\n",
       "      <th>count</th>\n",
       "      <td>3476.000000</td>\n",
       "      <td>3476.000000</td>\n",
       "      <td>3476.000000</td>\n",
       "      <td>3.476000e+03</td>\n",
       "      <td>3.476000e+03</td>\n",
       "      <td>3476.000000</td>\n",
       "      <td>3.476000e+03</td>\n",
       "    </tr>\n",
       "    <tr>\n",
       "      <th>mean</th>\n",
       "      <td>429.785386</td>\n",
       "      <td>28009.502301</td>\n",
       "      <td>4.016830</td>\n",
       "      <td>1.297281e+09</td>\n",
       "      <td>4.920095e+05</td>\n",
       "      <td>33499.696203</td>\n",
       "      <td>1.323525e+09</td>\n",
       "    </tr>\n",
       "    <tr>\n",
       "      <th>std</th>\n",
       "      <td>161.552990</td>\n",
       "      <td>44138.125029</td>\n",
       "      <td>0.856925</td>\n",
       "      <td>2.038080e+08</td>\n",
       "      <td>8.193528e+05</td>\n",
       "      <td>75172.715180</td>\n",
       "      <td>1.731554e+08</td>\n",
       "    </tr>\n",
       "    <tr>\n",
       "      <th>min</th>\n",
       "      <td>2.000000</td>\n",
       "      <td>1.000000</td>\n",
       "      <td>0.500000</td>\n",
       "      <td>9.746667e+08</td>\n",
       "      <td>1.234900e+04</td>\n",
       "      <td>11.000000</td>\n",
       "      <td>1.137179e+09</td>\n",
       "    </tr>\n",
       "    <tr>\n",
       "      <th>25%</th>\n",
       "      <td>424.000000</td>\n",
       "      <td>1261.500000</td>\n",
       "      <td>3.500000</td>\n",
       "      <td>1.100120e+09</td>\n",
       "      <td>9.740875e+04</td>\n",
       "      <td>680.000000</td>\n",
       "      <td>1.138032e+09</td>\n",
       "    </tr>\n",
       "    <tr>\n",
       "      <th>50%</th>\n",
       "      <td>474.000000</td>\n",
       "      <td>4492.000000</td>\n",
       "      <td>4.000000</td>\n",
       "      <td>1.281766e+09</td>\n",
       "      <td>1.207750e+05</td>\n",
       "      <td>7708.000000</td>\n",
       "      <td>1.279956e+09</td>\n",
       "    </tr>\n",
       "    <tr>\n",
       "      <th>75%</th>\n",
       "      <td>523.250000</td>\n",
       "      <td>45499.000000</td>\n",
       "      <td>5.000000</td>\n",
       "      <td>1.498457e+09</td>\n",
       "      <td>3.953342e+05</td>\n",
       "      <td>19913.000000</td>\n",
       "      <td>1.498457e+09</td>\n",
       "    </tr>\n",
       "    <tr>\n",
       "      <th>max</th>\n",
       "      <td>610.000000</td>\n",
       "      <td>193565.000000</td>\n",
       "      <td>5.000000</td>\n",
       "      <td>1.537099e+09</td>\n",
       "      <td>5.580390e+06</td>\n",
       "      <td>503475.000000</td>\n",
       "      <td>1.537099e+09</td>\n",
       "    </tr>\n",
       "  </tbody>\n",
       "</table>\n",
       "</div>"
      ],
      "text/plain": [
       "            userId        movieId       rating   timestamp_x        imdbId  \\\n",
       "count  3476.000000    3476.000000  3476.000000  3.476000e+03  3.476000e+03   \n",
       "mean    429.785386   28009.502301     4.016830  1.297281e+09  4.920095e+05   \n",
       "std     161.552990   44138.125029     0.856925  2.038080e+08  8.193528e+05   \n",
       "min       2.000000       1.000000     0.500000  9.746667e+08  1.234900e+04   \n",
       "25%     424.000000    1261.500000     3.500000  1.100120e+09  9.740875e+04   \n",
       "50%     474.000000    4492.000000     4.000000  1.281766e+09  1.207750e+05   \n",
       "75%     523.250000   45499.000000     5.000000  1.498457e+09  3.953342e+05   \n",
       "max     610.000000  193565.000000     5.000000  1.537099e+09  5.580390e+06   \n",
       "\n",
       "              tmdbId   timestamp_y  \n",
       "count    3476.000000  3.476000e+03  \n",
       "mean    33499.696203  1.323525e+09  \n",
       "std     75172.715180  1.731554e+08  \n",
       "min        11.000000  1.137179e+09  \n",
       "25%       680.000000  1.138032e+09  \n",
       "50%      7708.000000  1.279956e+09  \n",
       "75%     19913.000000  1.498457e+09  \n",
       "max    503475.000000  1.537099e+09  "
      ]
     },
     "execution_count": 226,
     "metadata": {},
     "output_type": "execute_result"
    }
   ],
   "source": [
    "final_merge.describe()"
   ]
  },
  {
   "cell_type": "markdown",
   "metadata": {},
   "source": [
    "userId_x and userId_y: The user IDs range from 1 to 610, which shows that there are 610 unique users in the dataset\n",
    "\n",
    "Each column has 233,213 entries, meaning no missing values for the columns shown (movieId, imdbId, tmdbId, userId_x, rating, timestamp_x, userId_y, timestamp_y).\n",
    "\n",
    "Movie IDs range from 1 to 193565, suggesting a large dataset covering a wide variety of movies.\n",
    "The 50th percentile (50%, or median) movie ID is 1198, indicating that half the movies have an ID less than 1198.\n",
    "The average (mean) movie ID is 12319.99, which is much higher than the median, indicating a right-skewed distribution of movie IDs (a few movies with very high IDs).\n",
    "\n",
    "imdbId and tmdbId: Similarly, the IMDb IDs and TMDB IDs show a broad range from 12,349 to 5,580,390 (IMDb) and from 11 to 503,475 (TMDB), also suggesting a wide variety of movie records. The high standard deviation indicates significant variation in these IDs.\n",
    "\n",
    "The mean rating is approximately 3.97, indicating that, on average, users gave higher ratings (closer to 4)\n",
    "\n",
    "The mean timestamp (timestamp_x) is about 1.213 billion, which corresponds to around 2008 and maximum timestamp suggests ratings were given around 2018.\n",
    "\n",
    "Right-skewed Distribution: Both movieId and rating columns exhibit right-skewed distributions. This could influence modeling choices, as the majority of movies or users may fall within a specific subset of the range."
   ]
  },
  {
   "cell_type": "code",
   "execution_count": 227,
   "metadata": {},
   "outputs": [
    {
     "data": {
      "text/html": [
       "<div>\n",
       "<style scoped>\n",
       "    .dataframe tbody tr th:only-of-type {\n",
       "        vertical-align: middle;\n",
       "    }\n",
       "\n",
       "    .dataframe tbody tr th {\n",
       "        vertical-align: top;\n",
       "    }\n",
       "\n",
       "    .dataframe thead th {\n",
       "        text-align: right;\n",
       "    }\n",
       "</style>\n",
       "<table border=\"1\" class=\"dataframe\">\n",
       "  <thead>\n",
       "    <tr style=\"text-align: right;\">\n",
       "      <th></th>\n",
       "      <th>userId</th>\n",
       "      <th>movieId</th>\n",
       "      <th>rating</th>\n",
       "      <th>timestamp_x</th>\n",
       "      <th>title</th>\n",
       "      <th>genres</th>\n",
       "      <th>imdbId</th>\n",
       "      <th>tmdbId</th>\n",
       "      <th>tag</th>\n",
       "      <th>timestamp_y</th>\n",
       "    </tr>\n",
       "  </thead>\n",
       "  <tbody>\n",
       "    <tr>\n",
       "      <th>0</th>\n",
       "      <td>336</td>\n",
       "      <td>1</td>\n",
       "      <td>4.0</td>\n",
       "      <td>1122227329</td>\n",
       "      <td>Toy Story (1995)</td>\n",
       "      <td>Adventure|Animation|Children|Comedy|Fantasy</td>\n",
       "      <td>114709</td>\n",
       "      <td>862.0</td>\n",
       "      <td>pixar</td>\n",
       "      <td>1139045764</td>\n",
       "    </tr>\n",
       "    <tr>\n",
       "      <th>1</th>\n",
       "      <td>474</td>\n",
       "      <td>1</td>\n",
       "      <td>4.0</td>\n",
       "      <td>978575760</td>\n",
       "      <td>Toy Story (1995)</td>\n",
       "      <td>Adventure|Animation|Children|Comedy|Fantasy</td>\n",
       "      <td>114709</td>\n",
       "      <td>862.0</td>\n",
       "      <td>pixar</td>\n",
       "      <td>1137206825</td>\n",
       "    </tr>\n",
       "    <tr>\n",
       "      <th>2</th>\n",
       "      <td>567</td>\n",
       "      <td>1</td>\n",
       "      <td>3.5</td>\n",
       "      <td>1525286001</td>\n",
       "      <td>Toy Story (1995)</td>\n",
       "      <td>Adventure|Animation|Children|Comedy|Fantasy</td>\n",
       "      <td>114709</td>\n",
       "      <td>862.0</td>\n",
       "      <td>fun</td>\n",
       "      <td>1525286013</td>\n",
       "    </tr>\n",
       "    <tr>\n",
       "      <th>3</th>\n",
       "      <td>289</td>\n",
       "      <td>3</td>\n",
       "      <td>2.5</td>\n",
       "      <td>1143424657</td>\n",
       "      <td>Grumpier Old Men (1995)</td>\n",
       "      <td>Comedy|Romance</td>\n",
       "      <td>113228</td>\n",
       "      <td>15602.0</td>\n",
       "      <td>moldy</td>\n",
       "      <td>1143424860</td>\n",
       "    </tr>\n",
       "    <tr>\n",
       "      <th>4</th>\n",
       "      <td>289</td>\n",
       "      <td>3</td>\n",
       "      <td>2.5</td>\n",
       "      <td>1143424657</td>\n",
       "      <td>Grumpier Old Men (1995)</td>\n",
       "      <td>Comedy|Romance</td>\n",
       "      <td>113228</td>\n",
       "      <td>15602.0</td>\n",
       "      <td>old</td>\n",
       "      <td>1143424860</td>\n",
       "    </tr>\n",
       "  </tbody>\n",
       "</table>\n",
       "</div>"
      ],
      "text/plain": [
       "   userId  movieId  rating  timestamp_x                    title  \\\n",
       "0     336        1     4.0   1122227329         Toy Story (1995)   \n",
       "1     474        1     4.0    978575760         Toy Story (1995)   \n",
       "2     567        1     3.5   1525286001         Toy Story (1995)   \n",
       "3     289        3     2.5   1143424657  Grumpier Old Men (1995)   \n",
       "4     289        3     2.5   1143424657  Grumpier Old Men (1995)   \n",
       "\n",
       "                                        genres  imdbId   tmdbId    tag  \\\n",
       "0  Adventure|Animation|Children|Comedy|Fantasy  114709    862.0  pixar   \n",
       "1  Adventure|Animation|Children|Comedy|Fantasy  114709    862.0  pixar   \n",
       "2  Adventure|Animation|Children|Comedy|Fantasy  114709    862.0    fun   \n",
       "3                               Comedy|Romance  113228  15602.0  moldy   \n",
       "4                               Comedy|Romance  113228  15602.0    old   \n",
       "\n",
       "   timestamp_y  \n",
       "0   1139045764  \n",
       "1   1137206825  \n",
       "2   1525286013  \n",
       "3   1143424860  \n",
       "4   1143424860  "
      ]
     },
     "execution_count": 227,
     "metadata": {},
     "output_type": "execute_result"
    }
   ],
   "source": [
    "#creating a copy of the final merge for to perform data cleaning\n",
    "Movies_df = final_merge\n",
    "Movies_df.head()"
   ]
  },
  {
   "cell_type": "markdown",
   "metadata": {},
   "source": [
    "## 3.DATA CLEANING"
   ]
  },
  {
   "cell_type": "markdown",
   "metadata": {},
   "source": [
    "Now that we have merged our dataset, we will take the following steps to ensure it is clean and ready for analysis:\n",
    "\n",
    "1. `Checking and handling duplicates columns` to avoid redundancy.\n",
    "\n",
    "2. `Renaming columns` to improve readability.\n",
    "\n",
    "3. `Case Conversion` to ensure that all our headers are standadized.\n",
    "\n",
    "4. `Checking for missing` and address them appropriately.\n",
    "\n",
    "5. `Ensure consistent data types` across all columns.\n",
    "\n",
    "6. `Creating new features from existing features` for precise EDA.\n"
   ]
  },
  {
   "cell_type": "markdown",
   "metadata": {},
   "source": [
    "## 3.1.Checking and handling duplicates colums"
   ]
  },
  {
   "cell_type": "code",
   "execution_count": 228,
   "metadata": {},
   "outputs": [
    {
     "data": {
      "text/plain": [
       "False"
      ]
     },
     "execution_count": 228,
     "metadata": {},
     "output_type": "execute_result"
    }
   ],
   "source": [
    "#Compare userI_X and user1D_y to check id they have columns for identical values\n",
    "Movies_df['timestamp_x'].equals(Movies_df['timestamp_y'])"
   ]
  },
  {
   "cell_type": "markdown",
   "metadata": {},
   "source": [
    "## 3.2 Removing Unnceccesary columns."
   ]
  },
  {
   "cell_type": "code",
   "execution_count": 229,
   "metadata": {},
   "outputs": [],
   "source": [
    "#Removing unnecessary colums for our model.\n",
    "Movies_df.drop(['movieId','imdbId','tmdbId','timestamp_y'],axis=1, inplace=True)"
   ]
  },
  {
   "cell_type": "code",
   "execution_count": 230,
   "metadata": {},
   "outputs": [
    {
     "data": {
      "text/html": [
       "<div>\n",
       "<style scoped>\n",
       "    .dataframe tbody tr th:only-of-type {\n",
       "        vertical-align: middle;\n",
       "    }\n",
       "\n",
       "    .dataframe tbody tr th {\n",
       "        vertical-align: top;\n",
       "    }\n",
       "\n",
       "    .dataframe thead th {\n",
       "        text-align: right;\n",
       "    }\n",
       "</style>\n",
       "<table border=\"1\" class=\"dataframe\">\n",
       "  <thead>\n",
       "    <tr style=\"text-align: right;\">\n",
       "      <th></th>\n",
       "      <th>userId</th>\n",
       "      <th>rating</th>\n",
       "      <th>timestamp_x</th>\n",
       "      <th>title</th>\n",
       "      <th>genres</th>\n",
       "      <th>tag</th>\n",
       "    </tr>\n",
       "  </thead>\n",
       "  <tbody>\n",
       "    <tr>\n",
       "      <th>3413</th>\n",
       "      <td>474</td>\n",
       "      <td>4.0</td>\n",
       "      <td>1107444837</td>\n",
       "      <td>I Remember Mama (1948)</td>\n",
       "      <td>Children|Drama</td>\n",
       "      <td>motherhood</td>\n",
       "    </tr>\n",
       "    <tr>\n",
       "      <th>273</th>\n",
       "      <td>474</td>\n",
       "      <td>4.0</td>\n",
       "      <td>1137008687</td>\n",
       "      <td>Fargo (1996)</td>\n",
       "      <td>Comedy|Crime|Drama|Thriller</td>\n",
       "      <td>Coen Brothers</td>\n",
       "    </tr>\n",
       "    <tr>\n",
       "      <th>1369</th>\n",
       "      <td>567</td>\n",
       "      <td>3.5</td>\n",
       "      <td>1525286462</td>\n",
       "      <td>Prestige, The (2006)</td>\n",
       "      <td>Drama|Mystery|Sci-Fi|Thriller</td>\n",
       "      <td>enigmatic</td>\n",
       "    </tr>\n",
       "    <tr>\n",
       "      <th>1628</th>\n",
       "      <td>474</td>\n",
       "      <td>1.5</td>\n",
       "      <td>1060106582</td>\n",
       "      <td>Rocky V (1990)</td>\n",
       "      <td>Action|Drama</td>\n",
       "      <td>boxing</td>\n",
       "    </tr>\n",
       "    <tr>\n",
       "      <th>1985</th>\n",
       "      <td>474</td>\n",
       "      <td>2.0</td>\n",
       "      <td>1014924485</td>\n",
       "      <td>Coming to America (1988)</td>\n",
       "      <td>Comedy|Romance</td>\n",
       "      <td>Africa</td>\n",
       "    </tr>\n",
       "  </tbody>\n",
       "</table>\n",
       "</div>"
      ],
      "text/plain": [
       "      userId  rating  timestamp_x                     title  \\\n",
       "3413     474     4.0   1107444837    I Remember Mama (1948)   \n",
       "273      474     4.0   1137008687              Fargo (1996)   \n",
       "1369     567     3.5   1525286462      Prestige, The (2006)   \n",
       "1628     474     1.5   1060106582            Rocky V (1990)   \n",
       "1985     474     2.0   1014924485  Coming to America (1988)   \n",
       "\n",
       "                             genres            tag  \n",
       "3413                 Children|Drama     motherhood  \n",
       "273     Comedy|Crime|Drama|Thriller  Coen Brothers  \n",
       "1369  Drama|Mystery|Sci-Fi|Thriller      enigmatic  \n",
       "1628                   Action|Drama         boxing  \n",
       "1985                 Comedy|Romance         Africa  "
      ]
     },
     "execution_count": 230,
     "metadata": {},
     "output_type": "execute_result"
    }
   ],
   "source": [
    "Movies_df.sample(n=5)"
   ]
  },
  {
   "cell_type": "markdown",
   "metadata": {},
   "source": [
    "## 3.3 Renaming columns."
   ]
  },
  {
   "cell_type": "code",
   "execution_count": 231,
   "metadata": {},
   "outputs": [
    {
     "data": {
      "text/html": [
       "<div>\n",
       "<style scoped>\n",
       "    .dataframe tbody tr th:only-of-type {\n",
       "        vertical-align: middle;\n",
       "    }\n",
       "\n",
       "    .dataframe tbody tr th {\n",
       "        vertical-align: top;\n",
       "    }\n",
       "\n",
       "    .dataframe thead th {\n",
       "        text-align: right;\n",
       "    }\n",
       "</style>\n",
       "<table border=\"1\" class=\"dataframe\">\n",
       "  <thead>\n",
       "    <tr style=\"text-align: right;\">\n",
       "      <th></th>\n",
       "      <th>userId</th>\n",
       "      <th>rating</th>\n",
       "      <th>timestamp</th>\n",
       "      <th>title</th>\n",
       "      <th>genres</th>\n",
       "      <th>tag</th>\n",
       "    </tr>\n",
       "  </thead>\n",
       "  <tbody>\n",
       "    <tr>\n",
       "      <th>0</th>\n",
       "      <td>336</td>\n",
       "      <td>4.0</td>\n",
       "      <td>1122227329</td>\n",
       "      <td>Toy Story (1995)</td>\n",
       "      <td>Adventure|Animation|Children|Comedy|Fantasy</td>\n",
       "      <td>pixar</td>\n",
       "    </tr>\n",
       "    <tr>\n",
       "      <th>1</th>\n",
       "      <td>474</td>\n",
       "      <td>4.0</td>\n",
       "      <td>978575760</td>\n",
       "      <td>Toy Story (1995)</td>\n",
       "      <td>Adventure|Animation|Children|Comedy|Fantasy</td>\n",
       "      <td>pixar</td>\n",
       "    </tr>\n",
       "    <tr>\n",
       "      <th>2</th>\n",
       "      <td>567</td>\n",
       "      <td>3.5</td>\n",
       "      <td>1525286001</td>\n",
       "      <td>Toy Story (1995)</td>\n",
       "      <td>Adventure|Animation|Children|Comedy|Fantasy</td>\n",
       "      <td>fun</td>\n",
       "    </tr>\n",
       "    <tr>\n",
       "      <th>3</th>\n",
       "      <td>289</td>\n",
       "      <td>2.5</td>\n",
       "      <td>1143424657</td>\n",
       "      <td>Grumpier Old Men (1995)</td>\n",
       "      <td>Comedy|Romance</td>\n",
       "      <td>moldy</td>\n",
       "    </tr>\n",
       "    <tr>\n",
       "      <th>4</th>\n",
       "      <td>289</td>\n",
       "      <td>2.5</td>\n",
       "      <td>1143424657</td>\n",
       "      <td>Grumpier Old Men (1995)</td>\n",
       "      <td>Comedy|Romance</td>\n",
       "      <td>old</td>\n",
       "    </tr>\n",
       "  </tbody>\n",
       "</table>\n",
       "</div>"
      ],
      "text/plain": [
       "   userId  rating   timestamp                    title  \\\n",
       "0     336     4.0  1122227329         Toy Story (1995)   \n",
       "1     474     4.0   978575760         Toy Story (1995)   \n",
       "2     567     3.5  1525286001         Toy Story (1995)   \n",
       "3     289     2.5  1143424657  Grumpier Old Men (1995)   \n",
       "4     289     2.5  1143424657  Grumpier Old Men (1995)   \n",
       "\n",
       "                                        genres    tag  \n",
       "0  Adventure|Animation|Children|Comedy|Fantasy  pixar  \n",
       "1  Adventure|Animation|Children|Comedy|Fantasy  pixar  \n",
       "2  Adventure|Animation|Children|Comedy|Fantasy    fun  \n",
       "3                               Comedy|Romance  moldy  \n",
       "4                               Comedy|Romance    old  "
      ]
     },
     "execution_count": 231,
     "metadata": {},
     "output_type": "execute_result"
    }
   ],
   "source": [
    "#Renaming the timestamp_x column\n",
    "Movies_df.rename(columns={'timestamp_x':'timestamp'}, inplace=True)\n",
    "\n",
    "#checking the dataset after remaming our desired column\n",
    "Movies_df.head()"
   ]
  },
  {
   "cell_type": "markdown",
   "metadata": {},
   "source": [
    "## 3.4 Case Coversion."
   ]
  },
  {
   "cell_type": "code",
   "execution_count": 232,
   "metadata": {},
   "outputs": [
    {
     "data": {
      "text/html": [
       "<div>\n",
       "<style scoped>\n",
       "    .dataframe tbody tr th:only-of-type {\n",
       "        vertical-align: middle;\n",
       "    }\n",
       "\n",
       "    .dataframe tbody tr th {\n",
       "        vertical-align: top;\n",
       "    }\n",
       "\n",
       "    .dataframe thead th {\n",
       "        text-align: right;\n",
       "    }\n",
       "</style>\n",
       "<table border=\"1\" class=\"dataframe\">\n",
       "  <thead>\n",
       "    <tr style=\"text-align: right;\">\n",
       "      <th></th>\n",
       "      <th>Userid</th>\n",
       "      <th>Rating</th>\n",
       "      <th>Timestamp</th>\n",
       "      <th>Title</th>\n",
       "      <th>Genres</th>\n",
       "      <th>Tag</th>\n",
       "    </tr>\n",
       "  </thead>\n",
       "  <tbody>\n",
       "    <tr>\n",
       "      <th>3471</th>\n",
       "      <td>567</td>\n",
       "      <td>3.5</td>\n",
       "      <td>1525286512</td>\n",
       "      <td>It Comes at Night (2017)</td>\n",
       "      <td>Horror|Mystery|Thriller</td>\n",
       "      <td>Suspenseful</td>\n",
       "    </tr>\n",
       "    <tr>\n",
       "      <th>3472</th>\n",
       "      <td>567</td>\n",
       "      <td>3.0</td>\n",
       "      <td>1525287581</td>\n",
       "      <td>Mother! (2017)</td>\n",
       "      <td>Drama|Horror|Mystery|Thriller</td>\n",
       "      <td>allegorical</td>\n",
       "    </tr>\n",
       "    <tr>\n",
       "      <th>3473</th>\n",
       "      <td>567</td>\n",
       "      <td>3.0</td>\n",
       "      <td>1525287581</td>\n",
       "      <td>Mother! (2017)</td>\n",
       "      <td>Drama|Horror|Mystery|Thriller</td>\n",
       "      <td>uncomfortable</td>\n",
       "    </tr>\n",
       "    <tr>\n",
       "      <th>3474</th>\n",
       "      <td>567</td>\n",
       "      <td>3.0</td>\n",
       "      <td>1525287581</td>\n",
       "      <td>Mother! (2017)</td>\n",
       "      <td>Drama|Horror|Mystery|Thriller</td>\n",
       "      <td>unsettling</td>\n",
       "    </tr>\n",
       "    <tr>\n",
       "      <th>3475</th>\n",
       "      <td>606</td>\n",
       "      <td>4.0</td>\n",
       "      <td>1171324428</td>\n",
       "      <td>Night of the Shooting Stars (Notte di San Lore...</td>\n",
       "      <td>Drama|War</td>\n",
       "      <td>World War II</td>\n",
       "    </tr>\n",
       "  </tbody>\n",
       "</table>\n",
       "</div>"
      ],
      "text/plain": [
       "      Userid  Rating   Timestamp  \\\n",
       "3471     567     3.5  1525286512   \n",
       "3472     567     3.0  1525287581   \n",
       "3473     567     3.0  1525287581   \n",
       "3474     567     3.0  1525287581   \n",
       "3475     606     4.0  1171324428   \n",
       "\n",
       "                                                  Title  \\\n",
       "3471                           It Comes at Night (2017)   \n",
       "3472                                     Mother! (2017)   \n",
       "3473                                     Mother! (2017)   \n",
       "3474                                     Mother! (2017)   \n",
       "3475  Night of the Shooting Stars (Notte di San Lore...   \n",
       "\n",
       "                             Genres            Tag  \n",
       "3471        Horror|Mystery|Thriller    Suspenseful  \n",
       "3472  Drama|Horror|Mystery|Thriller    allegorical  \n",
       "3473  Drama|Horror|Mystery|Thriller  uncomfortable  \n",
       "3474  Drama|Horror|Mystery|Thriller     unsettling  \n",
       "3475                      Drama|War   World War II  "
      ]
     },
     "execution_count": 232,
     "metadata": {},
     "output_type": "execute_result"
    }
   ],
   "source": [
    "#converting our headers to title case from the current lowercase.\n",
    "Movies_df.rename(columns=lambda x: x.title(), inplace=True)\n",
    "\n",
    "##viewing our dataset our the headers converstion\n",
    "Movies_df.tail()\n"
   ]
  },
  {
   "cell_type": "markdown",
   "metadata": {},
   "source": [
    "## 3.5 Checking and Handling Missing Values."
   ]
  },
  {
   "cell_type": "code",
   "execution_count": 233,
   "metadata": {},
   "outputs": [
    {
     "name": "stdout",
     "output_type": "stream",
     "text": [
      "None\n"
     ]
    }
   ],
   "source": [
    "if Movies_df.isnull().values.any():\n",
    "    print(True)\n",
    "else:\n",
    "    print(None)"
   ]
  },
  {
   "cell_type": "markdown",
   "metadata": {},
   "source": [
    "The output confirms that our movie_df has no missing values."
   ]
  },
  {
   "cell_type": "markdown",
   "metadata": {},
   "source": [
    "## 3.6 Ensuring consistent data types."
   ]
  },
  {
   "cell_type": "code",
   "execution_count": 234,
   "metadata": {},
   "outputs": [
    {
     "name": "stdout",
     "output_type": "stream",
     "text": [
      "Userid         int64\n",
      "Rating       float64\n",
      "Timestamp      int64\n",
      "Title         object\n",
      "Genres        object\n",
      "Tag           object\n",
      "dtype: object\n"
     ]
    }
   ],
   "source": [
    "#Checking the datatype of each column\n",
    "print(Movies_df.dtypes)"
   ]
  },
  {
   "cell_type": "markdown",
   "metadata": {},
   "source": [
    "After removal of unccesary colums, we can counclude now that thedataset has\n",
    "  - One feature of float64 \n",
    "     - Rating\n",
    "  - Two features of int64\n",
    "    - userId\n",
    "    - timestamp\n",
    "  - Three features of object\n",
    "    - Title\n",
    "    - Genres\n",
    "    - Tags\n",
    "\n",
    "For accurate analysis, we will proceed and convert our timestamp from int64 to data and time"
   ]
  },
  {
   "cell_type": "code",
   "execution_count": 235,
   "metadata": {},
   "outputs": [
    {
     "name": "stdout",
     "output_type": "stream",
     "text": [
      "<class 'pandas.core.frame.DataFrame'>\n",
      "Int64Index: 3476 entries, 0 to 3475\n",
      "Data columns (total 6 columns):\n",
      " #   Column     Non-Null Count  Dtype         \n",
      "---  ------     --------------  -----         \n",
      " 0   Userid     3476 non-null   int64         \n",
      " 1   Rating     3476 non-null   float64       \n",
      " 2   Timestamp  3476 non-null   datetime64[ns]\n",
      " 3   Title      3476 non-null   object        \n",
      " 4   Genres     3476 non-null   object        \n",
      " 5   Tag        3476 non-null   object        \n",
      "dtypes: datetime64[ns](1), float64(1), int64(1), object(3)\n",
      "memory usage: 190.1+ KB\n"
     ]
    }
   ],
   "source": [
    "# Creating a new dataframe\n",
    "Movies= pd.DataFrame(Movies_df)\n",
    "\n",
    "# Converting the timestamp_x column to datetime format\n",
    "Movies['Timestamp'] = pd.to_datetime(Movies['Timestamp'], unit='s')\n",
    "\n",
    "# Displaying the DataFrame\n",
    "Movies.info()"
   ]
  },
  {
   "cell_type": "markdown",
   "metadata": {},
   "source": [
    "Now out timestamp feature has succefully been converte to to a datetime column"
   ]
  },
  {
   "cell_type": "markdown",
   "metadata": {},
   "source": [
    "## 3.7 Creating new features from existing features"
   ]
  },
  {
   "cell_type": "code",
   "execution_count": 236,
   "metadata": {},
   "outputs": [
    {
     "data": {
      "text/html": [
       "<div>\n",
       "<style scoped>\n",
       "    .dataframe tbody tr th:only-of-type {\n",
       "        vertical-align: middle;\n",
       "    }\n",
       "\n",
       "    .dataframe tbody tr th {\n",
       "        vertical-align: top;\n",
       "    }\n",
       "\n",
       "    .dataframe thead th {\n",
       "        text-align: right;\n",
       "    }\n",
       "</style>\n",
       "<table border=\"1\" class=\"dataframe\">\n",
       "  <thead>\n",
       "    <tr style=\"text-align: right;\">\n",
       "      <th></th>\n",
       "      <th>Userid</th>\n",
       "      <th>Rating</th>\n",
       "      <th>Timestamp</th>\n",
       "      <th>Title</th>\n",
       "      <th>Genres</th>\n",
       "      <th>Tag</th>\n",
       "      <th>Timetamp_date</th>\n",
       "    </tr>\n",
       "  </thead>\n",
       "  <tbody>\n",
       "    <tr>\n",
       "      <th>0</th>\n",
       "      <td>336</td>\n",
       "      <td>4.0</td>\n",
       "      <td>2005-07-24 17:48:49</td>\n",
       "      <td>Toy Story (1995)</td>\n",
       "      <td>Adventure|Animation|Children|Comedy|Fantasy</td>\n",
       "      <td>pixar</td>\n",
       "      <td>2005-07-24</td>\n",
       "    </tr>\n",
       "    <tr>\n",
       "      <th>1</th>\n",
       "      <td>474</td>\n",
       "      <td>4.0</td>\n",
       "      <td>2001-01-04 02:36:00</td>\n",
       "      <td>Toy Story (1995)</td>\n",
       "      <td>Adventure|Animation|Children|Comedy|Fantasy</td>\n",
       "      <td>pixar</td>\n",
       "      <td>2001-01-04</td>\n",
       "    </tr>\n",
       "    <tr>\n",
       "      <th>2</th>\n",
       "      <td>567</td>\n",
       "      <td>3.5</td>\n",
       "      <td>2018-05-02 18:33:21</td>\n",
       "      <td>Toy Story (1995)</td>\n",
       "      <td>Adventure|Animation|Children|Comedy|Fantasy</td>\n",
       "      <td>fun</td>\n",
       "      <td>2018-05-02</td>\n",
       "    </tr>\n",
       "    <tr>\n",
       "      <th>3</th>\n",
       "      <td>289</td>\n",
       "      <td>2.5</td>\n",
       "      <td>2006-03-27 01:57:37</td>\n",
       "      <td>Grumpier Old Men (1995)</td>\n",
       "      <td>Comedy|Romance</td>\n",
       "      <td>moldy</td>\n",
       "      <td>2006-03-27</td>\n",
       "    </tr>\n",
       "    <tr>\n",
       "      <th>4</th>\n",
       "      <td>289</td>\n",
       "      <td>2.5</td>\n",
       "      <td>2006-03-27 01:57:37</td>\n",
       "      <td>Grumpier Old Men (1995)</td>\n",
       "      <td>Comedy|Romance</td>\n",
       "      <td>old</td>\n",
       "      <td>2006-03-27</td>\n",
       "    </tr>\n",
       "  </tbody>\n",
       "</table>\n",
       "</div>"
      ],
      "text/plain": [
       "   Userid  Rating           Timestamp                    Title  \\\n",
       "0     336     4.0 2005-07-24 17:48:49         Toy Story (1995)   \n",
       "1     474     4.0 2001-01-04 02:36:00         Toy Story (1995)   \n",
       "2     567     3.5 2018-05-02 18:33:21         Toy Story (1995)   \n",
       "3     289     2.5 2006-03-27 01:57:37  Grumpier Old Men (1995)   \n",
       "4     289     2.5 2006-03-27 01:57:37  Grumpier Old Men (1995)   \n",
       "\n",
       "                                        Genres    Tag Timetamp_date  \n",
       "0  Adventure|Animation|Children|Comedy|Fantasy  pixar    2005-07-24  \n",
       "1  Adventure|Animation|Children|Comedy|Fantasy  pixar    2001-01-04  \n",
       "2  Adventure|Animation|Children|Comedy|Fantasy    fun    2018-05-02  \n",
       "3                               Comedy|Romance  moldy    2006-03-27  \n",
       "4                               Comedy|Romance    old    2006-03-27  "
      ]
     },
     "execution_count": 236,
     "metadata": {},
     "output_type": "execute_result"
    }
   ],
   "source": [
    "# Create 'Date' from the timeshtamp \n",
    "Movies['Timetamp_date'] = Movies['Timestamp'].dt.date\n",
    "\n",
    "\n",
    "#viewing the dataset\n",
    "Movies.head()"
   ]
  },
  {
   "cell_type": "code",
   "execution_count": 237,
   "metadata": {},
   "outputs": [
    {
     "data": {
      "text/html": [
       "<div>\n",
       "<style scoped>\n",
       "    .dataframe tbody tr th:only-of-type {\n",
       "        vertical-align: middle;\n",
       "    }\n",
       "\n",
       "    .dataframe tbody tr th {\n",
       "        vertical-align: top;\n",
       "    }\n",
       "\n",
       "    .dataframe thead th {\n",
       "        text-align: right;\n",
       "    }\n",
       "</style>\n",
       "<table border=\"1\" class=\"dataframe\">\n",
       "  <thead>\n",
       "    <tr style=\"text-align: right;\">\n",
       "      <th></th>\n",
       "      <th>Userid</th>\n",
       "      <th>Rating</th>\n",
       "      <th>Timestamp</th>\n",
       "      <th>Title</th>\n",
       "      <th>Genres</th>\n",
       "      <th>Tag</th>\n",
       "      <th>Timetamp_date</th>\n",
       "      <th>year_of_production</th>\n",
       "    </tr>\n",
       "  </thead>\n",
       "  <tbody>\n",
       "    <tr>\n",
       "      <th>410</th>\n",
       "      <td>474</td>\n",
       "      <td>4.5</td>\n",
       "      <td>2004-04-05 15:02:59</td>\n",
       "      <td>Wedding Singer, The (1998)</td>\n",
       "      <td>Comedy|Romance</td>\n",
       "      <td>1980s</td>\n",
       "      <td>2004-04-05</td>\n",
       "      <td>1998</td>\n",
       "    </tr>\n",
       "    <tr>\n",
       "      <th>141</th>\n",
       "      <td>599</td>\n",
       "      <td>5.0</td>\n",
       "      <td>2017-06-26 06:01:07</td>\n",
       "      <td>Pulp Fiction (1994)</td>\n",
       "      <td>Comedy|Crime|Drama|Thriller</td>\n",
       "      <td>guns</td>\n",
       "      <td>2017-06-26</td>\n",
       "      <td>1994</td>\n",
       "    </tr>\n",
       "    <tr>\n",
       "      <th>2586</th>\n",
       "      <td>62</td>\n",
       "      <td>4.0</td>\n",
       "      <td>2018-05-25 18:51:22</td>\n",
       "      <td>Brothers Bloom, The (2008)</td>\n",
       "      <td>Adventure|Comedy|Crime|Romance</td>\n",
       "      <td>Rachel Weisz</td>\n",
       "      <td>2018-05-25</td>\n",
       "      <td>2008</td>\n",
       "    </tr>\n",
       "    <tr>\n",
       "      <th>2259</th>\n",
       "      <td>62</td>\n",
       "      <td>4.0</td>\n",
       "      <td>2018-05-11 08:56:15</td>\n",
       "      <td>Avengers: Infinity War - Part I (2018)</td>\n",
       "      <td>Action|Adventure|Sci-Fi</td>\n",
       "      <td>Robert Downey Jr.</td>\n",
       "      <td>2018-05-11</td>\n",
       "      <td>2018</td>\n",
       "    </tr>\n",
       "    <tr>\n",
       "      <th>13</th>\n",
       "      <td>474</td>\n",
       "      <td>4.0</td>\n",
       "      <td>2001-01-11 02:24:32</td>\n",
       "      <td>Usual Suspects, The (1995)</td>\n",
       "      <td>Crime|Mystery|Thriller</td>\n",
       "      <td>heist</td>\n",
       "      <td>2001-01-11</td>\n",
       "      <td>1995</td>\n",
       "    </tr>\n",
       "  </tbody>\n",
       "</table>\n",
       "</div>"
      ],
      "text/plain": [
       "      Userid  Rating           Timestamp  \\\n",
       "410      474     4.5 2004-04-05 15:02:59   \n",
       "141      599     5.0 2017-06-26 06:01:07   \n",
       "2586      62     4.0 2018-05-25 18:51:22   \n",
       "2259      62     4.0 2018-05-11 08:56:15   \n",
       "13       474     4.0 2001-01-11 02:24:32   \n",
       "\n",
       "                                       Title                          Genres  \\\n",
       "410               Wedding Singer, The (1998)                  Comedy|Romance   \n",
       "141                      Pulp Fiction (1994)     Comedy|Crime|Drama|Thriller   \n",
       "2586              Brothers Bloom, The (2008)  Adventure|Comedy|Crime|Romance   \n",
       "2259  Avengers: Infinity War - Part I (2018)         Action|Adventure|Sci-Fi   \n",
       "13                Usual Suspects, The (1995)          Crime|Mystery|Thriller   \n",
       "\n",
       "                    Tag Timetamp_date year_of_production  \n",
       "410               1980s    2004-04-05               1998  \n",
       "141                guns    2017-06-26               1994  \n",
       "2586       Rachel Weisz    2018-05-25               2008  \n",
       "2259  Robert Downey Jr.    2018-05-11               2018  \n",
       "13                heist    2001-01-11               1995  "
      ]
     },
     "execution_count": 237,
     "metadata": {},
     "output_type": "execute_result"
    }
   ],
   "source": [
    "# Extracting the year from the Title and creating a new column year_of_production\n",
    "Movies_df['year_of_production'] = Movies_df['Title'].str.extract(r'\\((\\d{4})\\)')\n",
    "\n",
    "#viewing the dataset\n",
    "Movies_df.sample(n=5)"
   ]
  },
  {
   "cell_type": "markdown",
   "metadata": {},
   "source": [
    "After creating the two new features, `timestamp_date` and `year_of_production`, the next step is to check for any missing values in the dataset."
   ]
  },
  {
   "cell_type": "code",
   "execution_count": 238,
   "metadata": {},
   "outputs": [
    {
     "name": "stdout",
     "output_type": "stream",
     "text": [
      "year_of_production    3\n",
      "dtype: int64\n"
     ]
    }
   ],
   "source": [
    "# Check for missing values in the dataset\n",
    "missing_values = Movies_df.isnull().sum()\n",
    "\n",
    "# Print columns that have missing values\n",
    "print(missing_values[missing_values > 0])\n"
   ]
  },
  {
   "cell_type": "markdown",
   "metadata": {},
   "source": [
    "The year of prodution colum has 3 missing value.\n",
    "\n",
    "Since this is too low, we will proceed and delete the rows."
   ]
  },
  {
   "cell_type": "code",
   "execution_count": 239,
   "metadata": {},
   "outputs": [],
   "source": [
    "# Remove rows with any missing values\n",
    "Movies_df.dropna(inplace=True)"
   ]
  },
  {
   "cell_type": "code",
   "execution_count": 240,
   "metadata": {},
   "outputs": [
    {
     "name": "stdout",
     "output_type": "stream",
     "text": [
      "None\n"
     ]
    }
   ],
   "source": [
    "if Movies_df.isnull().values.any():\n",
    "    print(True)\n",
    "else:\n",
    "    print(None)"
   ]
  },
  {
   "cell_type": "code",
   "execution_count": 241,
   "metadata": {},
   "outputs": [
    {
     "data": {
      "text/plain": [
       "Userid                         int64\n",
       "Rating                       float64\n",
       "Timestamp             datetime64[ns]\n",
       "Title                         object\n",
       "Genres                        object\n",
       "Tag                           object\n",
       "Timetamp_date                 object\n",
       "year_of_production            object\n",
       "dtype: object"
      ]
     },
     "execution_count": 241,
     "metadata": {},
     "output_type": "execute_result"
    }
   ],
   "source": [
    "#checking the datatypes\n",
    "Movies_df.dtypes"
   ]
  },
  {
   "cell_type": "markdown",
   "metadata": {},
   "source": [
    "Now that we have confirmed that we do not have any missing values, we will proceed and conver the year of production to and int type from the current object type."
   ]
  },
  {
   "cell_type": "code",
   "execution_count": 242,
   "metadata": {},
   "outputs": [],
   "source": [
    "# Convert the year_of_production column to integer\n",
    "Movies_df['year_of_production'] = Movies_df['year_of_production'].astype(int)\n"
   ]
  },
  {
   "cell_type": "code",
   "execution_count": 243,
   "metadata": {},
   "outputs": [
    {
     "data": {
      "text/html": [
       "<div>\n",
       "<style scoped>\n",
       "    .dataframe tbody tr th:only-of-type {\n",
       "        vertical-align: middle;\n",
       "    }\n",
       "\n",
       "    .dataframe tbody tr th {\n",
       "        vertical-align: top;\n",
       "    }\n",
       "\n",
       "    .dataframe thead th {\n",
       "        text-align: right;\n",
       "    }\n",
       "</style>\n",
       "<table border=\"1\" class=\"dataframe\">\n",
       "  <thead>\n",
       "    <tr style=\"text-align: right;\">\n",
       "      <th></th>\n",
       "      <th>Userid</th>\n",
       "      <th>Rating</th>\n",
       "      <th>Timestamp</th>\n",
       "      <th>Title</th>\n",
       "      <th>Genres</th>\n",
       "      <th>Tag</th>\n",
       "      <th>Timetamp_date</th>\n",
       "      <th>year_of_production</th>\n",
       "    </tr>\n",
       "  </thead>\n",
       "  <tbody>\n",
       "    <tr>\n",
       "      <th>0</th>\n",
       "      <td>336</td>\n",
       "      <td>4.0</td>\n",
       "      <td>2005-07-24 17:48:49</td>\n",
       "      <td>Toy Story (1995)</td>\n",
       "      <td>Adventure|Animation|Children|Comedy|Fantasy</td>\n",
       "      <td>pixar</td>\n",
       "      <td>2005-07-24</td>\n",
       "      <td>1995</td>\n",
       "    </tr>\n",
       "    <tr>\n",
       "      <th>1</th>\n",
       "      <td>474</td>\n",
       "      <td>4.0</td>\n",
       "      <td>2001-01-04 02:36:00</td>\n",
       "      <td>Toy Story (1995)</td>\n",
       "      <td>Adventure|Animation|Children|Comedy|Fantasy</td>\n",
       "      <td>pixar</td>\n",
       "      <td>2001-01-04</td>\n",
       "      <td>1995</td>\n",
       "    </tr>\n",
       "    <tr>\n",
       "      <th>2</th>\n",
       "      <td>567</td>\n",
       "      <td>3.5</td>\n",
       "      <td>2018-05-02 18:33:21</td>\n",
       "      <td>Toy Story (1995)</td>\n",
       "      <td>Adventure|Animation|Children|Comedy|Fantasy</td>\n",
       "      <td>fun</td>\n",
       "      <td>2018-05-02</td>\n",
       "      <td>1995</td>\n",
       "    </tr>\n",
       "    <tr>\n",
       "      <th>3</th>\n",
       "      <td>289</td>\n",
       "      <td>2.5</td>\n",
       "      <td>2006-03-27 01:57:37</td>\n",
       "      <td>Grumpier Old Men (1995)</td>\n",
       "      <td>Comedy|Romance</td>\n",
       "      <td>moldy</td>\n",
       "      <td>2006-03-27</td>\n",
       "      <td>1995</td>\n",
       "    </tr>\n",
       "    <tr>\n",
       "      <th>4</th>\n",
       "      <td>289</td>\n",
       "      <td>2.5</td>\n",
       "      <td>2006-03-27 01:57:37</td>\n",
       "      <td>Grumpier Old Men (1995)</td>\n",
       "      <td>Comedy|Romance</td>\n",
       "      <td>old</td>\n",
       "      <td>2006-03-27</td>\n",
       "      <td>1995</td>\n",
       "    </tr>\n",
       "  </tbody>\n",
       "</table>\n",
       "</div>"
      ],
      "text/plain": [
       "   Userid  Rating           Timestamp                    Title  \\\n",
       "0     336     4.0 2005-07-24 17:48:49         Toy Story (1995)   \n",
       "1     474     4.0 2001-01-04 02:36:00         Toy Story (1995)   \n",
       "2     567     3.5 2018-05-02 18:33:21         Toy Story (1995)   \n",
       "3     289     2.5 2006-03-27 01:57:37  Grumpier Old Men (1995)   \n",
       "4     289     2.5 2006-03-27 01:57:37  Grumpier Old Men (1995)   \n",
       "\n",
       "                                        Genres    Tag Timetamp_date  \\\n",
       "0  Adventure|Animation|Children|Comedy|Fantasy  pixar    2005-07-24   \n",
       "1  Adventure|Animation|Children|Comedy|Fantasy  pixar    2001-01-04   \n",
       "2  Adventure|Animation|Children|Comedy|Fantasy    fun    2018-05-02   \n",
       "3                               Comedy|Romance  moldy    2006-03-27   \n",
       "4                               Comedy|Romance    old    2006-03-27   \n",
       "\n",
       "   year_of_production  \n",
       "0                1995  \n",
       "1                1995  \n",
       "2                1995  \n",
       "3                1995  \n",
       "4                1995  "
      ]
     },
     "execution_count": 243,
     "metadata": {},
     "output_type": "execute_result"
    }
   ],
   "source": [
    "#runnnig our final cleaned dataset ready for EDA\n",
    "Movies_df.head()"
   ]
  },
  {
   "cell_type": "markdown",
   "metadata": {},
   "source": [
    "We have no duplicated rows in our dataset. This means that each row is unique."
   ]
  },
  {
   "cell_type": "markdown",
   "metadata": {},
   "source": [
    "# 4.0 EXPLANATORY DATA ANALYSIS"
   ]
  },
  {
   "cell_type": "code",
   "execution_count": 244,
   "metadata": {},
   "outputs": [],
   "source": [
    "#Improting libraries for visualization\n",
    "import matplotlib.pyplot as plt\n",
    "%matplotlib inline\n",
    "import seaborn as sns"
   ]
  },
  {
   "cell_type": "code",
   "execution_count": 245,
   "metadata": {},
   "outputs": [
    {
     "data": {
      "image/png": "[encoded data removed]",
      "text/plain": [
       "<Figure size 864x432 with 1 Axes>"
      ]
     },
     "metadata": {
      "needs_background": "light"
     },
     "output_type": "display_data"
    }
   ],
   "source": [
    "\n",
    "def plot_rating_distribution(data):\n",
    "   \n",
    "    # Count the number of movies for each rating\n",
    "    rating_counts = data['Rating'].value_counts().sort_index()\n",
    "\n",
    "    # Plotting\n",
    "    plt.figure(figsize=(12, 6))\n",
    "    sns.barplot(x=rating_counts.index, y=rating_counts.values, palette='viridis')\n",
    "    plt.title('Distribution of Movie Ratings')\n",
    "    plt.xlabel('Ratings')\n",
    "    plt.ylabel('Number of Movies')\n",
    "    plt.xticks(rotation=0)\n",
    "    plt.show()\n",
    "\n",
    "# Example usage:\n",
    "plot_rating_distribution(Movies_df)  # Display the rating distribution plot\n"
   ]
  },
  {
   "cell_type": "code",
   "execution_count": 246,
   "metadata": {},
   "outputs": [
    {
     "data": {
      "image/png": "[encoded data removed]",
      "text/plain": [
       "<Figure size 864x432 with 1 Axes>"
      ]
     },
     "metadata": {
      "needs_background": "light"
     },
     "output_type": "display_data"
    }
   ],
   "source": [
    "# Create a histogram for the Rating feature\n",
    "plt.figure(figsize=(12, 6))\n",
    "sns.histplot(Movies_df['year_of_production'], bins=10, kde=True, color='cyan')\n",
    "\n",
    "# Add labels and title\n",
    "plt.title('Distribution of year of production', fontsize=16)\n",
    "plt.xlabel('year_of_production', fontsize=14)\n",
    "plt.ylabel('Frequency', fontsize=14)\n",
    "\n",
    "# Show the plot\n",
    "plt.show()"
   ]
  },
  {
   "cell_type": "code",
   "execution_count": 247,
   "metadata": {},
   "outputs": [
    {
     "data": {
      "image/png": "[encoded data removed]",
      "text/plain": [
       "<Figure size 864x432 with 1 Axes>"
      ]
     },
     "metadata": {
      "needs_background": "light"
     },
     "output_type": "display_data"
    }
   ],
   "source": [
    "# Count tags contributed by each user\n",
    "tags_per_user = tags['userId'].value_counts()\n",
    "\n",
    "# Create a histogram for tags per user\n",
    "plt.figure(figsize=(12, 6))\n",
    "plt.hist(tags_per_user, bins=30, edgecolor='black', alpha=0.7)\n",
    "plt.title('Distribution of Tags Contributed by Users')\n",
    "plt.xlabel('Number of Tags')\n",
    "plt.ylabel('Number of Users')\n",
    "plt.grid(axis='y', alpha=0.75)\n",
    "plt.show()"
   ]
  },
  {
   "cell_type": "markdown",
   "metadata": {},
   "source": [
    "* The gragh shows that the genres \"Drama\" and \"Comedy\" are the most popular among the movies in the dataset, with significantly higher counts compared to other genres.\n",
    "\n",
    "* Genres like \"Action,\" \"Thriller,\" and \"Crime\" have moderate levels of popularity, with counts falling somewhere between the most and least popular categories.\n",
    "* Genres such as \"Western,\" \"Horror,\" \"Musical,\" \"Film-Noir,\" \"IMAX,\" and \"Documentary\" have relatively low counts, indicating they are less frequently represented in the dataset.\n",
    "* There is a category labeled \"(no genres listed)\" with a non-zero count, suggesting that some movies in the dataset might not have any associated genre information."
   ]
  },
  {
   "cell_type": "markdown",
   "metadata": {},
   "source": [
    "# 5.0 DATA PREPROCESSING"
   ]
  },
  {
   "cell_type": "markdown",
   "metadata": {},
   "source": [
    "## 5.1 Creating a User-Item Matrix"
   ]
  },
  {
   "cell_type": "code",
   "execution_count": 202,
   "metadata": {},
   "outputs": [
    {
     "data": {
      "text/html": [
       "<div>\n",
       "<style scoped>\n",
       "    .dataframe tbody tr th:only-of-type {\n",
       "        vertical-align: middle;\n",
       "    }\n",
       "\n",
       "    .dataframe tbody tr th {\n",
       "        vertical-align: top;\n",
       "    }\n",
       "\n",
       "    .dataframe thead th {\n",
       "        text-align: right;\n",
       "    }\n",
       "</style>\n",
       "<table border=\"1\" class=\"dataframe\">\n",
       "  <thead>\n",
       "    <tr style=\"text-align: right;\">\n",
       "      <th>Title</th>\n",
       "      <th>(500) Days of Summer (2009)</th>\n",
       "      <th>...And Justice for All (1979)</th>\n",
       "      <th>10 Cloverfield Lane (2016)</th>\n",
       "      <th>10 Things I Hate About You (1999)</th>\n",
       "      <th>101 Dalmatians (1996)</th>\n",
       "      <th>101 Dalmatians (One Hundred and One Dalmatians) (1961)</th>\n",
       "      <th>11'09\"01 - September 11 (2002)</th>\n",
       "      <th>12 Angry Men (1957)</th>\n",
       "      <th>13 Going on 30 (2004)</th>\n",
       "      <th>2001: A Space Odyssey (1968)</th>\n",
       "      <th>...</th>\n",
       "      <th>Young Frankenstein (1974)</th>\n",
       "      <th>Z (1969)</th>\n",
       "      <th>Zack and Miri Make a Porno (2008)</th>\n",
       "      <th>Zelary (2003)</th>\n",
       "      <th>Zelig (1983)</th>\n",
       "      <th>Zero Dark Thirty (2012)</th>\n",
       "      <th>Zombieland (2009)</th>\n",
       "      <th>Zoolander (2001)</th>\n",
       "      <th>Zulu (1964)</th>\n",
       "      <th>eXistenZ (1999)</th>\n",
       "    </tr>\n",
       "    <tr>\n",
       "      <th>Userid</th>\n",
       "      <th></th>\n",
       "      <th></th>\n",
       "      <th></th>\n",
       "      <th></th>\n",
       "      <th></th>\n",
       "      <th></th>\n",
       "      <th></th>\n",
       "      <th></th>\n",
       "      <th></th>\n",
       "      <th></th>\n",
       "      <th></th>\n",
       "      <th></th>\n",
       "      <th></th>\n",
       "      <th></th>\n",
       "      <th></th>\n",
       "      <th></th>\n",
       "      <th></th>\n",
       "      <th></th>\n",
       "      <th></th>\n",
       "      <th></th>\n",
       "      <th></th>\n",
       "    </tr>\n",
       "  </thead>\n",
       "  <tbody>\n",
       "    <tr>\n",
       "      <th>2</th>\n",
       "      <td>NaN</td>\n",
       "      <td>NaN</td>\n",
       "      <td>NaN</td>\n",
       "      <td>NaN</td>\n",
       "      <td>NaN</td>\n",
       "      <td>NaN</td>\n",
       "      <td>NaN</td>\n",
       "      <td>NaN</td>\n",
       "      <td>NaN</td>\n",
       "      <td>NaN</td>\n",
       "      <td>...</td>\n",
       "      <td>NaN</td>\n",
       "      <td>NaN</td>\n",
       "      <td>NaN</td>\n",
       "      <td>NaN</td>\n",
       "      <td>NaN</td>\n",
       "      <td>NaN</td>\n",
       "      <td>NaN</td>\n",
       "      <td>NaN</td>\n",
       "      <td>NaN</td>\n",
       "      <td>NaN</td>\n",
       "    </tr>\n",
       "    <tr>\n",
       "      <th>7</th>\n",
       "      <td>NaN</td>\n",
       "      <td>NaN</td>\n",
       "      <td>NaN</td>\n",
       "      <td>NaN</td>\n",
       "      <td>NaN</td>\n",
       "      <td>NaN</td>\n",
       "      <td>NaN</td>\n",
       "      <td>NaN</td>\n",
       "      <td>NaN</td>\n",
       "      <td>NaN</td>\n",
       "      <td>...</td>\n",
       "      <td>NaN</td>\n",
       "      <td>NaN</td>\n",
       "      <td>NaN</td>\n",
       "      <td>NaN</td>\n",
       "      <td>NaN</td>\n",
       "      <td>NaN</td>\n",
       "      <td>NaN</td>\n",
       "      <td>NaN</td>\n",
       "      <td>NaN</td>\n",
       "      <td>NaN</td>\n",
       "    </tr>\n",
       "    <tr>\n",
       "      <th>18</th>\n",
       "      <td>NaN</td>\n",
       "      <td>NaN</td>\n",
       "      <td>NaN</td>\n",
       "      <td>NaN</td>\n",
       "      <td>NaN</td>\n",
       "      <td>NaN</td>\n",
       "      <td>NaN</td>\n",
       "      <td>NaN</td>\n",
       "      <td>NaN</td>\n",
       "      <td>NaN</td>\n",
       "      <td>...</td>\n",
       "      <td>NaN</td>\n",
       "      <td>NaN</td>\n",
       "      <td>NaN</td>\n",
       "      <td>NaN</td>\n",
       "      <td>NaN</td>\n",
       "      <td>NaN</td>\n",
       "      <td>NaN</td>\n",
       "      <td>NaN</td>\n",
       "      <td>NaN</td>\n",
       "      <td>NaN</td>\n",
       "    </tr>\n",
       "    <tr>\n",
       "      <th>21</th>\n",
       "      <td>NaN</td>\n",
       "      <td>NaN</td>\n",
       "      <td>NaN</td>\n",
       "      <td>NaN</td>\n",
       "      <td>NaN</td>\n",
       "      <td>NaN</td>\n",
       "      <td>NaN</td>\n",
       "      <td>NaN</td>\n",
       "      <td>NaN</td>\n",
       "      <td>NaN</td>\n",
       "      <td>...</td>\n",
       "      <td>NaN</td>\n",
       "      <td>NaN</td>\n",
       "      <td>NaN</td>\n",
       "      <td>NaN</td>\n",
       "      <td>NaN</td>\n",
       "      <td>NaN</td>\n",
       "      <td>NaN</td>\n",
       "      <td>NaN</td>\n",
       "      <td>NaN</td>\n",
       "      <td>NaN</td>\n",
       "    </tr>\n",
       "    <tr>\n",
       "      <th>49</th>\n",
       "      <td>NaN</td>\n",
       "      <td>NaN</td>\n",
       "      <td>NaN</td>\n",
       "      <td>NaN</td>\n",
       "      <td>NaN</td>\n",
       "      <td>NaN</td>\n",
       "      <td>NaN</td>\n",
       "      <td>NaN</td>\n",
       "      <td>NaN</td>\n",
       "      <td>NaN</td>\n",
       "      <td>...</td>\n",
       "      <td>NaN</td>\n",
       "      <td>NaN</td>\n",
       "      <td>NaN</td>\n",
       "      <td>NaN</td>\n",
       "      <td>NaN</td>\n",
       "      <td>NaN</td>\n",
       "      <td>NaN</td>\n",
       "      <td>NaN</td>\n",
       "      <td>NaN</td>\n",
       "      <td>NaN</td>\n",
       "    </tr>\n",
       "  </tbody>\n",
       "</table>\n",
       "<p>5 rows × 1463 columns</p>\n",
       "</div>"
      ],
      "text/plain": [
       "Title   (500) Days of Summer (2009)  ...And Justice for All (1979)  \\\n",
       "Userid                                                               \n",
       "2                               NaN                            NaN   \n",
       "7                               NaN                            NaN   \n",
       "18                              NaN                            NaN   \n",
       "21                              NaN                            NaN   \n",
       "49                              NaN                            NaN   \n",
       "\n",
       "Title   10 Cloverfield Lane (2016)  10 Things I Hate About You (1999)  \\\n",
       "Userid                                                                  \n",
       "2                              NaN                                NaN   \n",
       "7                              NaN                                NaN   \n",
       "18                             NaN                                NaN   \n",
       "21                             NaN                                NaN   \n",
       "49                             NaN                                NaN   \n",
       "\n",
       "Title   101 Dalmatians (1996)  \\\n",
       "Userid                          \n",
       "2                         NaN   \n",
       "7                         NaN   \n",
       "18                        NaN   \n",
       "21                        NaN   \n",
       "49                        NaN   \n",
       "\n",
       "Title   101 Dalmatians (One Hundred and One Dalmatians) (1961)  \\\n",
       "Userid                                                           \n",
       "2                                                     NaN        \n",
       "7                                                     NaN        \n",
       "18                                                    NaN        \n",
       "21                                                    NaN        \n",
       "49                                                    NaN        \n",
       "\n",
       "Title   11'09\"01 - September 11 (2002)  12 Angry Men (1957)  \\\n",
       "Userid                                                        \n",
       "2                                  NaN                  NaN   \n",
       "7                                  NaN                  NaN   \n",
       "18                                 NaN                  NaN   \n",
       "21                                 NaN                  NaN   \n",
       "49                                 NaN                  NaN   \n",
       "\n",
       "Title   13 Going on 30 (2004)  2001: A Space Odyssey (1968)  ...  \\\n",
       "Userid                                                       ...   \n",
       "2                         NaN                           NaN  ...   \n",
       "7                         NaN                           NaN  ...   \n",
       "18                        NaN                           NaN  ...   \n",
       "21                        NaN                           NaN  ...   \n",
       "49                        NaN                           NaN  ...   \n",
       "\n",
       "Title   Young Frankenstein (1974)  Z (1969)  \\\n",
       "Userid                                        \n",
       "2                             NaN       NaN   \n",
       "7                             NaN       NaN   \n",
       "18                            NaN       NaN   \n",
       "21                            NaN       NaN   \n",
       "49                            NaN       NaN   \n",
       "\n",
       "Title   Zack and Miri Make a Porno (2008)  Zelary (2003)  Zelig (1983)  \\\n",
       "Userid                                                                   \n",
       "2                                     NaN            NaN           NaN   \n",
       "7                                     NaN            NaN           NaN   \n",
       "18                                    NaN            NaN           NaN   \n",
       "21                                    NaN            NaN           NaN   \n",
       "49                                    NaN            NaN           NaN   \n",
       "\n",
       "Title   Zero Dark Thirty (2012)  Zombieland (2009)  Zoolander (2001)  \\\n",
       "Userid                                                                 \n",
       "2                           NaN                NaN               NaN   \n",
       "7                           NaN                NaN               NaN   \n",
       "18                          NaN                NaN               NaN   \n",
       "21                          NaN                NaN               NaN   \n",
       "49                          NaN                NaN               NaN   \n",
       "\n",
       "Title   Zulu (1964)  eXistenZ (1999)  \n",
       "Userid                                \n",
       "2               NaN              NaN  \n",
       "7               NaN              NaN  \n",
       "18              NaN              NaN  \n",
       "21              NaN              NaN  \n",
       "49              NaN              NaN  \n",
       "\n",
       "[5 rows x 1463 columns]"
      ]
     },
     "execution_count": 202,
     "metadata": {},
     "output_type": "execute_result"
    }
   ],
   "source": [
    "#step 1: creating a user-item matrix\n",
    "user_item_matrix = Movies_df.pivot_table(index='Userid', columns='Title', values='Rating')\n",
    "\n",
    "user_item_matrix.head()"
   ]
  },
  {
   "cell_type": "markdown",
   "metadata": {},
   "source": [
    "## 5.2 Handling Missing Values"
   ]
  },
  {
   "cell_type": "markdown",
   "metadata": {},
   "source": [
    "Since not every user will have rated every movie, the matrix will have many missing values. SVD can handle missing values implicitly by working only on the observed ratings, but for the our matrix, we want to fill in missing values with zeros"
   ]
  },
  {
   "cell_type": "code",
   "execution_count": 203,
   "metadata": {},
   "outputs": [
    {
     "data": {
      "text/html": [
       "<div>\n",
       "<style scoped>\n",
       "    .dataframe tbody tr th:only-of-type {\n",
       "        vertical-align: middle;\n",
       "    }\n",
       "\n",
       "    .dataframe tbody tr th {\n",
       "        vertical-align: top;\n",
       "    }\n",
       "\n",
       "    .dataframe thead th {\n",
       "        text-align: right;\n",
       "    }\n",
       "</style>\n",
       "<table border=\"1\" class=\"dataframe\">\n",
       "  <thead>\n",
       "    <tr style=\"text-align: right;\">\n",
       "      <th>Title</th>\n",
       "      <th>(500) Days of Summer (2009)</th>\n",
       "      <th>...And Justice for All (1979)</th>\n",
       "      <th>10 Cloverfield Lane (2016)</th>\n",
       "      <th>10 Things I Hate About You (1999)</th>\n",
       "      <th>101 Dalmatians (1996)</th>\n",
       "      <th>101 Dalmatians (One Hundred and One Dalmatians) (1961)</th>\n",
       "      <th>11'09\"01 - September 11 (2002)</th>\n",
       "      <th>12 Angry Men (1957)</th>\n",
       "      <th>13 Going on 30 (2004)</th>\n",
       "      <th>2001: A Space Odyssey (1968)</th>\n",
       "      <th>...</th>\n",
       "      <th>Young Frankenstein (1974)</th>\n",
       "      <th>Z (1969)</th>\n",
       "      <th>Zack and Miri Make a Porno (2008)</th>\n",
       "      <th>Zelary (2003)</th>\n",
       "      <th>Zelig (1983)</th>\n",
       "      <th>Zero Dark Thirty (2012)</th>\n",
       "      <th>Zombieland (2009)</th>\n",
       "      <th>Zoolander (2001)</th>\n",
       "      <th>Zulu (1964)</th>\n",
       "      <th>eXistenZ (1999)</th>\n",
       "    </tr>\n",
       "    <tr>\n",
       "      <th>Userid</th>\n",
       "      <th></th>\n",
       "      <th></th>\n",
       "      <th></th>\n",
       "      <th></th>\n",
       "      <th></th>\n",
       "      <th></th>\n",
       "      <th></th>\n",
       "      <th></th>\n",
       "      <th></th>\n",
       "      <th></th>\n",
       "      <th></th>\n",
       "      <th></th>\n",
       "      <th></th>\n",
       "      <th></th>\n",
       "      <th></th>\n",
       "      <th></th>\n",
       "      <th></th>\n",
       "      <th></th>\n",
       "      <th></th>\n",
       "      <th></th>\n",
       "      <th></th>\n",
       "    </tr>\n",
       "  </thead>\n",
       "  <tbody>\n",
       "    <tr>\n",
       "      <th>18</th>\n",
       "      <td>0.0</td>\n",
       "      <td>0.0</td>\n",
       "      <td>0.0</td>\n",
       "      <td>0.0</td>\n",
       "      <td>0.0</td>\n",
       "      <td>0.0</td>\n",
       "      <td>0.0</td>\n",
       "      <td>0.0</td>\n",
       "      <td>0.0</td>\n",
       "      <td>0.0</td>\n",
       "      <td>...</td>\n",
       "      <td>0.0</td>\n",
       "      <td>0.0</td>\n",
       "      <td>0.0</td>\n",
       "      <td>0.0</td>\n",
       "      <td>0.0</td>\n",
       "      <td>0.0</td>\n",
       "      <td>0.0</td>\n",
       "      <td>0.0</td>\n",
       "      <td>0.0</td>\n",
       "      <td>0.0</td>\n",
       "    </tr>\n",
       "    <tr>\n",
       "      <th>439</th>\n",
       "      <td>0.0</td>\n",
       "      <td>0.0</td>\n",
       "      <td>0.0</td>\n",
       "      <td>0.0</td>\n",
       "      <td>0.0</td>\n",
       "      <td>0.0</td>\n",
       "      <td>0.0</td>\n",
       "      <td>0.0</td>\n",
       "      <td>0.0</td>\n",
       "      <td>0.0</td>\n",
       "      <td>...</td>\n",
       "      <td>0.0</td>\n",
       "      <td>0.0</td>\n",
       "      <td>0.0</td>\n",
       "      <td>0.0</td>\n",
       "      <td>0.0</td>\n",
       "      <td>0.0</td>\n",
       "      <td>0.0</td>\n",
       "      <td>0.0</td>\n",
       "      <td>0.0</td>\n",
       "      <td>0.0</td>\n",
       "    </tr>\n",
       "    <tr>\n",
       "      <th>7</th>\n",
       "      <td>0.0</td>\n",
       "      <td>0.0</td>\n",
       "      <td>0.0</td>\n",
       "      <td>0.0</td>\n",
       "      <td>0.0</td>\n",
       "      <td>0.0</td>\n",
       "      <td>0.0</td>\n",
       "      <td>0.0</td>\n",
       "      <td>0.0</td>\n",
       "      <td>0.0</td>\n",
       "      <td>...</td>\n",
       "      <td>0.0</td>\n",
       "      <td>0.0</td>\n",
       "      <td>0.0</td>\n",
       "      <td>0.0</td>\n",
       "      <td>0.0</td>\n",
       "      <td>0.0</td>\n",
       "      <td>0.0</td>\n",
       "      <td>0.0</td>\n",
       "      <td>0.0</td>\n",
       "      <td>0.0</td>\n",
       "    </tr>\n",
       "    <tr>\n",
       "      <th>291</th>\n",
       "      <td>0.0</td>\n",
       "      <td>0.0</td>\n",
       "      <td>0.0</td>\n",
       "      <td>0.0</td>\n",
       "      <td>0.0</td>\n",
       "      <td>0.0</td>\n",
       "      <td>0.0</td>\n",
       "      <td>0.0</td>\n",
       "      <td>0.0</td>\n",
       "      <td>0.0</td>\n",
       "      <td>...</td>\n",
       "      <td>0.0</td>\n",
       "      <td>0.0</td>\n",
       "      <td>0.0</td>\n",
       "      <td>0.0</td>\n",
       "      <td>0.0</td>\n",
       "      <td>0.0</td>\n",
       "      <td>0.0</td>\n",
       "      <td>0.0</td>\n",
       "      <td>0.0</td>\n",
       "      <td>0.0</td>\n",
       "    </tr>\n",
       "    <tr>\n",
       "      <th>573</th>\n",
       "      <td>0.0</td>\n",
       "      <td>0.0</td>\n",
       "      <td>0.0</td>\n",
       "      <td>0.0</td>\n",
       "      <td>0.0</td>\n",
       "      <td>0.0</td>\n",
       "      <td>0.0</td>\n",
       "      <td>0.0</td>\n",
       "      <td>0.0</td>\n",
       "      <td>0.0</td>\n",
       "      <td>...</td>\n",
       "      <td>0.0</td>\n",
       "      <td>0.0</td>\n",
       "      <td>0.0</td>\n",
       "      <td>0.0</td>\n",
       "      <td>0.0</td>\n",
       "      <td>0.0</td>\n",
       "      <td>0.0</td>\n",
       "      <td>0.0</td>\n",
       "      <td>0.0</td>\n",
       "      <td>0.0</td>\n",
       "    </tr>\n",
       "  </tbody>\n",
       "</table>\n",
       "<p>5 rows × 1463 columns</p>\n",
       "</div>"
      ],
      "text/plain": [
       "Title   (500) Days of Summer (2009)  ...And Justice for All (1979)  \\\n",
       "Userid                                                               \n",
       "18                              0.0                            0.0   \n",
       "439                             0.0                            0.0   \n",
       "7                               0.0                            0.0   \n",
       "291                             0.0                            0.0   \n",
       "573                             0.0                            0.0   \n",
       "\n",
       "Title   10 Cloverfield Lane (2016)  10 Things I Hate About You (1999)  \\\n",
       "Userid                                                                  \n",
       "18                             0.0                                0.0   \n",
       "439                            0.0                                0.0   \n",
       "7                              0.0                                0.0   \n",
       "291                            0.0                                0.0   \n",
       "573                            0.0                                0.0   \n",
       "\n",
       "Title   101 Dalmatians (1996)  \\\n",
       "Userid                          \n",
       "18                        0.0   \n",
       "439                       0.0   \n",
       "7                         0.0   \n",
       "291                       0.0   \n",
       "573                       0.0   \n",
       "\n",
       "Title   101 Dalmatians (One Hundred and One Dalmatians) (1961)  \\\n",
       "Userid                                                           \n",
       "18                                                    0.0        \n",
       "439                                                   0.0        \n",
       "7                                                     0.0        \n",
       "291                                                   0.0        \n",
       "573                                                   0.0        \n",
       "\n",
       "Title   11'09\"01 - September 11 (2002)  12 Angry Men (1957)  \\\n",
       "Userid                                                        \n",
       "18                                 0.0                  0.0   \n",
       "439                                0.0                  0.0   \n",
       "7                                  0.0                  0.0   \n",
       "291                                0.0                  0.0   \n",
       "573                                0.0                  0.0   \n",
       "\n",
       "Title   13 Going on 30 (2004)  2001: A Space Odyssey (1968)  ...  \\\n",
       "Userid                                                       ...   \n",
       "18                        0.0                           0.0  ...   \n",
       "439                       0.0                           0.0  ...   \n",
       "7                         0.0                           0.0  ...   \n",
       "291                       0.0                           0.0  ...   \n",
       "573                       0.0                           0.0  ...   \n",
       "\n",
       "Title   Young Frankenstein (1974)  Z (1969)  \\\n",
       "Userid                                        \n",
       "18                            0.0       0.0   \n",
       "439                           0.0       0.0   \n",
       "7                             0.0       0.0   \n",
       "291                           0.0       0.0   \n",
       "573                           0.0       0.0   \n",
       "\n",
       "Title   Zack and Miri Make a Porno (2008)  Zelary (2003)  Zelig (1983)  \\\n",
       "Userid                                                                   \n",
       "18                                    0.0            0.0           0.0   \n",
       "439                                   0.0            0.0           0.0   \n",
       "7                                     0.0            0.0           0.0   \n",
       "291                                   0.0            0.0           0.0   \n",
       "573                                   0.0            0.0           0.0   \n",
       "\n",
       "Title   Zero Dark Thirty (2012)  Zombieland (2009)  Zoolander (2001)  \\\n",
       "Userid                                                                 \n",
       "18                          0.0                0.0               0.0   \n",
       "439                         0.0                0.0               0.0   \n",
       "7                           0.0                0.0               0.0   \n",
       "291                         0.0                0.0               0.0   \n",
       "573                         0.0                0.0               0.0   \n",
       "\n",
       "Title   Zulu (1964)  eXistenZ (1999)  \n",
       "Userid                                \n",
       "18              0.0              0.0  \n",
       "439             0.0              0.0  \n",
       "7               0.0              0.0  \n",
       "291             0.0              0.0  \n",
       "573             0.0              0.0  \n",
       "\n",
       "[5 rows x 1463 columns]"
      ]
     },
     "execution_count": 203,
     "metadata": {},
     "output_type": "execute_result"
    }
   ],
   "source": [
    "#Filling the missing values with 0\n",
    "user_item_matrix = user_item_matrix.fillna(0)\n",
    "user_item_matrix.sample(n=5)"
   ]
  },
  {
   "cell_type": "markdown",
   "metadata": {},
   "source": [
    "## 5.3 Normalizing The Data"
   ]
  },
  {
   "cell_type": "markdown",
   "metadata": {},
   "source": [
    "For better performance of SVD, we will proceed and  normalize or mean-center the ratings by subtracting the user or movie average"
   ]
  },
  {
   "cell_type": "code",
   "execution_count": 204,
   "metadata": {},
   "outputs": [
    {
     "data": {
      "text/html": [
       "<div>\n",
       "<style scoped>\n",
       "    .dataframe tbody tr th:only-of-type {\n",
       "        vertical-align: middle;\n",
       "    }\n",
       "\n",
       "    .dataframe tbody tr th {\n",
       "        vertical-align: top;\n",
       "    }\n",
       "\n",
       "    .dataframe thead th {\n",
       "        text-align: right;\n",
       "    }\n",
       "</style>\n",
       "<table border=\"1\" class=\"dataframe\">\n",
       "  <thead>\n",
       "    <tr style=\"text-align: right;\">\n",
       "      <th>Title</th>\n",
       "      <th>(500) Days of Summer (2009)</th>\n",
       "      <th>...And Justice for All (1979)</th>\n",
       "      <th>10 Cloverfield Lane (2016)</th>\n",
       "      <th>10 Things I Hate About You (1999)</th>\n",
       "      <th>101 Dalmatians (1996)</th>\n",
       "      <th>101 Dalmatians (One Hundred and One Dalmatians) (1961)</th>\n",
       "      <th>11'09\"01 - September 11 (2002)</th>\n",
       "      <th>12 Angry Men (1957)</th>\n",
       "      <th>13 Going on 30 (2004)</th>\n",
       "      <th>2001: A Space Odyssey (1968)</th>\n",
       "      <th>...</th>\n",
       "      <th>Young Frankenstein (1974)</th>\n",
       "      <th>Z (1969)</th>\n",
       "      <th>Zack and Miri Make a Porno (2008)</th>\n",
       "      <th>Zelary (2003)</th>\n",
       "      <th>Zelig (1983)</th>\n",
       "      <th>Zero Dark Thirty (2012)</th>\n",
       "      <th>Zombieland (2009)</th>\n",
       "      <th>Zoolander (2001)</th>\n",
       "      <th>Zulu (1964)</th>\n",
       "      <th>eXistenZ (1999)</th>\n",
       "    </tr>\n",
       "    <tr>\n",
       "      <th>Userid</th>\n",
       "      <th></th>\n",
       "      <th></th>\n",
       "      <th></th>\n",
       "      <th></th>\n",
       "      <th></th>\n",
       "      <th></th>\n",
       "      <th></th>\n",
       "      <th></th>\n",
       "      <th></th>\n",
       "      <th></th>\n",
       "      <th></th>\n",
       "      <th></th>\n",
       "      <th></th>\n",
       "      <th></th>\n",
       "      <th></th>\n",
       "      <th></th>\n",
       "      <th></th>\n",
       "      <th></th>\n",
       "      <th></th>\n",
       "      <th></th>\n",
       "      <th></th>\n",
       "    </tr>\n",
       "  </thead>\n",
       "  <tbody>\n",
       "    <tr>\n",
       "      <th>2</th>\n",
       "      <td>-0.010253</td>\n",
       "      <td>-0.010253</td>\n",
       "      <td>-0.010253</td>\n",
       "      <td>-0.010253</td>\n",
       "      <td>-0.010253</td>\n",
       "      <td>-0.010253</td>\n",
       "      <td>-0.010253</td>\n",
       "      <td>-0.010253</td>\n",
       "      <td>-0.010253</td>\n",
       "      <td>-0.010253</td>\n",
       "      <td>...</td>\n",
       "      <td>-0.010253</td>\n",
       "      <td>-0.010253</td>\n",
       "      <td>-0.010253</td>\n",
       "      <td>-0.010253</td>\n",
       "      <td>-0.010253</td>\n",
       "      <td>-0.010253</td>\n",
       "      <td>-0.010253</td>\n",
       "      <td>-0.010253</td>\n",
       "      <td>-0.010253</td>\n",
       "      <td>-0.010253</td>\n",
       "    </tr>\n",
       "    <tr>\n",
       "      <th>7</th>\n",
       "      <td>-0.000684</td>\n",
       "      <td>-0.000684</td>\n",
       "      <td>-0.000684</td>\n",
       "      <td>-0.000684</td>\n",
       "      <td>-0.000684</td>\n",
       "      <td>-0.000684</td>\n",
       "      <td>-0.000684</td>\n",
       "      <td>-0.000684</td>\n",
       "      <td>-0.000684</td>\n",
       "      <td>-0.000684</td>\n",
       "      <td>...</td>\n",
       "      <td>-0.000684</td>\n",
       "      <td>-0.000684</td>\n",
       "      <td>-0.000684</td>\n",
       "      <td>-0.000684</td>\n",
       "      <td>-0.000684</td>\n",
       "      <td>-0.000684</td>\n",
       "      <td>-0.000684</td>\n",
       "      <td>-0.000684</td>\n",
       "      <td>-0.000684</td>\n",
       "      <td>-0.000684</td>\n",
       "    </tr>\n",
       "    <tr>\n",
       "      <th>18</th>\n",
       "      <td>-0.020164</td>\n",
       "      <td>-0.020164</td>\n",
       "      <td>-0.020164</td>\n",
       "      <td>-0.020164</td>\n",
       "      <td>-0.020164</td>\n",
       "      <td>-0.020164</td>\n",
       "      <td>-0.020164</td>\n",
       "      <td>-0.020164</td>\n",
       "      <td>-0.020164</td>\n",
       "      <td>-0.020164</td>\n",
       "      <td>...</td>\n",
       "      <td>-0.020164</td>\n",
       "      <td>-0.020164</td>\n",
       "      <td>-0.020164</td>\n",
       "      <td>-0.020164</td>\n",
       "      <td>-0.020164</td>\n",
       "      <td>-0.020164</td>\n",
       "      <td>-0.020164</td>\n",
       "      <td>-0.020164</td>\n",
       "      <td>-0.020164</td>\n",
       "      <td>-0.020164</td>\n",
       "    </tr>\n",
       "  </tbody>\n",
       "</table>\n",
       "<p>3 rows × 1463 columns</p>\n",
       "</div>"
      ],
      "text/plain": [
       "Title   (500) Days of Summer (2009)  ...And Justice for All (1979)  \\\n",
       "Userid                                                               \n",
       "2                         -0.010253                      -0.010253   \n",
       "7                         -0.000684                      -0.000684   \n",
       "18                        -0.020164                      -0.020164   \n",
       "\n",
       "Title   10 Cloverfield Lane (2016)  10 Things I Hate About You (1999)  \\\n",
       "Userid                                                                  \n",
       "2                        -0.010253                          -0.010253   \n",
       "7                        -0.000684                          -0.000684   \n",
       "18                       -0.020164                          -0.020164   \n",
       "\n",
       "Title   101 Dalmatians (1996)  \\\n",
       "Userid                          \n",
       "2                   -0.010253   \n",
       "7                   -0.000684   \n",
       "18                  -0.020164   \n",
       "\n",
       "Title   101 Dalmatians (One Hundred and One Dalmatians) (1961)  \\\n",
       "Userid                                                           \n",
       "2                                               -0.010253        \n",
       "7                                               -0.000684        \n",
       "18                                              -0.020164        \n",
       "\n",
       "Title   11'09\"01 - September 11 (2002)  12 Angry Men (1957)  \\\n",
       "Userid                                                        \n",
       "2                            -0.010253            -0.010253   \n",
       "7                            -0.000684            -0.000684   \n",
       "18                           -0.020164            -0.020164   \n",
       "\n",
       "Title   13 Going on 30 (2004)  2001: A Space Odyssey (1968)  ...  \\\n",
       "Userid                                                       ...   \n",
       "2                   -0.010253                     -0.010253  ...   \n",
       "7                   -0.000684                     -0.000684  ...   \n",
       "18                  -0.020164                     -0.020164  ...   \n",
       "\n",
       "Title   Young Frankenstein (1974)  Z (1969)  \\\n",
       "Userid                                        \n",
       "2                       -0.010253 -0.010253   \n",
       "7                       -0.000684 -0.000684   \n",
       "18                      -0.020164 -0.020164   \n",
       "\n",
       "Title   Zack and Miri Make a Porno (2008)  Zelary (2003)  Zelig (1983)  \\\n",
       "Userid                                                                   \n",
       "2                               -0.010253      -0.010253     -0.010253   \n",
       "7                               -0.000684      -0.000684     -0.000684   \n",
       "18                              -0.020164      -0.020164     -0.020164   \n",
       "\n",
       "Title   Zero Dark Thirty (2012)  Zombieland (2009)  Zoolander (2001)  \\\n",
       "Userid                                                                 \n",
       "2                     -0.010253          -0.010253         -0.010253   \n",
       "7                     -0.000684          -0.000684         -0.000684   \n",
       "18                    -0.020164          -0.020164         -0.020164   \n",
       "\n",
       "Title   Zulu (1964)  eXistenZ (1999)  \n",
       "Userid                                \n",
       "2         -0.010253        -0.010253  \n",
       "7         -0.000684        -0.000684  \n",
       "18        -0.020164        -0.020164  \n",
       "\n",
       "[3 rows x 1463 columns]"
      ]
     },
     "execution_count": 204,
     "metadata": {},
     "output_type": "execute_result"
    }
   ],
   "source": [
    "user_ratings_mean = user_item_matrix.mean(axis=1)\n",
    "user_item_matrix_normalized = user_item_matrix.sub(user_ratings_mean, axis=0)\n",
    "user_item_matrix_normalized .head(3)"
   ]
  },
  {
   "cell_type": "markdown",
   "metadata": {},
   "source": [
    "## 5.4 Performing Singular Value Decomposition"
   ]
  },
  {
   "cell_type": "markdown",
   "metadata": {},
   "source": [
    "Now that we have a clean user-item matrix, we will apply SVD.\n",
    "\n",
    "First, we will install scikit-surprise"
   ]
  },
  {
   "cell_type": "code",
   "execution_count": 205,
   "metadata": {},
   "outputs": [
    {
     "name": "stdout",
     "output_type": "stream",
     "text": [
      "Requirement already satisfied: scikit-surprise==1.1.1 in c:\\users\\ahb\\anaconda3\\envs\\learn-env\\lib\\site-packages (1.1.1)\n",
      "Requirement already satisfied: joblib>=0.11 in c:\\users\\ahb\\anaconda3\\envs\\learn-env\\lib\\site-packages (from scikit-surprise==1.1.1) (0.17.0)\n",
      "Requirement already satisfied: numpy>=1.11.2 in c:\\users\\ahb\\anaconda3\\envs\\learn-env\\lib\\site-packages (from scikit-surprise==1.1.1) (1.22.0)\n",
      "Requirement already satisfied: scipy>=1.0.0 in c:\\users\\ahb\\anaconda3\\envs\\learn-env\\lib\\site-packages (from scikit-surprise==1.1.1) (1.5.0)\n",
      "Requirement already satisfied: six>=1.10.0 in c:\\users\\ahb\\anaconda3\\envs\\learn-env\\lib\\site-packages (from scikit-surprise==1.1.1) (1.15.0)\n",
      "Note: you may need to restart the kernel to use updated packages.\n",
      "Surprise library installed.\n"
     ]
    }
   ],
   "source": [
    "# Installation of the suprise library:\n",
    "%pip install scikit-surprise==1.1.1\n",
    "print(\"Surprise library installed.\")"
   ]
  },
  {
   "cell_type": "markdown",
   "metadata": {},
   "source": [
    "# 6.0 MODELLING"
   ]
  },
  {
   "cell_type": "markdown",
   "metadata": {},
   "source": [
    "In this section, we will build a baseline recommendation model using the Surprise library, specifically applying Singular Value Decomposition (SVD) (Singular Value Decomposition) for collaborative filtering. Our goal is to create a robust model that predicts user ratings for movies based on historical data.\n",
    "\n",
    "To evaluate the model's performance, we will utilize RMSE (Root Mean Squared Error) as our primary metric. Additionally, we will ensure that our predictions are rounded to the nearest 0.5-star increment to align with the rating scale used in the dataset."
   ]
  },
  {
   "cell_type": "markdown",
   "metadata": {},
   "source": [
    "## 6.1 Creating a Baseline Model using SVD"
   ]
  },
  {
   "cell_type": "code",
   "execution_count": 206,
   "metadata": {},
   "outputs": [],
   "source": [
    "# Importing neccesary libraries\n",
    "from surprise import Dataset, Reader, SVD\n",
    "from surprise.model_selection import train_test_split\n",
    "\n",
    "# Loading data into Surprise format\n",
    "reader = Reader(rating_scale=(0.5, 5))\n",
    "data = Dataset.load_from_df(Movies_df[['Userid', 'Title', 'Rating']], reader)\n",
    "\n",
    "\n",
    "# Splitting data into train and test set\n",
    "trainset, testset = train_test_split(data, test_size=0.2, random_state=42)\n",
    "\n",
    "\n",
    "# Initializing and train SVD model\n",
    "svd = SVD()\n",
    "svd.fit(trainset)\n",
    "\n",
    "# Predict ratings for testset\n",
    "predictions = svd.test(testset)\n",
    "\n",
    "# Function to round to nearest 0.5\n",
    "def round_to_half(x):\n",
    "    return round(x * 2) / 2\n",
    "\n",
    "# Apply rounding to predictions\n",
    "for pred in predictions:\n",
    "    rounded_rating = round_to_half(pred.est)  "
   ]
  },
  {
   "cell_type": "markdown",
   "metadata": {},
   "source": [
    "## 6.2 Evaluating the Baseline Model"
   ]
  },
  {
   "cell_type": "code",
   "execution_count": 249,
   "metadata": {},
   "outputs": [
    {
     "name": "stdout",
     "output_type": "stream",
     "text": [
      "RMSE: 0.5305\n"
     ]
    },
    {
     "data": {
      "text/plain": [
       "0.5304619796969677"
      ]
     },
     "execution_count": 249,
     "metadata": {},
     "output_type": "execute_result"
    }
   ],
   "source": [
    "# Importing library\n",
    "from surprise import accuracy\n",
    "\n",
    "# Calculating accuracy\n",
    "accuracy.rmse(predictions)"
   ]
  },
  {
   "cell_type": "markdown",
   "metadata": {},
   "source": [
    "An RMSE of 0.582 suggests that, on average, our predicted ratings are relatively close to the actual ratings. While this isn't the optimal result, we'll move forward with hyperparameter tuning to improve the model's accuracy."
   ]
  },
  {
   "cell_type": "markdown",
   "metadata": {},
   "source": [
    "## 6.3 Model Tunning"
   ]
  },
  {
   "cell_type": "markdown",
   "metadata": {},
   "source": [
    "For our model tunning, we will use the GridsearchCV to improve the perfomance of our model."
   ]
  },
  {
   "cell_type": "code",
   "execution_count": 252,
   "metadata": {},
   "outputs": [
    {
     "name": "stdout",
     "output_type": "stream",
     "text": [
      "0.5057456457411954\n",
      "{'n_factors': 100, 'n_epochs': 40, 'lr_all': 0.02}\n"
     ]
    }
   ],
   "source": [
    "from surprise.model_selection import GridSearchCV\n",
    "# Define Hyperparameter Grid\n",
    "param_grid = {\n",
    "    'n_factors': [50, 100, 150],\n",
    "    'n_epochs': [20, 30, 40],\n",
    "    'lr_all': [0.005, 0.01, 0.02]\n",
    "}\n",
    "# Perform GridSearchCV\n",
    "gs = GridSearchCV(SVD, param_grid, measures=['rmse'], cv=5)\n",
    "gs.fit(data)\n",
    "\n",
    "# Output the best score and parameters\n",
    "print(gs.best_score['rmse'])\n",
    "print(gs.best_params['rmse'])"
   ]
  },
  {
   "cell_type": "markdown",
   "metadata": {},
   "source": [
    "The best RMSE score after tuning is 0.5084, which is an improvement from the previous RMSE of 0.5828. This indicates that the model now predicts user ratings with even higher accuracy after fine-tuning the hyperparameters."
   ]
  },
  {
   "cell_type": "markdown",
   "metadata": {},
   "source": [
    "## 7.Collaborative Filtering"
   ]
  },
  {
   "cell_type": "markdown",
   "metadata": {},
   "source": [
    "Now that we have tunned our SVD model using GridSearchCV and obtained the best hyperparameters, the next step is to provide top 5 movie recommendations to a user, based on their ratings of other movies.\n",
    "This will be achieved by the use of user_based filtration"
   ]
  },
  {
   "cell_type": "markdown",
   "metadata": {},
   "source": [
    "####  - User_Based Filtering"
   ]
  },
  {
   "cell_type": "code",
   "execution_count": 276,
   "metadata": {},
   "outputs": [
    {
     "name": "stdout",
     "output_type": "stream",
     "text": [
      "\u001b[4mTop 5 movie recommendations for User 200:\u001b[0m\n",
      "\n",
      "Talented Mr. Ripley, The (1999): Predicted Rating: 4.5\n",
      "\n",
      "Eraserhead (1977): Predicted Rating: 4.5\n",
      "\n",
      "Lord of the Rings: The Return of the King, The (2003): Predicted Rating: 4.5\n",
      "\n",
      "Star Wars: Episode V - The Empire Strikes Back (1980): Predicted Rating: 4.5\n",
      "\n",
      "Mary and Max (2009): Predicted Rating: 4.5\n",
      "\n"
     ]
    }
   ],
   "source": [
    "def round_to_nearest_half(value):\n",
    "    \"\"\"Round a float to the nearest 0.5.\"\"\"\n",
    "    return round(value * 2) / 2\n",
    "\n",
    "def get_top_n_recommendations(user_id, model, data, n=5):\n",
    "    \"\"\"Get the top N movie recommendations for a specific user.\"\"\"\n",
    "    # Get the list of all unique movie titles\n",
    "    all_movie_titles = Movies_df['Title'].unique()\n",
    "    \n",
    "    # Getting the list of movies the user has already rated\n",
    "    user_rated_movies = Movies_df[Movies_df['Userid'] == user_id]['Title'].values\n",
    "    \n",
    "    # Finding the movies that the user hasn't rated yet\n",
    "    unrated_movies = [movie for movie in all_movie_titles if movie not in user_rated_movies]\n",
    "    \n",
    "    # Predicting ratings for the unrated movies\n",
    "    predictions = [model.predict(user_id, movie) for movie in unrated_movies]\n",
    "    \n",
    "    # Sorting the predicted ratings in descending order\n",
    "    top_n_predictions = sorted(predictions, key=lambda x: x.est, reverse=True)[:n]\n",
    "    \n",
    "    # Return the top N movie titles and their predicted ratings rounded to nearest 0.5\n",
    "    return [(pred.iid, round_to_nearest_half(pred.est)) for pred in top_n_predictions]\n",
    "\n",
    "# Ask the user to input their user ID\n",
    "user_id = input(\"Please enter your User ID: \")\n",
    "\n",
    "# Predicting the top 5 movies for the specified user\n",
    "top_5_recommendations = get_top_n_recommendations(int(user_id), svd, Movies_df, n=5)\n",
    "\n",
    "# Output the recommendations\n",
    "print(f\"\\033[4mTop 5 movie recommendations for User {user_id}:\\033[0m\\n\")\n",
    "for movie, rating in top_5_recommendations:\n",
    "    print(f\"{movie}: Predicted Rating: {rating:.1f}\\n\")\n"
   ]
  },
  {
   "cell_type": "markdown",
   "metadata": {},
   "source": [
    "Using the user based filtration, We have implemented an input field that allows the entry of User ID, which generates the top 5 movie recommendations based on their ratings."
   ]
  },
  {
   "cell_type": "markdown",
   "metadata": {},
   "source": [
    "####  - Content_Based Fitering"
   ]
  },
  {
   "cell_type": "markdown",
   "metadata": {},
   "source": [
    "Content-based filtering is a recommendation technique that suggests items to users based on the features or attributes of the items themselves, rather than relying on user interactions with items (like ratings). It uses item metadata, such as descriptions, genres, keywords, or other characteristics, to make recommendations"
   ]
  },
  {
   "cell_type": "markdown",
   "metadata": {},
   "source": [
    "We will leverage the **scikit-learn** `TfidfVectorizer` function which converts text to feature vectors that is fed into an estimator."
   ]
  },
  {
   "cell_type": "code",
   "execution_count": 296,
   "metadata": {},
   "outputs": [],
   "source": [
    "from sklearn.feature_extraction.text import TfidfVectorizer\n",
    "\n",
    "# Combine genres and tags as a single feature string for each movie\n",
    "Movies_df['combined_features'] = Movies_df['Genres'] + ' ' + Movies_df['Tag']\n",
    "\n",
    "# Use TF-IDF Vectorizer to convert combined features into a matrix\n",
    "tfidf = TfidfVectorizer(stop_words='english')\n",
    "tfidf_matrix = tfidf.fit_transform(Movies_df['combined_features'])"
   ]
  },
  {
   "cell_type": "code",
   "execution_count": 278,
   "metadata": {},
   "outputs": [],
   "source": [
    "from sklearn.metrics.pairwise import cosine_similarity\n",
    "\n",
    "# Compute the cosine similarity matrix\n",
    "cosine_sim = cosine_similarity(tfidf_matrix, tfidf_matrix)\n"
   ]
  },
  {
   "cell_type": "code",
   "execution_count": 285,
   "metadata": {},
   "outputs": [
    {
     "name": "stdout",
     "output_type": "stream",
     "text": [
      "\u001b[4mYou might also like:\u001b[0m\n",
      "\n",
      "Two Days, One Night (Deux jours, une nuit) (2014)\n",
      "La La Land (2016)\n",
      "Punch-Drunk Love (2002)\n",
      "Up (2009)\n",
      "In the Mood For Love (Fa yeung nin wa) (2000)\n"
     ]
    }
   ],
   "source": [
    "def get_recommendations(movie_title, cosine_sim=cosine_sim):\n",
    "    \"\"\"Get recommendations based on a given movie title.\"\"\"\n",
    "    # Check if the movie title exists in the DataFrame\n",
    "    if movie_title not in Movies_df['Title'].values:\n",
    "        return f\"Sorry, '{movie_title}' not found in the database. Please try another movie.\"\n",
    "\n",
    "    # Get the index of the movie that matches the title\n",
    "    idx = Movies_df[Movies_df['Title'] == movie_title].index[0]\n",
    "\n",
    "    # Get the pairwise similarity scores of all movies with that movie\n",
    "    sim_scores = list(enumerate(cosine_sim[idx]))\n",
    "\n",
    "    # Sort the movies based on the similarity scores\n",
    "    sim_scores = sorted(sim_scores, key=lambda x: x[1], reverse=True)\n",
    "\n",
    "    # Get the indices of the most similar movies, excluding the first one (which is the same movie)\n",
    "    movie_indices = [i[0] for i in sim_scores[1:6]]  # Exclude the first one\n",
    "\n",
    "    # Return the top 5 most similar movies\n",
    "    return Movies_df['Title'].iloc[movie_indices].unique()  # Ensure uniqueness\n",
    "\n",
    "# Allow user input for movie title\n",
    "movie_title_input = input(\"Please enter a movie title: \")\n",
    "\n",
    "# Get recommendations\n",
    "recommendations = get_recommendations(movie_title_input)\n",
    "\n",
    "# Output the recommendations\n",
    "\n",
    "print(f\"\\033[4mYou might also like:\\033[0m\\n\")\n",
    "if isinstance(recommendations, str):\n",
    "    print(recommendations)  # Print error message\n",
    "else:\n",
    "    for movie in recommendations:\n",
    "        print(movie)\n"
   ]
  },
  {
   "cell_type": "markdown",
   "metadata": {},
   "source": [
    "## 6.8 Cold Start Mitigation for New User"
   ]
  },
  {
   "cell_type": "markdown",
   "metadata": {},
   "source": [
    "Cold start mitigation for new users is a critical challenge in recommendation systems, particularly in collaborative filtering methods, where the system relies heavily on user interactions and preferences to make suggestions: Here we will employ two stratges to adress this issue. There strategies are:-\n",
    "- Content based Filtering for new users \n",
    "- Movie polularity "
   ]
  },
  {
   "cell_type": "markdown",
   "metadata": {},
   "source": [
    "### 1 Content_based filtering for `new users`"
   ]
  },
  {
   "cell_type": "markdown",
   "metadata": {},
   "source": [
    "Content-based filtering for new users involves recommending movies based on the features of the movie themselves.\n",
    "\n",
    "Since new users don’t have a history of rated movies, we are going to recommend movies based on their known preferences, in this case movie genre to recommend the best movies thes elected genre."
   ]
  },
  {
   "cell_type": "code",
   "execution_count": 293,
   "metadata": {},
   "outputs": [
    {
     "name": "stdout",
     "output_type": "stream",
     "text": [
      "Available genres:\n",
      "- Adventure\n",
      "- Animation\n",
      "- Children\n",
      "- Comedy\n",
      "- Fantasy\n",
      "- Romance\n",
      "- Mystery\n",
      "- Thriller\n",
      "- Crime\n",
      "- Action\n",
      "- Drama\n",
      "- War\n",
      "- Sci-Fi\n",
      "- Western\n",
      "- Horror\n",
      "- Musical\n",
      "- Film-Noir\n",
      "- IMAX\n",
      "- Documentary\n",
      "\n",
      "Top movies in the 'Crime' genre:\n",
      "                                Title\n",
      "8          Usual Suspects, The (1995)\n",
      "505                 Fight Club (1999)\n",
      "632                  Inception (2010)\n",
      "584           Dark Knight, The (2008)\n",
      "567  Shawshank Redemption, The (1994)\n"
     ]
    }
   ],
   "source": [
    "# Sample user preferences - genres to choose from\n",
    "available_genres = [\n",
    "    'Adventure', 'Animation', 'Children', 'Comedy', 'Fantasy',\n",
    "    'Romance', 'Mystery', 'Thriller', 'Crime', 'Action',\n",
    "    'Drama', 'War', 'Sci-Fi', 'Western', 'Horror',\n",
    "    'Musical', 'Film-Noir', 'IMAX', 'Documentary'\n",
    "]\n",
    "\n",
    "# Ask the user to input their preferred genre\n",
    "print(\"Available genres:\")\n",
    "for genre in available_genres:\n",
    "    print(f\"- {genre}\")\n",
    "\n",
    "user_genre = input(\"Please enter your preferred genre: \")\n",
    "\n",
    "# Check if the input genre is valid\n",
    "if user_genre in available_genres:\n",
    "    # Filter the Movies_df based on the user-selected genre\n",
    "    recommended_movies = Movies_df[Movies_df['Genres'].str.contains(user_genre)]\n",
    "    \n",
    "    # Sort the recommended movies by ratings in descending order\n",
    "    recommended_movies_sorted = recommended_movies.sort_values(by='Rating', ascending=False)\n",
    "\n",
    "    # Remove duplicates by keeping the first occurrence of each unique title\n",
    "    recommended_movies_unique = recommended_movies_sorted.drop_duplicates(subset=['Title'])\n",
    "\n",
    "    # Display the top 5 recommended unique movies\n",
    "    print(f\"\\nTop movies in the '{user_genre}' genre:\")\n",
    "    print(recommended_movies_unique[['Title']].head(5))\n",
    "      # print(recommended_movies_unique[['Title', 'Genres', 'Rating']].head(5))\n",
    "else:\n",
    "    print(\"Sorry, the genre you entered is not available. Please try again.\")\n"
   ]
  },
  {
   "cell_type": "markdown",
   "metadata": {},
   "source": [
    "#### - Movie Popularity `new users`"
   ]
  },
  {
   "cell_type": "markdown",
   "metadata": {},
   "source": [
    "Another approach to tackle the cold start problem for new users is to recommend the highest-rated movies regardless of genre. \n",
    "\n",
    "Since new users lack interaction history, suggesting highly-rated or popular films guarantees that they receive quality recommendations immediately, thereby enhancing user acquisition and retention"
   ]
  },
  {
   "cell_type": "code",
   "execution_count": 294,
   "metadata": {},
   "outputs": [
    {
     "name": "stdout",
     "output_type": "stream",
     "text": [
      "                                 Title  Rating\n",
      "0          (500) Days of Summer (2009)     5.0\n",
      "1188        Sound of Music, The (1965)     5.0\n",
      "279           Crossing Delancey (1988)     5.0\n",
      "1151             Shutter Island (2010)     5.0\n",
      "1140  Shawshank Redemption, The (1994)     5.0\n"
     ]
    }
   ],
   "source": [
    "# movie ratings and their average rating\n",
    "popular_movies = Movies_df.groupby('Title').agg({'Rating': 'mean'}).reset_index()\n",
    "popular_movies = popular_movies.sort_values(by='Rating', ascending=False)\n",
    "\n",
    "# Get the top 5 popular movies\n",
    "top_n_popular = popular_movies.head(5)\n",
    "\n",
    "# Display the popular movies\n",
    "print(top_n_popular)\n"
   ]
  },
  {
   "cell_type": "markdown",
   "metadata": {},
   "source": [
    "\n",
    "By implementing the hybrid model, we successfully addressed the cold start problem for new users by recommending popular movies and leveraging content-based filtering to provide personalized suggestions based on their preferences."
   ]
  },
  {
   "cell_type": "markdown",
   "metadata": {},
   "source": [
    "## 7.0 CONCLUSIONS"
   ]
  },
  {
   "cell_type": "markdown",
   "metadata": {},
   "source": [
    "### 1.Personalized Top 5 Movie Recommendations.\n",
    "The implementation of collaborative filtering  using the user based filtration techniques successfully provides personalized recommend, enhancing user engagement and satisfaction. Users receive tailored movie suggestions based on their ratings, leading to increased interaction with the platform.\n",
    "\n",
    "### 2. Content based filteration for exixsting users .\n",
    "employment of the content-based filtering system for existing users, allows them to enter a specific movie title. Upon entering the title, the system suggests similar movies based on the selected movie's attributes, enhancing the user's experience by providing relevant recommendations tailored to their interests.\n",
    "\n",
    "### 3. Cold Start Problem Mitigation\n",
    "- Movie Popularity:\n",
    "For new users who lack interaction history, the system recommends the highest-rated regardless of genre. This approach ensures that users are introduced to quality content right from their first interaction, enhancing user acquisition and retention. \n",
    "\n",
    "- Content-Based Genre Recommendations:\n",
    " In addition to popularity-based recommendations, we have integrated a content-based filtering mechanism that allows new users to select their preferred movie genre. Once a genre is selected, the system suggests the highest-rated movies within that category. This method not only personalizes the recommendations based on user interests but also facilitates a more targeted exploration of films that align with their tastes.\n",
    "\n",
    " ### 4. Evaluation of the model.\n",
    "To assess the performance of our recommendation system, we employed the Root Mean Square Error (RMSE).\n",
    "After implementing improvements to the model through hyperparameter tuning with GridSearchCV, we achieved an RMSE of 0.50. This indicates that, on average, our model's predictions are within 0.50 rating points of the actual user ratings.\n",
    "\n",
    "### 5. Movie Rating Frequency\n",
    "The analysis reveals that, on average, movies from the MovieLens dataset received a rating of 4.0 on a scale ranging from 0.5 to 5.0"
   ]
  },
  {
   "cell_type": "markdown",
   "metadata": {},
   "source": [
    "## 8.0 RECOMENDATION"
   ]
  },
  {
   "cell_type": "markdown",
   "metadata": {},
   "source": [
    "- The film industry is dynamic, with new releases reflecting changing audience preferences, cultural trends, and technological advancements. By including the latest movies, the dataset remains relevant and up-to-date, ensuring users have access to current content that aligns with contemporary tastes.\n",
    "\n",
    "- Enrich the existing movie data with comprehensive information about the filmmakers. Specifically, including details about the authors (screenwriters) and producers of each film can greatly enhance the dataset's value for users and improve the recommendation system's effectiveness.By analyzing the works of specific authors and producers, the recommendation system can suggest similar films created by the same talent.\n",
    "\n",
    "- By broadening genre classifications to include niche and diverse categories, MovieLens can create a more inclusive and engaging platform that appeals to a wider range of viewers. This strategy not only enhances user satisfaction but also promotes exploration and discovery, ultimately enriching the overall cinematic experience for all users"
   ]
  }
 ],
 "metadata": {
  "kernelspec": {
   "display_name": "Python (learn-env)",
   "language": "python",
   "name": "learn-env"
  },
  "language_info": {
   "codemirror_mode": {
    "name": "ipython",
    "version": 3
   },
   "file_extension": ".py",
   "mimetype": "text/x-python",
   "name": "python",
   "nbconvert_exporter": "python",
   "pygments_lexer": "ipython3",
   "version": "3.8.5"
  }
 },
 "nbformat": 4,
 "nbformat_minor": 2
}
